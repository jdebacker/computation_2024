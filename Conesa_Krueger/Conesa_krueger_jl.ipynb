{
 "cells": [
  {
   "cell_type": "markdown",
   "metadata": {},
   "source": [
    "# Conesa & Krueger (1999)\n",
    "### John Ryan\n",
    "This code was originally created for the solution to a problem set for Dean Corbae's computational economics course in Fall 2023"
   ]
  },
  {
   "cell_type": "markdown",
   "metadata": {},
   "source": [
    "## Model\n",
    "\n",
    "Each period a mass of workers is born, with constant population growth rate $n$ per period. Agents live for $N$ periods (adult years), with no stochastic mortality. Initial assets for each agent is $a_1 = 0$. Until age $j = J^R$, agents supply labor $\\ell$ to a representative firm. At age $J^R$, agents retire ($\\ell = 0$) and earn pension benefits / social security $b$, which is financed by a linear labor income tax  with constant rate $\\theta$. We assume the government keeps a balanced budget. Agents get period utility \n",
    "\n",
    "$$ u(c, l) = \\frac{[c^\\gamma (1-\\ell)^{1-\\gamma}]^{1-\\sigma}}{1-\\sigma} $$\n",
    "\n",
    "with a constant discount factor of $\\beta$. Workers have productivity $e(z, j) = z*\\eta_j$, where $\\eta_j$ is a deterministic age-efficiency profile, and $z$ is a Markov process with an initial ergodic distribution at birth. There is a representative firm with production technology\n",
    "\n",
    "$$ Y = K^\\alpha L^{1-\\alpha} $$\n",
    "\n",
    "where $\\alpha \\in (0, 1)$ and labor depreciates at constant rate $\\delta$. Labor and capital markets are assumed to be perfectly competitive. To solve the model computationally, we assume $z$ follows a 2 state Markov chain and take the following benchmark parameterization:\n",
    "\n",
    "| Parameter | Value | Description |\n",
    "| --- | --- | --- |\n",
    "| $n$ | .011 | population growth rate |\n",
    "| $N$ | 66 | length of adult life |\n",
    "| $J^R$ | 46 | age of retirement |\n",
    "| $\\theta$ | .11 | income tax rate |\n",
    "| $\\gamma$ | .42 | Cobb-Douglas consumption weight |\n",
    "| $\\sigma$ | 2 | coefficient of relative risk aversion |\n",
    "| $\\beta$ | .97 | discount factor | \n",
    "| $\\alpha$ | .36 | capital share |\n",
    "| $\\delta$ | .06 | capital depreciation |\n",
    "| $z_H $ | 3.0 | high productivity value |\n",
    "| $z_L$ | .5 | low productivity value |\n",
    "| $\\pi_H$ | .2037 | high productivity initial probability |\n",
    "| $\\pi_{HH}$ | .9261 | high productivity persistence probability |\n",
    "| $\\pi_{LL}$ | .9811 | low productivity persistence probability |\n",
    "| $\\eta_j$ | plotted below | age efficiency profile |\n",
    "\n"
   ]
  },
  {
   "cell_type": "markdown",
   "metadata": {},
   "source": [
    "---\n",
    "\n",
    "## Part 1\n",
    "\n",
    "First we solve the dynamic programming problem for a retiree and worker. For now we assume the values $r=.05, w=1.05, b=.2$, but these will be solved for later. We start at the end of life, $j=N$, and iterate backwards. We normalize the value of death to $V_{N+1} = 0$.\n",
    "\n",
    "A retiree has the following dynamic programming problem:\n",
    "\n",
    "\n",
    "$$ V_j(a) = \\max_{a' \\ge 0} u((1 + r)a + b − a', 0) + βV_{j+1}(a'),$$\n",
    "\n",
    "Where they supply no labor, and we have used the budget constraint $c + a' = (1+r)a + b$. We exploit the fact that there is no bequest motive, so at the age of death, agents consume all of their wealth, $a'=0$. \n",
    "\n",
    "A worker has the following dynamic programming problem:\n",
    "\n",
    "\n",
    "$$ V_j(a) = \\max_{a' \\ge 0, 0 \\le \\ell \\le 1} u^W(w(1 - \\theta)e(z, \\eta_j)\\ell + (1+r)a - a',l) + \\beta \\mathbb{E}[V_{j+1}(a',z')|(a,z,j)]$$\n",
    "\n",
    "We have plugged in the budget constraint $c + a' = w(1-\\theta)e(z, j)\\ell + (1+r)a$ into the utility function. We can use the first order condition of the household to solve for labor: \n",
    "\n",
    "$$ \\ell = \\frac{\\gamma w(1-\\theta)e(z, j) - (1-\\gamma)[(1+r)a - a']}{w(1-\\theta)e(z, j)} $$\n",
    "\n",
    "So that we can simplify the problem to the household just choosing $a'$ in \n",
    "each period as a function of their state $(j, a, z)$ and \n",
    "the next period's value function $V_{j+1}$. The policy function is $a_j '(a, z)$. \n",
    "The household's labor supply is then $\\ell_j(a,z)$.\n"
   ]
  },
  {
   "cell_type": "code",
   "execution_count": 1,
   "metadata": {},
   "outputs": [
    {
     "data": {
      "image/png": "[encoded data removed]",
      "image/svg+xml": [
       "<?xml version=\"1.0\" encoding=\"utf-8\"?>\n",
       "<svg xmlns=\"http://www.w3.org/2000/svg\" xmlns:xlink=\"http://www.w3.org/1999/xlink\" width=\"600\" height=\"400\" viewBox=\"0 0 2400 1600\">\n",
       "<defs>\n",
       "  <clipPath id=\"clip880\">\n",
       "    <rect x=\"0\" y=\"0\" width=\"2400\" height=\"1600\"/>\n",
       "  </clipPath>\n",
       "</defs>\n",
       "<path clip-path=\"url(#clip880)\" d=\"M0 1600 L2400 1600 L2400 8.88178e-14 L0 8.88178e-14  Z\" fill=\"#ffffff\" fill-rule=\"evenodd\" fill-opacity=\"1\"/>\n",
       "<defs>\n",
       "  <clipPath id=\"clip881\">\n",
       "    <rect x=\"480\" y=\"0\" width=\"1681\" height=\"1600\"/>\n",
       "  </clipPath>\n",
       "</defs>\n",
       "<path clip-path=\"url(#clip880)\" d=\"M219.542 1423.18 L2352.76 1423.18 L2352.76 123.472 L219.542 123.472  Z\" fill=\"#ffffff\" fill-rule=\"evenodd\" fill-opacity=\"1\"/>\n",
       "<defs>\n",
       "  <clipPath id=\"clip882\">\n",
       "    <rect x=\"219\" y=\"123\" width=\"2134\" height=\"1301\"/>\n",
       "  </clipPath>\n",
       "</defs>\n",
       "<polyline clip-path=\"url(#clip882)\" style=\"stroke:#000000; stroke-linecap:round; stroke-linejoin:round; stroke-width:2; stroke-opacity:0.1; fill:none\" points=\"234.178,1423.18 234.178,123.472 \"/>\n",
       "<polyline clip-path=\"url(#clip882)\" style=\"stroke:#000000; stroke-linecap:round; stroke-linejoin:round; stroke-width:2; stroke-opacity:0.1; fill:none\" points=\"691.557,1423.18 691.557,123.472 \"/>\n",
       "<polyline clip-path=\"url(#clip882)\" style=\"stroke:#000000; stroke-linecap:round; stroke-linejoin:round; stroke-width:2; stroke-opacity:0.1; fill:none\" points=\"1148.94,1423.18 1148.94,123.472 \"/>\n",
       "<polyline clip-path=\"url(#clip882)\" style=\"stroke:#000000; stroke-linecap:round; stroke-linejoin:round; stroke-width:2; stroke-opacity:0.1; fill:none\" points=\"1606.31,1423.18 1606.31,123.472 \"/>\n",
       "<polyline clip-path=\"url(#clip882)\" style=\"stroke:#000000; stroke-linecap:round; stroke-linejoin:round; stroke-width:2; stroke-opacity:0.1; fill:none\" points=\"2063.69,1423.18 2063.69,123.472 \"/>\n",
       "<polyline clip-path=\"url(#clip880)\" style=\"stroke:#000000; stroke-linecap:round; stroke-linejoin:round; stroke-width:4; stroke-opacity:1; fill:none\" points=\"219.542,1423.18 2352.76,1423.18 \"/>\n",
       "<polyline clip-path=\"url(#clip880)\" style=\"stroke:#000000; stroke-linecap:round; stroke-linejoin:round; stroke-width:4; stroke-opacity:1; fill:none\" points=\"234.178,1423.18 234.178,1404.28 \"/>\n",
       "<polyline clip-path=\"url(#clip880)\" style=\"stroke:#000000; stroke-linecap:round; stroke-linejoin:round; stroke-width:4; stroke-opacity:1; fill:none\" points=\"691.557,1423.18 691.557,1404.28 \"/>\n",
       "<polyline clip-path=\"url(#clip880)\" style=\"stroke:#000000; stroke-linecap:round; stroke-linejoin:round; stroke-width:4; stroke-opacity:1; fill:none\" points=\"1148.94,1423.18 1148.94,1404.28 \"/>\n",
       "<polyline clip-path=\"url(#clip880)\" style=\"stroke:#000000; stroke-linecap:round; stroke-linejoin:round; stroke-width:4; stroke-opacity:1; fill:none\" points=\"1606.31,1423.18 1606.31,1404.28 \"/>\n",
       "<polyline clip-path=\"url(#clip880)\" style=\"stroke:#000000; stroke-linecap:round; stroke-linejoin:round; stroke-width:4; stroke-opacity:1; fill:none\" points=\"2063.69,1423.18 2063.69,1404.28 \"/>\n",
       "<path clip-path=\"url(#clip880)\" d=\"M234.178 1454.1 Q230.567 1454.1 228.739 1457.66 Q226.933 1461.2 226.933 1468.33 Q226.933 1475.44 228.739 1479.01 Q230.567 1482.55 234.178 1482.55 Q237.813 1482.55 239.618 1479.01 Q241.447 1475.44 241.447 1468.33 Q241.447 1461.2 239.618 1457.66 Q237.813 1454.1 234.178 1454.1 M234.178 1450.39 Q239.988 1450.39 243.044 1455 Q246.123 1459.58 246.123 1468.33 Q246.123 1477.06 243.044 1481.67 Q239.988 1486.25 234.178 1486.25 Q228.368 1486.25 225.289 1481.67 Q222.234 1477.06 222.234 1468.33 Q222.234 1459.58 225.289 1455 Q228.368 1450.39 234.178 1450.39 Z\" fill=\"#000000\" fill-rule=\"nonzero\" fill-opacity=\"1\" /><path clip-path=\"url(#clip880)\" d=\"M666.245 1481.64 L673.883 1481.64 L673.883 1455.28 L665.573 1456.95 L665.573 1452.69 L673.837 1451.02 L678.513 1451.02 L678.513 1481.64 L686.152 1481.64 L686.152 1485.58 L666.245 1485.58 L666.245 1481.64 Z\" fill=\"#000000\" fill-rule=\"nonzero\" fill-opacity=\"1\" /><path clip-path=\"url(#clip880)\" d=\"M705.596 1454.1 Q701.985 1454.1 700.156 1457.66 Q698.351 1461.2 698.351 1468.33 Q698.351 1475.44 700.156 1479.01 Q701.985 1482.55 705.596 1482.55 Q709.23 1482.55 711.036 1479.01 Q712.865 1475.44 712.865 1468.33 Q712.865 1461.2 711.036 1457.66 Q709.23 1454.1 705.596 1454.1 M705.596 1450.39 Q711.406 1450.39 714.462 1455 Q717.541 1459.58 717.541 1468.33 Q717.541 1477.06 714.462 1481.67 Q711.406 1486.25 705.596 1486.25 Q699.786 1486.25 696.707 1481.67 Q693.652 1477.06 693.652 1468.33 Q693.652 1459.58 696.707 1455 Q699.786 1450.39 705.596 1450.39 Z\" fill=\"#000000\" fill-rule=\"nonzero\" fill-opacity=\"1\" /><path clip-path=\"url(#clip880)\" d=\"M1127.71 1481.64 L1144.03 1481.64 L1144.03 1485.58 L1122.08 1485.58 L1122.08 1481.64 Q1124.75 1478.89 1129.33 1474.26 Q1133.94 1469.61 1135.12 1468.27 Q1137.36 1465.74 1138.24 1464.01 Q1139.14 1462.25 1139.14 1460.56 Q1139.14 1457.8 1137.2 1456.07 Q1135.28 1454.33 1132.18 1454.33 Q1129.98 1454.33 1127.52 1455.09 Q1125.09 1455.86 1122.32 1457.41 L1122.32 1452.69 Q1125.14 1451.55 1127.59 1450.97 Q1130.05 1450.39 1132.08 1450.39 Q1137.45 1450.39 1140.65 1453.08 Q1143.84 1455.77 1143.84 1460.26 Q1143.84 1462.39 1143.03 1464.31 Q1142.25 1466.2 1140.14 1468.8 Q1139.56 1469.47 1136.46 1472.69 Q1133.36 1475.88 1127.71 1481.64 Z\" fill=\"#000000\" fill-rule=\"nonzero\" fill-opacity=\"1\" /><path clip-path=\"url(#clip880)\" d=\"M1163.84 1454.1 Q1160.23 1454.1 1158.4 1457.66 Q1156.6 1461.2 1156.6 1468.33 Q1156.6 1475.44 1158.4 1479.01 Q1160.23 1482.55 1163.84 1482.55 Q1167.48 1482.55 1169.28 1479.01 Q1171.11 1475.44 1171.11 1468.33 Q1171.11 1461.2 1169.28 1457.66 Q1167.48 1454.1 1163.84 1454.1 M1163.84 1450.39 Q1169.65 1450.39 1172.71 1455 Q1175.79 1459.58 1175.79 1468.33 Q1175.79 1477.06 1172.71 1481.67 Q1169.65 1486.25 1163.84 1486.25 Q1158.03 1486.25 1154.95 1481.67 Q1151.9 1477.06 1151.9 1468.33 Q1151.9 1459.58 1154.95 1455 Q1158.03 1450.39 1163.84 1450.39 Z\" fill=\"#000000\" fill-rule=\"nonzero\" fill-opacity=\"1\" /><path clip-path=\"url(#clip880)\" d=\"M1595.16 1466.95 Q1598.51 1467.66 1600.39 1469.93 Q1602.29 1472.2 1602.29 1475.53 Q1602.29 1480.65 1598.77 1483.45 Q1595.25 1486.25 1588.77 1486.25 Q1586.59 1486.25 1584.28 1485.81 Q1581.99 1485.39 1579.53 1484.54 L1579.53 1480.02 Q1581.48 1481.16 1583.79 1481.74 Q1586.11 1482.32 1588.63 1482.32 Q1593.03 1482.32 1595.32 1480.58 Q1597.63 1478.84 1597.63 1475.53 Q1597.63 1472.48 1595.48 1470.77 Q1593.35 1469.03 1589.53 1469.03 L1585.5 1469.03 L1585.5 1465.19 L1589.72 1465.19 Q1593.17 1465.19 1594.99 1463.82 Q1596.82 1462.43 1596.82 1459.84 Q1596.82 1457.18 1594.93 1455.77 Q1593.05 1454.33 1589.53 1454.33 Q1587.61 1454.33 1585.41 1454.75 Q1583.21 1455.16 1580.57 1456.04 L1580.57 1451.88 Q1583.24 1451.14 1585.55 1450.77 Q1587.89 1450.39 1589.95 1450.39 Q1595.27 1450.39 1598.37 1452.83 Q1601.48 1455.23 1601.48 1459.35 Q1601.48 1462.22 1599.83 1464.21 Q1598.19 1466.18 1595.16 1466.95 Z\" fill=\"#000000\" fill-rule=\"nonzero\" fill-opacity=\"1\" /><path clip-path=\"url(#clip880)\" d=\"M1621.15 1454.1 Q1617.54 1454.1 1615.71 1457.66 Q1613.91 1461.2 1613.91 1468.33 Q1613.91 1475.44 1615.71 1479.01 Q1617.54 1482.55 1621.15 1482.55 Q1624.79 1482.55 1626.59 1479.01 Q1628.42 1475.44 1628.42 1468.33 Q1628.42 1461.2 1626.59 1457.66 Q1624.79 1454.1 1621.15 1454.1 M1621.15 1450.39 Q1626.96 1450.39 1630.02 1455 Q1633.1 1459.58 1633.1 1468.33 Q1633.1 1477.06 1630.02 1481.67 Q1626.96 1486.25 1621.15 1486.25 Q1615.34 1486.25 1612.26 1481.67 Q1609.21 1477.06 1609.21 1468.33 Q1609.21 1459.58 1612.26 1455 Q1615.34 1450.39 1621.15 1450.39 Z\" fill=\"#000000\" fill-rule=\"nonzero\" fill-opacity=\"1\" /><path clip-path=\"url(#clip880)\" d=\"M2051.86 1455.09 L2040.06 1473.54 L2051.86 1473.54 L2051.86 1455.09 M2050.64 1451.02 L2056.52 1451.02 L2056.52 1473.54 L2061.45 1473.54 L2061.45 1477.43 L2056.52 1477.43 L2056.52 1485.58 L2051.86 1485.58 L2051.86 1477.43 L2036.26 1477.43 L2036.26 1472.92 L2050.64 1451.02 Z\" fill=\"#000000\" fill-rule=\"nonzero\" fill-opacity=\"1\" /><path clip-path=\"url(#clip880)\" d=\"M2079.18 1454.1 Q2075.57 1454.1 2073.74 1457.66 Q2071.93 1461.2 2071.93 1468.33 Q2071.93 1475.44 2073.74 1479.01 Q2075.57 1482.55 2079.18 1482.55 Q2082.81 1482.55 2084.62 1479.01 Q2086.45 1475.44 2086.45 1468.33 Q2086.45 1461.2 2084.62 1457.66 Q2082.81 1454.1 2079.18 1454.1 M2079.18 1450.39 Q2084.99 1450.39 2088.04 1455 Q2091.12 1459.58 2091.12 1468.33 Q2091.12 1477.06 2088.04 1481.67 Q2084.99 1486.25 2079.18 1486.25 Q2073.37 1486.25 2070.29 1481.67 Q2067.23 1477.06 2067.23 1468.33 Q2067.23 1459.58 2070.29 1455 Q2073.37 1450.39 2079.18 1450.39 Z\" fill=\"#000000\" fill-rule=\"nonzero\" fill-opacity=\"1\" /><path clip-path=\"url(#clip880)\" d=\"M1246.87 1526.86 L1238.15 1550.51 L1255.63 1550.51 L1246.87 1526.86 M1243.24 1520.52 L1250.53 1520.52 L1268.64 1568.04 L1261.96 1568.04 L1257.63 1555.85 L1236.21 1555.85 L1231.88 1568.04 L1225.1 1568.04 L1243.24 1520.52 Z\" fill=\"#000000\" fill-rule=\"nonzero\" fill-opacity=\"1\" /><path clip-path=\"url(#clip880)\" d=\"M1298.78 1549.81 Q1298.78 1543.44 1296.14 1539.94 Q1293.53 1536.44 1288.79 1536.44 Q1284.08 1536.44 1281.44 1539.94 Q1278.83 1543.44 1278.83 1549.81 Q1278.83 1556.14 1281.44 1559.64 Q1284.08 1563.14 1288.79 1563.14 Q1293.53 1563.14 1296.14 1559.64 Q1298.78 1556.14 1298.78 1549.81 M1304.64 1563.62 Q1304.64 1572.72 1300.6 1577.15 Q1296.56 1581.6 1288.22 1581.6 Q1285.13 1581.6 1282.39 1581.13 Q1279.66 1580.68 1277.08 1579.72 L1277.08 1574.03 Q1279.66 1575.43 1282.17 1576.1 Q1284.68 1576.76 1287.29 1576.76 Q1293.06 1576.76 1295.92 1573.74 Q1298.78 1570.75 1298.78 1564.67 L1298.78 1561.77 Q1296.97 1564.92 1294.14 1566.48 Q1291.31 1568.04 1287.36 1568.04 Q1280.8 1568.04 1276.79 1563.05 Q1272.78 1558.05 1272.78 1549.81 Q1272.78 1541.53 1276.79 1536.53 Q1280.8 1531.54 1287.36 1531.54 Q1291.31 1531.54 1294.14 1533.1 Q1296.97 1534.66 1298.78 1537.81 L1298.78 1532.4 L1304.64 1532.4 L1304.64 1563.62 Z\" fill=\"#000000\" fill-rule=\"nonzero\" fill-opacity=\"1\" /><path clip-path=\"url(#clip880)\" d=\"M1347.2 1548.76 L1347.2 1551.62 L1320.27 1551.62 Q1320.65 1557.67 1323.9 1560.85 Q1327.18 1564 1333 1564 Q1336.37 1564 1339.53 1563.17 Q1342.71 1562.35 1345.83 1560.69 L1345.83 1566.23 Q1342.68 1567.57 1339.37 1568.27 Q1336.06 1568.97 1332.65 1568.97 Q1324.12 1568.97 1319.12 1564 Q1314.16 1559.04 1314.16 1550.57 Q1314.16 1541.82 1318.87 1536.69 Q1323.61 1531.54 1331.63 1531.54 Q1338.83 1531.54 1342.99 1536.18 Q1347.2 1540.8 1347.2 1548.76 M1341.34 1547.04 Q1341.28 1542.23 1338.63 1539.37 Q1336.02 1536.5 1331.7 1536.5 Q1326.79 1536.5 1323.83 1539.27 Q1320.91 1542.04 1320.46 1547.07 L1341.34 1547.04 Z\" fill=\"#000000\" fill-rule=\"nonzero\" fill-opacity=\"1\" /><polyline clip-path=\"url(#clip882)\" style=\"stroke:#000000; stroke-linecap:round; stroke-linejoin:round; stroke-width:2; stroke-opacity:0.1; fill:none\" points=\"219.542,1384.62 2352.76,1384.62 \"/>\n",
       "<polyline clip-path=\"url(#clip882)\" style=\"stroke:#000000; stroke-linecap:round; stroke-linejoin:round; stroke-width:2; stroke-opacity:0.1; fill:none\" points=\"219.542,1153.95 2352.76,1153.95 \"/>\n",
       "<polyline clip-path=\"url(#clip882)\" style=\"stroke:#000000; stroke-linecap:round; stroke-linejoin:round; stroke-width:2; stroke-opacity:0.1; fill:none\" points=\"219.542,923.281 2352.76,923.281 \"/>\n",
       "<polyline clip-path=\"url(#clip882)\" style=\"stroke:#000000; stroke-linecap:round; stroke-linejoin:round; stroke-width:2; stroke-opacity:0.1; fill:none\" points=\"219.542,692.608 2352.76,692.608 \"/>\n",
       "<polyline clip-path=\"url(#clip882)\" style=\"stroke:#000000; stroke-linecap:round; stroke-linejoin:round; stroke-width:2; stroke-opacity:0.1; fill:none\" points=\"219.542,461.936 2352.76,461.936 \"/>\n",
       "<polyline clip-path=\"url(#clip882)\" style=\"stroke:#000000; stroke-linecap:round; stroke-linejoin:round; stroke-width:2; stroke-opacity:0.1; fill:none\" points=\"219.542,231.264 2352.76,231.264 \"/>\n",
       "<polyline clip-path=\"url(#clip880)\" style=\"stroke:#000000; stroke-linecap:round; stroke-linejoin:round; stroke-width:4; stroke-opacity:1; fill:none\" points=\"219.542,1423.18 219.542,123.472 \"/>\n",
       "<polyline clip-path=\"url(#clip880)\" style=\"stroke:#000000; stroke-linecap:round; stroke-linejoin:round; stroke-width:4; stroke-opacity:1; fill:none\" points=\"219.542,1384.62 238.44,1384.62 \"/>\n",
       "<polyline clip-path=\"url(#clip880)\" style=\"stroke:#000000; stroke-linecap:round; stroke-linejoin:round; stroke-width:4; stroke-opacity:1; fill:none\" points=\"219.542,1153.95 238.44,1153.95 \"/>\n",
       "<polyline clip-path=\"url(#clip880)\" style=\"stroke:#000000; stroke-linecap:round; stroke-linejoin:round; stroke-width:4; stroke-opacity:1; fill:none\" points=\"219.542,923.281 238.44,923.281 \"/>\n",
       "<polyline clip-path=\"url(#clip880)\" style=\"stroke:#000000; stroke-linecap:round; stroke-linejoin:round; stroke-width:4; stroke-opacity:1; fill:none\" points=\"219.542,692.608 238.44,692.608 \"/>\n",
       "<polyline clip-path=\"url(#clip880)\" style=\"stroke:#000000; stroke-linecap:round; stroke-linejoin:round; stroke-width:4; stroke-opacity:1; fill:none\" points=\"219.542,461.936 238.44,461.936 \"/>\n",
       "<polyline clip-path=\"url(#clip880)\" style=\"stroke:#000000; stroke-linecap:round; stroke-linejoin:round; stroke-width:4; stroke-opacity:1; fill:none\" points=\"219.542,231.264 238.44,231.264 \"/>\n",
       "<path clip-path=\"url(#clip880)\" d=\"M126.205 1370.42 Q122.593 1370.42 120.765 1373.99 Q118.959 1377.53 118.959 1384.66 Q118.959 1391.77 120.765 1395.33 Q122.593 1398.87 126.205 1398.87 Q129.839 1398.87 131.644 1395.33 Q133.473 1391.77 133.473 1384.66 Q133.473 1377.53 131.644 1373.99 Q129.839 1370.42 126.205 1370.42 M126.205 1366.72 Q132.015 1366.72 135.07 1371.33 Q138.149 1375.91 138.149 1384.66 Q138.149 1393.39 135.07 1397.99 Q132.015 1402.58 126.205 1402.58 Q120.394 1402.58 117.316 1397.99 Q114.26 1393.39 114.26 1384.66 Q114.26 1375.91 117.316 1371.33 Q120.394 1366.72 126.205 1366.72 Z\" fill=\"#000000\" fill-rule=\"nonzero\" fill-opacity=\"1\" /><path clip-path=\"url(#clip880)\" d=\"M146.366 1396.03 L151.251 1396.03 L151.251 1401.9 L146.366 1401.9 L146.366 1396.03 Z\" fill=\"#000000\" fill-rule=\"nonzero\" fill-opacity=\"1\" /><path clip-path=\"url(#clip880)\" d=\"M172.014 1382.76 Q168.866 1382.76 167.015 1384.91 Q165.186 1387.07 165.186 1390.82 Q165.186 1394.54 167.015 1396.72 Q168.866 1398.87 172.014 1398.87 Q175.163 1398.87 176.991 1396.72 Q178.843 1394.54 178.843 1390.82 Q178.843 1387.07 176.991 1384.91 Q175.163 1382.76 172.014 1382.76 M181.297 1368.11 L181.297 1372.37 Q179.538 1371.53 177.732 1371.09 Q175.95 1370.66 174.19 1370.66 Q169.561 1370.66 167.107 1373.78 Q164.677 1376.91 164.329 1383.22 Q165.695 1381.21 167.755 1380.15 Q169.815 1379.06 172.292 1379.06 Q177.501 1379.06 180.51 1382.23 Q183.542 1385.38 183.542 1390.82 Q183.542 1396.14 180.394 1399.36 Q177.246 1402.58 172.014 1402.58 Q166.019 1402.58 162.848 1397.99 Q159.677 1393.39 159.677 1384.66 Q159.677 1376.47 163.565 1371.6 Q167.454 1366.72 174.005 1366.72 Q175.764 1366.72 177.547 1367.07 Q179.352 1367.41 181.297 1368.11 Z\" fill=\"#000000\" fill-rule=\"nonzero\" fill-opacity=\"1\" /><path clip-path=\"url(#clip880)\" d=\"M127.269 1139.75 Q123.658 1139.75 121.83 1143.32 Q120.024 1146.86 120.024 1153.99 Q120.024 1161.09 121.83 1164.66 Q123.658 1168.2 127.269 1168.2 Q130.904 1168.2 132.709 1164.66 Q134.538 1161.09 134.538 1153.99 Q134.538 1146.86 132.709 1143.32 Q130.904 1139.75 127.269 1139.75 M127.269 1136.05 Q133.08 1136.05 136.135 1140.65 Q139.214 1145.24 139.214 1153.99 Q139.214 1162.71 136.135 1167.32 Q133.08 1171.9 127.269 1171.9 Q121.459 1171.9 118.381 1167.32 Q115.325 1162.71 115.325 1153.99 Q115.325 1145.24 118.381 1140.65 Q121.459 1136.05 127.269 1136.05 Z\" fill=\"#000000\" fill-rule=\"nonzero\" fill-opacity=\"1\" /><path clip-path=\"url(#clip880)\" d=\"M147.431 1165.35 L152.316 1165.35 L152.316 1171.23 L147.431 1171.23 L147.431 1165.35 Z\" fill=\"#000000\" fill-rule=\"nonzero\" fill-opacity=\"1\" /><path clip-path=\"url(#clip880)\" d=\"M161.32 1136.67 L183.542 1136.67 L183.542 1138.66 L170.996 1171.23 L166.112 1171.23 L177.917 1140.61 L161.32 1140.61 L161.32 1136.67 Z\" fill=\"#000000\" fill-rule=\"nonzero\" fill-opacity=\"1\" /><path clip-path=\"url(#clip880)\" d=\"M126.459 909.079 Q122.848 909.079 121.019 912.644 Q119.214 916.186 119.214 923.315 Q119.214 930.422 121.019 933.987 Q122.848 937.528 126.459 937.528 Q130.093 937.528 131.899 933.987 Q133.728 930.422 133.728 923.315 Q133.728 916.186 131.899 912.644 Q130.093 909.079 126.459 909.079 M126.459 905.376 Q132.269 905.376 135.325 909.982 Q138.404 914.565 138.404 923.315 Q138.404 932.042 135.325 936.649 Q132.269 941.232 126.459 941.232 Q120.649 941.232 117.57 936.649 Q114.515 932.042 114.515 923.315 Q114.515 914.565 117.57 909.982 Q120.649 905.376 126.459 905.376 Z\" fill=\"#000000\" fill-rule=\"nonzero\" fill-opacity=\"1\" /><path clip-path=\"url(#clip880)\" d=\"M146.621 934.681 L151.505 934.681 L151.505 940.561 L146.621 940.561 L146.621 934.681 Z\" fill=\"#000000\" fill-rule=\"nonzero\" fill-opacity=\"1\" /><path clip-path=\"url(#clip880)\" d=\"M171.69 924.149 Q168.357 924.149 166.436 925.931 Q164.538 927.713 164.538 930.838 Q164.538 933.963 166.436 935.746 Q168.357 937.528 171.69 937.528 Q175.024 937.528 176.945 935.746 Q178.866 933.94 178.866 930.838 Q178.866 927.713 176.945 925.931 Q175.047 924.149 171.69 924.149 M167.015 922.158 Q164.005 921.417 162.315 919.357 Q160.649 917.297 160.649 914.334 Q160.649 910.19 163.589 907.783 Q166.552 905.376 171.69 905.376 Q176.852 905.376 179.792 907.783 Q182.732 910.19 182.732 914.334 Q182.732 917.297 181.042 919.357 Q179.376 921.417 176.389 922.158 Q179.769 922.945 181.644 925.237 Q183.542 927.528 183.542 930.838 Q183.542 935.862 180.464 938.547 Q177.408 941.232 171.69 941.232 Q165.973 941.232 162.894 938.547 Q159.839 935.862 159.839 930.838 Q159.839 927.528 161.737 925.237 Q163.635 922.945 167.015 922.158 M165.302 914.774 Q165.302 917.459 166.968 918.963 Q168.658 920.468 171.69 920.468 Q174.7 920.468 176.389 918.963 Q178.102 917.459 178.102 914.774 Q178.102 912.088 176.389 910.584 Q174.7 909.079 171.69 909.079 Q168.658 909.079 166.968 910.584 Q165.302 912.088 165.302 914.774 Z\" fill=\"#000000\" fill-rule=\"nonzero\" fill-opacity=\"1\" /><path clip-path=\"url(#clip880)\" d=\"M126.552 678.407 Q122.941 678.407 121.112 681.972 Q119.306 685.513 119.306 692.643 Q119.306 699.75 121.112 703.314 Q122.941 706.856 126.552 706.856 Q130.186 706.856 131.992 703.314 Q133.82 699.75 133.82 692.643 Q133.82 685.513 131.992 681.972 Q130.186 678.407 126.552 678.407 M126.552 674.703 Q132.362 674.703 135.417 679.31 Q138.496 683.893 138.496 692.643 Q138.496 701.37 135.417 705.976 Q132.362 710.56 126.552 710.56 Q120.742 710.56 117.663 705.976 Q114.607 701.37 114.607 692.643 Q114.607 683.893 117.663 679.31 Q120.742 674.703 126.552 674.703 Z\" fill=\"#000000\" fill-rule=\"nonzero\" fill-opacity=\"1\" /><path clip-path=\"url(#clip880)\" d=\"M146.714 704.009 L151.598 704.009 L151.598 709.888 L146.714 709.888 L146.714 704.009 Z\" fill=\"#000000\" fill-rule=\"nonzero\" fill-opacity=\"1\" /><path clip-path=\"url(#clip880)\" d=\"M161.922 709.171 L161.922 704.912 Q163.681 705.745 165.487 706.185 Q167.292 706.624 169.028 706.624 Q173.658 706.624 176.089 703.523 Q178.542 700.398 178.889 694.055 Q177.547 696.046 175.487 697.111 Q173.427 698.175 170.927 698.175 Q165.741 698.175 162.709 695.05 Q159.7 691.902 159.7 686.463 Q159.7 681.138 162.848 677.921 Q165.996 674.703 171.227 674.703 Q177.223 674.703 180.371 679.31 Q183.542 683.893 183.542 692.643 Q183.542 700.814 179.653 705.699 Q175.788 710.56 169.237 710.56 Q167.477 710.56 165.672 710.212 Q163.866 709.865 161.922 709.171 M171.227 694.518 Q174.376 694.518 176.204 692.365 Q178.056 690.213 178.056 686.463 Q178.056 682.736 176.204 680.583 Q174.376 678.407 171.227 678.407 Q168.079 678.407 166.227 680.583 Q164.399 682.736 164.399 686.463 Q164.399 690.213 166.227 692.365 Q168.079 694.518 171.227 694.518 Z\" fill=\"#000000\" fill-rule=\"nonzero\" fill-opacity=\"1\" /><path clip-path=\"url(#clip880)\" d=\"M117.177 475.281 L124.816 475.281 L124.816 448.915 L116.506 450.582 L116.506 446.323 L124.769 444.656 L129.445 444.656 L129.445 475.281 L137.084 475.281 L137.084 479.216 L117.177 479.216 L117.177 475.281 Z\" fill=\"#000000\" fill-rule=\"nonzero\" fill-opacity=\"1\" /><path clip-path=\"url(#clip880)\" d=\"M146.529 473.337 L151.413 473.337 L151.413 479.216 L146.529 479.216 L146.529 473.337 Z\" fill=\"#000000\" fill-rule=\"nonzero\" fill-opacity=\"1\" /><path clip-path=\"url(#clip880)\" d=\"M171.598 447.735 Q167.987 447.735 166.158 451.3 Q164.352 454.841 164.352 461.971 Q164.352 469.077 166.158 472.642 Q167.987 476.184 171.598 476.184 Q175.232 476.184 177.038 472.642 Q178.866 469.077 178.866 461.971 Q178.866 454.841 177.038 451.3 Q175.232 447.735 171.598 447.735 M171.598 444.031 Q177.408 444.031 180.464 448.638 Q183.542 453.221 183.542 461.971 Q183.542 470.698 180.464 475.304 Q177.408 479.887 171.598 479.887 Q165.788 479.887 162.709 475.304 Q159.653 470.698 159.653 461.971 Q159.653 453.221 162.709 448.638 Q165.788 444.031 171.598 444.031 Z\" fill=\"#000000\" fill-rule=\"nonzero\" fill-opacity=\"1\" /><path clip-path=\"url(#clip880)\" d=\"M118.404 244.609 L126.043 244.609 L126.043 218.243 L117.732 219.91 L117.732 215.651 L125.996 213.984 L130.672 213.984 L130.672 244.609 L138.311 244.609 L138.311 248.544 L118.404 248.544 L118.404 244.609 Z\" fill=\"#000000\" fill-rule=\"nonzero\" fill-opacity=\"1\" /><path clip-path=\"url(#clip880)\" d=\"M147.755 242.664 L152.64 242.664 L152.64 248.544 L147.755 248.544 L147.755 242.664 Z\" fill=\"#000000\" fill-rule=\"nonzero\" fill-opacity=\"1\" /><path clip-path=\"url(#clip880)\" d=\"M163.635 244.609 L171.274 244.609 L171.274 218.243 L162.964 219.91 L162.964 215.651 L171.227 213.984 L175.903 213.984 L175.903 244.609 L183.542 244.609 L183.542 248.544 L163.635 248.544 L163.635 244.609 Z\" fill=\"#000000\" fill-rule=\"nonzero\" fill-opacity=\"1\" /><path clip-path=\"url(#clip880)\" d=\"M16.4842 926.644 L16.4842 896.598 L21.895 896.598 L21.895 920.215 L35.9632 920.215 L35.9632 897.585 L41.3741 897.585 L41.3741 920.215 L58.5933 920.215 L58.5933 896.025 L64.0042 896.025 L64.0042 926.644 L16.4842 926.644 Z\" fill=\"#000000\" fill-rule=\"nonzero\" fill-opacity=\"1\" /><path clip-path=\"url(#clip880)\" d=\"M14.479 867.666 L19.3487 867.666 L19.3487 873.268 Q19.3487 876.419 20.6219 877.66 Q21.895 878.869 25.2052 878.869 L28.3562 878.869 L28.3562 869.225 L32.9077 869.225 L32.9077 878.869 L64.0042 878.869 L64.0042 884.758 L32.9077 884.758 L32.9077 890.36 L28.3562 890.36 L28.3562 884.758 L25.8736 884.758 Q19.9216 884.758 17.2162 881.989 Q14.479 879.22 14.479 873.204 L14.479 867.666 Z\" fill=\"#000000\" fill-rule=\"nonzero\" fill-opacity=\"1\" /><path clip-path=\"url(#clip880)\" d=\"M14.479 844.717 L19.3487 844.717 L19.3487 850.319 Q19.3487 853.47 20.6219 854.712 Q21.895 855.921 25.2052 855.921 L28.3562 855.921 L28.3562 846.277 L32.9077 846.277 L32.9077 855.921 L64.0042 855.921 L64.0042 861.809 L32.9077 861.809 L32.9077 867.411 L28.3562 867.411 L28.3562 861.809 L25.8736 861.809 Q19.9216 861.809 17.2162 859.04 Q14.479 856.271 14.479 850.256 L14.479 844.717 Z\" fill=\"#000000\" fill-rule=\"nonzero\" fill-opacity=\"1\" /><path clip-path=\"url(#clip880)\" d=\"M28.3562 839.816 L28.3562 833.959 L64.0042 833.959 L64.0042 839.816 L28.3562 839.816 M14.479 839.816 L14.479 833.959 L21.895 833.959 L21.895 839.816 L14.479 839.816 Z\" fill=\"#000000\" fill-rule=\"nonzero\" fill-opacity=\"1\" /><path clip-path=\"url(#clip880)\" d=\"M29.7248 796.052 L35.1993 796.052 Q33.8307 798.534 33.1623 801.049 Q32.4621 803.531 32.4621 806.078 Q32.4621 811.775 36.0905 814.926 Q39.6872 818.077 46.212 818.077 Q52.7369 818.077 56.3653 814.926 Q59.9619 811.775 59.9619 806.078 Q59.9619 803.531 59.2935 801.049 Q58.5933 798.534 57.2247 796.052 L62.6355 796.052 Q63.7814 798.502 64.3543 801.144 Q64.9272 803.754 64.9272 806.714 Q64.9272 814.767 59.8664 819.509 Q54.8057 824.252 46.212 824.252 Q37.491 824.252 32.4939 819.477 Q27.4968 814.671 27.4968 806.332 Q27.4968 803.627 28.0697 801.049 Q28.6108 798.471 29.7248 796.052 Z\" fill=\"#000000\" fill-rule=\"nonzero\" fill-opacity=\"1\" /><path clip-path=\"url(#clip880)\" d=\"M28.3562 785.866 L28.3562 780.01 L64.0042 780.01 L64.0042 785.866 L28.3562 785.866 M14.479 785.866 L14.479 780.01 L21.895 780.01 L21.895 785.866 L14.479 785.866 Z\" fill=\"#000000\" fill-rule=\"nonzero\" fill-opacity=\"1\" /><path clip-path=\"url(#clip880)\" d=\"M44.7161 737.264 L47.5806 737.264 L47.5806 764.191 Q53.6281 763.809 56.8109 760.563 Q59.9619 757.284 59.9619 751.46 Q59.9619 748.086 59.1344 744.935 Q58.3069 741.752 56.6518 738.633 L62.1899 738.633 Q63.5267 741.784 64.227 745.094 Q64.9272 748.404 64.9272 751.81 Q64.9272 760.34 59.9619 765.337 Q54.9967 770.302 46.5303 770.302 Q37.7774 770.302 32.6531 765.592 Q27.4968 760.849 27.4968 752.828 Q27.4968 745.635 32.1438 741.466 Q36.7589 737.264 44.7161 737.264 M42.9973 743.121 Q38.1912 743.184 35.3266 745.826 Q32.4621 748.436 32.4621 752.765 Q32.4621 757.666 35.2312 760.626 Q38.0002 763.555 43.0292 764 L42.9973 743.121 Z\" fill=\"#000000\" fill-rule=\"nonzero\" fill-opacity=\"1\" /><path clip-path=\"url(#clip880)\" d=\"M42.4881 698.02 L64.0042 698.02 L64.0042 703.876 L42.679 703.876 Q37.6183 703.876 35.1038 705.849 Q32.5894 707.823 32.5894 711.77 Q32.5894 716.512 35.6131 719.249 Q38.6368 721.987 43.8567 721.987 L64.0042 721.987 L64.0042 727.875 L28.3562 727.875 L28.3562 721.987 L33.8944 721.987 Q30.6797 719.886 29.0883 717.053 Q27.4968 714.189 27.4968 710.465 Q27.4968 704.322 31.3163 701.171 Q35.1038 698.02 42.4881 698.02 Z\" fill=\"#000000\" fill-rule=\"nonzero\" fill-opacity=\"1\" /><path clip-path=\"url(#clip880)\" d=\"M29.7248 660.685 L35.1993 660.685 Q33.8307 663.167 33.1623 665.682 Q32.4621 668.165 32.4621 670.711 Q32.4621 676.408 36.0905 679.559 Q39.6872 682.71 46.212 682.71 Q52.7369 682.71 56.3653 679.559 Q59.9619 676.408 59.9619 670.711 Q59.9619 668.165 59.2935 665.682 Q58.5933 663.167 57.2247 660.685 L62.6355 660.685 Q63.7814 663.136 64.3543 665.777 Q64.9272 668.387 64.9272 671.347 Q64.9272 679.4 59.8664 684.142 Q54.8057 688.885 46.212 688.885 Q37.491 688.885 32.4939 684.111 Q27.4968 679.304 27.4968 670.965 Q27.4968 668.26 28.0697 665.682 Q28.6108 663.104 29.7248 660.685 Z\" fill=\"#000000\" fill-rule=\"nonzero\" fill-opacity=\"1\" /><path clip-path=\"url(#clip880)\" d=\"M67.3143 635.668 Q73.68 638.15 75.6216 640.506 Q77.5631 642.861 77.5631 646.808 L77.5631 651.486 L72.6615 651.486 L72.6615 648.049 Q72.6615 645.63 71.5157 644.293 Q70.3699 642.956 66.1048 641.333 L63.4312 640.283 L28.3562 654.701 L28.3562 648.494 L56.238 637.354 L28.3562 626.215 L28.3562 620.008 L67.3143 635.668 Z\" fill=\"#000000\" fill-rule=\"nonzero\" fill-opacity=\"1\" /><path clip-path=\"url(#clip880)\" d=\"M876.542 20.1573 L865.442 50.2555 L887.682 50.2555 L876.542 20.1573 M871.924 12.096 L881.2 12.096 L904.25 72.576 L895.743 72.576 L890.234 57.061 L862.971 57.061 L857.462 72.576 L848.834 72.576 L871.924 12.096 Z\" fill=\"#000000\" fill-rule=\"nonzero\" fill-opacity=\"1\" /><path clip-path=\"url(#clip880)\" d=\"M942.612 49.3643 Q942.612 41.2625 939.25 36.8065 Q935.928 32.3505 929.892 32.3505 Q923.897 32.3505 920.535 36.8065 Q917.213 41.2625 917.213 49.3643 Q917.213 57.4256 920.535 61.8816 Q923.897 66.3376 929.892 66.3376 Q935.928 66.3376 939.25 61.8816 Q942.612 57.4256 942.612 49.3643 M950.066 66.9452 Q950.066 78.5308 944.921 84.1616 Q939.776 89.8329 929.163 89.8329 Q925.234 89.8329 921.75 89.2252 Q918.266 88.6581 914.985 87.4428 L914.985 80.1917 Q918.266 81.9741 921.466 82.8248 Q924.667 83.6755 927.988 83.6755 Q935.32 83.6755 938.966 79.8271 Q942.612 76.0193 942.612 68.282 L942.612 64.5957 Q940.303 68.6061 936.698 70.5911 Q933.092 72.576 928.069 72.576 Q919.725 72.576 914.62 66.2161 Q909.516 59.8562 909.516 49.3643 Q909.516 38.832 914.62 32.472 Q919.725 26.1121 928.069 26.1121 Q933.092 26.1121 936.698 28.0971 Q940.303 30.082 942.612 34.0924 L942.612 27.2059 L950.066 27.2059 L950.066 66.9452 Z\" fill=\"#000000\" fill-rule=\"nonzero\" fill-opacity=\"1\" /><path clip-path=\"url(#clip880)\" d=\"M1004.23 48.0275 L1004.23 51.6733 L969.956 51.6733 Q970.442 59.3701 974.574 63.421 Q978.746 67.4314 986.159 67.4314 Q990.453 67.4314 994.464 66.3781 Q998.515 65.3249 1002.48 63.2184 L1002.48 70.267 Q998.474 71.9684 994.261 72.8596 Q990.048 73.7508 985.714 73.7508 Q974.857 73.7508 968.497 67.4314 Q962.178 61.1119 962.178 50.3365 Q962.178 39.1965 968.173 32.6746 Q974.209 26.1121 984.417 26.1121 Q993.572 26.1121 998.879 32.0264 Q1004.23 37.9003 1004.23 48.0275 M996.773 45.84 Q996.692 39.7232 993.329 36.0774 Q990.008 32.4315 984.498 32.4315 Q978.26 32.4315 974.493 35.9558 Q970.766 39.4801 970.199 45.8805 L996.773 45.84 Z\" fill=\"#000000\" fill-rule=\"nonzero\" fill-opacity=\"1\" /><path clip-path=\"url(#clip880)\" d=\"M1012.69 46.5287 L1034.53 46.5287 L1034.53 53.1722 L1012.69 53.1722 L1012.69 46.5287 Z\" fill=\"#000000\" fill-rule=\"nonzero\" fill-opacity=\"1\" /><path clip-path=\"url(#clip880)\" d=\"M1046.72 12.096 L1084.96 12.096 L1084.96 18.9825 L1054.9 18.9825 L1054.9 36.8875 L1083.71 36.8875 L1083.71 43.7741 L1054.9 43.7741 L1054.9 65.6895 L1085.69 65.6895 L1085.69 72.576 L1046.72 72.576 L1046.72 12.096 Z\" fill=\"#000000\" fill-rule=\"nonzero\" fill-opacity=\"1\" /><path clip-path=\"url(#clip880)\" d=\"M1121.78 9.54393 L1121.78 15.7418 L1114.65 15.7418 Q1110.64 15.7418 1109.06 17.3622 Q1107.52 18.9825 1107.52 23.1955 L1107.52 27.2059 L1119.8 27.2059 L1119.8 32.9987 L1107.52 32.9987 L1107.52 72.576 L1100.03 72.576 L1100.03 32.9987 L1092.9 32.9987 L1092.9 27.2059 L1100.03 27.2059 L1100.03 24.0462 Q1100.03 16.471 1103.55 13.0277 Q1107.08 9.54393 1114.74 9.54393 L1121.78 9.54393 Z\" fill=\"#000000\" fill-rule=\"nonzero\" fill-opacity=\"1\" /><path clip-path=\"url(#clip880)\" d=\"M1150.99 9.54393 L1150.99 15.7418 L1143.86 15.7418 Q1139.85 15.7418 1138.27 17.3622 Q1136.73 18.9825 1136.73 23.1955 L1136.73 27.2059 L1149.01 27.2059 L1149.01 32.9987 L1136.73 32.9987 L1136.73 72.576 L1129.24 72.576 L1129.24 32.9987 L1122.11 32.9987 L1122.11 27.2059 L1129.24 27.2059 L1129.24 24.0462 Q1129.24 16.471 1132.76 13.0277 Q1136.29 9.54393 1143.94 9.54393 L1150.99 9.54393 Z\" fill=\"#000000\" fill-rule=\"nonzero\" fill-opacity=\"1\" /><path clip-path=\"url(#clip880)\" d=\"M1157.23 27.2059 L1164.68 27.2059 L1164.68 72.576 L1157.23 72.576 L1157.23 27.2059 M1157.23 9.54393 L1164.68 9.54393 L1164.68 18.9825 L1157.23 18.9825 L1157.23 9.54393 Z\" fill=\"#000000\" fill-rule=\"nonzero\" fill-opacity=\"1\" /><path clip-path=\"url(#clip880)\" d=\"M1212.93 28.9478 L1212.93 35.9153 Q1209.77 34.1734 1206.57 33.3227 Q1203.41 32.4315 1200.17 32.4315 Q1192.92 32.4315 1188.91 37.0496 Q1184.9 41.6271 1184.9 49.9314 Q1184.9 58.2358 1188.91 62.8538 Q1192.92 67.4314 1200.17 67.4314 Q1203.41 67.4314 1206.57 66.5807 Q1209.77 65.6895 1212.93 63.9476 L1212.93 70.8341 Q1209.81 72.2924 1206.45 73.0216 Q1203.13 73.7508 1199.36 73.7508 Q1189.11 73.7508 1183.07 67.3098 Q1177.04 60.8689 1177.04 49.9314 Q1177.04 38.832 1183.11 32.472 Q1189.23 26.1121 1199.84 26.1121 Q1203.29 26.1121 1206.57 26.8413 Q1209.85 27.5299 1212.93 28.9478 Z\" fill=\"#000000\" fill-rule=\"nonzero\" fill-opacity=\"1\" /><path clip-path=\"url(#clip880)\" d=\"M1225.89 27.2059 L1233.35 27.2059 L1233.35 72.576 L1225.89 72.576 L1225.89 27.2059 M1225.89 9.54393 L1233.35 9.54393 L1233.35 18.9825 L1225.89 18.9825 L1225.89 9.54393 Z\" fill=\"#000000\" fill-rule=\"nonzero\" fill-opacity=\"1\" /><path clip-path=\"url(#clip880)\" d=\"M1287.75 48.0275 L1287.75 51.6733 L1253.48 51.6733 Q1253.96 59.3701 1258.1 63.421 Q1262.27 67.4314 1269.68 67.4314 Q1273.98 67.4314 1277.99 66.3781 Q1282.04 65.3249 1286.01 63.2184 L1286.01 70.267 Q1282 71.9684 1277.78 72.8596 Q1273.57 73.7508 1269.24 73.7508 Q1258.38 73.7508 1252.02 67.4314 Q1245.7 61.1119 1245.7 50.3365 Q1245.7 39.1965 1251.7 32.6746 Q1257.73 26.1121 1267.94 26.1121 Q1277.1 26.1121 1282.4 32.0264 Q1287.75 37.9003 1287.75 48.0275 M1280.3 45.84 Q1280.21 39.7232 1276.85 36.0774 Q1273.53 32.4315 1268.02 32.4315 Q1261.78 32.4315 1258.02 35.9558 Q1254.29 39.4801 1253.72 45.8805 L1280.3 45.84 Z\" fill=\"#000000\" fill-rule=\"nonzero\" fill-opacity=\"1\" /><path clip-path=\"url(#clip880)\" d=\"M1337.7 45.1919 L1337.7 72.576 L1330.24 72.576 L1330.24 45.4349 Q1330.24 38.994 1327.73 35.7938 Q1325.22 32.5936 1320.2 32.5936 Q1314.16 32.5936 1310.68 36.4419 Q1307.19 40.2903 1307.19 46.9338 L1307.19 72.576 L1299.7 72.576 L1299.7 27.2059 L1307.19 27.2059 L1307.19 34.2544 Q1309.87 30.163 1313.47 28.1376 Q1317.12 26.1121 1321.86 26.1121 Q1329.68 26.1121 1333.69 30.9732 Q1337.7 35.7938 1337.7 45.1919 Z\" fill=\"#000000\" fill-rule=\"nonzero\" fill-opacity=\"1\" /><path clip-path=\"url(#clip880)\" d=\"M1385.21 28.9478 L1385.21 35.9153 Q1382.05 34.1734 1378.85 33.3227 Q1375.69 32.4315 1372.45 32.4315 Q1365.2 32.4315 1361.19 37.0496 Q1357.18 41.6271 1357.18 49.9314 Q1357.18 58.2358 1361.19 62.8538 Q1365.2 67.4314 1372.45 67.4314 Q1375.69 67.4314 1378.85 66.5807 Q1382.05 65.6895 1385.21 63.9476 L1385.21 70.8341 Q1382.09 72.2924 1378.73 73.0216 Q1375.41 73.7508 1371.64 73.7508 Q1361.39 73.7508 1355.36 67.3098 Q1349.32 60.8689 1349.32 49.9314 Q1349.32 38.832 1355.4 32.472 Q1361.52 26.1121 1372.13 26.1121 Q1375.57 26.1121 1378.85 26.8413 Q1382.14 27.5299 1385.21 28.9478 Z\" fill=\"#000000\" fill-rule=\"nonzero\" fill-opacity=\"1\" /><path clip-path=\"url(#clip880)\" d=\"M1417.05 76.7889 Q1413.89 84.8907 1410.9 87.3618 Q1407.9 89.8329 1402.88 89.8329 L1396.92 89.8329 L1396.92 83.5945 L1401.3 83.5945 Q1404.37 83.5945 1406.08 82.1361 Q1407.78 80.6778 1409.84 75.2496 L1411.18 71.8468 L1392.83 27.2059 L1400.73 27.2059 L1414.91 62.6918 L1429.09 27.2059 L1436.98 27.2059 L1417.05 76.7889 Z\" fill=\"#000000\" fill-rule=\"nonzero\" fill-opacity=\"1\" /><path clip-path=\"url(#clip880)\" d=\"M1480.86 65.7705 L1480.86 89.8329 L1473.36 89.8329 L1473.36 27.2059 L1480.86 27.2059 L1480.86 34.0924 Q1483.21 30.0415 1486.77 28.0971 Q1490.38 26.1121 1495.36 26.1121 Q1503.62 26.1121 1508.77 32.6746 Q1513.95 39.2371 1513.95 49.9314 Q1513.95 60.6258 1508.77 67.1883 Q1503.62 73.7508 1495.36 73.7508 Q1490.38 73.7508 1486.77 71.8063 Q1483.21 69.8214 1480.86 65.7705 M1506.21 49.9314 Q1506.21 41.7081 1502.81 37.0496 Q1499.45 32.3505 1493.54 32.3505 Q1487.62 32.3505 1484.22 37.0496 Q1480.86 41.7081 1480.86 49.9314 Q1480.86 58.1548 1484.22 62.8538 Q1487.62 67.5124 1493.54 67.5124 Q1499.45 67.5124 1502.81 62.8538 Q1506.21 58.1548 1506.21 49.9314 Z\" fill=\"#000000\" fill-rule=\"nonzero\" fill-opacity=\"1\" /><path clip-path=\"url(#clip880)\" d=\"M1552.6 34.1734 Q1551.34 33.4443 1549.84 33.1202 Q1548.38 32.7556 1546.6 32.7556 Q1540.28 32.7556 1536.88 36.8875 Q1533.52 40.9789 1533.52 48.6757 L1533.52 72.576 L1526.02 72.576 L1526.02 27.2059 L1533.52 27.2059 L1533.52 34.2544 Q1535.87 30.1225 1539.63 28.1376 Q1543.4 26.1121 1548.79 26.1121 Q1549.56 26.1121 1550.49 26.2337 Q1551.42 26.3147 1552.56 26.5172 L1552.6 34.1734 Z\" fill=\"#000000\" fill-rule=\"nonzero\" fill-opacity=\"1\" /><path clip-path=\"url(#clip880)\" d=\"M1576.17 32.4315 Q1570.18 32.4315 1566.69 37.1306 Q1563.21 41.7891 1563.21 49.9314 Q1563.21 58.0738 1566.65 62.7728 Q1570.14 67.4314 1576.17 67.4314 Q1582.13 67.4314 1585.61 62.7323 Q1589.1 58.0333 1589.1 49.9314 Q1589.1 41.8701 1585.61 37.1711 Q1582.13 32.4315 1576.17 32.4315 M1576.17 26.1121 Q1585.9 26.1121 1591.45 32.4315 Q1597 38.7509 1597 49.9314 Q1597 61.0714 1591.45 67.4314 Q1585.9 73.7508 1576.17 73.7508 Q1566.41 73.7508 1560.86 67.4314 Q1555.35 61.0714 1555.35 49.9314 Q1555.35 38.7509 1560.86 32.4315 Q1566.41 26.1121 1576.17 26.1121 Z\" fill=\"#000000\" fill-rule=\"nonzero\" fill-opacity=\"1\" /><path clip-path=\"url(#clip880)\" d=\"M1632.32 9.54393 L1632.32 15.7418 L1625.19 15.7418 Q1621.18 15.7418 1619.6 17.3622 Q1618.06 18.9825 1618.06 23.1955 L1618.06 27.2059 L1630.33 27.2059 L1630.33 32.9987 L1618.06 32.9987 L1618.06 72.576 L1610.57 72.576 L1610.57 32.9987 L1603.44 32.9987 L1603.44 27.2059 L1610.57 27.2059 L1610.57 24.0462 Q1610.57 16.471 1614.09 13.0277 Q1617.61 9.54393 1625.27 9.54393 L1632.32 9.54393 Z\" fill=\"#000000\" fill-rule=\"nonzero\" fill-opacity=\"1\" /><path clip-path=\"url(#clip880)\" d=\"M1638.56 27.2059 L1646.01 27.2059 L1646.01 72.576 L1638.56 72.576 L1638.56 27.2059 M1638.56 9.54393 L1646.01 9.54393 L1646.01 18.9825 L1638.56 18.9825 L1638.56 9.54393 Z\" fill=\"#000000\" fill-rule=\"nonzero\" fill-opacity=\"1\" /><path clip-path=\"url(#clip880)\" d=\"M1661.61 9.54393 L1669.06 9.54393 L1669.06 72.576 L1661.61 72.576 L1661.61 9.54393 Z\" fill=\"#000000\" fill-rule=\"nonzero\" fill-opacity=\"1\" /><path clip-path=\"url(#clip880)\" d=\"M1723.46 48.0275 L1723.46 51.6733 L1689.19 51.6733 Q1689.68 59.3701 1693.81 63.421 Q1697.98 67.4314 1705.4 67.4314 Q1709.69 67.4314 1713.7 66.3781 Q1717.75 65.3249 1721.72 63.2184 L1721.72 70.267 Q1717.71 71.9684 1713.5 72.8596 Q1709.29 73.7508 1704.95 73.7508 Q1694.1 73.7508 1687.74 67.4314 Q1681.42 61.1119 1681.42 50.3365 Q1681.42 39.1965 1687.41 32.6746 Q1693.45 26.1121 1703.66 26.1121 Q1712.81 26.1121 1718.12 32.0264 Q1723.46 37.9003 1723.46 48.0275 M1716.01 45.84 Q1715.93 39.7232 1712.57 36.0774 Q1709.25 32.4315 1703.74 32.4315 Q1697.5 32.4315 1693.73 35.9558 Q1690 39.4801 1689.44 45.8805 L1716.01 45.84 Z\" fill=\"#000000\" fill-rule=\"nonzero\" fill-opacity=\"1\" /><polyline clip-path=\"url(#clip882)\" style=\"stroke:#009af9; stroke-linecap:round; stroke-linejoin:round; stroke-width:4; stroke-opacity:1; fill:none\" points=\"279.916,1386.4 325.654,1295.01 371.392,1203.62 417.13,1112.23 462.868,1022.47 508.605,932.713 554.343,842.956 600.081,753.199 645.819,663.441 691.557,573.684 737.295,483.927 783.033,464.887 828.77,445.848 874.508,426.808 920.246,407.769 965.984,388.73 1011.72,369.69 1057.46,350.651 1103.2,331.611 1148.94,312.572 1194.67,293.532 1240.41,280.205 1286.15,266.877 1331.89,253.55 1377.62,240.222 1423.36,226.894 1469.1,213.567 1514.84,200.239 1560.58,186.912 1606.31,173.584 1652.05,160.256 1697.79,177.392 1743.53,194.527 1789.27,211.663 1835,228.798 1880.74,245.934 1926.48,263.069 1972.22,280.205 2017.95,297.34 2063.69,314.476 2109.43,342.171 2155.17,362.747 2200.91,378.202 2246.64,415.802 2292.38,436.562 \"/>\n",
       "</svg>\n"
      ],
      "text/html": [
       "<?xml version=\"1.0\" encoding=\"utf-8\"?>\n",
       "<svg xmlns=\"http://www.w3.org/2000/svg\" xmlns:xlink=\"http://www.w3.org/1999/xlink\" width=\"600\" height=\"400\" viewBox=\"0 0 2400 1600\">\n",
       "<defs>\n",
       "  <clipPath id=\"clip930\">\n",
       "    <rect x=\"0\" y=\"0\" width=\"2400\" height=\"1600\"/>\n",
       "  </clipPath>\n",
       "</defs>\n",
       "<path clip-path=\"url(#clip930)\" d=\"M0 1600 L2400 1600 L2400 8.88178e-14 L0 8.88178e-14  Z\" fill=\"#ffffff\" fill-rule=\"evenodd\" fill-opacity=\"1\"/>\n",
       "<defs>\n",
       "  <clipPath id=\"clip931\">\n",
       "    <rect x=\"480\" y=\"0\" width=\"1681\" height=\"1600\"/>\n",
       "  </clipPath>\n",
       "</defs>\n",
       "<path clip-path=\"url(#clip930)\" d=\"M219.542 1423.18 L2352.76 1423.18 L2352.76 123.472 L219.542 123.472  Z\" fill=\"#ffffff\" fill-rule=\"evenodd\" fill-opacity=\"1\"/>\n",
       "<defs>\n",
       "  <clipPath id=\"clip932\">\n",
       "    <rect x=\"219\" y=\"123\" width=\"2134\" height=\"1301\"/>\n",
       "  </clipPath>\n",
       "</defs>\n",
       "<polyline clip-path=\"url(#clip932)\" style=\"stroke:#000000; stroke-linecap:round; stroke-linejoin:round; stroke-width:2; stroke-opacity:0.1; fill:none\" points=\"234.178,1423.18 234.178,123.472 \"/>\n",
       "<polyline clip-path=\"url(#clip932)\" style=\"stroke:#000000; stroke-linecap:round; stroke-linejoin:round; stroke-width:2; stroke-opacity:0.1; fill:none\" points=\"691.557,1423.18 691.557,123.472 \"/>\n",
       "<polyline clip-path=\"url(#clip932)\" style=\"stroke:#000000; stroke-linecap:round; stroke-linejoin:round; stroke-width:2; stroke-opacity:0.1; fill:none\" points=\"1148.94,1423.18 1148.94,123.472 \"/>\n",
       "<polyline clip-path=\"url(#clip932)\" style=\"stroke:#000000; stroke-linecap:round; stroke-linejoin:round; stroke-width:2; stroke-opacity:0.1; fill:none\" points=\"1606.31,1423.18 1606.31,123.472 \"/>\n",
       "<polyline clip-path=\"url(#clip932)\" style=\"stroke:#000000; stroke-linecap:round; stroke-linejoin:round; stroke-width:2; stroke-opacity:0.1; fill:none\" points=\"2063.69,1423.18 2063.69,123.472 \"/>\n",
       "<polyline clip-path=\"url(#clip930)\" style=\"stroke:#000000; stroke-linecap:round; stroke-linejoin:round; stroke-width:4; stroke-opacity:1; fill:none\" points=\"219.542,1423.18 2352.76,1423.18 \"/>\n",
       "<polyline clip-path=\"url(#clip930)\" style=\"stroke:#000000; stroke-linecap:round; stroke-linejoin:round; stroke-width:4; stroke-opacity:1; fill:none\" points=\"234.178,1423.18 234.178,1404.28 \"/>\n",
       "<polyline clip-path=\"url(#clip930)\" style=\"stroke:#000000; stroke-linecap:round; stroke-linejoin:round; stroke-width:4; stroke-opacity:1; fill:none\" points=\"691.557,1423.18 691.557,1404.28 \"/>\n",
       "<polyline clip-path=\"url(#clip930)\" style=\"stroke:#000000; stroke-linecap:round; stroke-linejoin:round; stroke-width:4; stroke-opacity:1; fill:none\" points=\"1148.94,1423.18 1148.94,1404.28 \"/>\n",
       "<polyline clip-path=\"url(#clip930)\" style=\"stroke:#000000; stroke-linecap:round; stroke-linejoin:round; stroke-width:4; stroke-opacity:1; fill:none\" points=\"1606.31,1423.18 1606.31,1404.28 \"/>\n",
       "<polyline clip-path=\"url(#clip930)\" style=\"stroke:#000000; stroke-linecap:round; stroke-linejoin:round; stroke-width:4; stroke-opacity:1; fill:none\" points=\"2063.69,1423.18 2063.69,1404.28 \"/>\n",
       "<path clip-path=\"url(#clip930)\" d=\"M234.178 1454.1 Q230.567 1454.1 228.739 1457.66 Q226.933 1461.2 226.933 1468.33 Q226.933 1475.44 228.739 1479.01 Q230.567 1482.55 234.178 1482.55 Q237.813 1482.55 239.618 1479.01 Q241.447 1475.44 241.447 1468.33 Q241.447 1461.2 239.618 1457.66 Q237.813 1454.1 234.178 1454.1 M234.178 1450.39 Q239.988 1450.39 243.044 1455 Q246.123 1459.58 246.123 1468.33 Q246.123 1477.06 243.044 1481.67 Q239.988 1486.25 234.178 1486.25 Q228.368 1486.25 225.289 1481.67 Q222.234 1477.06 222.234 1468.33 Q222.234 1459.58 225.289 1455 Q228.368 1450.39 234.178 1450.39 Z\" fill=\"#000000\" fill-rule=\"nonzero\" fill-opacity=\"1\" /><path clip-path=\"url(#clip930)\" d=\"M666.245 1481.64 L673.883 1481.64 L673.883 1455.28 L665.573 1456.95 L665.573 1452.69 L673.837 1451.02 L678.513 1451.02 L678.513 1481.64 L686.152 1481.64 L686.152 1485.58 L666.245 1485.58 L666.245 1481.64 Z\" fill=\"#000000\" fill-rule=\"nonzero\" fill-opacity=\"1\" /><path clip-path=\"url(#clip930)\" d=\"M705.596 1454.1 Q701.985 1454.1 700.156 1457.66 Q698.351 1461.2 698.351 1468.33 Q698.351 1475.44 700.156 1479.01 Q701.985 1482.55 705.596 1482.55 Q709.23 1482.55 711.036 1479.01 Q712.865 1475.44 712.865 1468.33 Q712.865 1461.2 711.036 1457.66 Q709.23 1454.1 705.596 1454.1 M705.596 1450.39 Q711.406 1450.39 714.462 1455 Q717.541 1459.58 717.541 1468.33 Q717.541 1477.06 714.462 1481.67 Q711.406 1486.25 705.596 1486.25 Q699.786 1486.25 696.707 1481.67 Q693.652 1477.06 693.652 1468.33 Q693.652 1459.58 696.707 1455 Q699.786 1450.39 705.596 1450.39 Z\" fill=\"#000000\" fill-rule=\"nonzero\" fill-opacity=\"1\" /><path clip-path=\"url(#clip930)\" d=\"M1127.71 1481.64 L1144.03 1481.64 L1144.03 1485.58 L1122.08 1485.58 L1122.08 1481.64 Q1124.75 1478.89 1129.33 1474.26 Q1133.94 1469.61 1135.12 1468.27 Q1137.36 1465.74 1138.24 1464.01 Q1139.14 1462.25 1139.14 1460.56 Q1139.14 1457.8 1137.2 1456.07 Q1135.28 1454.33 1132.18 1454.33 Q1129.98 1454.33 1127.52 1455.09 Q1125.09 1455.86 1122.32 1457.41 L1122.32 1452.69 Q1125.14 1451.55 1127.59 1450.97 Q1130.05 1450.39 1132.08 1450.39 Q1137.45 1450.39 1140.65 1453.08 Q1143.84 1455.77 1143.84 1460.26 Q1143.84 1462.39 1143.03 1464.31 Q1142.25 1466.2 1140.14 1468.8 Q1139.56 1469.47 1136.46 1472.69 Q1133.36 1475.88 1127.71 1481.64 Z\" fill=\"#000000\" fill-rule=\"nonzero\" fill-opacity=\"1\" /><path clip-path=\"url(#clip930)\" d=\"M1163.84 1454.1 Q1160.23 1454.1 1158.4 1457.66 Q1156.6 1461.2 1156.6 1468.33 Q1156.6 1475.44 1158.4 1479.01 Q1160.23 1482.55 1163.84 1482.55 Q1167.48 1482.55 1169.28 1479.01 Q1171.11 1475.44 1171.11 1468.33 Q1171.11 1461.2 1169.28 1457.66 Q1167.48 1454.1 1163.84 1454.1 M1163.84 1450.39 Q1169.65 1450.39 1172.71 1455 Q1175.79 1459.58 1175.79 1468.33 Q1175.79 1477.06 1172.71 1481.67 Q1169.65 1486.25 1163.84 1486.25 Q1158.03 1486.25 1154.95 1481.67 Q1151.9 1477.06 1151.9 1468.33 Q1151.9 1459.58 1154.95 1455 Q1158.03 1450.39 1163.84 1450.39 Z\" fill=\"#000000\" fill-rule=\"nonzero\" fill-opacity=\"1\" /><path clip-path=\"url(#clip930)\" d=\"M1595.16 1466.95 Q1598.51 1467.66 1600.39 1469.93 Q1602.29 1472.2 1602.29 1475.53 Q1602.29 1480.65 1598.77 1483.45 Q1595.25 1486.25 1588.77 1486.25 Q1586.59 1486.25 1584.28 1485.81 Q1581.99 1485.39 1579.53 1484.54 L1579.53 1480.02 Q1581.48 1481.16 1583.79 1481.74 Q1586.11 1482.32 1588.63 1482.32 Q1593.03 1482.32 1595.32 1480.58 Q1597.63 1478.84 1597.63 1475.53 Q1597.63 1472.48 1595.48 1470.77 Q1593.35 1469.03 1589.53 1469.03 L1585.5 1469.03 L1585.5 1465.19 L1589.72 1465.19 Q1593.17 1465.19 1594.99 1463.82 Q1596.82 1462.43 1596.82 1459.84 Q1596.82 1457.18 1594.93 1455.77 Q1593.05 1454.33 1589.53 1454.33 Q1587.61 1454.33 1585.41 1454.75 Q1583.21 1455.16 1580.57 1456.04 L1580.57 1451.88 Q1583.24 1451.14 1585.55 1450.77 Q1587.89 1450.39 1589.95 1450.39 Q1595.27 1450.39 1598.37 1452.83 Q1601.48 1455.23 1601.48 1459.35 Q1601.48 1462.22 1599.83 1464.21 Q1598.19 1466.18 1595.16 1466.95 Z\" fill=\"#000000\" fill-rule=\"nonzero\" fill-opacity=\"1\" /><path clip-path=\"url(#clip930)\" d=\"M1621.15 1454.1 Q1617.54 1454.1 1615.71 1457.66 Q1613.91 1461.2 1613.91 1468.33 Q1613.91 1475.44 1615.71 1479.01 Q1617.54 1482.55 1621.15 1482.55 Q1624.79 1482.55 1626.59 1479.01 Q1628.42 1475.44 1628.42 1468.33 Q1628.42 1461.2 1626.59 1457.66 Q1624.79 1454.1 1621.15 1454.1 M1621.15 1450.39 Q1626.96 1450.39 1630.02 1455 Q1633.1 1459.58 1633.1 1468.33 Q1633.1 1477.06 1630.02 1481.67 Q1626.96 1486.25 1621.15 1486.25 Q1615.34 1486.25 1612.26 1481.67 Q1609.21 1477.06 1609.21 1468.33 Q1609.21 1459.58 1612.26 1455 Q1615.34 1450.39 1621.15 1450.39 Z\" fill=\"#000000\" fill-rule=\"nonzero\" fill-opacity=\"1\" /><path clip-path=\"url(#clip930)\" d=\"M2051.86 1455.09 L2040.06 1473.54 L2051.86 1473.54 L2051.86 1455.09 M2050.64 1451.02 L2056.52 1451.02 L2056.52 1473.54 L2061.45 1473.54 L2061.45 1477.43 L2056.52 1477.43 L2056.52 1485.58 L2051.86 1485.58 L2051.86 1477.43 L2036.26 1477.43 L2036.26 1472.92 L2050.64 1451.02 Z\" fill=\"#000000\" fill-rule=\"nonzero\" fill-opacity=\"1\" /><path clip-path=\"url(#clip930)\" d=\"M2079.18 1454.1 Q2075.57 1454.1 2073.74 1457.66 Q2071.93 1461.2 2071.93 1468.33 Q2071.93 1475.44 2073.74 1479.01 Q2075.57 1482.55 2079.18 1482.55 Q2082.81 1482.55 2084.62 1479.01 Q2086.45 1475.44 2086.45 1468.33 Q2086.45 1461.2 2084.62 1457.66 Q2082.81 1454.1 2079.18 1454.1 M2079.18 1450.39 Q2084.99 1450.39 2088.04 1455 Q2091.12 1459.58 2091.12 1468.33 Q2091.12 1477.06 2088.04 1481.67 Q2084.99 1486.25 2079.18 1486.25 Q2073.37 1486.25 2070.29 1481.67 Q2067.23 1477.06 2067.23 1468.33 Q2067.23 1459.58 2070.29 1455 Q2073.37 1450.39 2079.18 1450.39 Z\" fill=\"#000000\" fill-rule=\"nonzero\" fill-opacity=\"1\" /><path clip-path=\"url(#clip930)\" d=\"M1246.87 1526.86 L1238.15 1550.51 L1255.63 1550.51 L1246.87 1526.86 M1243.24 1520.52 L1250.53 1520.52 L1268.64 1568.04 L1261.96 1568.04 L1257.63 1555.85 L1236.21 1555.85 L1231.88 1568.04 L1225.1 1568.04 L1243.24 1520.52 Z\" fill=\"#000000\" fill-rule=\"nonzero\" fill-opacity=\"1\" /><path clip-path=\"url(#clip930)\" d=\"M1298.78 1549.81 Q1298.78 1543.44 1296.14 1539.94 Q1293.53 1536.44 1288.79 1536.44 Q1284.08 1536.44 1281.44 1539.94 Q1278.83 1543.44 1278.83 1549.81 Q1278.83 1556.14 1281.44 1559.64 Q1284.08 1563.14 1288.79 1563.14 Q1293.53 1563.14 1296.14 1559.64 Q1298.78 1556.14 1298.78 1549.81 M1304.64 1563.62 Q1304.64 1572.72 1300.6 1577.15 Q1296.56 1581.6 1288.22 1581.6 Q1285.13 1581.6 1282.39 1581.13 Q1279.66 1580.68 1277.08 1579.72 L1277.08 1574.03 Q1279.66 1575.43 1282.17 1576.1 Q1284.68 1576.76 1287.29 1576.76 Q1293.06 1576.76 1295.92 1573.74 Q1298.78 1570.75 1298.78 1564.67 L1298.78 1561.77 Q1296.97 1564.92 1294.14 1566.48 Q1291.31 1568.04 1287.36 1568.04 Q1280.8 1568.04 1276.79 1563.05 Q1272.78 1558.05 1272.78 1549.81 Q1272.78 1541.53 1276.79 1536.53 Q1280.8 1531.54 1287.36 1531.54 Q1291.31 1531.54 1294.14 1533.1 Q1296.97 1534.66 1298.78 1537.81 L1298.78 1532.4 L1304.64 1532.4 L1304.64 1563.62 Z\" fill=\"#000000\" fill-rule=\"nonzero\" fill-opacity=\"1\" /><path clip-path=\"url(#clip930)\" d=\"M1347.2 1548.76 L1347.2 1551.62 L1320.27 1551.62 Q1320.65 1557.67 1323.9 1560.85 Q1327.18 1564 1333 1564 Q1336.37 1564 1339.53 1563.17 Q1342.71 1562.35 1345.83 1560.69 L1345.83 1566.23 Q1342.68 1567.57 1339.37 1568.27 Q1336.06 1568.97 1332.65 1568.97 Q1324.12 1568.97 1319.12 1564 Q1314.16 1559.04 1314.16 1550.57 Q1314.16 1541.82 1318.87 1536.69 Q1323.61 1531.54 1331.63 1531.54 Q1338.83 1531.54 1342.99 1536.18 Q1347.2 1540.8 1347.2 1548.76 M1341.34 1547.04 Q1341.28 1542.23 1338.63 1539.37 Q1336.02 1536.5 1331.7 1536.5 Q1326.79 1536.5 1323.83 1539.27 Q1320.91 1542.04 1320.46 1547.07 L1341.34 1547.04 Z\" fill=\"#000000\" fill-rule=\"nonzero\" fill-opacity=\"1\" /><polyline clip-path=\"url(#clip932)\" style=\"stroke:#000000; stroke-linecap:round; stroke-linejoin:round; stroke-width:2; stroke-opacity:0.1; fill:none\" points=\"219.542,1384.62 2352.76,1384.62 \"/>\n",
       "<polyline clip-path=\"url(#clip932)\" style=\"stroke:#000000; stroke-linecap:round; stroke-linejoin:round; stroke-width:2; stroke-opacity:0.1; fill:none\" points=\"219.542,1153.95 2352.76,1153.95 \"/>\n",
       "<polyline clip-path=\"url(#clip932)\" style=\"stroke:#000000; stroke-linecap:round; stroke-linejoin:round; stroke-width:2; stroke-opacity:0.1; fill:none\" points=\"219.542,923.281 2352.76,923.281 \"/>\n",
       "<polyline clip-path=\"url(#clip932)\" style=\"stroke:#000000; stroke-linecap:round; stroke-linejoin:round; stroke-width:2; stroke-opacity:0.1; fill:none\" points=\"219.542,692.608 2352.76,692.608 \"/>\n",
       "<polyline clip-path=\"url(#clip932)\" style=\"stroke:#000000; stroke-linecap:round; stroke-linejoin:round; stroke-width:2; stroke-opacity:0.1; fill:none\" points=\"219.542,461.936 2352.76,461.936 \"/>\n",
       "<polyline clip-path=\"url(#clip932)\" style=\"stroke:#000000; stroke-linecap:round; stroke-linejoin:round; stroke-width:2; stroke-opacity:0.1; fill:none\" points=\"219.542,231.264 2352.76,231.264 \"/>\n",
       "<polyline clip-path=\"url(#clip930)\" style=\"stroke:#000000; stroke-linecap:round; stroke-linejoin:round; stroke-width:4; stroke-opacity:1; fill:none\" points=\"219.542,1423.18 219.542,123.472 \"/>\n",
       "<polyline clip-path=\"url(#clip930)\" style=\"stroke:#000000; stroke-linecap:round; stroke-linejoin:round; stroke-width:4; stroke-opacity:1; fill:none\" points=\"219.542,1384.62 238.44,1384.62 \"/>\n",
       "<polyline clip-path=\"url(#clip930)\" style=\"stroke:#000000; stroke-linecap:round; stroke-linejoin:round; stroke-width:4; stroke-opacity:1; fill:none\" points=\"219.542,1153.95 238.44,1153.95 \"/>\n",
       "<polyline clip-path=\"url(#clip930)\" style=\"stroke:#000000; stroke-linecap:round; stroke-linejoin:round; stroke-width:4; stroke-opacity:1; fill:none\" points=\"219.542,923.281 238.44,923.281 \"/>\n",
       "<polyline clip-path=\"url(#clip930)\" style=\"stroke:#000000; stroke-linecap:round; stroke-linejoin:round; stroke-width:4; stroke-opacity:1; fill:none\" points=\"219.542,692.608 238.44,692.608 \"/>\n",
       "<polyline clip-path=\"url(#clip930)\" style=\"stroke:#000000; stroke-linecap:round; stroke-linejoin:round; stroke-width:4; stroke-opacity:1; fill:none\" points=\"219.542,461.936 238.44,461.936 \"/>\n",
       "<polyline clip-path=\"url(#clip930)\" style=\"stroke:#000000; stroke-linecap:round; stroke-linejoin:round; stroke-width:4; stroke-opacity:1; fill:none\" points=\"219.542,231.264 238.44,231.264 \"/>\n",
       "<path clip-path=\"url(#clip930)\" d=\"M126.205 1370.42 Q122.593 1370.42 120.765 1373.99 Q118.959 1377.53 118.959 1384.66 Q118.959 1391.77 120.765 1395.33 Q122.593 1398.87 126.205 1398.87 Q129.839 1398.87 131.644 1395.33 Q133.473 1391.77 133.473 1384.66 Q133.473 1377.53 131.644 1373.99 Q129.839 1370.42 126.205 1370.42 M126.205 1366.72 Q132.015 1366.72 135.07 1371.33 Q138.149 1375.91 138.149 1384.66 Q138.149 1393.39 135.07 1397.99 Q132.015 1402.58 126.205 1402.58 Q120.394 1402.58 117.316 1397.99 Q114.26 1393.39 114.26 1384.66 Q114.26 1375.91 117.316 1371.33 Q120.394 1366.72 126.205 1366.72 Z\" fill=\"#000000\" fill-rule=\"nonzero\" fill-opacity=\"1\" /><path clip-path=\"url(#clip930)\" d=\"M146.366 1396.03 L151.251 1396.03 L151.251 1401.9 L146.366 1401.9 L146.366 1396.03 Z\" fill=\"#000000\" fill-rule=\"nonzero\" fill-opacity=\"1\" /><path clip-path=\"url(#clip930)\" d=\"M172.014 1382.76 Q168.866 1382.76 167.015 1384.91 Q165.186 1387.07 165.186 1390.82 Q165.186 1394.54 167.015 1396.72 Q168.866 1398.87 172.014 1398.87 Q175.163 1398.87 176.991 1396.72 Q178.843 1394.54 178.843 1390.82 Q178.843 1387.07 176.991 1384.91 Q175.163 1382.76 172.014 1382.76 M181.297 1368.11 L181.297 1372.37 Q179.538 1371.53 177.732 1371.09 Q175.95 1370.66 174.19 1370.66 Q169.561 1370.66 167.107 1373.78 Q164.677 1376.91 164.329 1383.22 Q165.695 1381.21 167.755 1380.15 Q169.815 1379.06 172.292 1379.06 Q177.501 1379.06 180.51 1382.23 Q183.542 1385.38 183.542 1390.82 Q183.542 1396.14 180.394 1399.36 Q177.246 1402.58 172.014 1402.58 Q166.019 1402.58 162.848 1397.99 Q159.677 1393.39 159.677 1384.66 Q159.677 1376.47 163.565 1371.6 Q167.454 1366.72 174.005 1366.72 Q175.764 1366.72 177.547 1367.07 Q179.352 1367.41 181.297 1368.11 Z\" fill=\"#000000\" fill-rule=\"nonzero\" fill-opacity=\"1\" /><path clip-path=\"url(#clip930)\" d=\"M127.269 1139.75 Q123.658 1139.75 121.83 1143.32 Q120.024 1146.86 120.024 1153.99 Q120.024 1161.09 121.83 1164.66 Q123.658 1168.2 127.269 1168.2 Q130.904 1168.2 132.709 1164.66 Q134.538 1161.09 134.538 1153.99 Q134.538 1146.86 132.709 1143.32 Q130.904 1139.75 127.269 1139.75 M127.269 1136.05 Q133.08 1136.05 136.135 1140.65 Q139.214 1145.24 139.214 1153.99 Q139.214 1162.71 136.135 1167.32 Q133.08 1171.9 127.269 1171.9 Q121.459 1171.9 118.381 1167.32 Q115.325 1162.71 115.325 1153.99 Q115.325 1145.24 118.381 1140.65 Q121.459 1136.05 127.269 1136.05 Z\" fill=\"#000000\" fill-rule=\"nonzero\" fill-opacity=\"1\" /><path clip-path=\"url(#clip930)\" d=\"M147.431 1165.35 L152.316 1165.35 L152.316 1171.23 L147.431 1171.23 L147.431 1165.35 Z\" fill=\"#000000\" fill-rule=\"nonzero\" fill-opacity=\"1\" /><path clip-path=\"url(#clip930)\" d=\"M161.32 1136.67 L183.542 1136.67 L183.542 1138.66 L170.996 1171.23 L166.112 1171.23 L177.917 1140.61 L161.32 1140.61 L161.32 1136.67 Z\" fill=\"#000000\" fill-rule=\"nonzero\" fill-opacity=\"1\" /><path clip-path=\"url(#clip930)\" d=\"M126.459 909.079 Q122.848 909.079 121.019 912.644 Q119.214 916.186 119.214 923.315 Q119.214 930.422 121.019 933.987 Q122.848 937.528 126.459 937.528 Q130.093 937.528 131.899 933.987 Q133.728 930.422 133.728 923.315 Q133.728 916.186 131.899 912.644 Q130.093 909.079 126.459 909.079 M126.459 905.376 Q132.269 905.376 135.325 909.982 Q138.404 914.565 138.404 923.315 Q138.404 932.042 135.325 936.649 Q132.269 941.232 126.459 941.232 Q120.649 941.232 117.57 936.649 Q114.515 932.042 114.515 923.315 Q114.515 914.565 117.57 909.982 Q120.649 905.376 126.459 905.376 Z\" fill=\"#000000\" fill-rule=\"nonzero\" fill-opacity=\"1\" /><path clip-path=\"url(#clip930)\" d=\"M146.621 934.681 L151.505 934.681 L151.505 940.561 L146.621 940.561 L146.621 934.681 Z\" fill=\"#000000\" fill-rule=\"nonzero\" fill-opacity=\"1\" /><path clip-path=\"url(#clip930)\" d=\"M171.69 924.149 Q168.357 924.149 166.436 925.931 Q164.538 927.713 164.538 930.838 Q164.538 933.963 166.436 935.746 Q168.357 937.528 171.69 937.528 Q175.024 937.528 176.945 935.746 Q178.866 933.94 178.866 930.838 Q178.866 927.713 176.945 925.931 Q175.047 924.149 171.69 924.149 M167.015 922.158 Q164.005 921.417 162.315 919.357 Q160.649 917.297 160.649 914.334 Q160.649 910.19 163.589 907.783 Q166.552 905.376 171.69 905.376 Q176.852 905.376 179.792 907.783 Q182.732 910.19 182.732 914.334 Q182.732 917.297 181.042 919.357 Q179.376 921.417 176.389 922.158 Q179.769 922.945 181.644 925.237 Q183.542 927.528 183.542 930.838 Q183.542 935.862 180.464 938.547 Q177.408 941.232 171.69 941.232 Q165.973 941.232 162.894 938.547 Q159.839 935.862 159.839 930.838 Q159.839 927.528 161.737 925.237 Q163.635 922.945 167.015 922.158 M165.302 914.774 Q165.302 917.459 166.968 918.963 Q168.658 920.468 171.69 920.468 Q174.7 920.468 176.389 918.963 Q178.102 917.459 178.102 914.774 Q178.102 912.088 176.389 910.584 Q174.7 909.079 171.69 909.079 Q168.658 909.079 166.968 910.584 Q165.302 912.088 165.302 914.774 Z\" fill=\"#000000\" fill-rule=\"nonzero\" fill-opacity=\"1\" /><path clip-path=\"url(#clip930)\" d=\"M126.552 678.407 Q122.941 678.407 121.112 681.972 Q119.306 685.513 119.306 692.643 Q119.306 699.75 121.112 703.314 Q122.941 706.856 126.552 706.856 Q130.186 706.856 131.992 703.314 Q133.82 699.75 133.82 692.643 Q133.82 685.513 131.992 681.972 Q130.186 678.407 126.552 678.407 M126.552 674.703 Q132.362 674.703 135.417 679.31 Q138.496 683.893 138.496 692.643 Q138.496 701.37 135.417 705.976 Q132.362 710.56 126.552 710.56 Q120.742 710.56 117.663 705.976 Q114.607 701.37 114.607 692.643 Q114.607 683.893 117.663 679.31 Q120.742 674.703 126.552 674.703 Z\" fill=\"#000000\" fill-rule=\"nonzero\" fill-opacity=\"1\" /><path clip-path=\"url(#clip930)\" d=\"M146.714 704.009 L151.598 704.009 L151.598 709.888 L146.714 709.888 L146.714 704.009 Z\" fill=\"#000000\" fill-rule=\"nonzero\" fill-opacity=\"1\" /><path clip-path=\"url(#clip930)\" d=\"M161.922 709.171 L161.922 704.912 Q163.681 705.745 165.487 706.185 Q167.292 706.624 169.028 706.624 Q173.658 706.624 176.089 703.523 Q178.542 700.398 178.889 694.055 Q177.547 696.046 175.487 697.111 Q173.427 698.175 170.927 698.175 Q165.741 698.175 162.709 695.05 Q159.7 691.902 159.7 686.463 Q159.7 681.138 162.848 677.921 Q165.996 674.703 171.227 674.703 Q177.223 674.703 180.371 679.31 Q183.542 683.893 183.542 692.643 Q183.542 700.814 179.653 705.699 Q175.788 710.56 169.237 710.56 Q167.477 710.56 165.672 710.212 Q163.866 709.865 161.922 709.171 M171.227 694.518 Q174.376 694.518 176.204 692.365 Q178.056 690.213 178.056 686.463 Q178.056 682.736 176.204 680.583 Q174.376 678.407 171.227 678.407 Q168.079 678.407 166.227 680.583 Q164.399 682.736 164.399 686.463 Q164.399 690.213 166.227 692.365 Q168.079 694.518 171.227 694.518 Z\" fill=\"#000000\" fill-rule=\"nonzero\" fill-opacity=\"1\" /><path clip-path=\"url(#clip930)\" d=\"M117.177 475.281 L124.816 475.281 L124.816 448.915 L116.506 450.582 L116.506 446.323 L124.769 444.656 L129.445 444.656 L129.445 475.281 L137.084 475.281 L137.084 479.216 L117.177 479.216 L117.177 475.281 Z\" fill=\"#000000\" fill-rule=\"nonzero\" fill-opacity=\"1\" /><path clip-path=\"url(#clip930)\" d=\"M146.529 473.337 L151.413 473.337 L151.413 479.216 L146.529 479.216 L146.529 473.337 Z\" fill=\"#000000\" fill-rule=\"nonzero\" fill-opacity=\"1\" /><path clip-path=\"url(#clip930)\" d=\"M171.598 447.735 Q167.987 447.735 166.158 451.3 Q164.352 454.841 164.352 461.971 Q164.352 469.077 166.158 472.642 Q167.987 476.184 171.598 476.184 Q175.232 476.184 177.038 472.642 Q178.866 469.077 178.866 461.971 Q178.866 454.841 177.038 451.3 Q175.232 447.735 171.598 447.735 M171.598 444.031 Q177.408 444.031 180.464 448.638 Q183.542 453.221 183.542 461.971 Q183.542 470.698 180.464 475.304 Q177.408 479.887 171.598 479.887 Q165.788 479.887 162.709 475.304 Q159.653 470.698 159.653 461.971 Q159.653 453.221 162.709 448.638 Q165.788 444.031 171.598 444.031 Z\" fill=\"#000000\" fill-rule=\"nonzero\" fill-opacity=\"1\" /><path clip-path=\"url(#clip930)\" d=\"M118.404 244.609 L126.043 244.609 L126.043 218.243 L117.732 219.91 L117.732 215.651 L125.996 213.984 L130.672 213.984 L130.672 244.609 L138.311 244.609 L138.311 248.544 L118.404 248.544 L118.404 244.609 Z\" fill=\"#000000\" fill-rule=\"nonzero\" fill-opacity=\"1\" /><path clip-path=\"url(#clip930)\" d=\"M147.755 242.664 L152.64 242.664 L152.64 248.544 L147.755 248.544 L147.755 242.664 Z\" fill=\"#000000\" fill-rule=\"nonzero\" fill-opacity=\"1\" /><path clip-path=\"url(#clip930)\" d=\"M163.635 244.609 L171.274 244.609 L171.274 218.243 L162.964 219.91 L162.964 215.651 L171.227 213.984 L175.903 213.984 L175.903 244.609 L183.542 244.609 L183.542 248.544 L163.635 248.544 L163.635 244.609 Z\" fill=\"#000000\" fill-rule=\"nonzero\" fill-opacity=\"1\" /><path clip-path=\"url(#clip930)\" d=\"M16.4842 926.644 L16.4842 896.598 L21.895 896.598 L21.895 920.215 L35.9632 920.215 L35.9632 897.585 L41.3741 897.585 L41.3741 920.215 L58.5933 920.215 L58.5933 896.025 L64.0042 896.025 L64.0042 926.644 L16.4842 926.644 Z\" fill=\"#000000\" fill-rule=\"nonzero\" fill-opacity=\"1\" /><path clip-path=\"url(#clip930)\" d=\"M14.479 867.666 L19.3487 867.666 L19.3487 873.268 Q19.3487 876.419 20.6219 877.66 Q21.895 878.869 25.2052 878.869 L28.3562 878.869 L28.3562 869.225 L32.9077 869.225 L32.9077 878.869 L64.0042 878.869 L64.0042 884.758 L32.9077 884.758 L32.9077 890.36 L28.3562 890.36 L28.3562 884.758 L25.8736 884.758 Q19.9216 884.758 17.2162 881.989 Q14.479 879.22 14.479 873.204 L14.479 867.666 Z\" fill=\"#000000\" fill-rule=\"nonzero\" fill-opacity=\"1\" /><path clip-path=\"url(#clip930)\" d=\"M14.479 844.717 L19.3487 844.717 L19.3487 850.319 Q19.3487 853.47 20.6219 854.712 Q21.895 855.921 25.2052 855.921 L28.3562 855.921 L28.3562 846.277 L32.9077 846.277 L32.9077 855.921 L64.0042 855.921 L64.0042 861.809 L32.9077 861.809 L32.9077 867.411 L28.3562 867.411 L28.3562 861.809 L25.8736 861.809 Q19.9216 861.809 17.2162 859.04 Q14.479 856.271 14.479 850.256 L14.479 844.717 Z\" fill=\"#000000\" fill-rule=\"nonzero\" fill-opacity=\"1\" /><path clip-path=\"url(#clip930)\" d=\"M28.3562 839.816 L28.3562 833.959 L64.0042 833.959 L64.0042 839.816 L28.3562 839.816 M14.479 839.816 L14.479 833.959 L21.895 833.959 L21.895 839.816 L14.479 839.816 Z\" fill=\"#000000\" fill-rule=\"nonzero\" fill-opacity=\"1\" /><path clip-path=\"url(#clip930)\" d=\"M29.7248 796.052 L35.1993 796.052 Q33.8307 798.534 33.1623 801.049 Q32.4621 803.531 32.4621 806.078 Q32.4621 811.775 36.0905 814.926 Q39.6872 818.077 46.212 818.077 Q52.7369 818.077 56.3653 814.926 Q59.9619 811.775 59.9619 806.078 Q59.9619 803.531 59.2935 801.049 Q58.5933 798.534 57.2247 796.052 L62.6355 796.052 Q63.7814 798.502 64.3543 801.144 Q64.9272 803.754 64.9272 806.714 Q64.9272 814.767 59.8664 819.509 Q54.8057 824.252 46.212 824.252 Q37.491 824.252 32.4939 819.477 Q27.4968 814.671 27.4968 806.332 Q27.4968 803.627 28.0697 801.049 Q28.6108 798.471 29.7248 796.052 Z\" fill=\"#000000\" fill-rule=\"nonzero\" fill-opacity=\"1\" /><path clip-path=\"url(#clip930)\" d=\"M28.3562 785.866 L28.3562 780.01 L64.0042 780.01 L64.0042 785.866 L28.3562 785.866 M14.479 785.866 L14.479 780.01 L21.895 780.01 L21.895 785.866 L14.479 785.866 Z\" fill=\"#000000\" fill-rule=\"nonzero\" fill-opacity=\"1\" /><path clip-path=\"url(#clip930)\" d=\"M44.7161 737.264 L47.5806 737.264 L47.5806 764.191 Q53.6281 763.809 56.8109 760.563 Q59.9619 757.284 59.9619 751.46 Q59.9619 748.086 59.1344 744.935 Q58.3069 741.752 56.6518 738.633 L62.1899 738.633 Q63.5267 741.784 64.227 745.094 Q64.9272 748.404 64.9272 751.81 Q64.9272 760.34 59.9619 765.337 Q54.9967 770.302 46.5303 770.302 Q37.7774 770.302 32.6531 765.592 Q27.4968 760.849 27.4968 752.828 Q27.4968 745.635 32.1438 741.466 Q36.7589 737.264 44.7161 737.264 M42.9973 743.121 Q38.1912 743.184 35.3266 745.826 Q32.4621 748.436 32.4621 752.765 Q32.4621 757.666 35.2312 760.626 Q38.0002 763.555 43.0292 764 L42.9973 743.121 Z\" fill=\"#000000\" fill-rule=\"nonzero\" fill-opacity=\"1\" /><path clip-path=\"url(#clip930)\" d=\"M42.4881 698.02 L64.0042 698.02 L64.0042 703.876 L42.679 703.876 Q37.6183 703.876 35.1038 705.849 Q32.5894 707.823 32.5894 711.77 Q32.5894 716.512 35.6131 719.249 Q38.6368 721.987 43.8567 721.987 L64.0042 721.987 L64.0042 727.875 L28.3562 727.875 L28.3562 721.987 L33.8944 721.987 Q30.6797 719.886 29.0883 717.053 Q27.4968 714.189 27.4968 710.465 Q27.4968 704.322 31.3163 701.171 Q35.1038 698.02 42.4881 698.02 Z\" fill=\"#000000\" fill-rule=\"nonzero\" fill-opacity=\"1\" /><path clip-path=\"url(#clip930)\" d=\"M29.7248 660.685 L35.1993 660.685 Q33.8307 663.167 33.1623 665.682 Q32.4621 668.165 32.4621 670.711 Q32.4621 676.408 36.0905 679.559 Q39.6872 682.71 46.212 682.71 Q52.7369 682.71 56.3653 679.559 Q59.9619 676.408 59.9619 670.711 Q59.9619 668.165 59.2935 665.682 Q58.5933 663.167 57.2247 660.685 L62.6355 660.685 Q63.7814 663.136 64.3543 665.777 Q64.9272 668.387 64.9272 671.347 Q64.9272 679.4 59.8664 684.142 Q54.8057 688.885 46.212 688.885 Q37.491 688.885 32.4939 684.111 Q27.4968 679.304 27.4968 670.965 Q27.4968 668.26 28.0697 665.682 Q28.6108 663.104 29.7248 660.685 Z\" fill=\"#000000\" fill-rule=\"nonzero\" fill-opacity=\"1\" /><path clip-path=\"url(#clip930)\" d=\"M67.3143 635.668 Q73.68 638.15 75.6216 640.506 Q77.5631 642.861 77.5631 646.808 L77.5631 651.486 L72.6615 651.486 L72.6615 648.049 Q72.6615 645.63 71.5157 644.293 Q70.3699 642.956 66.1048 641.333 L63.4312 640.283 L28.3562 654.701 L28.3562 648.494 L56.238 637.354 L28.3562 626.215 L28.3562 620.008 L67.3143 635.668 Z\" fill=\"#000000\" fill-rule=\"nonzero\" fill-opacity=\"1\" /><path clip-path=\"url(#clip930)\" d=\"M876.542 20.1573 L865.442 50.2555 L887.682 50.2555 L876.542 20.1573 M871.924 12.096 L881.2 12.096 L904.25 72.576 L895.743 72.576 L890.234 57.061 L862.971 57.061 L857.462 72.576 L848.834 72.576 L871.924 12.096 Z\" fill=\"#000000\" fill-rule=\"nonzero\" fill-opacity=\"1\" /><path clip-path=\"url(#clip930)\" d=\"M942.612 49.3643 Q942.612 41.2625 939.25 36.8065 Q935.928 32.3505 929.892 32.3505 Q923.897 32.3505 920.535 36.8065 Q917.213 41.2625 917.213 49.3643 Q917.213 57.4256 920.535 61.8816 Q923.897 66.3376 929.892 66.3376 Q935.928 66.3376 939.25 61.8816 Q942.612 57.4256 942.612 49.3643 M950.066 66.9452 Q950.066 78.5308 944.921 84.1616 Q939.776 89.8329 929.163 89.8329 Q925.234 89.8329 921.75 89.2252 Q918.266 88.6581 914.985 87.4428 L914.985 80.1917 Q918.266 81.9741 921.466 82.8248 Q924.667 83.6755 927.988 83.6755 Q935.32 83.6755 938.966 79.8271 Q942.612 76.0193 942.612 68.282 L942.612 64.5957 Q940.303 68.6061 936.698 70.5911 Q933.092 72.576 928.069 72.576 Q919.725 72.576 914.62 66.2161 Q909.516 59.8562 909.516 49.3643 Q909.516 38.832 914.62 32.472 Q919.725 26.1121 928.069 26.1121 Q933.092 26.1121 936.698 28.0971 Q940.303 30.082 942.612 34.0924 L942.612 27.2059 L950.066 27.2059 L950.066 66.9452 Z\" fill=\"#000000\" fill-rule=\"nonzero\" fill-opacity=\"1\" /><path clip-path=\"url(#clip930)\" d=\"M1004.23 48.0275 L1004.23 51.6733 L969.956 51.6733 Q970.442 59.3701 974.574 63.421 Q978.746 67.4314 986.159 67.4314 Q990.453 67.4314 994.464 66.3781 Q998.515 65.3249 1002.48 63.2184 L1002.48 70.267 Q998.474 71.9684 994.261 72.8596 Q990.048 73.7508 985.714 73.7508 Q974.857 73.7508 968.497 67.4314 Q962.178 61.1119 962.178 50.3365 Q962.178 39.1965 968.173 32.6746 Q974.209 26.1121 984.417 26.1121 Q993.572 26.1121 998.879 32.0264 Q1004.23 37.9003 1004.23 48.0275 M996.773 45.84 Q996.692 39.7232 993.329 36.0774 Q990.008 32.4315 984.498 32.4315 Q978.26 32.4315 974.493 35.9558 Q970.766 39.4801 970.199 45.8805 L996.773 45.84 Z\" fill=\"#000000\" fill-rule=\"nonzero\" fill-opacity=\"1\" /><path clip-path=\"url(#clip930)\" d=\"M1012.69 46.5287 L1034.53 46.5287 L1034.53 53.1722 L1012.69 53.1722 L1012.69 46.5287 Z\" fill=\"#000000\" fill-rule=\"nonzero\" fill-opacity=\"1\" /><path clip-path=\"url(#clip930)\" d=\"M1046.72 12.096 L1084.96 12.096 L1084.96 18.9825 L1054.9 18.9825 L1054.9 36.8875 L1083.71 36.8875 L1083.71 43.7741 L1054.9 43.7741 L1054.9 65.6895 L1085.69 65.6895 L1085.69 72.576 L1046.72 72.576 L1046.72 12.096 Z\" fill=\"#000000\" fill-rule=\"nonzero\" fill-opacity=\"1\" /><path clip-path=\"url(#clip930)\" d=\"M1121.78 9.54393 L1121.78 15.7418 L1114.65 15.7418 Q1110.64 15.7418 1109.06 17.3622 Q1107.52 18.9825 1107.52 23.1955 L1107.52 27.2059 L1119.8 27.2059 L1119.8 32.9987 L1107.52 32.9987 L1107.52 72.576 L1100.03 72.576 L1100.03 32.9987 L1092.9 32.9987 L1092.9 27.2059 L1100.03 27.2059 L1100.03 24.0462 Q1100.03 16.471 1103.55 13.0277 Q1107.08 9.54393 1114.74 9.54393 L1121.78 9.54393 Z\" fill=\"#000000\" fill-rule=\"nonzero\" fill-opacity=\"1\" /><path clip-path=\"url(#clip930)\" d=\"M1150.99 9.54393 L1150.99 15.7418 L1143.86 15.7418 Q1139.85 15.7418 1138.27 17.3622 Q1136.73 18.9825 1136.73 23.1955 L1136.73 27.2059 L1149.01 27.2059 L1149.01 32.9987 L1136.73 32.9987 L1136.73 72.576 L1129.24 72.576 L1129.24 32.9987 L1122.11 32.9987 L1122.11 27.2059 L1129.24 27.2059 L1129.24 24.0462 Q1129.24 16.471 1132.76 13.0277 Q1136.29 9.54393 1143.94 9.54393 L1150.99 9.54393 Z\" fill=\"#000000\" fill-rule=\"nonzero\" fill-opacity=\"1\" /><path clip-path=\"url(#clip930)\" d=\"M1157.23 27.2059 L1164.68 27.2059 L1164.68 72.576 L1157.23 72.576 L1157.23 27.2059 M1157.23 9.54393 L1164.68 9.54393 L1164.68 18.9825 L1157.23 18.9825 L1157.23 9.54393 Z\" fill=\"#000000\" fill-rule=\"nonzero\" fill-opacity=\"1\" /><path clip-path=\"url(#clip930)\" d=\"M1212.93 28.9478 L1212.93 35.9153 Q1209.77 34.1734 1206.57 33.3227 Q1203.41 32.4315 1200.17 32.4315 Q1192.92 32.4315 1188.91 37.0496 Q1184.9 41.6271 1184.9 49.9314 Q1184.9 58.2358 1188.91 62.8538 Q1192.92 67.4314 1200.17 67.4314 Q1203.41 67.4314 1206.57 66.5807 Q1209.77 65.6895 1212.93 63.9476 L1212.93 70.8341 Q1209.81 72.2924 1206.45 73.0216 Q1203.13 73.7508 1199.36 73.7508 Q1189.11 73.7508 1183.07 67.3098 Q1177.04 60.8689 1177.04 49.9314 Q1177.04 38.832 1183.11 32.472 Q1189.23 26.1121 1199.84 26.1121 Q1203.29 26.1121 1206.57 26.8413 Q1209.85 27.5299 1212.93 28.9478 Z\" fill=\"#000000\" fill-rule=\"nonzero\" fill-opacity=\"1\" /><path clip-path=\"url(#clip930)\" d=\"M1225.89 27.2059 L1233.35 27.2059 L1233.35 72.576 L1225.89 72.576 L1225.89 27.2059 M1225.89 9.54393 L1233.35 9.54393 L1233.35 18.9825 L1225.89 18.9825 L1225.89 9.54393 Z\" fill=\"#000000\" fill-rule=\"nonzero\" fill-opacity=\"1\" /><path clip-path=\"url(#clip930)\" d=\"M1287.75 48.0275 L1287.75 51.6733 L1253.48 51.6733 Q1253.96 59.3701 1258.1 63.421 Q1262.27 67.4314 1269.68 67.4314 Q1273.98 67.4314 1277.99 66.3781 Q1282.04 65.3249 1286.01 63.2184 L1286.01 70.267 Q1282 71.9684 1277.78 72.8596 Q1273.57 73.7508 1269.24 73.7508 Q1258.38 73.7508 1252.02 67.4314 Q1245.7 61.1119 1245.7 50.3365 Q1245.7 39.1965 1251.7 32.6746 Q1257.73 26.1121 1267.94 26.1121 Q1277.1 26.1121 1282.4 32.0264 Q1287.75 37.9003 1287.75 48.0275 M1280.3 45.84 Q1280.21 39.7232 1276.85 36.0774 Q1273.53 32.4315 1268.02 32.4315 Q1261.78 32.4315 1258.02 35.9558 Q1254.29 39.4801 1253.72 45.8805 L1280.3 45.84 Z\" fill=\"#000000\" fill-rule=\"nonzero\" fill-opacity=\"1\" /><path clip-path=\"url(#clip930)\" d=\"M1337.7 45.1919 L1337.7 72.576 L1330.24 72.576 L1330.24 45.4349 Q1330.24 38.994 1327.73 35.7938 Q1325.22 32.5936 1320.2 32.5936 Q1314.16 32.5936 1310.68 36.4419 Q1307.19 40.2903 1307.19 46.9338 L1307.19 72.576 L1299.7 72.576 L1299.7 27.2059 L1307.19 27.2059 L1307.19 34.2544 Q1309.87 30.163 1313.47 28.1376 Q1317.12 26.1121 1321.86 26.1121 Q1329.68 26.1121 1333.69 30.9732 Q1337.7 35.7938 1337.7 45.1919 Z\" fill=\"#000000\" fill-rule=\"nonzero\" fill-opacity=\"1\" /><path clip-path=\"url(#clip930)\" d=\"M1385.21 28.9478 L1385.21 35.9153 Q1382.05 34.1734 1378.85 33.3227 Q1375.69 32.4315 1372.45 32.4315 Q1365.2 32.4315 1361.19 37.0496 Q1357.18 41.6271 1357.18 49.9314 Q1357.18 58.2358 1361.19 62.8538 Q1365.2 67.4314 1372.45 67.4314 Q1375.69 67.4314 1378.85 66.5807 Q1382.05 65.6895 1385.21 63.9476 L1385.21 70.8341 Q1382.09 72.2924 1378.73 73.0216 Q1375.41 73.7508 1371.64 73.7508 Q1361.39 73.7508 1355.36 67.3098 Q1349.32 60.8689 1349.32 49.9314 Q1349.32 38.832 1355.4 32.472 Q1361.52 26.1121 1372.13 26.1121 Q1375.57 26.1121 1378.85 26.8413 Q1382.14 27.5299 1385.21 28.9478 Z\" fill=\"#000000\" fill-rule=\"nonzero\" fill-opacity=\"1\" /><path clip-path=\"url(#clip930)\" d=\"M1417.05 76.7889 Q1413.89 84.8907 1410.9 87.3618 Q1407.9 89.8329 1402.88 89.8329 L1396.92 89.8329 L1396.92 83.5945 L1401.3 83.5945 Q1404.37 83.5945 1406.08 82.1361 Q1407.78 80.6778 1409.84 75.2496 L1411.18 71.8468 L1392.83 27.2059 L1400.73 27.2059 L1414.91 62.6918 L1429.09 27.2059 L1436.98 27.2059 L1417.05 76.7889 Z\" fill=\"#000000\" fill-rule=\"nonzero\" fill-opacity=\"1\" /><path clip-path=\"url(#clip930)\" d=\"M1480.86 65.7705 L1480.86 89.8329 L1473.36 89.8329 L1473.36 27.2059 L1480.86 27.2059 L1480.86 34.0924 Q1483.21 30.0415 1486.77 28.0971 Q1490.38 26.1121 1495.36 26.1121 Q1503.62 26.1121 1508.77 32.6746 Q1513.95 39.2371 1513.95 49.9314 Q1513.95 60.6258 1508.77 67.1883 Q1503.62 73.7508 1495.36 73.7508 Q1490.38 73.7508 1486.77 71.8063 Q1483.21 69.8214 1480.86 65.7705 M1506.21 49.9314 Q1506.21 41.7081 1502.81 37.0496 Q1499.45 32.3505 1493.54 32.3505 Q1487.62 32.3505 1484.22 37.0496 Q1480.86 41.7081 1480.86 49.9314 Q1480.86 58.1548 1484.22 62.8538 Q1487.62 67.5124 1493.54 67.5124 Q1499.45 67.5124 1502.81 62.8538 Q1506.21 58.1548 1506.21 49.9314 Z\" fill=\"#000000\" fill-rule=\"nonzero\" fill-opacity=\"1\" /><path clip-path=\"url(#clip930)\" d=\"M1552.6 34.1734 Q1551.34 33.4443 1549.84 33.1202 Q1548.38 32.7556 1546.6 32.7556 Q1540.28 32.7556 1536.88 36.8875 Q1533.52 40.9789 1533.52 48.6757 L1533.52 72.576 L1526.02 72.576 L1526.02 27.2059 L1533.52 27.2059 L1533.52 34.2544 Q1535.87 30.1225 1539.63 28.1376 Q1543.4 26.1121 1548.79 26.1121 Q1549.56 26.1121 1550.49 26.2337 Q1551.42 26.3147 1552.56 26.5172 L1552.6 34.1734 Z\" fill=\"#000000\" fill-rule=\"nonzero\" fill-opacity=\"1\" /><path clip-path=\"url(#clip930)\" d=\"M1576.17 32.4315 Q1570.18 32.4315 1566.69 37.1306 Q1563.21 41.7891 1563.21 49.9314 Q1563.21 58.0738 1566.65 62.7728 Q1570.14 67.4314 1576.17 67.4314 Q1582.13 67.4314 1585.61 62.7323 Q1589.1 58.0333 1589.1 49.9314 Q1589.1 41.8701 1585.61 37.1711 Q1582.13 32.4315 1576.17 32.4315 M1576.17 26.1121 Q1585.9 26.1121 1591.45 32.4315 Q1597 38.7509 1597 49.9314 Q1597 61.0714 1591.45 67.4314 Q1585.9 73.7508 1576.17 73.7508 Q1566.41 73.7508 1560.86 67.4314 Q1555.35 61.0714 1555.35 49.9314 Q1555.35 38.7509 1560.86 32.4315 Q1566.41 26.1121 1576.17 26.1121 Z\" fill=\"#000000\" fill-rule=\"nonzero\" fill-opacity=\"1\" /><path clip-path=\"url(#clip930)\" d=\"M1632.32 9.54393 L1632.32 15.7418 L1625.19 15.7418 Q1621.18 15.7418 1619.6 17.3622 Q1618.06 18.9825 1618.06 23.1955 L1618.06 27.2059 L1630.33 27.2059 L1630.33 32.9987 L1618.06 32.9987 L1618.06 72.576 L1610.57 72.576 L1610.57 32.9987 L1603.44 32.9987 L1603.44 27.2059 L1610.57 27.2059 L1610.57 24.0462 Q1610.57 16.471 1614.09 13.0277 Q1617.61 9.54393 1625.27 9.54393 L1632.32 9.54393 Z\" fill=\"#000000\" fill-rule=\"nonzero\" fill-opacity=\"1\" /><path clip-path=\"url(#clip930)\" d=\"M1638.56 27.2059 L1646.01 27.2059 L1646.01 72.576 L1638.56 72.576 L1638.56 27.2059 M1638.56 9.54393 L1646.01 9.54393 L1646.01 18.9825 L1638.56 18.9825 L1638.56 9.54393 Z\" fill=\"#000000\" fill-rule=\"nonzero\" fill-opacity=\"1\" /><path clip-path=\"url(#clip930)\" d=\"M1661.61 9.54393 L1669.06 9.54393 L1669.06 72.576 L1661.61 72.576 L1661.61 9.54393 Z\" fill=\"#000000\" fill-rule=\"nonzero\" fill-opacity=\"1\" /><path clip-path=\"url(#clip930)\" d=\"M1723.46 48.0275 L1723.46 51.6733 L1689.19 51.6733 Q1689.68 59.3701 1693.81 63.421 Q1697.98 67.4314 1705.4 67.4314 Q1709.69 67.4314 1713.7 66.3781 Q1717.75 65.3249 1721.72 63.2184 L1721.72 70.267 Q1717.71 71.9684 1713.5 72.8596 Q1709.29 73.7508 1704.95 73.7508 Q1694.1 73.7508 1687.74 67.4314 Q1681.42 61.1119 1681.42 50.3365 Q1681.42 39.1965 1687.41 32.6746 Q1693.45 26.1121 1703.66 26.1121 Q1712.81 26.1121 1718.12 32.0264 Q1723.46 37.9003 1723.46 48.0275 M1716.01 45.84 Q1715.93 39.7232 1712.57 36.0774 Q1709.25 32.4315 1703.74 32.4315 Q1697.5 32.4315 1693.73 35.9558 Q1690 39.4801 1689.44 45.8805 L1716.01 45.84 Z\" fill=\"#000000\" fill-rule=\"nonzero\" fill-opacity=\"1\" /><polyline clip-path=\"url(#clip932)\" style=\"stroke:#009af9; stroke-linecap:round; stroke-linejoin:round; stroke-width:4; stroke-opacity:1; fill:none\" points=\"279.916,1386.4 325.654,1295.01 371.392,1203.62 417.13,1112.23 462.868,1022.47 508.605,932.713 554.343,842.956 600.081,753.199 645.819,663.441 691.557,573.684 737.295,483.927 783.033,464.887 828.77,445.848 874.508,426.808 920.246,407.769 965.984,388.73 1011.72,369.69 1057.46,350.651 1103.2,331.611 1148.94,312.572 1194.67,293.532 1240.41,280.205 1286.15,266.877 1331.89,253.55 1377.62,240.222 1423.36,226.894 1469.1,213.567 1514.84,200.239 1560.58,186.912 1606.31,173.584 1652.05,160.256 1697.79,177.392 1743.53,194.527 1789.27,211.663 1835,228.798 1880.74,245.934 1926.48,263.069 1972.22,280.205 2017.95,297.34 2063.69,314.476 2109.43,342.171 2155.17,362.747 2200.91,378.202 2246.64,415.802 2292.38,436.562 \"/>\n",
       "</svg>\n"
      ]
     },
     "metadata": {},
     "output_type": "display_data"
    }
   ],
   "source": [
    "using Plots, Optim, LinearAlgebra, Parameters, DelimitedFiles\n",
    "\n",
    "# import functions from OLG_functions.jl\n",
    "include(\"OLG_functions.jl\")\n",
    "\n",
    "# read in age - efficiency profile from ef.txt\n",
    "ef = readdlm(\"ef.txt\", '\\t')[:,1]\n",
    "\n",
    "# plot ef across its index \n",
    "plot(ef, label=\"\", title=\"Age-Efficiency profile\", xlabel=\"Age\", ylabel=\"Efficiency\")"
   ]
  },
  {
   "cell_type": "code",
   "execution_count": 2,
   "metadata": {},
   "outputs": [],
   "source": [
    "prim = Primitives()\n",
    "res = Initialize(prim)\n",
    "V_induction(prim, res)"
   ]
  },
  {
   "cell_type": "code",
   "execution_count": 3,
   "metadata": {},
   "outputs": [
    {
     "data": {
      "image/png": "[encoded data removed]",
      "image/svg+xml": [
       "<?xml version=\"1.0\" encoding=\"utf-8\"?>\n",
       "<svg xmlns=\"http://www.w3.org/2000/svg\" xmlns:xlink=\"http://www.w3.org/1999/xlink\" width=\"600\" height=\"400\" viewBox=\"0 0 2400 1600\">\n",
       "<defs>\n",
       "  <clipPath id=\"clip970\">\n",
       "    <rect x=\"0\" y=\"0\" width=\"2400\" height=\"1600\"/>\n",
       "  </clipPath>\n",
       "</defs>\n",
       "<path clip-path=\"url(#clip970)\" d=\"M0 1600 L2400 1600 L2400 8.88178e-14 L0 8.88178e-14  Z\" fill=\"#ffffff\" fill-rule=\"evenodd\" fill-opacity=\"1\"/>\n",
       "<defs>\n",
       "  <clipPath id=\"clip971\">\n",
       "    <rect x=\"480\" y=\"0\" width=\"1681\" height=\"1600\"/>\n",
       "  </clipPath>\n",
       "</defs>\n",
       "<path clip-path=\"url(#clip970)\" d=\"M178.867 1423.18 L2352.76 1423.18 L2352.76 123.472 L178.867 123.472  Z\" fill=\"#ffffff\" fill-rule=\"evenodd\" fill-opacity=\"1\"/>\n",
       "<defs>\n",
       "  <clipPath id=\"clip972\">\n",
       "    <rect x=\"178\" y=\"123\" width=\"2175\" height=\"1301\"/>\n",
       "  </clipPath>\n",
       "</defs>\n",
       "<polyline clip-path=\"url(#clip972)\" style=\"stroke:#000000; stroke-linecap:round; stroke-linejoin:round; stroke-width:2; stroke-opacity:0.1; fill:none\" points=\"240.323,1423.18 240.323,123.472 \"/>\n",
       "<polyline clip-path=\"url(#clip972)\" style=\"stroke:#000000; stroke-linecap:round; stroke-linejoin:round; stroke-width:2; stroke-opacity:0.1; fill:none\" points=\"923.959,1423.18 923.959,123.472 \"/>\n",
       "<polyline clip-path=\"url(#clip972)\" style=\"stroke:#000000; stroke-linecap:round; stroke-linejoin:round; stroke-width:2; stroke-opacity:0.1; fill:none\" points=\"1607.59,1423.18 1607.59,123.472 \"/>\n",
       "<polyline clip-path=\"url(#clip972)\" style=\"stroke:#000000; stroke-linecap:round; stroke-linejoin:round; stroke-width:2; stroke-opacity:0.1; fill:none\" points=\"2291.23,1423.18 2291.23,123.472 \"/>\n",
       "<polyline clip-path=\"url(#clip970)\" style=\"stroke:#000000; stroke-linecap:round; stroke-linejoin:round; stroke-width:4; stroke-opacity:1; fill:none\" points=\"178.867,1423.18 2352.76,1423.18 \"/>\n",
       "<polyline clip-path=\"url(#clip970)\" style=\"stroke:#000000; stroke-linecap:round; stroke-linejoin:round; stroke-width:4; stroke-opacity:1; fill:none\" points=\"240.323,1423.18 240.323,1404.28 \"/>\n",
       "<polyline clip-path=\"url(#clip970)\" style=\"stroke:#000000; stroke-linecap:round; stroke-linejoin:round; stroke-width:4; stroke-opacity:1; fill:none\" points=\"923.959,1423.18 923.959,1404.28 \"/>\n",
       "<polyline clip-path=\"url(#clip970)\" style=\"stroke:#000000; stroke-linecap:round; stroke-linejoin:round; stroke-width:4; stroke-opacity:1; fill:none\" points=\"1607.59,1423.18 1607.59,1404.28 \"/>\n",
       "<polyline clip-path=\"url(#clip970)\" style=\"stroke:#000000; stroke-linecap:round; stroke-linejoin:round; stroke-width:4; stroke-opacity:1; fill:none\" points=\"2291.23,1423.18 2291.23,1404.28 \"/>\n",
       "<path clip-path=\"url(#clip970)\" d=\"M240.323 1454.1 Q236.712 1454.1 234.884 1457.66 Q233.078 1461.2 233.078 1468.33 Q233.078 1475.44 234.884 1479.01 Q236.712 1482.55 240.323 1482.55 Q243.958 1482.55 245.763 1479.01 Q247.592 1475.44 247.592 1468.33 Q247.592 1461.2 245.763 1457.66 Q243.958 1454.1 240.323 1454.1 M240.323 1450.39 Q246.134 1450.39 249.189 1455 Q252.268 1459.58 252.268 1468.33 Q252.268 1477.06 249.189 1481.67 Q246.134 1486.25 240.323 1486.25 Q234.513 1486.25 231.435 1481.67 Q228.379 1477.06 228.379 1468.33 Q228.379 1459.58 231.435 1455 Q234.513 1450.39 240.323 1450.39 Z\" fill=\"#000000\" fill-rule=\"nonzero\" fill-opacity=\"1\" /><path clip-path=\"url(#clip970)\" d=\"M898.647 1481.64 L906.286 1481.64 L906.286 1455.28 L897.976 1456.95 L897.976 1452.69 L906.239 1451.02 L910.915 1451.02 L910.915 1481.64 L918.554 1481.64 L918.554 1485.58 L898.647 1485.58 L898.647 1481.64 Z\" fill=\"#000000\" fill-rule=\"nonzero\" fill-opacity=\"1\" /><path clip-path=\"url(#clip970)\" d=\"M937.998 1454.1 Q934.387 1454.1 932.559 1457.66 Q930.753 1461.2 930.753 1468.33 Q930.753 1475.44 932.559 1479.01 Q934.387 1482.55 937.998 1482.55 Q941.633 1482.55 943.438 1479.01 Q945.267 1475.44 945.267 1468.33 Q945.267 1461.2 943.438 1457.66 Q941.633 1454.1 937.998 1454.1 M937.998 1450.39 Q943.809 1450.39 946.864 1455 Q949.943 1459.58 949.943 1468.33 Q949.943 1477.06 946.864 1481.67 Q943.809 1486.25 937.998 1486.25 Q932.188 1486.25 929.11 1481.67 Q926.054 1477.06 926.054 1468.33 Q926.054 1459.58 929.11 1455 Q932.188 1450.39 937.998 1450.39 Z\" fill=\"#000000\" fill-rule=\"nonzero\" fill-opacity=\"1\" /><path clip-path=\"url(#clip970)\" d=\"M1586.37 1481.64 L1602.69 1481.64 L1602.69 1485.58 L1580.74 1485.58 L1580.74 1481.64 Q1583.41 1478.89 1587.99 1474.26 Q1592.6 1469.61 1593.78 1468.27 Q1596.02 1465.74 1596.9 1464.01 Q1597.8 1462.25 1597.8 1460.56 Q1597.8 1457.8 1595.86 1456.07 Q1593.94 1454.33 1590.84 1454.33 Q1588.64 1454.33 1586.18 1455.09 Q1583.75 1455.86 1580.97 1457.41 L1580.97 1452.69 Q1583.8 1451.55 1586.25 1450.97 Q1588.71 1450.39 1590.74 1450.39 Q1596.11 1450.39 1599.31 1453.08 Q1602.5 1455.77 1602.5 1460.26 Q1602.5 1462.39 1601.69 1464.31 Q1600.91 1466.2 1598.8 1468.8 Q1598.22 1469.47 1595.12 1472.69 Q1592.02 1475.88 1586.37 1481.64 Z\" fill=\"#000000\" fill-rule=\"nonzero\" fill-opacity=\"1\" /><path clip-path=\"url(#clip970)\" d=\"M1622.5 1454.1 Q1618.89 1454.1 1617.06 1457.66 Q1615.26 1461.2 1615.26 1468.33 Q1615.26 1475.44 1617.06 1479.01 Q1618.89 1482.55 1622.5 1482.55 Q1626.14 1482.55 1627.94 1479.01 Q1629.77 1475.44 1629.77 1468.33 Q1629.77 1461.2 1627.94 1457.66 Q1626.14 1454.1 1622.5 1454.1 M1622.5 1450.39 Q1628.31 1450.39 1631.37 1455 Q1634.45 1459.58 1634.45 1468.33 Q1634.45 1477.06 1631.37 1481.67 Q1628.31 1486.25 1622.5 1486.25 Q1616.69 1486.25 1613.61 1481.67 Q1610.56 1477.06 1610.56 1468.33 Q1610.56 1459.58 1613.61 1455 Q1616.69 1450.39 1622.5 1450.39 Z\" fill=\"#000000\" fill-rule=\"nonzero\" fill-opacity=\"1\" /><path clip-path=\"url(#clip970)\" d=\"M2280.07 1466.95 Q2283.43 1467.66 2285.3 1469.93 Q2287.2 1472.2 2287.2 1475.53 Q2287.2 1480.65 2283.68 1483.45 Q2280.17 1486.25 2273.68 1486.25 Q2271.51 1486.25 2269.19 1485.81 Q2266.9 1485.39 2264.45 1484.54 L2264.45 1480.02 Q2266.39 1481.16 2268.71 1481.74 Q2271.02 1482.32 2273.55 1482.32 Q2277.94 1482.32 2280.24 1480.58 Q2282.55 1478.84 2282.55 1475.53 Q2282.55 1472.48 2280.4 1470.77 Q2278.27 1469.03 2274.45 1469.03 L2270.42 1469.03 L2270.42 1465.19 L2274.63 1465.19 Q2278.08 1465.19 2279.91 1463.82 Q2281.74 1462.43 2281.74 1459.84 Q2281.74 1457.18 2279.84 1455.77 Q2277.97 1454.33 2274.45 1454.33 Q2272.53 1454.33 2270.33 1454.75 Q2268.13 1455.16 2265.49 1456.04 L2265.49 1451.88 Q2268.15 1451.14 2270.47 1450.77 Q2272.8 1450.39 2274.87 1450.39 Q2280.19 1450.39 2283.29 1452.83 Q2286.39 1455.23 2286.39 1459.35 Q2286.39 1462.22 2284.75 1464.21 Q2283.11 1466.18 2280.07 1466.95 Z\" fill=\"#000000\" fill-rule=\"nonzero\" fill-opacity=\"1\" /><path clip-path=\"url(#clip970)\" d=\"M2306.07 1454.1 Q2302.46 1454.1 2300.63 1457.66 Q2298.82 1461.2 2298.82 1468.33 Q2298.82 1475.44 2300.63 1479.01 Q2302.46 1482.55 2306.07 1482.55 Q2309.7 1482.55 2311.51 1479.01 Q2313.34 1475.44 2313.34 1468.33 Q2313.34 1461.2 2311.51 1457.66 Q2309.7 1454.1 2306.07 1454.1 M2306.07 1450.39 Q2311.88 1450.39 2314.93 1455 Q2318.01 1459.58 2318.01 1468.33 Q2318.01 1477.06 2314.93 1481.67 Q2311.88 1486.25 2306.07 1486.25 Q2300.26 1486.25 2297.18 1481.67 Q2294.12 1477.06 2294.12 1468.33 Q2294.12 1459.58 2297.18 1455 Q2300.26 1450.39 2306.07 1450.39 Z\" fill=\"#000000\" fill-rule=\"nonzero\" fill-opacity=\"1\" /><path clip-path=\"url(#clip970)\" d=\"M1183.36 1526.86 L1174.64 1550.51 L1192.11 1550.51 L1183.36 1526.86 M1179.73 1520.52 L1187.02 1520.52 L1205.13 1568.04 L1198.45 1568.04 L1194.12 1555.85 L1172.7 1555.85 L1168.37 1568.04 L1161.59 1568.04 L1179.73 1520.52 Z\" fill=\"#000000\" fill-rule=\"nonzero\" fill-opacity=\"1\" /><path clip-path=\"url(#clip970)\" d=\"M1234.54 1533.45 L1234.54 1538.98 Q1232.06 1537.71 1229.38 1537.07 Q1226.71 1536.44 1223.85 1536.44 Q1219.48 1536.44 1217.29 1537.77 Q1215.12 1539.11 1215.12 1541.79 Q1215.12 1543.82 1216.68 1545 Q1218.24 1546.15 1222.95 1547.2 L1224.96 1547.64 Q1231.2 1548.98 1233.81 1551.43 Q1236.45 1553.85 1236.45 1558.21 Q1236.45 1563.17 1232.5 1566.07 Q1228.59 1568.97 1221.71 1568.97 Q1218.85 1568.97 1215.73 1568.39 Q1212.64 1567.85 1209.2 1566.74 L1209.2 1560.69 Q1212.45 1562.38 1215.6 1563.24 Q1218.75 1564.07 1221.84 1564.07 Q1225.98 1564.07 1228.21 1562.66 Q1230.43 1561.23 1230.43 1558.65 Q1230.43 1556.27 1228.81 1554.99 Q1227.22 1553.72 1221.78 1552.54 L1219.74 1552.07 Q1214.3 1550.92 1211.88 1548.56 Q1209.46 1546.18 1209.46 1542.04 Q1209.46 1537.01 1213.02 1534.27 Q1216.59 1531.54 1223.15 1531.54 Q1226.39 1531.54 1229.26 1532.01 Q1232.12 1532.49 1234.54 1533.45 Z\" fill=\"#000000\" fill-rule=\"nonzero\" fill-opacity=\"1\" /><path clip-path=\"url(#clip970)\" d=\"M1268.5 1533.45 L1268.5 1538.98 Q1266.02 1537.71 1263.34 1537.07 Q1260.67 1536.44 1257.81 1536.44 Q1253.45 1536.44 1251.25 1537.77 Q1249.09 1539.11 1249.09 1541.79 Q1249.09 1543.82 1250.64 1545 Q1252.2 1546.15 1256.92 1547.2 L1258.92 1547.64 Q1265.16 1548.98 1267.77 1551.43 Q1270.41 1553.85 1270.41 1558.21 Q1270.41 1563.17 1266.46 1566.07 Q1262.55 1568.97 1255.67 1568.97 Q1252.81 1568.97 1249.69 1568.39 Q1246.6 1567.85 1243.17 1566.74 L1243.17 1560.69 Q1246.41 1562.38 1249.56 1563.24 Q1252.71 1564.07 1255.8 1564.07 Q1259.94 1564.07 1262.17 1562.66 Q1264.39 1561.23 1264.39 1558.65 Q1264.39 1556.27 1262.77 1554.99 Q1261.18 1553.72 1255.74 1552.54 L1253.7 1552.07 Q1248.26 1550.92 1245.84 1548.56 Q1243.42 1546.18 1243.42 1542.04 Q1243.42 1537.01 1246.98 1534.27 Q1250.55 1531.54 1257.11 1531.54 Q1260.35 1531.54 1263.22 1532.01 Q1266.08 1532.49 1268.5 1533.45 Z\" fill=\"#000000\" fill-rule=\"nonzero\" fill-opacity=\"1\" /><path clip-path=\"url(#clip970)\" d=\"M1310.23 1548.76 L1310.23 1551.62 L1283.3 1551.62 Q1283.68 1557.67 1286.93 1560.85 Q1290.21 1564 1296.03 1564 Q1299.41 1564 1302.56 1563.17 Q1305.74 1562.35 1308.86 1560.69 L1308.86 1566.23 Q1305.71 1567.57 1302.4 1568.27 Q1299.09 1568.97 1295.68 1568.97 Q1287.15 1568.97 1282.16 1564 Q1277.19 1559.04 1277.19 1550.57 Q1277.19 1541.82 1281.9 1536.69 Q1286.64 1531.54 1294.66 1531.54 Q1301.86 1531.54 1306.03 1536.18 Q1310.23 1540.8 1310.23 1548.76 M1304.37 1547.04 Q1304.31 1542.23 1301.67 1539.37 Q1299.06 1536.5 1294.73 1536.5 Q1289.83 1536.5 1286.87 1539.27 Q1283.94 1542.04 1283.49 1547.07 L1304.37 1547.04 Z\" fill=\"#000000\" fill-rule=\"nonzero\" fill-opacity=\"1\" /><path clip-path=\"url(#clip970)\" d=\"M1325.63 1522.27 L1325.63 1532.4 L1337.7 1532.4 L1337.7 1536.95 L1325.63 1536.95 L1325.63 1556.3 Q1325.63 1560.66 1326.81 1561.9 Q1328.02 1563.14 1331.68 1563.14 L1337.7 1563.14 L1337.7 1568.04 L1331.68 1568.04 Q1324.9 1568.04 1322.32 1565.53 Q1319.74 1562.98 1319.74 1556.3 L1319.74 1536.95 L1315.45 1536.95 L1315.45 1532.4 L1319.74 1532.4 L1319.74 1522.27 L1325.63 1522.27 Z\" fill=\"#000000\" fill-rule=\"nonzero\" fill-opacity=\"1\" /><path clip-path=\"url(#clip970)\" d=\"M1368.12 1533.45 L1368.12 1538.98 Q1365.64 1537.71 1362.97 1537.07 Q1360.29 1536.44 1357.43 1536.44 Q1353.07 1536.44 1350.87 1537.77 Q1348.71 1539.11 1348.71 1541.79 Q1348.71 1543.82 1350.27 1545 Q1351.83 1546.15 1356.54 1547.2 L1358.54 1547.64 Q1364.78 1548.98 1367.39 1551.43 Q1370.03 1553.85 1370.03 1558.21 Q1370.03 1563.17 1366.09 1566.07 Q1362.17 1568.97 1355.3 1568.97 Q1352.43 1568.97 1349.31 1568.39 Q1346.23 1567.85 1342.79 1566.74 L1342.79 1560.69 Q1346.04 1562.38 1349.19 1563.24 Q1352.34 1564.07 1355.42 1564.07 Q1359.56 1564.07 1361.79 1562.66 Q1364.02 1561.23 1364.02 1558.65 Q1364.02 1556.27 1362.39 1554.99 Q1360.8 1553.72 1355.36 1552.54 L1353.32 1552.07 Q1347.88 1550.92 1345.46 1548.56 Q1343.04 1546.18 1343.04 1542.04 Q1343.04 1537.01 1346.61 1534.27 Q1350.17 1531.54 1356.73 1531.54 Q1359.98 1531.54 1362.84 1532.01 Q1365.71 1532.49 1368.12 1533.45 Z\" fill=\"#000000\" fill-rule=\"nonzero\" fill-opacity=\"1\" /><polyline clip-path=\"url(#clip972)\" style=\"stroke:#000000; stroke-linecap:round; stroke-linejoin:round; stroke-width:2; stroke-opacity:0.1; fill:none\" points=\"178.867,1285.09 2352.76,1285.09 \"/>\n",
       "<polyline clip-path=\"url(#clip972)\" style=\"stroke:#000000; stroke-linecap:round; stroke-linejoin:round; stroke-width:2; stroke-opacity:0.1; fill:none\" points=\"178.867,941.025 2352.76,941.025 \"/>\n",
       "<polyline clip-path=\"url(#clip972)\" style=\"stroke:#000000; stroke-linecap:round; stroke-linejoin:round; stroke-width:2; stroke-opacity:0.1; fill:none\" points=\"178.867,596.96 2352.76,596.96 \"/>\n",
       "<polyline clip-path=\"url(#clip972)\" style=\"stroke:#000000; stroke-linecap:round; stroke-linejoin:round; stroke-width:2; stroke-opacity:0.1; fill:none\" points=\"178.867,252.895 2352.76,252.895 \"/>\n",
       "<polyline clip-path=\"url(#clip970)\" style=\"stroke:#000000; stroke-linecap:round; stroke-linejoin:round; stroke-width:4; stroke-opacity:1; fill:none\" points=\"178.867,1423.18 178.867,123.472 \"/>\n",
       "<polyline clip-path=\"url(#clip970)\" style=\"stroke:#000000; stroke-linecap:round; stroke-linejoin:round; stroke-width:4; stroke-opacity:1; fill:none\" points=\"178.867,1285.09 197.764,1285.09 \"/>\n",
       "<polyline clip-path=\"url(#clip970)\" style=\"stroke:#000000; stroke-linecap:round; stroke-linejoin:round; stroke-width:4; stroke-opacity:1; fill:none\" points=\"178.867,941.025 197.764,941.025 \"/>\n",
       "<polyline clip-path=\"url(#clip970)\" style=\"stroke:#000000; stroke-linecap:round; stroke-linejoin:round; stroke-width:4; stroke-opacity:1; fill:none\" points=\"178.867,596.96 197.764,596.96 \"/>\n",
       "<polyline clip-path=\"url(#clip970)\" style=\"stroke:#000000; stroke-linecap:round; stroke-linejoin:round; stroke-width:4; stroke-opacity:1; fill:none\" points=\"178.867,252.895 197.764,252.895 \"/>\n",
       "<path clip-path=\"url(#clip970)\" d=\"M51.9875 1285.54 L81.6633 1285.54 L81.6633 1289.48 L51.9875 1289.48 L51.9875 1285.54 Z\" fill=\"#000000\" fill-rule=\"nonzero\" fill-opacity=\"1\" /><path clip-path=\"url(#clip970)\" d=\"M95.7836 1298.44 L112.103 1298.44 L112.103 1302.37 L90.1586 1302.37 L90.1586 1298.44 Q92.8206 1295.68 97.4039 1291.05 Q102.01 1286.4 103.191 1285.06 Q105.436 1282.53 106.316 1280.8 Q107.219 1279.04 107.219 1277.35 Q107.219 1274.59 105.274 1272.86 Q103.353 1271.12 100.251 1271.12 Q98.0521 1271.12 95.5984 1271.88 Q93.1678 1272.65 90.3901 1274.2 L90.3901 1269.48 Q93.2141 1268.34 95.6678 1267.76 Q98.1215 1267.19 100.159 1267.19 Q105.529 1267.19 108.723 1269.87 Q111.918 1272.56 111.918 1277.05 Q111.918 1279.18 111.108 1281.1 Q110.321 1283 108.214 1285.59 Q107.635 1286.26 104.534 1289.48 Q101.432 1292.67 95.7836 1298.44 Z\" fill=\"#000000\" fill-rule=\"nonzero\" fill-opacity=\"1\" /><path clip-path=\"url(#clip970)\" d=\"M121.964 1267.81 L140.32 1267.81 L140.32 1271.75 L126.246 1271.75 L126.246 1280.22 Q127.265 1279.87 128.283 1279.71 Q129.302 1279.52 130.32 1279.52 Q136.107 1279.52 139.487 1282.69 Q142.867 1285.87 142.867 1291.28 Q142.867 1296.86 139.394 1299.96 Q135.922 1303.04 129.603 1303.04 Q127.427 1303.04 125.158 1302.67 Q122.913 1302.3 120.506 1301.56 L120.506 1296.86 Q122.589 1298 124.811 1298.55 Q127.033 1299.11 129.51 1299.11 Q133.515 1299.11 135.853 1297 Q138.191 1294.89 138.191 1291.28 Q138.191 1287.67 135.853 1285.57 Q133.515 1283.46 129.51 1283.46 Q127.635 1283.46 125.76 1283.88 Q123.908 1284.29 121.964 1285.17 L121.964 1267.81 Z\" fill=\"#000000\" fill-rule=\"nonzero\" fill-opacity=\"1\" /><path clip-path=\"url(#clip970)\" d=\"M50.9921 941.477 L80.6679 941.477 L80.6679 945.412 L50.9921 945.412 L50.9921 941.477 Z\" fill=\"#000000\" fill-rule=\"nonzero\" fill-opacity=\"1\" /><path clip-path=\"url(#clip970)\" d=\"M94.7882 954.37 L111.108 954.37 L111.108 958.305 L89.1632 958.305 L89.1632 954.37 Q91.8252 951.616 96.4085 946.986 Q101.015 942.333 102.196 940.991 Q104.441 938.467 105.321 936.731 Q106.223 934.972 106.223 933.282 Q106.223 930.528 104.279 928.792 Q102.358 927.056 99.2558 927.056 Q97.0567 927.056 94.603 927.819 Q92.1725 928.583 89.3947 930.134 L89.3947 925.412 Q92.2188 924.278 94.6724 923.699 Q97.1261 923.12 99.1632 923.12 Q104.534 923.12 107.728 925.806 Q110.922 928.491 110.922 932.981 Q110.922 935.111 110.112 937.032 Q109.325 938.93 107.219 941.523 Q106.64 942.194 103.538 945.412 Q100.436 948.606 94.7882 954.37 Z\" fill=\"#000000\" fill-rule=\"nonzero\" fill-opacity=\"1\" /><path clip-path=\"url(#clip970)\" d=\"M130.922 926.824 Q127.311 926.824 125.482 930.389 Q123.677 933.93 123.677 941.06 Q123.677 948.167 125.482 951.731 Q127.311 955.273 130.922 955.273 Q134.556 955.273 136.362 951.731 Q138.191 948.167 138.191 941.06 Q138.191 933.93 136.362 930.389 Q134.556 926.824 130.922 926.824 M130.922 923.12 Q136.732 923.12 139.788 927.727 Q142.867 932.31 142.867 941.06 Q142.867 949.787 139.788 954.393 Q136.732 958.977 130.922 958.977 Q125.112 958.977 122.033 954.393 Q118.978 949.787 118.978 941.06 Q118.978 932.31 122.033 927.727 Q125.112 923.12 130.922 923.12 Z\" fill=\"#000000\" fill-rule=\"nonzero\" fill-opacity=\"1\" /><path clip-path=\"url(#clip970)\" d=\"M51.9875 597.411 L81.6633 597.411 L81.6633 601.347 L51.9875 601.347 L51.9875 597.411 Z\" fill=\"#000000\" fill-rule=\"nonzero\" fill-opacity=\"1\" /><path clip-path=\"url(#clip970)\" d=\"M92.566 610.305 L100.205 610.305 L100.205 583.939 L91.8947 585.606 L91.8947 581.347 L100.159 579.68 L104.834 579.68 L104.834 610.305 L112.473 610.305 L112.473 614.24 L92.566 614.24 L92.566 610.305 Z\" fill=\"#000000\" fill-rule=\"nonzero\" fill-opacity=\"1\" /><path clip-path=\"url(#clip970)\" d=\"M121.964 579.68 L140.32 579.68 L140.32 583.615 L126.246 583.615 L126.246 592.087 Q127.265 591.74 128.283 591.578 Q129.302 591.393 130.32 591.393 Q136.107 591.393 139.487 594.564 Q142.867 597.735 142.867 603.152 Q142.867 608.731 139.394 611.833 Q135.922 614.911 129.603 614.911 Q127.427 614.911 125.158 614.541 Q122.913 614.171 120.506 613.43 L120.506 608.731 Q122.589 609.865 124.811 610.421 Q127.033 610.976 129.51 610.976 Q133.515 610.976 135.853 608.87 Q138.191 606.763 138.191 603.152 Q138.191 599.541 135.853 597.435 Q133.515 595.328 129.51 595.328 Q127.635 595.328 125.76 595.745 Q123.908 596.161 121.964 597.041 L121.964 579.68 Z\" fill=\"#000000\" fill-rule=\"nonzero\" fill-opacity=\"1\" /><path clip-path=\"url(#clip970)\" d=\"M50.9921 253.346 L80.6679 253.346 L80.6679 257.281 L50.9921 257.281 L50.9921 253.346 Z\" fill=\"#000000\" fill-rule=\"nonzero\" fill-opacity=\"1\" /><path clip-path=\"url(#clip970)\" d=\"M91.5706 266.239 L99.2095 266.239 L99.2095 239.874 L90.8993 241.541 L90.8993 237.281 L99.1632 235.615 L103.839 235.615 L103.839 266.239 L111.478 266.239 L111.478 270.175 L91.5706 270.175 L91.5706 266.239 Z\" fill=\"#000000\" fill-rule=\"nonzero\" fill-opacity=\"1\" /><path clip-path=\"url(#clip970)\" d=\"M130.922 238.693 Q127.311 238.693 125.482 242.258 Q123.677 245.8 123.677 252.929 Q123.677 260.036 125.482 263.601 Q127.311 267.142 130.922 267.142 Q134.556 267.142 136.362 263.601 Q138.191 260.036 138.191 252.929 Q138.191 245.8 136.362 242.258 Q134.556 238.693 130.922 238.693 M130.922 234.99 Q136.732 234.99 139.788 239.596 Q142.867 244.179 142.867 252.929 Q142.867 261.656 139.788 266.263 Q136.732 270.846 130.922 270.846 Q125.112 270.846 122.033 266.263 Q118.978 261.656 118.978 252.929 Q118.978 244.179 122.033 239.596 Q125.112 234.99 130.922 234.99 Z\" fill=\"#000000\" fill-rule=\"nonzero\" fill-opacity=\"1\" /><path clip-path=\"url(#clip970)\" d=\"M768.786 72.576 L745.695 12.096 L754.243 12.096 L773.404 63.0159 L792.605 12.096 L801.112 12.096 L778.062 72.576 L768.786 72.576 Z\" fill=\"#000000\" fill-rule=\"nonzero\" fill-opacity=\"1\" /><path clip-path=\"url(#clip970)\" d=\"M823.797 49.7694 Q814.763 49.7694 811.28 51.8354 Q807.796 53.9013 807.796 58.8839 Q807.796 62.8538 810.388 65.2034 Q813.021 67.5124 817.518 67.5124 Q823.716 67.5124 827.443 63.1374 Q831.21 58.7219 831.21 51.4303 L831.21 49.7694 L823.797 49.7694 M838.664 46.6907 L838.664 72.576 L831.21 72.576 L831.21 65.6895 Q828.658 69.8214 824.85 71.8063 Q821.042 73.7508 815.533 73.7508 Q808.565 73.7508 804.434 69.8619 Q800.342 65.9325 800.342 59.3701 Q800.342 51.7138 805.446 47.825 Q810.591 43.9361 820.759 43.9361 L831.21 43.9361 L831.21 43.2069 Q831.21 38.0623 827.807 35.2672 Q824.445 32.4315 818.328 32.4315 Q814.439 32.4315 810.753 33.3632 Q807.067 34.295 803.664 36.1584 L803.664 29.2718 Q807.755 27.692 811.604 26.9223 Q815.452 26.1121 819.098 26.1121 Q828.942 26.1121 833.803 31.2163 Q838.664 36.3204 838.664 46.6907 Z\" fill=\"#000000\" fill-rule=\"nonzero\" fill-opacity=\"1\" /><path clip-path=\"url(#clip970)\" d=\"M854.017 9.54393 L861.47 9.54393 L861.47 72.576 L854.017 72.576 L854.017 9.54393 Z\" fill=\"#000000\" fill-rule=\"nonzero\" fill-opacity=\"1\" /><path clip-path=\"url(#clip970)\" d=\"M876.297 54.671 L876.297 27.2059 L883.75 27.2059 L883.75 54.3874 Q883.75 60.8284 886.262 64.0691 Q888.773 67.2693 893.796 67.2693 Q899.832 67.2693 903.316 63.421 Q906.84 59.5726 906.84 52.9291 L906.84 27.2059 L914.294 27.2059 L914.294 72.576 L906.84 72.576 L906.84 65.6084 Q904.126 69.7404 900.521 71.7658 Q896.956 73.7508 892.217 73.7508 Q884.398 73.7508 880.347 68.8897 Q876.297 64.0286 876.297 54.671 M895.052 26.1121 L895.052 26.1121 Z\" fill=\"#000000\" fill-rule=\"nonzero\" fill-opacity=\"1\" /><path clip-path=\"url(#clip970)\" d=\"M968.455 48.0275 L968.455 51.6733 L934.184 51.6733 Q934.67 59.3701 938.802 63.421 Q942.974 67.4314 950.388 67.4314 Q954.682 67.4314 958.692 66.3781 Q962.743 65.3249 966.713 63.2184 L966.713 70.267 Q962.702 71.9684 958.489 72.8596 Q954.276 73.7508 949.942 73.7508 Q939.086 73.7508 932.726 67.4314 Q926.406 61.1119 926.406 50.3365 Q926.406 39.1965 932.402 32.6746 Q938.437 26.1121 948.646 26.1121 Q957.801 26.1121 963.107 32.0264 Q968.455 37.9003 968.455 48.0275 M961.001 45.84 Q960.92 39.7232 957.558 36.0774 Q954.236 32.4315 948.727 32.4315 Q942.488 32.4315 938.721 35.9558 Q934.994 39.4801 934.427 45.8805 L961.001 45.84 Z\" fill=\"#000000\" fill-rule=\"nonzero\" fill-opacity=\"1\" /><path clip-path=\"url(#clip970)\" d=\"M1030.03 9.54393 L1030.03 15.7418 L1022.9 15.7418 Q1018.89 15.7418 1017.31 17.3622 Q1015.77 18.9825 1015.77 23.1955 L1015.77 27.2059 L1028.04 27.2059 L1028.04 32.9987 L1015.77 32.9987 L1015.77 72.576 L1008.28 72.576 L1008.28 32.9987 L1001.15 32.9987 L1001.15 27.2059 L1008.28 27.2059 L1008.28 24.0462 Q1008.28 16.471 1011.8 13.0277 Q1015.32 9.54393 1022.98 9.54393 L1030.03 9.54393 Z\" fill=\"#000000\" fill-rule=\"nonzero\" fill-opacity=\"1\" /><path clip-path=\"url(#clip970)\" d=\"M1035.5 54.671 L1035.5 27.2059 L1042.95 27.2059 L1042.95 54.3874 Q1042.95 60.8284 1045.46 64.0691 Q1047.97 67.2693 1053 67.2693 Q1059.03 67.2693 1062.52 63.421 Q1066.04 59.5726 1066.04 52.9291 L1066.04 27.2059 L1073.49 27.2059 L1073.49 72.576 L1066.04 72.576 L1066.04 65.6084 Q1063.33 69.7404 1059.72 71.7658 Q1056.16 73.7508 1051.42 73.7508 Q1043.6 73.7508 1039.55 68.8897 Q1035.5 64.0286 1035.5 54.671 M1054.25 26.1121 L1054.25 26.1121 Z\" fill=\"#000000\" fill-rule=\"nonzero\" fill-opacity=\"1\" /><path clip-path=\"url(#clip970)\" d=\"M1126.56 45.1919 L1126.56 72.576 L1119.11 72.576 L1119.11 45.4349 Q1119.11 38.994 1116.6 35.7938 Q1114.08 32.5936 1109.06 32.5936 Q1103.03 32.5936 1099.54 36.4419 Q1096.06 40.2903 1096.06 46.9338 L1096.06 72.576 L1088.56 72.576 L1088.56 27.2059 L1096.06 27.2059 L1096.06 34.2544 Q1098.73 30.163 1102.34 28.1376 Q1105.98 26.1121 1110.72 26.1121 Q1118.54 26.1121 1122.55 30.9732 Q1126.56 35.7938 1126.56 45.1919 Z\" fill=\"#000000\" fill-rule=\"nonzero\" fill-opacity=\"1\" /><path clip-path=\"url(#clip970)\" d=\"M1174.08 28.9478 L1174.08 35.9153 Q1170.92 34.1734 1167.72 33.3227 Q1164.56 32.4315 1161.32 32.4315 Q1154.07 32.4315 1150.06 37.0496 Q1146.05 41.6271 1146.05 49.9314 Q1146.05 58.2358 1150.06 62.8538 Q1154.07 67.4314 1161.32 67.4314 Q1164.56 67.4314 1167.72 66.5807 Q1170.92 65.6895 1174.08 63.9476 L1174.08 70.8341 Q1170.96 72.2924 1167.6 73.0216 Q1164.28 73.7508 1160.51 73.7508 Q1150.26 73.7508 1144.22 67.3098 Q1138.19 60.8689 1138.19 49.9314 Q1138.19 38.832 1144.26 32.472 Q1150.38 26.1121 1160.99 26.1121 Q1164.44 26.1121 1167.72 26.8413 Q1171 27.5299 1174.08 28.9478 Z\" fill=\"#000000\" fill-rule=\"nonzero\" fill-opacity=\"1\" /><path clip-path=\"url(#clip970)\" d=\"M1194.41 14.324 L1194.41 27.2059 L1209.77 27.2059 L1209.77 32.9987 L1194.41 32.9987 L1194.41 57.6282 Q1194.41 63.1779 1195.91 64.7578 Q1197.45 66.3376 1202.11 66.3376 L1209.77 66.3376 L1209.77 72.576 L1202.11 72.576 Q1193.48 72.576 1190.2 69.3758 Q1186.92 66.1351 1186.92 57.6282 L1186.92 32.9987 L1181.45 32.9987 L1181.45 27.2059 L1186.92 27.2059 L1186.92 14.324 L1194.41 14.324 Z\" fill=\"#000000\" fill-rule=\"nonzero\" fill-opacity=\"1\" /><path clip-path=\"url(#clip970)\" d=\"M1219.57 27.2059 L1227.02 27.2059 L1227.02 72.576 L1219.57 72.576 L1219.57 27.2059 M1219.57 9.54393 L1227.02 9.54393 L1227.02 18.9825 L1219.57 18.9825 L1219.57 9.54393 Z\" fill=\"#000000\" fill-rule=\"nonzero\" fill-opacity=\"1\" /><path clip-path=\"url(#clip970)\" d=\"M1260.2 32.4315 Q1254.21 32.4315 1250.72 37.1306 Q1247.24 41.7891 1247.24 49.9314 Q1247.24 58.0738 1250.68 62.7728 Q1254.16 67.4314 1260.2 67.4314 Q1266.16 67.4314 1269.64 62.7323 Q1273.12 58.0333 1273.12 49.9314 Q1273.12 41.8701 1269.64 37.1711 Q1266.16 32.4315 1260.2 32.4315 M1260.2 26.1121 Q1269.92 26.1121 1275.47 32.4315 Q1281.02 38.7509 1281.02 49.9314 Q1281.02 61.0714 1275.47 67.4314 Q1269.92 73.7508 1260.2 73.7508 Q1250.44 73.7508 1244.89 67.4314 Q1239.38 61.0714 1239.38 49.9314 Q1239.38 38.7509 1244.89 32.4315 Q1250.44 26.1121 1260.2 26.1121 Z\" fill=\"#000000\" fill-rule=\"nonzero\" fill-opacity=\"1\" /><path clip-path=\"url(#clip970)\" d=\"M1331.09 45.1919 L1331.09 72.576 L1323.64 72.576 L1323.64 45.4349 Q1323.64 38.994 1321.13 35.7938 Q1318.61 32.5936 1313.59 32.5936 Q1307.56 32.5936 1304.07 36.4419 Q1300.59 40.2903 1300.59 46.9338 L1300.59 72.576 L1293.09 72.576 L1293.09 27.2059 L1300.59 27.2059 L1300.59 34.2544 Q1303.26 30.163 1306.87 28.1376 Q1310.51 26.1121 1315.25 26.1121 Q1323.07 26.1121 1327.08 30.9732 Q1331.09 35.7938 1331.09 45.1919 Z\" fill=\"#000000\" fill-rule=\"nonzero\" fill-opacity=\"1\" /><path clip-path=\"url(#clip970)\" d=\"M1395.3 9.54393 L1395.3 15.7418 L1388.17 15.7418 Q1384.16 15.7418 1382.58 17.3622 Q1381.04 18.9825 1381.04 23.1955 L1381.04 27.2059 L1393.31 27.2059 L1393.31 32.9987 L1381.04 32.9987 L1381.04 72.576 L1373.55 72.576 L1373.55 32.9987 L1366.42 32.9987 L1366.42 27.2059 L1373.55 27.2059 L1373.55 24.0462 Q1373.55 16.471 1377.07 13.0277 Q1380.59 9.54393 1388.25 9.54393 L1395.3 9.54393 Z\" fill=\"#000000\" fill-rule=\"nonzero\" fill-opacity=\"1\" /><path clip-path=\"url(#clip970)\" d=\"M1419.12 32.4315 Q1413.12 32.4315 1409.64 37.1306 Q1406.15 41.7891 1406.15 49.9314 Q1406.15 58.0738 1409.6 62.7728 Q1413.08 67.4314 1419.12 67.4314 Q1425.07 67.4314 1428.56 62.7323 Q1432.04 58.0333 1432.04 49.9314 Q1432.04 41.8701 1428.56 37.1711 Q1425.07 32.4315 1419.12 32.4315 M1419.12 26.1121 Q1428.84 26.1121 1434.39 32.4315 Q1439.94 38.7509 1439.94 49.9314 Q1439.94 61.0714 1434.39 67.4314 Q1428.84 73.7508 1419.12 73.7508 Q1409.36 73.7508 1403.81 67.4314 Q1398.3 61.0714 1398.3 49.9314 Q1398.3 38.7509 1403.81 32.4315 Q1409.36 26.1121 1419.12 26.1121 Z\" fill=\"#000000\" fill-rule=\"nonzero\" fill-opacity=\"1\" /><path clip-path=\"url(#clip970)\" d=\"M1478.59 34.1734 Q1477.33 33.4443 1475.83 33.1202 Q1474.37 32.7556 1472.59 32.7556 Q1466.27 32.7556 1462.87 36.8875 Q1459.51 40.9789 1459.51 48.6757 L1459.51 72.576 L1452.01 72.576 L1452.01 27.2059 L1459.51 27.2059 L1459.51 34.2544 Q1461.85 30.1225 1465.62 28.1376 Q1469.39 26.1121 1474.78 26.1121 Q1475.55 26.1121 1476.48 26.2337 Q1477.41 26.3147 1478.54 26.5172 L1478.59 34.1734 Z\" fill=\"#000000\" fill-rule=\"nonzero\" fill-opacity=\"1\" /><path clip-path=\"url(#clip970)\" d=\"M1533.39 49.7694 Q1524.36 49.7694 1520.88 51.8354 Q1517.39 53.9013 1517.39 58.8839 Q1517.39 62.8538 1519.99 65.2034 Q1522.62 67.5124 1527.11 67.5124 Q1533.31 67.5124 1537.04 63.1374 Q1540.81 58.7219 1540.81 51.4303 L1540.81 49.7694 L1533.39 49.7694 M1548.26 46.6907 L1548.26 72.576 L1540.81 72.576 L1540.81 65.6895 Q1538.25 69.8214 1534.45 71.8063 Q1530.64 73.7508 1525.13 73.7508 Q1518.16 73.7508 1514.03 69.8619 Q1509.94 65.9325 1509.94 59.3701 Q1509.94 51.7138 1515.04 47.825 Q1520.19 43.9361 1530.36 43.9361 L1540.81 43.9361 L1540.81 43.2069 Q1540.81 38.0623 1537.4 35.2672 Q1534.04 32.4315 1527.93 32.4315 Q1524.04 32.4315 1520.35 33.3632 Q1516.66 34.295 1513.26 36.1584 L1513.26 29.2718 Q1517.35 27.692 1521.2 26.9223 Q1525.05 26.1121 1528.69 26.1121 Q1538.54 26.1121 1543.4 31.2163 Q1548.26 36.3204 1548.26 46.6907 Z\" fill=\"#000000\" fill-rule=\"nonzero\" fill-opacity=\"1\" /><path clip-path=\"url(#clip970)\" d=\"M1593.47 49.3643 Q1593.47 41.2625 1590.11 36.8065 Q1586.78 32.3505 1580.75 32.3505 Q1574.75 32.3505 1571.39 36.8065 Q1568.07 41.2625 1568.07 49.3643 Q1568.07 57.4256 1571.39 61.8816 Q1574.75 66.3376 1580.75 66.3376 Q1586.78 66.3376 1590.11 61.8816 Q1593.47 57.4256 1593.47 49.3643 M1600.92 66.9452 Q1600.92 78.5308 1595.78 84.1616 Q1590.63 89.8329 1580.02 89.8329 Q1576.09 89.8329 1572.61 89.2252 Q1569.12 88.6581 1565.84 87.4428 L1565.84 80.1917 Q1569.12 81.9741 1572.32 82.8248 Q1575.52 83.6755 1578.84 83.6755 Q1586.18 83.6755 1589.82 79.8271 Q1593.47 76.0193 1593.47 68.282 L1593.47 64.5957 Q1591.16 68.6061 1587.55 70.5911 Q1583.95 72.576 1578.93 72.576 Q1570.58 72.576 1565.48 66.2161 Q1560.37 59.8562 1560.37 49.3643 Q1560.37 38.832 1565.48 32.472 Q1570.58 26.1121 1578.93 26.1121 Q1583.95 26.1121 1587.55 28.0971 Q1591.16 30.082 1593.47 34.0924 L1593.47 27.2059 L1600.92 27.2059 L1600.92 66.9452 Z\" fill=\"#000000\" fill-rule=\"nonzero\" fill-opacity=\"1\" /><path clip-path=\"url(#clip970)\" d=\"M1655.08 48.0275 L1655.08 51.6733 L1620.81 51.6733 Q1621.3 59.3701 1625.43 63.421 Q1629.6 67.4314 1637.02 67.4314 Q1641.31 67.4314 1645.32 66.3781 Q1649.37 65.3249 1653.34 63.2184 L1653.34 70.267 Q1649.33 71.9684 1645.12 72.8596 Q1640.9 73.7508 1636.57 73.7508 Q1625.71 73.7508 1619.35 67.4314 Q1613.03 61.1119 1613.03 50.3365 Q1613.03 39.1965 1619.03 32.6746 Q1625.07 26.1121 1635.27 26.1121 Q1644.43 26.1121 1649.74 32.0264 Q1655.08 37.9003 1655.08 48.0275 M1647.63 45.84 Q1647.55 39.7232 1644.19 36.0774 Q1640.86 32.4315 1635.36 32.4315 Q1629.12 32.4315 1625.35 35.9558 Q1621.62 39.4801 1621.06 45.8805 L1647.63 45.84 Z\" fill=\"#000000\" fill-rule=\"nonzero\" fill-opacity=\"1\" /><path clip-path=\"url(#clip970)\" d=\"M1694.82 12.096 L1726.95 12.096 L1726.95 18.9825 L1702.32 18.9825 L1702.32 33.8088 Q1704.1 33.2012 1705.88 32.9176 Q1707.66 32.5936 1709.45 32.5936 Q1719.57 32.5936 1725.49 38.1433 Q1731.4 43.6931 1731.4 53.1722 Q1731.4 62.9348 1725.33 68.3631 Q1719.25 73.7508 1708.19 73.7508 Q1704.38 73.7508 1700.41 73.1026 Q1696.48 72.4545 1692.27 71.1582 L1692.27 62.9348 Q1695.92 64.9198 1699.8 65.892 Q1703.69 66.8642 1708.03 66.8642 Q1715.04 66.8642 1719.13 63.1779 Q1723.22 59.4916 1723.22 53.1722 Q1723.22 46.8528 1719.13 43.1664 Q1715.04 39.4801 1708.03 39.4801 Q1704.75 39.4801 1701.47 40.2093 Q1698.23 40.9384 1694.82 42.4778 L1694.82 12.096 Z\" fill=\"#000000\" fill-rule=\"nonzero\" fill-opacity=\"1\" /><path clip-path=\"url(#clip970)\" d=\"M1765.02 17.4837 Q1758.71 17.4837 1755.5 23.7221 Q1752.35 29.92 1752.35 42.3968 Q1752.35 54.833 1755.5 61.0714 Q1758.71 67.2693 1765.02 67.2693 Q1771.38 67.2693 1774.54 61.0714 Q1777.74 54.833 1777.74 42.3968 Q1777.74 29.92 1774.54 23.7221 Q1771.38 17.4837 1765.02 17.4837 M1765.02 11.0023 Q1775.19 11.0023 1780.54 19.0636 Q1785.93 27.0843 1785.93 42.3968 Q1785.93 57.6687 1780.54 65.73 Q1775.19 73.7508 1765.02 73.7508 Q1754.86 73.7508 1749.47 65.73 Q1744.12 57.6687 1744.12 42.3968 Q1744.12 27.0843 1749.47 19.0636 Q1754.86 11.0023 1765.02 11.0023 Z\" fill=\"#000000\" fill-rule=\"nonzero\" fill-opacity=\"1\" /><polyline clip-path=\"url(#clip972)\" style=\"stroke:#009af9; stroke-linecap:round; stroke-linejoin:round; stroke-width:4; stroke-opacity:1; fill:none\" points=\"240.392,1386.4 242.445,1376.2 244.498,1366.2 246.55,1356.35 248.603,1346.69 250.656,1337.16 252.709,1327.85 254.762,1318.75 256.815,1309.87 258.868,1301.07 260.921,1292.46 262.974,1283.96 265.027,1275.63 267.079,1267.42 269.132,1259.37 271.185,1251.43 273.238,1243.65 275.291,1235.99 277.344,1228.46 279.397,1221.01 281.45,1213.69 283.503,1206.46 285.555,1199.32 287.608,1192.32 289.661,1185.39 291.714,1178.55 293.767,1171.86 295.82,1165.22 297.873,1158.68 299.926,1152.24 301.979,1145.88 304.031,1139.59 306.084,1133.38 308.137,1127.24 310.19,1121.19 312.243,1115.23 314.296,1109.33 316.349,1103.49 318.402,1097.75 320.455,1092.1 322.507,1086.5 324.56,1080.95 326.613,1075.48 328.666,1070.11 330.719,1064.78 332.772,1059.49 334.825,1054.29 336.878,1049.17 338.931,1044.1 340.984,1039.08 343.036,1034.12 345.089,1029.21 347.142,1024.36 349.195,1019.56 351.248,1014.83 353.301,1010.13 355.354,1005.48 357.407,1000.89 359.46,996.35 361.512,991.869 363.565,987.43 365.618,983.029 367.671,978.664 369.724,974.347 371.777,970.072 373.83,965.851 375.883,961.669 377.936,957.533 379.988,953.431 382.041,949.365 384.094,945.343 386.147,941.364 388.2,937.418 390.253,933.496 392.306,929.639 394.359,925.806 396.412,922.019 398.464,918.266 400.517,914.533 402.57,910.829 404.623,907.195 406.676,903.588 408.729,900.004 410.782,896.455 412.835,892.928 414.888,889.422 416.94,885.941 418.993,882.529 421.046,879.136 423.099,875.78 425.152,872.446 427.205,869.135 429.258,865.842 431.311,862.569 433.364,859.323 435.417,856.128 437.469,852.959 439.522,849.82 441.575,846.708 443.628,843.613 445.681,840.534 447.734,837.471 449.787,834.427 451.84,831.43 453.893,828.448 455.945,825.5 457.998,822.572 460.051,819.672 462.104,816.785 464.157,813.912 466.21,811.068 468.263,808.25 470.316,805.451 472.369,802.682 474.421,799.935 476.474,797.201 478.527,794.489 480.58,791.794 482.633,789.113 484.686,786.463 486.739,783.829 488.792,781.211 490.845,778.616 492.897,776.048 494.95,773.491 497.003,770.951 499.056,768.423 501.109,765.916 503.162,763.423 505.215,760.951 507.268,758.501 509.321,756.067 511.374,753.645 513.426,751.244 515.479,748.862 517.532,746.49 519.585,744.129 521.638,741.79 523.691,739.464 525.744,737.153 527.797,734.854 529.85,732.576 531.902,730.311 533.955,728.066 536.008,725.836 538.061,723.619 540.114,721.413 542.167,719.216 544.22,717.046 546.273,714.887 548.326,712.737 550.378,710.601 552.431,708.481 554.484,706.369 556.537,704.275 558.59,702.195 560.643,700.123 562.696,698.06 564.749,696.012 566.802,693.974 568.854,691.961 570.907,689.958 572.96,687.971 575.013,685.993 577.066,684.023 579.119,682.062 581.172,680.114 583.225,678.175 585.278,676.244 587.331,674.319 589.383,672.402 591.436,670.505 593.489,668.62 595.542,666.754 597.595,664.904 599.648,663.063 601.701,661.228 603.754,659.404 605.807,657.587 607.859,655.777 609.912,653.975 611.965,652.18 614.018,650.391 616.071,648.609 618.124,646.849 620.177,645.103 622.23,643.369 624.283,641.642 626.335,639.927 628.388,638.221 630.441,636.523 632.494,634.833 634.547,633.15 636.6,631.472 638.653,629.802 640.706,628.136 642.759,626.477 644.811,624.833 646.864,623.201 648.917,621.577 650.97,619.964 653.023,618.36 655.076,616.764 657.129,615.174 659.182,613.596 661.235,612.024 663.288,610.46 665.34,608.902 667.393,607.35 669.446,605.803 671.499,604.263 673.552,602.73 675.605,601.201 677.658,599.685 679.711,598.184 681.764,596.686 683.816,595.202 685.869,593.725 687.922,592.253 689.975,590.785 692.028,589.324 694.081,587.872 696.134,586.425 698.187,584.984 700.24,583.548 702.292,582.116 704.345,580.689 706.398,579.275 708.451,577.865 710.504,576.463 712.557,575.068 714.61,573.68 716.663,572.301 718.716,570.929 720.768,569.561 722.821,568.203 724.874,566.85 726.927,565.505 728.98,564.163 731.033,562.826 733.086,561.493 735.139,560.166 737.192,558.842 739.245,557.523 741.297,556.208 743.35,554.902 745.403,553.604 747.456,552.314 749.509,551.028 751.562,549.753 753.615,548.481 755.668,547.213 757.721,545.952 759.773,544.698 761.826,543.451 763.879,542.208 765.932,540.969 767.985,539.733 770.038,538.504 772.091,537.279 774.144,536.058 776.197,534.841 778.249,533.629 780.302,532.42 782.355,531.215 784.408,530.016 786.461,528.826 788.514,527.643 790.567,526.464 792.62,525.289 794.673,524.119 796.725,522.956 798.778,521.798 800.831,520.645 802.884,519.495 804.937,518.349 806.99,517.208 809.043,516.073 811.096,514.943 813.149,513.815 815.202,512.692 817.254,511.572 819.307,510.454 821.36,509.34 823.413,508.23 825.466,507.124 827.519,506.026 829.572,504.933 831.625,503.845 833.678,502.763 835.73,501.683 837.783,500.61 839.836,499.54 841.889,498.475 843.942,497.412 845.995,496.352 848.048,495.301 850.101,494.251 852.154,493.206 854.206,492.165 856.259,491.128 858.312,490.093 860.365,489.061 862.418,488.032 864.471,487.007 866.524,485.984 868.577,484.965 870.63,483.947 872.682,482.937 874.735,481.929 876.788,480.927 878.841,479.929 880.894,478.936 882.947,477.945 885,476.959 887.053,475.977 889.106,474.998 891.159,474.022 893.211,473.052 895.264,472.087 897.317,471.125 899.37,470.167 901.423,469.211 903.476,468.257 905.529,467.306 907.582,466.357 909.635,465.411 911.687,464.47 913.74,463.532 915.793,462.598 917.846,461.665 919.899,460.734 921.952,459.807 924.005,458.883 926.058,457.963 928.111,457.047 930.163,456.134 932.216,455.222 934.269,454.314 936.322,453.41 938.375,452.51 940.428,451.614 942.481,450.721 944.534,449.833 946.587,448.948 948.639,448.065 950.692,447.184 952.745,446.305 954.798,445.428 956.851,444.554 958.904,443.685 960.957,442.82 963.01,441.959 965.063,441.1 967.116,440.244 969.168,439.39 971.221,438.538 973.274,437.687 975.327,436.84 977.38,435.994 979.433,435.15 981.486,434.308 983.539,433.467 985.592,432.633 987.644,431.801 989.697,430.974 991.75,430.149 993.803,429.327 995.856,428.507 997.909,427.69 999.962,426.875 1002.01,426.062 1004.07,425.251 1006.12,424.444 1008.17,423.639 1010.23,422.837 1012.28,422.039 1014.33,421.243 1016.38,420.451 1018.44,419.66 1020.49,418.872 1022.54,418.087 1024.6,417.303 1026.65,416.52 1028.7,415.74 1030.76,414.961 1032.81,414.184 1034.86,413.412 1036.91,412.642 1038.97,411.874 1041.02,411.109 1043.07,410.345 1045.13,409.584 1047.18,408.825 1049.23,408.069 1051.28,407.315 1053.34,406.563 1055.39,405.813 1057.44,405.065 1059.5,404.319 1061.55,403.575 1063.6,402.835 1065.65,402.097 1067.71,401.361 1069.76,400.628 1071.81,399.898 1073.87,399.168 1075.92,398.443 1077.97,397.718 1080.02,396.995 1082.08,396.275 1084.13,395.555 1086.18,394.838 1088.24,394.123 1090.29,393.409 1092.34,392.697 1094.39,391.99 1096.45,391.285 1098.5,390.581 1100.55,389.879 1102.61,389.179 1104.66,388.482 1106.71,387.785 1108.77,387.091 1110.82,386.398 1112.87,385.707 1114.92,385.017 1116.98,384.329 1119.03,383.642 1121.08,382.96 1123.14,382.28 1125.19,381.601 1127.24,380.923 1129.29,380.249 1131.35,379.576 1133.4,378.906 1135.45,378.237 1137.51,377.57 1139.56,376.905 1141.61,376.241 1143.66,375.579 1145.72,374.918 1147.77,374.259 1149.82,373.601 1151.88,372.946 1153.93,372.294 1155.98,371.643 1158.03,370.994 1160.09,370.346 1162.14,369.701 1164.19,369.057 1166.25,368.415 1168.3,367.775 1170.35,367.137 1172.4,366.5 1174.46,365.864 1176.51,365.23 1178.56,364.597 1180.62,363.965 1182.67,363.335 1184.72,362.707 1186.77,362.08 1188.83,361.456 1190.88,360.835 1192.93,360.215 1194.99,359.597 1197.04,358.98 1199.09,358.365 1201.15,357.752 1203.2,357.14 1205.25,356.529 1207.3,355.92 1209.36,355.312 1211.41,354.705 1213.46,354.1 1215.52,353.495 1217.57,352.894 1219.62,352.295 1221.67,351.697 1223.73,351.099 1225.78,350.505 1227.83,349.912 1229.89,349.32 1231.94,348.729 1233.99,348.14 1236.04,347.553 1238.1,346.966 1240.15,346.382 1242.2,345.798 1244.26,345.217 1246.31,344.636 1248.36,344.056 1250.41,343.479 1252.47,342.902 1254.52,342.327 1256.57,341.753 1258.63,341.18 1260.68,340.61 1262.73,340.041 1264.78,339.475 1266.84,338.91 1268.89,338.346 1270.94,337.784 1273,337.222 1275.05,336.662 1277.1,336.103 1279.16,335.545 1281.21,334.988 1283.26,334.433 1285.31,333.878 1287.37,333.324 1289.42,332.773 1291.47,332.224 1293.53,331.676 1295.58,331.129 1297.63,330.583 1299.68,330.038 1301.74,329.496 1303.79,328.954 1305.84,328.414 1307.9,327.875 1309.95,327.338 1312,326.802 1314.05,326.267 1316.11,325.733 1318.16,325.2 1320.21,324.668 1322.27,324.137 1324.32,323.607 1326.37,323.078 1328.42,322.549 1330.48,322.025 1332.53,321.501 1334.58,320.978 1336.64,320.457 1338.69,319.937 1340.74,319.418 1342.79,318.9 1344.85,318.383 1346.9,317.867 1348.95,317.353 1351.01,316.84 1353.06,316.328 1355.11,315.818 1357.16,315.308 1359.22,314.8 1361.27,314.293 1363.32,313.786 1365.38,313.281 1367.43,312.777 1369.48,312.274 1371.54,311.771 1373.59,311.269 1375.64,310.769 1377.69,310.271 1379.75,309.775 1381.8,309.279 1383.85,308.784 1385.91,308.291 1387.96,307.799 1390.01,307.308 1392.06,306.817 1394.12,306.328 1396.17,305.84 1398.22,305.353 1400.28,304.866 1402.33,304.381 1404.38,303.897 1406.43,303.413 1408.49,302.93 1410.54,302.449 1412.59,301.969 1414.65,301.491 1416.7,301.013 1418.75,300.536 1420.8,300.061 1422.86,299.586 1424.91,299.113 1426.96,298.641 1429.02,298.17 1431.07,297.7 1433.12,297.231 1435.17,296.763 1437.23,296.296 1439.28,295.83 1441.33,295.365 1443.39,294.901 1445.44,294.438 1447.49,293.975 1449.55,293.513 1451.6,293.052 1453.65,292.591 1455.7,292.131 1457.76,291.674 1459.81,291.218 1461.86,290.763 1463.92,290.308 1465.97,289.855 1468.02,289.402 1470.07,288.951 1472.13,288.5 1474.18,288.05 1476.23,287.601 1478.29,287.154 1480.34,286.707 1482.39,286.261 1484.44,285.816 1486.5,285.373 1488.55,284.93 1490.6,284.488 1492.66,284.046 1494.71,283.606 1496.76,283.166 1498.81,282.727 1500.87,282.289 1502.92,281.852 1504.97,281.415 1507.03,280.979 1509.08,280.544 1511.13,280.111 1513.18,279.679 1515.24,279.248 1517.29,278.817 1519.34,278.388 1521.4,277.96 1523.45,277.532 1525.5,277.105 1527.55,276.679 1529.61,276.253 1531.66,275.829 1533.71,275.405 1535.77,274.982 1537.82,274.56 1539.87,274.138 1541.93,273.718 1543.98,273.298 1546.03,272.879 1548.08,272.462 1550.14,272.045 1552.19,271.628 1554.24,271.213 1556.3,270.798 1558.35,270.385 1560.4,269.971 1562.45,269.559 1564.51,269.147 1566.56,268.737 1568.61,268.328 1570.67,267.92 1572.72,267.512 1574.77,267.105 1576.82,266.699 1578.88,266.294 1580.93,265.889 1582.98,265.486 1585.04,265.082 1587.09,264.68 1589.14,264.279 1591.19,263.877 1593.25,263.477 1595.3,263.077 1597.35,262.678 1599.41,262.28 1601.46,261.882 1603.51,261.485 1605.56,261.089 1607.62,260.694 1609.67,260.301 1611.72,259.908 1613.78,259.515 1615.83,259.124 1617.88,258.733 1619.94,258.343 1621.99,257.953 1624.04,257.564 1626.09,257.176 1628.15,256.789 1630.2,256.402 1632.25,256.017 1634.31,255.632 1636.36,255.248 1638.41,254.865 1640.46,254.482 1642.52,254.1 1644.57,253.719 1646.62,253.338 1648.68,252.957 1650.73,252.578 1652.78,252.199 1654.83,251.82 1656.89,251.443 1658.94,251.065 1660.99,250.689 1663.05,250.313 1665.1,249.939 1667.15,249.565 1669.2,249.191 1671.26,248.819 1673.31,248.447 1675.36,248.077 1677.42,247.707 1679.47,247.338 1681.52,246.969 1683.57,246.601 1685.63,246.233 1687.68,245.866 1689.73,245.5 1691.79,245.133 1693.84,244.769 1695.89,244.404 1697.94,244.041 1700,243.678 1702.05,243.316 1704.1,242.955 1706.16,242.594 1708.21,242.233 1710.26,241.873 1712.32,241.514 1714.37,241.155 1716.42,240.797 1718.47,240.439 1720.53,240.082 1722.58,239.726 1724.63,239.37 1726.69,239.015 1728.74,238.661 1730.79,238.308 1732.84,237.955 1734.9,237.603 1736.95,237.252 1739,236.901 1741.06,236.55 1743.11,236.201 1745.16,235.852 1747.21,235.504 1749.27,235.157 1751.32,234.81 1753.37,234.463 1755.43,234.117 1757.48,233.772 1759.53,233.427 1761.58,233.082 1763.64,232.739 1765.69,232.395 1767.74,232.053 1769.8,231.711 1771.85,231.369 1773.9,231.028 1775.95,230.688 1778.01,230.349 1780.06,230.01 1782.11,229.672 1784.17,229.334 1786.22,228.997 1788.27,228.66 1790.33,228.324 1792.38,227.988 1794.43,227.653 1796.48,227.318 1798.54,226.984 1800.59,226.652 1802.64,226.319 1804.7,225.987 1806.75,225.656 1808.8,225.325 1810.85,224.995 1812.91,224.665 1814.96,224.336 1817.01,224.008 1819.07,223.68 1821.12,223.352 1823.17,223.026 1825.22,222.699 1827.28,222.374 1829.33,222.048 1831.38,221.723 1833.44,221.399 1835.49,221.075 1837.54,220.751 1839.59,220.428 1841.65,220.105 1843.7,219.783 1845.75,219.462 1847.81,219.142 1849.86,218.822 1851.91,218.503 1853.96,218.184 1856.02,217.866 1858.07,217.548 1860.12,217.231 1862.18,216.914 1864.23,216.598 1866.28,216.281 1868.34,215.966 1870.39,215.651 1872.44,215.336 1874.49,215.023 1876.55,214.709 1878.6,214.397 1880.65,214.085 1882.71,213.773 1884.76,213.462 1886.81,213.152 1888.86,212.842 1890.92,212.532 1892.97,212.222 1895.02,211.914 1897.08,211.606 1899.13,211.298 1901.18,210.991 1903.23,210.684 1905.29,210.378 1907.34,210.072 1909.39,209.766 1911.45,209.461 1913.5,209.156 1915.55,208.853 1917.6,208.549 1919.66,208.246 1921.71,207.944 1923.76,207.642 1925.82,207.34 1927.87,207.04 1929.92,206.739 1931.97,206.439 1934.03,206.14 1936.08,205.842 1938.13,205.543 1940.19,205.245 1942.24,204.948 1944.29,204.651 1946.34,204.354 1948.4,204.058 1950.45,203.762 1952.5,203.466 1954.56,203.171 1956.61,202.876 1958.66,202.582 1960.72,202.289 1962.77,201.996 1964.82,201.704 1966.87,201.411 1968.93,201.12 1970.98,200.829 1973.03,200.538 1975.09,200.248 1977.14,199.958 1979.19,199.668 1981.24,199.379 1983.3,199.091 1985.35,198.803 1987.4,198.516 1989.46,198.228 1991.51,197.941 1993.56,197.655 1995.61,197.368 1997.67,197.083 1999.72,196.798 2001.77,196.514 2003.83,196.23 2005.88,195.946 2007.93,195.663 2009.98,195.38 2012.04,195.098 2014.09,194.815 2016.14,194.534 2018.2,194.253 2020.25,193.972 2022.3,193.692 2024.35,193.413 2026.41,193.134 2028.46,192.855 2030.51,192.576 2032.57,192.298 2034.62,192.02 2036.67,191.742 2038.73,191.465 2040.78,191.188 2042.83,190.911 2044.88,190.635 2046.94,190.36 2048.99,190.085 2051.04,189.811 2053.1,189.537 2055.15,189.263 2057.2,188.99 2059.25,188.718 2061.31,188.445 2063.36,188.173 2065.41,187.902 2067.47,187.63 2069.52,187.36 2071.57,187.089 2073.62,186.819 2075.68,186.55 2077.73,186.28 2079.78,186.011 2081.84,185.742 2083.89,185.474 2085.94,185.206 2087.99,184.939 2090.05,184.672 2092.1,184.406 2094.15,184.14 2096.21,183.874 2098.26,183.609 2100.31,183.344 2102.36,183.079 2104.42,182.815 2106.47,182.551 2108.52,182.287 2110.58,182.024 2112.63,181.762 2114.68,181.499 2116.73,181.238 2118.79,180.976 2120.84,180.715 2122.89,180.454 2124.95,180.194 2127,179.934 2129.05,179.674 2131.11,179.414 2133.16,179.155 2135.21,178.896 2137.26,178.637 2139.32,178.38 2141.37,178.122 2143.42,177.865 2145.48,177.608 2147.53,177.352 2149.58,177.096 2151.63,176.841 2153.69,176.586 2155.74,176.331 2157.79,176.076 2159.85,175.822 2161.9,175.568 2163.95,175.315 2166,175.061 2168.06,174.809 2170.11,174.556 2172.16,174.304 2174.22,174.052 2176.27,173.8 2178.32,173.549 2180.37,173.298 2182.43,173.048 2184.48,172.798 2186.53,172.548 2188.59,172.299 2190.64,172.05 2192.69,171.801 2194.74,171.553 2196.8,171.305 2198.85,171.058 2200.9,170.81 2202.96,170.563 2205.01,170.317 2207.06,170.07 2209.12,169.824 2211.17,169.579 2213.22,169.334 2215.27,169.089 2217.33,168.845 2219.38,168.601 2221.43,168.357 2223.49,168.113 2225.54,167.87 2227.59,167.627 2229.64,167.384 2231.7,167.142 2233.75,166.9 2235.8,166.658 2237.86,166.416 2239.91,166.175 2241.96,165.935 2244.01,165.694 2246.07,165.455 2248.12,165.215 2250.17,164.976 2252.23,164.737 2254.28,164.499 2256.33,164.261 2258.38,164.023 2260.44,163.785 2262.49,163.547 2264.54,163.31 2266.6,163.074 2268.65,162.837 2270.7,162.601 2272.75,162.365 2274.81,162.129 2276.86,161.894 2278.91,161.659 2280.97,161.425 2283.02,161.19 2285.07,160.956 2287.12,160.723 2289.18,160.489 2291.23,160.256 \"/>\n",
       "<path clip-path=\"url(#clip970)\" d=\"M251.33 270.476 L562.746 270.476 L562.746 166.796 L251.33 166.796  Z\" fill=\"#ffffff\" fill-rule=\"evenodd\" fill-opacity=\"1\"/>\n",
       "<polyline clip-path=\"url(#clip970)\" style=\"stroke:#000000; stroke-linecap:round; stroke-linejoin:round; stroke-width:4; stroke-opacity:1; fill:none\" points=\"251.33,270.476 562.746,270.476 562.746,166.796 251.33,166.796 251.33,270.476 \"/>\n",
       "<polyline clip-path=\"url(#clip970)\" style=\"stroke:#009af9; stroke-linecap:round; stroke-linejoin:round; stroke-width:4; stroke-opacity:1; fill:none\" points=\"275.484,218.636 420.41,218.636 \"/>\n",
       "<path clip-path=\"url(#clip970)\" d=\"M457.759 235.916 L444.564 201.356 L449.448 201.356 L460.397 230.453 L471.37 201.356 L476.231 201.356 L463.059 235.916 L457.759 235.916 Z\" fill=\"#000000\" fill-rule=\"nonzero\" fill-opacity=\"1\" /><path clip-path=\"url(#clip970)\" d=\"M491.323 199.944 Q488.221 205.268 486.717 210.476 Q485.212 215.684 485.212 221.032 Q485.212 226.379 486.717 231.633 Q488.245 236.865 491.323 242.166 L487.62 242.166 Q484.147 236.726 482.411 231.471 Q480.698 226.217 480.698 221.032 Q480.698 215.87 482.411 210.638 Q484.124 205.407 487.62 199.944 L491.323 199.944 Z\" fill=\"#000000\" fill-rule=\"nonzero\" fill-opacity=\"1\" /><path clip-path=\"url(#clip970)\" d=\"M511.369 222.883 Q506.207 222.883 504.217 224.064 Q502.226 225.244 502.226 228.092 Q502.226 230.36 503.707 231.703 Q505.212 233.022 507.781 233.022 Q511.323 233.022 513.453 230.522 Q515.605 227.999 515.605 223.832 L515.605 222.883 L511.369 222.883 M519.865 221.124 L519.865 235.916 L515.605 235.916 L515.605 231.981 Q514.147 234.342 511.971 235.476 Q509.795 236.587 506.647 236.587 Q502.666 236.587 500.305 234.365 Q497.967 232.119 497.967 228.369 Q497.967 223.994 500.883 221.772 Q503.823 219.55 509.633 219.55 L515.605 219.55 L515.605 219.133 Q515.605 216.194 513.661 214.596 Q511.74 212.976 508.244 212.976 Q506.022 212.976 503.916 213.508 Q501.809 214.041 499.865 215.106 L499.865 211.17 Q502.203 210.268 504.402 209.828 Q506.601 209.365 508.684 209.365 Q514.309 209.365 517.087 212.282 Q519.865 215.198 519.865 221.124 Z\" fill=\"#000000\" fill-rule=\"nonzero\" fill-opacity=\"1\" /><path clip-path=\"url(#clip970)\" d=\"M527.967 199.944 L531.67 199.944 Q535.142 205.407 536.855 210.638 Q538.591 215.87 538.591 221.032 Q538.591 226.217 536.855 231.471 Q535.142 236.726 531.67 242.166 L527.967 242.166 Q531.045 236.865 532.55 231.633 Q534.078 226.379 534.078 221.032 Q534.078 215.684 532.55 210.476 Q531.045 205.268 527.967 199.944 Z\" fill=\"#000000\" fill-rule=\"nonzero\" fill-opacity=\"1\" /></svg>\n"
      ],
      "text/html": [
       "<?xml version=\"1.0\" encoding=\"utf-8\"?>\n",
       "<svg xmlns=\"http://www.w3.org/2000/svg\" xmlns:xlink=\"http://www.w3.org/1999/xlink\" width=\"600\" height=\"400\" viewBox=\"0 0 2400 1600\">\n",
       "<defs>\n",
       "  <clipPath id=\"clip020\">\n",
       "    <rect x=\"0\" y=\"0\" width=\"2400\" height=\"1600\"/>\n",
       "  </clipPath>\n",
       "</defs>\n",
       "<path clip-path=\"url(#clip020)\" d=\"M0 1600 L2400 1600 L2400 8.88178e-14 L0 8.88178e-14  Z\" fill=\"#ffffff\" fill-rule=\"evenodd\" fill-opacity=\"1\"/>\n",
       "<defs>\n",
       "  <clipPath id=\"clip021\">\n",
       "    <rect x=\"480\" y=\"0\" width=\"1681\" height=\"1600\"/>\n",
       "  </clipPath>\n",
       "</defs>\n",
       "<path clip-path=\"url(#clip020)\" d=\"M178.867 1423.18 L2352.76 1423.18 L2352.76 123.472 L178.867 123.472  Z\" fill=\"#ffffff\" fill-rule=\"evenodd\" fill-opacity=\"1\"/>\n",
       "<defs>\n",
       "  <clipPath id=\"clip022\">\n",
       "    <rect x=\"178\" y=\"123\" width=\"2175\" height=\"1301\"/>\n",
       "  </clipPath>\n",
       "</defs>\n",
       "<polyline clip-path=\"url(#clip022)\" style=\"stroke:#000000; stroke-linecap:round; stroke-linejoin:round; stroke-width:2; stroke-opacity:0.1; fill:none\" points=\"240.323,1423.18 240.323,123.472 \"/>\n",
       "<polyline clip-path=\"url(#clip022)\" style=\"stroke:#000000; stroke-linecap:round; stroke-linejoin:round; stroke-width:2; stroke-opacity:0.1; fill:none\" points=\"923.959,1423.18 923.959,123.472 \"/>\n",
       "<polyline clip-path=\"url(#clip022)\" style=\"stroke:#000000; stroke-linecap:round; stroke-linejoin:round; stroke-width:2; stroke-opacity:0.1; fill:none\" points=\"1607.59,1423.18 1607.59,123.472 \"/>\n",
       "<polyline clip-path=\"url(#clip022)\" style=\"stroke:#000000; stroke-linecap:round; stroke-linejoin:round; stroke-width:2; stroke-opacity:0.1; fill:none\" points=\"2291.23,1423.18 2291.23,123.472 \"/>\n",
       "<polyline clip-path=\"url(#clip020)\" style=\"stroke:#000000; stroke-linecap:round; stroke-linejoin:round; stroke-width:4; stroke-opacity:1; fill:none\" points=\"178.867,1423.18 2352.76,1423.18 \"/>\n",
       "<polyline clip-path=\"url(#clip020)\" style=\"stroke:#000000; stroke-linecap:round; stroke-linejoin:round; stroke-width:4; stroke-opacity:1; fill:none\" points=\"240.323,1423.18 240.323,1404.28 \"/>\n",
       "<polyline clip-path=\"url(#clip020)\" style=\"stroke:#000000; stroke-linecap:round; stroke-linejoin:round; stroke-width:4; stroke-opacity:1; fill:none\" points=\"923.959,1423.18 923.959,1404.28 \"/>\n",
       "<polyline clip-path=\"url(#clip020)\" style=\"stroke:#000000; stroke-linecap:round; stroke-linejoin:round; stroke-width:4; stroke-opacity:1; fill:none\" points=\"1607.59,1423.18 1607.59,1404.28 \"/>\n",
       "<polyline clip-path=\"url(#clip020)\" style=\"stroke:#000000; stroke-linecap:round; stroke-linejoin:round; stroke-width:4; stroke-opacity:1; fill:none\" points=\"2291.23,1423.18 2291.23,1404.28 \"/>\n",
       "<path clip-path=\"url(#clip020)\" d=\"M240.323 1454.1 Q236.712 1454.1 234.884 1457.66 Q233.078 1461.2 233.078 1468.33 Q233.078 1475.44 234.884 1479.01 Q236.712 1482.55 240.323 1482.55 Q243.958 1482.55 245.763 1479.01 Q247.592 1475.44 247.592 1468.33 Q247.592 1461.2 245.763 1457.66 Q243.958 1454.1 240.323 1454.1 M240.323 1450.39 Q246.134 1450.39 249.189 1455 Q252.268 1459.58 252.268 1468.33 Q252.268 1477.06 249.189 1481.67 Q246.134 1486.25 240.323 1486.25 Q234.513 1486.25 231.435 1481.67 Q228.379 1477.06 228.379 1468.33 Q228.379 1459.58 231.435 1455 Q234.513 1450.39 240.323 1450.39 Z\" fill=\"#000000\" fill-rule=\"nonzero\" fill-opacity=\"1\" /><path clip-path=\"url(#clip020)\" d=\"M898.647 1481.64 L906.286 1481.64 L906.286 1455.28 L897.976 1456.95 L897.976 1452.69 L906.239 1451.02 L910.915 1451.02 L910.915 1481.64 L918.554 1481.64 L918.554 1485.58 L898.647 1485.58 L898.647 1481.64 Z\" fill=\"#000000\" fill-rule=\"nonzero\" fill-opacity=\"1\" /><path clip-path=\"url(#clip020)\" d=\"M937.998 1454.1 Q934.387 1454.1 932.559 1457.66 Q930.753 1461.2 930.753 1468.33 Q930.753 1475.44 932.559 1479.01 Q934.387 1482.55 937.998 1482.55 Q941.633 1482.55 943.438 1479.01 Q945.267 1475.44 945.267 1468.33 Q945.267 1461.2 943.438 1457.66 Q941.633 1454.1 937.998 1454.1 M937.998 1450.39 Q943.809 1450.39 946.864 1455 Q949.943 1459.58 949.943 1468.33 Q949.943 1477.06 946.864 1481.67 Q943.809 1486.25 937.998 1486.25 Q932.188 1486.25 929.11 1481.67 Q926.054 1477.06 926.054 1468.33 Q926.054 1459.58 929.11 1455 Q932.188 1450.39 937.998 1450.39 Z\" fill=\"#000000\" fill-rule=\"nonzero\" fill-opacity=\"1\" /><path clip-path=\"url(#clip020)\" d=\"M1586.37 1481.64 L1602.69 1481.64 L1602.69 1485.58 L1580.74 1485.58 L1580.74 1481.64 Q1583.41 1478.89 1587.99 1474.26 Q1592.6 1469.61 1593.78 1468.27 Q1596.02 1465.74 1596.9 1464.01 Q1597.8 1462.25 1597.8 1460.56 Q1597.8 1457.8 1595.86 1456.07 Q1593.94 1454.33 1590.84 1454.33 Q1588.64 1454.33 1586.18 1455.09 Q1583.75 1455.86 1580.97 1457.41 L1580.97 1452.69 Q1583.8 1451.55 1586.25 1450.97 Q1588.71 1450.39 1590.74 1450.39 Q1596.11 1450.39 1599.31 1453.08 Q1602.5 1455.77 1602.5 1460.26 Q1602.5 1462.39 1601.69 1464.31 Q1600.91 1466.2 1598.8 1468.8 Q1598.22 1469.47 1595.12 1472.69 Q1592.02 1475.88 1586.37 1481.64 Z\" fill=\"#000000\" fill-rule=\"nonzero\" fill-opacity=\"1\" /><path clip-path=\"url(#clip020)\" d=\"M1622.5 1454.1 Q1618.89 1454.1 1617.06 1457.66 Q1615.26 1461.2 1615.26 1468.33 Q1615.26 1475.44 1617.06 1479.01 Q1618.89 1482.55 1622.5 1482.55 Q1626.14 1482.55 1627.94 1479.01 Q1629.77 1475.44 1629.77 1468.33 Q1629.77 1461.2 1627.94 1457.66 Q1626.14 1454.1 1622.5 1454.1 M1622.5 1450.39 Q1628.31 1450.39 1631.37 1455 Q1634.45 1459.58 1634.45 1468.33 Q1634.45 1477.06 1631.37 1481.67 Q1628.31 1486.25 1622.5 1486.25 Q1616.69 1486.25 1613.61 1481.67 Q1610.56 1477.06 1610.56 1468.33 Q1610.56 1459.58 1613.61 1455 Q1616.69 1450.39 1622.5 1450.39 Z\" fill=\"#000000\" fill-rule=\"nonzero\" fill-opacity=\"1\" /><path clip-path=\"url(#clip020)\" d=\"M2280.07 1466.95 Q2283.43 1467.66 2285.3 1469.93 Q2287.2 1472.2 2287.2 1475.53 Q2287.2 1480.65 2283.68 1483.45 Q2280.17 1486.25 2273.68 1486.25 Q2271.51 1486.25 2269.19 1485.81 Q2266.9 1485.39 2264.45 1484.54 L2264.45 1480.02 Q2266.39 1481.16 2268.71 1481.74 Q2271.02 1482.32 2273.55 1482.32 Q2277.94 1482.32 2280.24 1480.58 Q2282.55 1478.84 2282.55 1475.53 Q2282.55 1472.48 2280.4 1470.77 Q2278.27 1469.03 2274.45 1469.03 L2270.42 1469.03 L2270.42 1465.19 L2274.63 1465.19 Q2278.08 1465.19 2279.91 1463.82 Q2281.74 1462.43 2281.74 1459.84 Q2281.74 1457.18 2279.84 1455.77 Q2277.97 1454.33 2274.45 1454.33 Q2272.53 1454.33 2270.33 1454.75 Q2268.13 1455.16 2265.49 1456.04 L2265.49 1451.88 Q2268.15 1451.14 2270.47 1450.77 Q2272.8 1450.39 2274.87 1450.39 Q2280.19 1450.39 2283.29 1452.83 Q2286.39 1455.23 2286.39 1459.35 Q2286.39 1462.22 2284.75 1464.21 Q2283.11 1466.18 2280.07 1466.95 Z\" fill=\"#000000\" fill-rule=\"nonzero\" fill-opacity=\"1\" /><path clip-path=\"url(#clip020)\" d=\"M2306.07 1454.1 Q2302.46 1454.1 2300.63 1457.66 Q2298.82 1461.2 2298.82 1468.33 Q2298.82 1475.44 2300.63 1479.01 Q2302.46 1482.55 2306.07 1482.55 Q2309.7 1482.55 2311.51 1479.01 Q2313.34 1475.44 2313.34 1468.33 Q2313.34 1461.2 2311.51 1457.66 Q2309.7 1454.1 2306.07 1454.1 M2306.07 1450.39 Q2311.88 1450.39 2314.93 1455 Q2318.01 1459.58 2318.01 1468.33 Q2318.01 1477.06 2314.93 1481.67 Q2311.88 1486.25 2306.07 1486.25 Q2300.26 1486.25 2297.18 1481.67 Q2294.12 1477.06 2294.12 1468.33 Q2294.12 1459.58 2297.18 1455 Q2300.26 1450.39 2306.07 1450.39 Z\" fill=\"#000000\" fill-rule=\"nonzero\" fill-opacity=\"1\" /><path clip-path=\"url(#clip020)\" d=\"M1183.36 1526.86 L1174.64 1550.51 L1192.11 1550.51 L1183.36 1526.86 M1179.73 1520.52 L1187.02 1520.52 L1205.13 1568.04 L1198.45 1568.04 L1194.12 1555.85 L1172.7 1555.85 L1168.37 1568.04 L1161.59 1568.04 L1179.73 1520.52 Z\" fill=\"#000000\" fill-rule=\"nonzero\" fill-opacity=\"1\" /><path clip-path=\"url(#clip020)\" d=\"M1234.54 1533.45 L1234.54 1538.98 Q1232.06 1537.71 1229.38 1537.07 Q1226.71 1536.44 1223.85 1536.44 Q1219.48 1536.44 1217.29 1537.77 Q1215.12 1539.11 1215.12 1541.79 Q1215.12 1543.82 1216.68 1545 Q1218.24 1546.15 1222.95 1547.2 L1224.96 1547.64 Q1231.2 1548.98 1233.81 1551.43 Q1236.45 1553.85 1236.45 1558.21 Q1236.45 1563.17 1232.5 1566.07 Q1228.59 1568.97 1221.71 1568.97 Q1218.85 1568.97 1215.73 1568.39 Q1212.64 1567.85 1209.2 1566.74 L1209.2 1560.69 Q1212.45 1562.38 1215.6 1563.24 Q1218.75 1564.07 1221.84 1564.07 Q1225.98 1564.07 1228.21 1562.66 Q1230.43 1561.23 1230.43 1558.65 Q1230.43 1556.27 1228.81 1554.99 Q1227.22 1553.72 1221.78 1552.54 L1219.74 1552.07 Q1214.3 1550.92 1211.88 1548.56 Q1209.46 1546.18 1209.46 1542.04 Q1209.46 1537.01 1213.02 1534.27 Q1216.59 1531.54 1223.15 1531.54 Q1226.39 1531.54 1229.26 1532.01 Q1232.12 1532.49 1234.54 1533.45 Z\" fill=\"#000000\" fill-rule=\"nonzero\" fill-opacity=\"1\" /><path clip-path=\"url(#clip020)\" d=\"M1268.5 1533.45 L1268.5 1538.98 Q1266.02 1537.71 1263.34 1537.07 Q1260.67 1536.44 1257.81 1536.44 Q1253.45 1536.44 1251.25 1537.77 Q1249.09 1539.11 1249.09 1541.79 Q1249.09 1543.82 1250.64 1545 Q1252.2 1546.15 1256.92 1547.2 L1258.92 1547.64 Q1265.16 1548.98 1267.77 1551.43 Q1270.41 1553.85 1270.41 1558.21 Q1270.41 1563.17 1266.46 1566.07 Q1262.55 1568.97 1255.67 1568.97 Q1252.81 1568.97 1249.69 1568.39 Q1246.6 1567.85 1243.17 1566.74 L1243.17 1560.69 Q1246.41 1562.38 1249.56 1563.24 Q1252.71 1564.07 1255.8 1564.07 Q1259.94 1564.07 1262.17 1562.66 Q1264.39 1561.23 1264.39 1558.65 Q1264.39 1556.27 1262.77 1554.99 Q1261.18 1553.72 1255.74 1552.54 L1253.7 1552.07 Q1248.26 1550.92 1245.84 1548.56 Q1243.42 1546.18 1243.42 1542.04 Q1243.42 1537.01 1246.98 1534.27 Q1250.55 1531.54 1257.11 1531.54 Q1260.35 1531.54 1263.22 1532.01 Q1266.08 1532.49 1268.5 1533.45 Z\" fill=\"#000000\" fill-rule=\"nonzero\" fill-opacity=\"1\" /><path clip-path=\"url(#clip020)\" d=\"M1310.23 1548.76 L1310.23 1551.62 L1283.3 1551.62 Q1283.68 1557.67 1286.93 1560.85 Q1290.21 1564 1296.03 1564 Q1299.41 1564 1302.56 1563.17 Q1305.74 1562.35 1308.86 1560.69 L1308.86 1566.23 Q1305.71 1567.57 1302.4 1568.27 Q1299.09 1568.97 1295.68 1568.97 Q1287.15 1568.97 1282.16 1564 Q1277.19 1559.04 1277.19 1550.57 Q1277.19 1541.82 1281.9 1536.69 Q1286.64 1531.54 1294.66 1531.54 Q1301.86 1531.54 1306.03 1536.18 Q1310.23 1540.8 1310.23 1548.76 M1304.37 1547.04 Q1304.31 1542.23 1301.67 1539.37 Q1299.06 1536.5 1294.73 1536.5 Q1289.83 1536.5 1286.87 1539.27 Q1283.94 1542.04 1283.49 1547.07 L1304.37 1547.04 Z\" fill=\"#000000\" fill-rule=\"nonzero\" fill-opacity=\"1\" /><path clip-path=\"url(#clip020)\" d=\"M1325.63 1522.27 L1325.63 1532.4 L1337.7 1532.4 L1337.7 1536.95 L1325.63 1536.95 L1325.63 1556.3 Q1325.63 1560.66 1326.81 1561.9 Q1328.02 1563.14 1331.68 1563.14 L1337.7 1563.14 L1337.7 1568.04 L1331.68 1568.04 Q1324.9 1568.04 1322.32 1565.53 Q1319.74 1562.98 1319.74 1556.3 L1319.74 1536.95 L1315.45 1536.95 L1315.45 1532.4 L1319.74 1532.4 L1319.74 1522.27 L1325.63 1522.27 Z\" fill=\"#000000\" fill-rule=\"nonzero\" fill-opacity=\"1\" /><path clip-path=\"url(#clip020)\" d=\"M1368.12 1533.45 L1368.12 1538.98 Q1365.64 1537.71 1362.97 1537.07 Q1360.29 1536.44 1357.43 1536.44 Q1353.07 1536.44 1350.87 1537.77 Q1348.71 1539.11 1348.71 1541.79 Q1348.71 1543.82 1350.27 1545 Q1351.83 1546.15 1356.54 1547.2 L1358.54 1547.64 Q1364.78 1548.98 1367.39 1551.43 Q1370.03 1553.85 1370.03 1558.21 Q1370.03 1563.17 1366.09 1566.07 Q1362.17 1568.97 1355.3 1568.97 Q1352.43 1568.97 1349.31 1568.39 Q1346.23 1567.85 1342.79 1566.74 L1342.79 1560.69 Q1346.04 1562.38 1349.19 1563.24 Q1352.34 1564.07 1355.42 1564.07 Q1359.56 1564.07 1361.79 1562.66 Q1364.02 1561.23 1364.02 1558.65 Q1364.02 1556.27 1362.39 1554.99 Q1360.8 1553.72 1355.36 1552.54 L1353.32 1552.07 Q1347.88 1550.92 1345.46 1548.56 Q1343.04 1546.18 1343.04 1542.04 Q1343.04 1537.01 1346.61 1534.27 Q1350.17 1531.54 1356.73 1531.54 Q1359.98 1531.54 1362.84 1532.01 Q1365.71 1532.49 1368.12 1533.45 Z\" fill=\"#000000\" fill-rule=\"nonzero\" fill-opacity=\"1\" /><polyline clip-path=\"url(#clip022)\" style=\"stroke:#000000; stroke-linecap:round; stroke-linejoin:round; stroke-width:2; stroke-opacity:0.1; fill:none\" points=\"178.867,1285.09 2352.76,1285.09 \"/>\n",
       "<polyline clip-path=\"url(#clip022)\" style=\"stroke:#000000; stroke-linecap:round; stroke-linejoin:round; stroke-width:2; stroke-opacity:0.1; fill:none\" points=\"178.867,941.025 2352.76,941.025 \"/>\n",
       "<polyline clip-path=\"url(#clip022)\" style=\"stroke:#000000; stroke-linecap:round; stroke-linejoin:round; stroke-width:2; stroke-opacity:0.1; fill:none\" points=\"178.867,596.96 2352.76,596.96 \"/>\n",
       "<polyline clip-path=\"url(#clip022)\" style=\"stroke:#000000; stroke-linecap:round; stroke-linejoin:round; stroke-width:2; stroke-opacity:0.1; fill:none\" points=\"178.867,252.895 2352.76,252.895 \"/>\n",
       "<polyline clip-path=\"url(#clip020)\" style=\"stroke:#000000; stroke-linecap:round; stroke-linejoin:round; stroke-width:4; stroke-opacity:1; fill:none\" points=\"178.867,1423.18 178.867,123.472 \"/>\n",
       "<polyline clip-path=\"url(#clip020)\" style=\"stroke:#000000; stroke-linecap:round; stroke-linejoin:round; stroke-width:4; stroke-opacity:1; fill:none\" points=\"178.867,1285.09 197.764,1285.09 \"/>\n",
       "<polyline clip-path=\"url(#clip020)\" style=\"stroke:#000000; stroke-linecap:round; stroke-linejoin:round; stroke-width:4; stroke-opacity:1; fill:none\" points=\"178.867,941.025 197.764,941.025 \"/>\n",
       "<polyline clip-path=\"url(#clip020)\" style=\"stroke:#000000; stroke-linecap:round; stroke-linejoin:round; stroke-width:4; stroke-opacity:1; fill:none\" points=\"178.867,596.96 197.764,596.96 \"/>\n",
       "<polyline clip-path=\"url(#clip020)\" style=\"stroke:#000000; stroke-linecap:round; stroke-linejoin:round; stroke-width:4; stroke-opacity:1; fill:none\" points=\"178.867,252.895 197.764,252.895 \"/>\n",
       "<path clip-path=\"url(#clip020)\" d=\"M51.9875 1285.54 L81.6633 1285.54 L81.6633 1289.48 L51.9875 1289.48 L51.9875 1285.54 Z\" fill=\"#000000\" fill-rule=\"nonzero\" fill-opacity=\"1\" /><path clip-path=\"url(#clip020)\" d=\"M95.7836 1298.44 L112.103 1298.44 L112.103 1302.37 L90.1586 1302.37 L90.1586 1298.44 Q92.8206 1295.68 97.4039 1291.05 Q102.01 1286.4 103.191 1285.06 Q105.436 1282.53 106.316 1280.8 Q107.219 1279.04 107.219 1277.35 Q107.219 1274.59 105.274 1272.86 Q103.353 1271.12 100.251 1271.12 Q98.0521 1271.12 95.5984 1271.88 Q93.1678 1272.65 90.3901 1274.2 L90.3901 1269.48 Q93.2141 1268.34 95.6678 1267.76 Q98.1215 1267.19 100.159 1267.19 Q105.529 1267.19 108.723 1269.87 Q111.918 1272.56 111.918 1277.05 Q111.918 1279.18 111.108 1281.1 Q110.321 1283 108.214 1285.59 Q107.635 1286.26 104.534 1289.48 Q101.432 1292.67 95.7836 1298.44 Z\" fill=\"#000000\" fill-rule=\"nonzero\" fill-opacity=\"1\" /><path clip-path=\"url(#clip020)\" d=\"M121.964 1267.81 L140.32 1267.81 L140.32 1271.75 L126.246 1271.75 L126.246 1280.22 Q127.265 1279.87 128.283 1279.71 Q129.302 1279.52 130.32 1279.52 Q136.107 1279.52 139.487 1282.69 Q142.867 1285.87 142.867 1291.28 Q142.867 1296.86 139.394 1299.96 Q135.922 1303.04 129.603 1303.04 Q127.427 1303.04 125.158 1302.67 Q122.913 1302.3 120.506 1301.56 L120.506 1296.86 Q122.589 1298 124.811 1298.55 Q127.033 1299.11 129.51 1299.11 Q133.515 1299.11 135.853 1297 Q138.191 1294.89 138.191 1291.28 Q138.191 1287.67 135.853 1285.57 Q133.515 1283.46 129.51 1283.46 Q127.635 1283.46 125.76 1283.88 Q123.908 1284.29 121.964 1285.17 L121.964 1267.81 Z\" fill=\"#000000\" fill-rule=\"nonzero\" fill-opacity=\"1\" /><path clip-path=\"url(#clip020)\" d=\"M50.9921 941.477 L80.6679 941.477 L80.6679 945.412 L50.9921 945.412 L50.9921 941.477 Z\" fill=\"#000000\" fill-rule=\"nonzero\" fill-opacity=\"1\" /><path clip-path=\"url(#clip020)\" d=\"M94.7882 954.37 L111.108 954.37 L111.108 958.305 L89.1632 958.305 L89.1632 954.37 Q91.8252 951.616 96.4085 946.986 Q101.015 942.333 102.196 940.991 Q104.441 938.467 105.321 936.731 Q106.223 934.972 106.223 933.282 Q106.223 930.528 104.279 928.792 Q102.358 927.056 99.2558 927.056 Q97.0567 927.056 94.603 927.819 Q92.1725 928.583 89.3947 930.134 L89.3947 925.412 Q92.2188 924.278 94.6724 923.699 Q97.1261 923.12 99.1632 923.12 Q104.534 923.12 107.728 925.806 Q110.922 928.491 110.922 932.981 Q110.922 935.111 110.112 937.032 Q109.325 938.93 107.219 941.523 Q106.64 942.194 103.538 945.412 Q100.436 948.606 94.7882 954.37 Z\" fill=\"#000000\" fill-rule=\"nonzero\" fill-opacity=\"1\" /><path clip-path=\"url(#clip020)\" d=\"M130.922 926.824 Q127.311 926.824 125.482 930.389 Q123.677 933.93 123.677 941.06 Q123.677 948.167 125.482 951.731 Q127.311 955.273 130.922 955.273 Q134.556 955.273 136.362 951.731 Q138.191 948.167 138.191 941.06 Q138.191 933.93 136.362 930.389 Q134.556 926.824 130.922 926.824 M130.922 923.12 Q136.732 923.12 139.788 927.727 Q142.867 932.31 142.867 941.06 Q142.867 949.787 139.788 954.393 Q136.732 958.977 130.922 958.977 Q125.112 958.977 122.033 954.393 Q118.978 949.787 118.978 941.06 Q118.978 932.31 122.033 927.727 Q125.112 923.12 130.922 923.12 Z\" fill=\"#000000\" fill-rule=\"nonzero\" fill-opacity=\"1\" /><path clip-path=\"url(#clip020)\" d=\"M51.9875 597.411 L81.6633 597.411 L81.6633 601.347 L51.9875 601.347 L51.9875 597.411 Z\" fill=\"#000000\" fill-rule=\"nonzero\" fill-opacity=\"1\" /><path clip-path=\"url(#clip020)\" d=\"M92.566 610.305 L100.205 610.305 L100.205 583.939 L91.8947 585.606 L91.8947 581.347 L100.159 579.68 L104.834 579.68 L104.834 610.305 L112.473 610.305 L112.473 614.24 L92.566 614.24 L92.566 610.305 Z\" fill=\"#000000\" fill-rule=\"nonzero\" fill-opacity=\"1\" /><path clip-path=\"url(#clip020)\" d=\"M121.964 579.68 L140.32 579.68 L140.32 583.615 L126.246 583.615 L126.246 592.087 Q127.265 591.74 128.283 591.578 Q129.302 591.393 130.32 591.393 Q136.107 591.393 139.487 594.564 Q142.867 597.735 142.867 603.152 Q142.867 608.731 139.394 611.833 Q135.922 614.911 129.603 614.911 Q127.427 614.911 125.158 614.541 Q122.913 614.171 120.506 613.43 L120.506 608.731 Q122.589 609.865 124.811 610.421 Q127.033 610.976 129.51 610.976 Q133.515 610.976 135.853 608.87 Q138.191 606.763 138.191 603.152 Q138.191 599.541 135.853 597.435 Q133.515 595.328 129.51 595.328 Q127.635 595.328 125.76 595.745 Q123.908 596.161 121.964 597.041 L121.964 579.68 Z\" fill=\"#000000\" fill-rule=\"nonzero\" fill-opacity=\"1\" /><path clip-path=\"url(#clip020)\" d=\"M50.9921 253.346 L80.6679 253.346 L80.6679 257.281 L50.9921 257.281 L50.9921 253.346 Z\" fill=\"#000000\" fill-rule=\"nonzero\" fill-opacity=\"1\" /><path clip-path=\"url(#clip020)\" d=\"M91.5706 266.239 L99.2095 266.239 L99.2095 239.874 L90.8993 241.541 L90.8993 237.281 L99.1632 235.615 L103.839 235.615 L103.839 266.239 L111.478 266.239 L111.478 270.175 L91.5706 270.175 L91.5706 266.239 Z\" fill=\"#000000\" fill-rule=\"nonzero\" fill-opacity=\"1\" /><path clip-path=\"url(#clip020)\" d=\"M130.922 238.693 Q127.311 238.693 125.482 242.258 Q123.677 245.8 123.677 252.929 Q123.677 260.036 125.482 263.601 Q127.311 267.142 130.922 267.142 Q134.556 267.142 136.362 263.601 Q138.191 260.036 138.191 252.929 Q138.191 245.8 136.362 242.258 Q134.556 238.693 130.922 238.693 M130.922 234.99 Q136.732 234.99 139.788 239.596 Q142.867 244.179 142.867 252.929 Q142.867 261.656 139.788 266.263 Q136.732 270.846 130.922 270.846 Q125.112 270.846 122.033 266.263 Q118.978 261.656 118.978 252.929 Q118.978 244.179 122.033 239.596 Q125.112 234.99 130.922 234.99 Z\" fill=\"#000000\" fill-rule=\"nonzero\" fill-opacity=\"1\" /><path clip-path=\"url(#clip020)\" d=\"M768.786 72.576 L745.695 12.096 L754.243 12.096 L773.404 63.0159 L792.605 12.096 L801.112 12.096 L778.062 72.576 L768.786 72.576 Z\" fill=\"#000000\" fill-rule=\"nonzero\" fill-opacity=\"1\" /><path clip-path=\"url(#clip020)\" d=\"M823.797 49.7694 Q814.763 49.7694 811.28 51.8354 Q807.796 53.9013 807.796 58.8839 Q807.796 62.8538 810.388 65.2034 Q813.021 67.5124 817.518 67.5124 Q823.716 67.5124 827.443 63.1374 Q831.21 58.7219 831.21 51.4303 L831.21 49.7694 L823.797 49.7694 M838.664 46.6907 L838.664 72.576 L831.21 72.576 L831.21 65.6895 Q828.658 69.8214 824.85 71.8063 Q821.042 73.7508 815.533 73.7508 Q808.565 73.7508 804.434 69.8619 Q800.342 65.9325 800.342 59.3701 Q800.342 51.7138 805.446 47.825 Q810.591 43.9361 820.759 43.9361 L831.21 43.9361 L831.21 43.2069 Q831.21 38.0623 827.807 35.2672 Q824.445 32.4315 818.328 32.4315 Q814.439 32.4315 810.753 33.3632 Q807.067 34.295 803.664 36.1584 L803.664 29.2718 Q807.755 27.692 811.604 26.9223 Q815.452 26.1121 819.098 26.1121 Q828.942 26.1121 833.803 31.2163 Q838.664 36.3204 838.664 46.6907 Z\" fill=\"#000000\" fill-rule=\"nonzero\" fill-opacity=\"1\" /><path clip-path=\"url(#clip020)\" d=\"M854.017 9.54393 L861.47 9.54393 L861.47 72.576 L854.017 72.576 L854.017 9.54393 Z\" fill=\"#000000\" fill-rule=\"nonzero\" fill-opacity=\"1\" /><path clip-path=\"url(#clip020)\" d=\"M876.297 54.671 L876.297 27.2059 L883.75 27.2059 L883.75 54.3874 Q883.75 60.8284 886.262 64.0691 Q888.773 67.2693 893.796 67.2693 Q899.832 67.2693 903.316 63.421 Q906.84 59.5726 906.84 52.9291 L906.84 27.2059 L914.294 27.2059 L914.294 72.576 L906.84 72.576 L906.84 65.6084 Q904.126 69.7404 900.521 71.7658 Q896.956 73.7508 892.217 73.7508 Q884.398 73.7508 880.347 68.8897 Q876.297 64.0286 876.297 54.671 M895.052 26.1121 L895.052 26.1121 Z\" fill=\"#000000\" fill-rule=\"nonzero\" fill-opacity=\"1\" /><path clip-path=\"url(#clip020)\" d=\"M968.455 48.0275 L968.455 51.6733 L934.184 51.6733 Q934.67 59.3701 938.802 63.421 Q942.974 67.4314 950.388 67.4314 Q954.682 67.4314 958.692 66.3781 Q962.743 65.3249 966.713 63.2184 L966.713 70.267 Q962.702 71.9684 958.489 72.8596 Q954.276 73.7508 949.942 73.7508 Q939.086 73.7508 932.726 67.4314 Q926.406 61.1119 926.406 50.3365 Q926.406 39.1965 932.402 32.6746 Q938.437 26.1121 948.646 26.1121 Q957.801 26.1121 963.107 32.0264 Q968.455 37.9003 968.455 48.0275 M961.001 45.84 Q960.92 39.7232 957.558 36.0774 Q954.236 32.4315 948.727 32.4315 Q942.488 32.4315 938.721 35.9558 Q934.994 39.4801 934.427 45.8805 L961.001 45.84 Z\" fill=\"#000000\" fill-rule=\"nonzero\" fill-opacity=\"1\" /><path clip-path=\"url(#clip020)\" d=\"M1030.03 9.54393 L1030.03 15.7418 L1022.9 15.7418 Q1018.89 15.7418 1017.31 17.3622 Q1015.77 18.9825 1015.77 23.1955 L1015.77 27.2059 L1028.04 27.2059 L1028.04 32.9987 L1015.77 32.9987 L1015.77 72.576 L1008.28 72.576 L1008.28 32.9987 L1001.15 32.9987 L1001.15 27.2059 L1008.28 27.2059 L1008.28 24.0462 Q1008.28 16.471 1011.8 13.0277 Q1015.32 9.54393 1022.98 9.54393 L1030.03 9.54393 Z\" fill=\"#000000\" fill-rule=\"nonzero\" fill-opacity=\"1\" /><path clip-path=\"url(#clip020)\" d=\"M1035.5 54.671 L1035.5 27.2059 L1042.95 27.2059 L1042.95 54.3874 Q1042.95 60.8284 1045.46 64.0691 Q1047.97 67.2693 1053 67.2693 Q1059.03 67.2693 1062.52 63.421 Q1066.04 59.5726 1066.04 52.9291 L1066.04 27.2059 L1073.49 27.2059 L1073.49 72.576 L1066.04 72.576 L1066.04 65.6084 Q1063.33 69.7404 1059.72 71.7658 Q1056.16 73.7508 1051.42 73.7508 Q1043.6 73.7508 1039.55 68.8897 Q1035.5 64.0286 1035.5 54.671 M1054.25 26.1121 L1054.25 26.1121 Z\" fill=\"#000000\" fill-rule=\"nonzero\" fill-opacity=\"1\" /><path clip-path=\"url(#clip020)\" d=\"M1126.56 45.1919 L1126.56 72.576 L1119.11 72.576 L1119.11 45.4349 Q1119.11 38.994 1116.6 35.7938 Q1114.08 32.5936 1109.06 32.5936 Q1103.03 32.5936 1099.54 36.4419 Q1096.06 40.2903 1096.06 46.9338 L1096.06 72.576 L1088.56 72.576 L1088.56 27.2059 L1096.06 27.2059 L1096.06 34.2544 Q1098.73 30.163 1102.34 28.1376 Q1105.98 26.1121 1110.72 26.1121 Q1118.54 26.1121 1122.55 30.9732 Q1126.56 35.7938 1126.56 45.1919 Z\" fill=\"#000000\" fill-rule=\"nonzero\" fill-opacity=\"1\" /><path clip-path=\"url(#clip020)\" d=\"M1174.08 28.9478 L1174.08 35.9153 Q1170.92 34.1734 1167.72 33.3227 Q1164.56 32.4315 1161.32 32.4315 Q1154.07 32.4315 1150.06 37.0496 Q1146.05 41.6271 1146.05 49.9314 Q1146.05 58.2358 1150.06 62.8538 Q1154.07 67.4314 1161.32 67.4314 Q1164.56 67.4314 1167.72 66.5807 Q1170.92 65.6895 1174.08 63.9476 L1174.08 70.8341 Q1170.96 72.2924 1167.6 73.0216 Q1164.28 73.7508 1160.51 73.7508 Q1150.26 73.7508 1144.22 67.3098 Q1138.19 60.8689 1138.19 49.9314 Q1138.19 38.832 1144.26 32.472 Q1150.38 26.1121 1160.99 26.1121 Q1164.44 26.1121 1167.72 26.8413 Q1171 27.5299 1174.08 28.9478 Z\" fill=\"#000000\" fill-rule=\"nonzero\" fill-opacity=\"1\" /><path clip-path=\"url(#clip020)\" d=\"M1194.41 14.324 L1194.41 27.2059 L1209.77 27.2059 L1209.77 32.9987 L1194.41 32.9987 L1194.41 57.6282 Q1194.41 63.1779 1195.91 64.7578 Q1197.45 66.3376 1202.11 66.3376 L1209.77 66.3376 L1209.77 72.576 L1202.11 72.576 Q1193.48 72.576 1190.2 69.3758 Q1186.92 66.1351 1186.92 57.6282 L1186.92 32.9987 L1181.45 32.9987 L1181.45 27.2059 L1186.92 27.2059 L1186.92 14.324 L1194.41 14.324 Z\" fill=\"#000000\" fill-rule=\"nonzero\" fill-opacity=\"1\" /><path clip-path=\"url(#clip020)\" d=\"M1219.57 27.2059 L1227.02 27.2059 L1227.02 72.576 L1219.57 72.576 L1219.57 27.2059 M1219.57 9.54393 L1227.02 9.54393 L1227.02 18.9825 L1219.57 18.9825 L1219.57 9.54393 Z\" fill=\"#000000\" fill-rule=\"nonzero\" fill-opacity=\"1\" /><path clip-path=\"url(#clip020)\" d=\"M1260.2 32.4315 Q1254.21 32.4315 1250.72 37.1306 Q1247.24 41.7891 1247.24 49.9314 Q1247.24 58.0738 1250.68 62.7728 Q1254.16 67.4314 1260.2 67.4314 Q1266.16 67.4314 1269.64 62.7323 Q1273.12 58.0333 1273.12 49.9314 Q1273.12 41.8701 1269.64 37.1711 Q1266.16 32.4315 1260.2 32.4315 M1260.2 26.1121 Q1269.92 26.1121 1275.47 32.4315 Q1281.02 38.7509 1281.02 49.9314 Q1281.02 61.0714 1275.47 67.4314 Q1269.92 73.7508 1260.2 73.7508 Q1250.44 73.7508 1244.89 67.4314 Q1239.38 61.0714 1239.38 49.9314 Q1239.38 38.7509 1244.89 32.4315 Q1250.44 26.1121 1260.2 26.1121 Z\" fill=\"#000000\" fill-rule=\"nonzero\" fill-opacity=\"1\" /><path clip-path=\"url(#clip020)\" d=\"M1331.09 45.1919 L1331.09 72.576 L1323.64 72.576 L1323.64 45.4349 Q1323.64 38.994 1321.13 35.7938 Q1318.61 32.5936 1313.59 32.5936 Q1307.56 32.5936 1304.07 36.4419 Q1300.59 40.2903 1300.59 46.9338 L1300.59 72.576 L1293.09 72.576 L1293.09 27.2059 L1300.59 27.2059 L1300.59 34.2544 Q1303.26 30.163 1306.87 28.1376 Q1310.51 26.1121 1315.25 26.1121 Q1323.07 26.1121 1327.08 30.9732 Q1331.09 35.7938 1331.09 45.1919 Z\" fill=\"#000000\" fill-rule=\"nonzero\" fill-opacity=\"1\" /><path clip-path=\"url(#clip020)\" d=\"M1395.3 9.54393 L1395.3 15.7418 L1388.17 15.7418 Q1384.16 15.7418 1382.58 17.3622 Q1381.04 18.9825 1381.04 23.1955 L1381.04 27.2059 L1393.31 27.2059 L1393.31 32.9987 L1381.04 32.9987 L1381.04 72.576 L1373.55 72.576 L1373.55 32.9987 L1366.42 32.9987 L1366.42 27.2059 L1373.55 27.2059 L1373.55 24.0462 Q1373.55 16.471 1377.07 13.0277 Q1380.59 9.54393 1388.25 9.54393 L1395.3 9.54393 Z\" fill=\"#000000\" fill-rule=\"nonzero\" fill-opacity=\"1\" /><path clip-path=\"url(#clip020)\" d=\"M1419.12 32.4315 Q1413.12 32.4315 1409.64 37.1306 Q1406.15 41.7891 1406.15 49.9314 Q1406.15 58.0738 1409.6 62.7728 Q1413.08 67.4314 1419.12 67.4314 Q1425.07 67.4314 1428.56 62.7323 Q1432.04 58.0333 1432.04 49.9314 Q1432.04 41.8701 1428.56 37.1711 Q1425.07 32.4315 1419.12 32.4315 M1419.12 26.1121 Q1428.84 26.1121 1434.39 32.4315 Q1439.94 38.7509 1439.94 49.9314 Q1439.94 61.0714 1434.39 67.4314 Q1428.84 73.7508 1419.12 73.7508 Q1409.36 73.7508 1403.81 67.4314 Q1398.3 61.0714 1398.3 49.9314 Q1398.3 38.7509 1403.81 32.4315 Q1409.36 26.1121 1419.12 26.1121 Z\" fill=\"#000000\" fill-rule=\"nonzero\" fill-opacity=\"1\" /><path clip-path=\"url(#clip020)\" d=\"M1478.59 34.1734 Q1477.33 33.4443 1475.83 33.1202 Q1474.37 32.7556 1472.59 32.7556 Q1466.27 32.7556 1462.87 36.8875 Q1459.51 40.9789 1459.51 48.6757 L1459.51 72.576 L1452.01 72.576 L1452.01 27.2059 L1459.51 27.2059 L1459.51 34.2544 Q1461.85 30.1225 1465.62 28.1376 Q1469.39 26.1121 1474.78 26.1121 Q1475.55 26.1121 1476.48 26.2337 Q1477.41 26.3147 1478.54 26.5172 L1478.59 34.1734 Z\" fill=\"#000000\" fill-rule=\"nonzero\" fill-opacity=\"1\" /><path clip-path=\"url(#clip020)\" d=\"M1533.39 49.7694 Q1524.36 49.7694 1520.88 51.8354 Q1517.39 53.9013 1517.39 58.8839 Q1517.39 62.8538 1519.99 65.2034 Q1522.62 67.5124 1527.11 67.5124 Q1533.31 67.5124 1537.04 63.1374 Q1540.81 58.7219 1540.81 51.4303 L1540.81 49.7694 L1533.39 49.7694 M1548.26 46.6907 L1548.26 72.576 L1540.81 72.576 L1540.81 65.6895 Q1538.25 69.8214 1534.45 71.8063 Q1530.64 73.7508 1525.13 73.7508 Q1518.16 73.7508 1514.03 69.8619 Q1509.94 65.9325 1509.94 59.3701 Q1509.94 51.7138 1515.04 47.825 Q1520.19 43.9361 1530.36 43.9361 L1540.81 43.9361 L1540.81 43.2069 Q1540.81 38.0623 1537.4 35.2672 Q1534.04 32.4315 1527.93 32.4315 Q1524.04 32.4315 1520.35 33.3632 Q1516.66 34.295 1513.26 36.1584 L1513.26 29.2718 Q1517.35 27.692 1521.2 26.9223 Q1525.05 26.1121 1528.69 26.1121 Q1538.54 26.1121 1543.4 31.2163 Q1548.26 36.3204 1548.26 46.6907 Z\" fill=\"#000000\" fill-rule=\"nonzero\" fill-opacity=\"1\" /><path clip-path=\"url(#clip020)\" d=\"M1593.47 49.3643 Q1593.47 41.2625 1590.11 36.8065 Q1586.78 32.3505 1580.75 32.3505 Q1574.75 32.3505 1571.39 36.8065 Q1568.07 41.2625 1568.07 49.3643 Q1568.07 57.4256 1571.39 61.8816 Q1574.75 66.3376 1580.75 66.3376 Q1586.78 66.3376 1590.11 61.8816 Q1593.47 57.4256 1593.47 49.3643 M1600.92 66.9452 Q1600.92 78.5308 1595.78 84.1616 Q1590.63 89.8329 1580.02 89.8329 Q1576.09 89.8329 1572.61 89.2252 Q1569.12 88.6581 1565.84 87.4428 L1565.84 80.1917 Q1569.12 81.9741 1572.32 82.8248 Q1575.52 83.6755 1578.84 83.6755 Q1586.18 83.6755 1589.82 79.8271 Q1593.47 76.0193 1593.47 68.282 L1593.47 64.5957 Q1591.16 68.6061 1587.55 70.5911 Q1583.95 72.576 1578.93 72.576 Q1570.58 72.576 1565.48 66.2161 Q1560.37 59.8562 1560.37 49.3643 Q1560.37 38.832 1565.48 32.472 Q1570.58 26.1121 1578.93 26.1121 Q1583.95 26.1121 1587.55 28.0971 Q1591.16 30.082 1593.47 34.0924 L1593.47 27.2059 L1600.92 27.2059 L1600.92 66.9452 Z\" fill=\"#000000\" fill-rule=\"nonzero\" fill-opacity=\"1\" /><path clip-path=\"url(#clip020)\" d=\"M1655.08 48.0275 L1655.08 51.6733 L1620.81 51.6733 Q1621.3 59.3701 1625.43 63.421 Q1629.6 67.4314 1637.02 67.4314 Q1641.31 67.4314 1645.32 66.3781 Q1649.37 65.3249 1653.34 63.2184 L1653.34 70.267 Q1649.33 71.9684 1645.12 72.8596 Q1640.9 73.7508 1636.57 73.7508 Q1625.71 73.7508 1619.35 67.4314 Q1613.03 61.1119 1613.03 50.3365 Q1613.03 39.1965 1619.03 32.6746 Q1625.07 26.1121 1635.27 26.1121 Q1644.43 26.1121 1649.74 32.0264 Q1655.08 37.9003 1655.08 48.0275 M1647.63 45.84 Q1647.55 39.7232 1644.19 36.0774 Q1640.86 32.4315 1635.36 32.4315 Q1629.12 32.4315 1625.35 35.9558 Q1621.62 39.4801 1621.06 45.8805 L1647.63 45.84 Z\" fill=\"#000000\" fill-rule=\"nonzero\" fill-opacity=\"1\" /><path clip-path=\"url(#clip020)\" d=\"M1694.82 12.096 L1726.95 12.096 L1726.95 18.9825 L1702.32 18.9825 L1702.32 33.8088 Q1704.1 33.2012 1705.88 32.9176 Q1707.66 32.5936 1709.45 32.5936 Q1719.57 32.5936 1725.49 38.1433 Q1731.4 43.6931 1731.4 53.1722 Q1731.4 62.9348 1725.33 68.3631 Q1719.25 73.7508 1708.19 73.7508 Q1704.38 73.7508 1700.41 73.1026 Q1696.48 72.4545 1692.27 71.1582 L1692.27 62.9348 Q1695.92 64.9198 1699.8 65.892 Q1703.69 66.8642 1708.03 66.8642 Q1715.04 66.8642 1719.13 63.1779 Q1723.22 59.4916 1723.22 53.1722 Q1723.22 46.8528 1719.13 43.1664 Q1715.04 39.4801 1708.03 39.4801 Q1704.75 39.4801 1701.47 40.2093 Q1698.23 40.9384 1694.82 42.4778 L1694.82 12.096 Z\" fill=\"#000000\" fill-rule=\"nonzero\" fill-opacity=\"1\" /><path clip-path=\"url(#clip020)\" d=\"M1765.02 17.4837 Q1758.71 17.4837 1755.5 23.7221 Q1752.35 29.92 1752.35 42.3968 Q1752.35 54.833 1755.5 61.0714 Q1758.71 67.2693 1765.02 67.2693 Q1771.38 67.2693 1774.54 61.0714 Q1777.74 54.833 1777.74 42.3968 Q1777.74 29.92 1774.54 23.7221 Q1771.38 17.4837 1765.02 17.4837 M1765.02 11.0023 Q1775.19 11.0023 1780.54 19.0636 Q1785.93 27.0843 1785.93 42.3968 Q1785.93 57.6687 1780.54 65.73 Q1775.19 73.7508 1765.02 73.7508 Q1754.86 73.7508 1749.47 65.73 Q1744.12 57.6687 1744.12 42.3968 Q1744.12 27.0843 1749.47 19.0636 Q1754.86 11.0023 1765.02 11.0023 Z\" fill=\"#000000\" fill-rule=\"nonzero\" fill-opacity=\"1\" /><polyline clip-path=\"url(#clip022)\" style=\"stroke:#009af9; stroke-linecap:round; stroke-linejoin:round; stroke-width:4; stroke-opacity:1; fill:none\" points=\"240.392,1386.4 242.445,1376.2 244.498,1366.2 246.55,1356.35 248.603,1346.69 250.656,1337.16 252.709,1327.85 254.762,1318.75 256.815,1309.87 258.868,1301.07 260.921,1292.46 262.974,1283.96 265.027,1275.63 267.079,1267.42 269.132,1259.37 271.185,1251.43 273.238,1243.65 275.291,1235.99 277.344,1228.46 279.397,1221.01 281.45,1213.69 283.503,1206.46 285.555,1199.32 287.608,1192.32 289.661,1185.39 291.714,1178.55 293.767,1171.86 295.82,1165.22 297.873,1158.68 299.926,1152.24 301.979,1145.88 304.031,1139.59 306.084,1133.38 308.137,1127.24 310.19,1121.19 312.243,1115.23 314.296,1109.33 316.349,1103.49 318.402,1097.75 320.455,1092.1 322.507,1086.5 324.56,1080.95 326.613,1075.48 328.666,1070.11 330.719,1064.78 332.772,1059.49 334.825,1054.29 336.878,1049.17 338.931,1044.1 340.984,1039.08 343.036,1034.12 345.089,1029.21 347.142,1024.36 349.195,1019.56 351.248,1014.83 353.301,1010.13 355.354,1005.48 357.407,1000.89 359.46,996.35 361.512,991.869 363.565,987.43 365.618,983.029 367.671,978.664 369.724,974.347 371.777,970.072 373.83,965.851 375.883,961.669 377.936,957.533 379.988,953.431 382.041,949.365 384.094,945.343 386.147,941.364 388.2,937.418 390.253,933.496 392.306,929.639 394.359,925.806 396.412,922.019 398.464,918.266 400.517,914.533 402.57,910.829 404.623,907.195 406.676,903.588 408.729,900.004 410.782,896.455 412.835,892.928 414.888,889.422 416.94,885.941 418.993,882.529 421.046,879.136 423.099,875.78 425.152,872.446 427.205,869.135 429.258,865.842 431.311,862.569 433.364,859.323 435.417,856.128 437.469,852.959 439.522,849.82 441.575,846.708 443.628,843.613 445.681,840.534 447.734,837.471 449.787,834.427 451.84,831.43 453.893,828.448 455.945,825.5 457.998,822.572 460.051,819.672 462.104,816.785 464.157,813.912 466.21,811.068 468.263,808.25 470.316,805.451 472.369,802.682 474.421,799.935 476.474,797.201 478.527,794.489 480.58,791.794 482.633,789.113 484.686,786.463 486.739,783.829 488.792,781.211 490.845,778.616 492.897,776.048 494.95,773.491 497.003,770.951 499.056,768.423 501.109,765.916 503.162,763.423 505.215,760.951 507.268,758.501 509.321,756.067 511.374,753.645 513.426,751.244 515.479,748.862 517.532,746.49 519.585,744.129 521.638,741.79 523.691,739.464 525.744,737.153 527.797,734.854 529.85,732.576 531.902,730.311 533.955,728.066 536.008,725.836 538.061,723.619 540.114,721.413 542.167,719.216 544.22,717.046 546.273,714.887 548.326,712.737 550.378,710.601 552.431,708.481 554.484,706.369 556.537,704.275 558.59,702.195 560.643,700.123 562.696,698.06 564.749,696.012 566.802,693.974 568.854,691.961 570.907,689.958 572.96,687.971 575.013,685.993 577.066,684.023 579.119,682.062 581.172,680.114 583.225,678.175 585.278,676.244 587.331,674.319 589.383,672.402 591.436,670.505 593.489,668.62 595.542,666.754 597.595,664.904 599.648,663.063 601.701,661.228 603.754,659.404 605.807,657.587 607.859,655.777 609.912,653.975 611.965,652.18 614.018,650.391 616.071,648.609 618.124,646.849 620.177,645.103 622.23,643.369 624.283,641.642 626.335,639.927 628.388,638.221 630.441,636.523 632.494,634.833 634.547,633.15 636.6,631.472 638.653,629.802 640.706,628.136 642.759,626.477 644.811,624.833 646.864,623.201 648.917,621.577 650.97,619.964 653.023,618.36 655.076,616.764 657.129,615.174 659.182,613.596 661.235,612.024 663.288,610.46 665.34,608.902 667.393,607.35 669.446,605.803 671.499,604.263 673.552,602.73 675.605,601.201 677.658,599.685 679.711,598.184 681.764,596.686 683.816,595.202 685.869,593.725 687.922,592.253 689.975,590.785 692.028,589.324 694.081,587.872 696.134,586.425 698.187,584.984 700.24,583.548 702.292,582.116 704.345,580.689 706.398,579.275 708.451,577.865 710.504,576.463 712.557,575.068 714.61,573.68 716.663,572.301 718.716,570.929 720.768,569.561 722.821,568.203 724.874,566.85 726.927,565.505 728.98,564.163 731.033,562.826 733.086,561.493 735.139,560.166 737.192,558.842 739.245,557.523 741.297,556.208 743.35,554.902 745.403,553.604 747.456,552.314 749.509,551.028 751.562,549.753 753.615,548.481 755.668,547.213 757.721,545.952 759.773,544.698 761.826,543.451 763.879,542.208 765.932,540.969 767.985,539.733 770.038,538.504 772.091,537.279 774.144,536.058 776.197,534.841 778.249,533.629 780.302,532.42 782.355,531.215 784.408,530.016 786.461,528.826 788.514,527.643 790.567,526.464 792.62,525.289 794.673,524.119 796.725,522.956 798.778,521.798 800.831,520.645 802.884,519.495 804.937,518.349 806.99,517.208 809.043,516.073 811.096,514.943 813.149,513.815 815.202,512.692 817.254,511.572 819.307,510.454 821.36,509.34 823.413,508.23 825.466,507.124 827.519,506.026 829.572,504.933 831.625,503.845 833.678,502.763 835.73,501.683 837.783,500.61 839.836,499.54 841.889,498.475 843.942,497.412 845.995,496.352 848.048,495.301 850.101,494.251 852.154,493.206 854.206,492.165 856.259,491.128 858.312,490.093 860.365,489.061 862.418,488.032 864.471,487.007 866.524,485.984 868.577,484.965 870.63,483.947 872.682,482.937 874.735,481.929 876.788,480.927 878.841,479.929 880.894,478.936 882.947,477.945 885,476.959 887.053,475.977 889.106,474.998 891.159,474.022 893.211,473.052 895.264,472.087 897.317,471.125 899.37,470.167 901.423,469.211 903.476,468.257 905.529,467.306 907.582,466.357 909.635,465.411 911.687,464.47 913.74,463.532 915.793,462.598 917.846,461.665 919.899,460.734 921.952,459.807 924.005,458.883 926.058,457.963 928.111,457.047 930.163,456.134 932.216,455.222 934.269,454.314 936.322,453.41 938.375,452.51 940.428,451.614 942.481,450.721 944.534,449.833 946.587,448.948 948.639,448.065 950.692,447.184 952.745,446.305 954.798,445.428 956.851,444.554 958.904,443.685 960.957,442.82 963.01,441.959 965.063,441.1 967.116,440.244 969.168,439.39 971.221,438.538 973.274,437.687 975.327,436.84 977.38,435.994 979.433,435.15 981.486,434.308 983.539,433.467 985.592,432.633 987.644,431.801 989.697,430.974 991.75,430.149 993.803,429.327 995.856,428.507 997.909,427.69 999.962,426.875 1002.01,426.062 1004.07,425.251 1006.12,424.444 1008.17,423.639 1010.23,422.837 1012.28,422.039 1014.33,421.243 1016.38,420.451 1018.44,419.66 1020.49,418.872 1022.54,418.087 1024.6,417.303 1026.65,416.52 1028.7,415.74 1030.76,414.961 1032.81,414.184 1034.86,413.412 1036.91,412.642 1038.97,411.874 1041.02,411.109 1043.07,410.345 1045.13,409.584 1047.18,408.825 1049.23,408.069 1051.28,407.315 1053.34,406.563 1055.39,405.813 1057.44,405.065 1059.5,404.319 1061.55,403.575 1063.6,402.835 1065.65,402.097 1067.71,401.361 1069.76,400.628 1071.81,399.898 1073.87,399.168 1075.92,398.443 1077.97,397.718 1080.02,396.995 1082.08,396.275 1084.13,395.555 1086.18,394.838 1088.24,394.123 1090.29,393.409 1092.34,392.697 1094.39,391.99 1096.45,391.285 1098.5,390.581 1100.55,389.879 1102.61,389.179 1104.66,388.482 1106.71,387.785 1108.77,387.091 1110.82,386.398 1112.87,385.707 1114.92,385.017 1116.98,384.329 1119.03,383.642 1121.08,382.96 1123.14,382.28 1125.19,381.601 1127.24,380.923 1129.29,380.249 1131.35,379.576 1133.4,378.906 1135.45,378.237 1137.51,377.57 1139.56,376.905 1141.61,376.241 1143.66,375.579 1145.72,374.918 1147.77,374.259 1149.82,373.601 1151.88,372.946 1153.93,372.294 1155.98,371.643 1158.03,370.994 1160.09,370.346 1162.14,369.701 1164.19,369.057 1166.25,368.415 1168.3,367.775 1170.35,367.137 1172.4,366.5 1174.46,365.864 1176.51,365.23 1178.56,364.597 1180.62,363.965 1182.67,363.335 1184.72,362.707 1186.77,362.08 1188.83,361.456 1190.88,360.835 1192.93,360.215 1194.99,359.597 1197.04,358.98 1199.09,358.365 1201.15,357.752 1203.2,357.14 1205.25,356.529 1207.3,355.92 1209.36,355.312 1211.41,354.705 1213.46,354.1 1215.52,353.495 1217.57,352.894 1219.62,352.295 1221.67,351.697 1223.73,351.099 1225.78,350.505 1227.83,349.912 1229.89,349.32 1231.94,348.729 1233.99,348.14 1236.04,347.553 1238.1,346.966 1240.15,346.382 1242.2,345.798 1244.26,345.217 1246.31,344.636 1248.36,344.056 1250.41,343.479 1252.47,342.902 1254.52,342.327 1256.57,341.753 1258.63,341.18 1260.68,340.61 1262.73,340.041 1264.78,339.475 1266.84,338.91 1268.89,338.346 1270.94,337.784 1273,337.222 1275.05,336.662 1277.1,336.103 1279.16,335.545 1281.21,334.988 1283.26,334.433 1285.31,333.878 1287.37,333.324 1289.42,332.773 1291.47,332.224 1293.53,331.676 1295.58,331.129 1297.63,330.583 1299.68,330.038 1301.74,329.496 1303.79,328.954 1305.84,328.414 1307.9,327.875 1309.95,327.338 1312,326.802 1314.05,326.267 1316.11,325.733 1318.16,325.2 1320.21,324.668 1322.27,324.137 1324.32,323.607 1326.37,323.078 1328.42,322.549 1330.48,322.025 1332.53,321.501 1334.58,320.978 1336.64,320.457 1338.69,319.937 1340.74,319.418 1342.79,318.9 1344.85,318.383 1346.9,317.867 1348.95,317.353 1351.01,316.84 1353.06,316.328 1355.11,315.818 1357.16,315.308 1359.22,314.8 1361.27,314.293 1363.32,313.786 1365.38,313.281 1367.43,312.777 1369.48,312.274 1371.54,311.771 1373.59,311.269 1375.64,310.769 1377.69,310.271 1379.75,309.775 1381.8,309.279 1383.85,308.784 1385.91,308.291 1387.96,307.799 1390.01,307.308 1392.06,306.817 1394.12,306.328 1396.17,305.84 1398.22,305.353 1400.28,304.866 1402.33,304.381 1404.38,303.897 1406.43,303.413 1408.49,302.93 1410.54,302.449 1412.59,301.969 1414.65,301.491 1416.7,301.013 1418.75,300.536 1420.8,300.061 1422.86,299.586 1424.91,299.113 1426.96,298.641 1429.02,298.17 1431.07,297.7 1433.12,297.231 1435.17,296.763 1437.23,296.296 1439.28,295.83 1441.33,295.365 1443.39,294.901 1445.44,294.438 1447.49,293.975 1449.55,293.513 1451.6,293.052 1453.65,292.591 1455.7,292.131 1457.76,291.674 1459.81,291.218 1461.86,290.763 1463.92,290.308 1465.97,289.855 1468.02,289.402 1470.07,288.951 1472.13,288.5 1474.18,288.05 1476.23,287.601 1478.29,287.154 1480.34,286.707 1482.39,286.261 1484.44,285.816 1486.5,285.373 1488.55,284.93 1490.6,284.488 1492.66,284.046 1494.71,283.606 1496.76,283.166 1498.81,282.727 1500.87,282.289 1502.92,281.852 1504.97,281.415 1507.03,280.979 1509.08,280.544 1511.13,280.111 1513.18,279.679 1515.24,279.248 1517.29,278.817 1519.34,278.388 1521.4,277.96 1523.45,277.532 1525.5,277.105 1527.55,276.679 1529.61,276.253 1531.66,275.829 1533.71,275.405 1535.77,274.982 1537.82,274.56 1539.87,274.138 1541.93,273.718 1543.98,273.298 1546.03,272.879 1548.08,272.462 1550.14,272.045 1552.19,271.628 1554.24,271.213 1556.3,270.798 1558.35,270.385 1560.4,269.971 1562.45,269.559 1564.51,269.147 1566.56,268.737 1568.61,268.328 1570.67,267.92 1572.72,267.512 1574.77,267.105 1576.82,266.699 1578.88,266.294 1580.93,265.889 1582.98,265.486 1585.04,265.082 1587.09,264.68 1589.14,264.279 1591.19,263.877 1593.25,263.477 1595.3,263.077 1597.35,262.678 1599.41,262.28 1601.46,261.882 1603.51,261.485 1605.56,261.089 1607.62,260.694 1609.67,260.301 1611.72,259.908 1613.78,259.515 1615.83,259.124 1617.88,258.733 1619.94,258.343 1621.99,257.953 1624.04,257.564 1626.09,257.176 1628.15,256.789 1630.2,256.402 1632.25,256.017 1634.31,255.632 1636.36,255.248 1638.41,254.865 1640.46,254.482 1642.52,254.1 1644.57,253.719 1646.62,253.338 1648.68,252.957 1650.73,252.578 1652.78,252.199 1654.83,251.82 1656.89,251.443 1658.94,251.065 1660.99,250.689 1663.05,250.313 1665.1,249.939 1667.15,249.565 1669.2,249.191 1671.26,248.819 1673.31,248.447 1675.36,248.077 1677.42,247.707 1679.47,247.338 1681.52,246.969 1683.57,246.601 1685.63,246.233 1687.68,245.866 1689.73,245.5 1691.79,245.133 1693.84,244.769 1695.89,244.404 1697.94,244.041 1700,243.678 1702.05,243.316 1704.1,242.955 1706.16,242.594 1708.21,242.233 1710.26,241.873 1712.32,241.514 1714.37,241.155 1716.42,240.797 1718.47,240.439 1720.53,240.082 1722.58,239.726 1724.63,239.37 1726.69,239.015 1728.74,238.661 1730.79,238.308 1732.84,237.955 1734.9,237.603 1736.95,237.252 1739,236.901 1741.06,236.55 1743.11,236.201 1745.16,235.852 1747.21,235.504 1749.27,235.157 1751.32,234.81 1753.37,234.463 1755.43,234.117 1757.48,233.772 1759.53,233.427 1761.58,233.082 1763.64,232.739 1765.69,232.395 1767.74,232.053 1769.8,231.711 1771.85,231.369 1773.9,231.028 1775.95,230.688 1778.01,230.349 1780.06,230.01 1782.11,229.672 1784.17,229.334 1786.22,228.997 1788.27,228.66 1790.33,228.324 1792.38,227.988 1794.43,227.653 1796.48,227.318 1798.54,226.984 1800.59,226.652 1802.64,226.319 1804.7,225.987 1806.75,225.656 1808.8,225.325 1810.85,224.995 1812.91,224.665 1814.96,224.336 1817.01,224.008 1819.07,223.68 1821.12,223.352 1823.17,223.026 1825.22,222.699 1827.28,222.374 1829.33,222.048 1831.38,221.723 1833.44,221.399 1835.49,221.075 1837.54,220.751 1839.59,220.428 1841.65,220.105 1843.7,219.783 1845.75,219.462 1847.81,219.142 1849.86,218.822 1851.91,218.503 1853.96,218.184 1856.02,217.866 1858.07,217.548 1860.12,217.231 1862.18,216.914 1864.23,216.598 1866.28,216.281 1868.34,215.966 1870.39,215.651 1872.44,215.336 1874.49,215.023 1876.55,214.709 1878.6,214.397 1880.65,214.085 1882.71,213.773 1884.76,213.462 1886.81,213.152 1888.86,212.842 1890.92,212.532 1892.97,212.222 1895.02,211.914 1897.08,211.606 1899.13,211.298 1901.18,210.991 1903.23,210.684 1905.29,210.378 1907.34,210.072 1909.39,209.766 1911.45,209.461 1913.5,209.156 1915.55,208.853 1917.6,208.549 1919.66,208.246 1921.71,207.944 1923.76,207.642 1925.82,207.34 1927.87,207.04 1929.92,206.739 1931.97,206.439 1934.03,206.14 1936.08,205.842 1938.13,205.543 1940.19,205.245 1942.24,204.948 1944.29,204.651 1946.34,204.354 1948.4,204.058 1950.45,203.762 1952.5,203.466 1954.56,203.171 1956.61,202.876 1958.66,202.582 1960.72,202.289 1962.77,201.996 1964.82,201.704 1966.87,201.411 1968.93,201.12 1970.98,200.829 1973.03,200.538 1975.09,200.248 1977.14,199.958 1979.19,199.668 1981.24,199.379 1983.3,199.091 1985.35,198.803 1987.4,198.516 1989.46,198.228 1991.51,197.941 1993.56,197.655 1995.61,197.368 1997.67,197.083 1999.72,196.798 2001.77,196.514 2003.83,196.23 2005.88,195.946 2007.93,195.663 2009.98,195.38 2012.04,195.098 2014.09,194.815 2016.14,194.534 2018.2,194.253 2020.25,193.972 2022.3,193.692 2024.35,193.413 2026.41,193.134 2028.46,192.855 2030.51,192.576 2032.57,192.298 2034.62,192.02 2036.67,191.742 2038.73,191.465 2040.78,191.188 2042.83,190.911 2044.88,190.635 2046.94,190.36 2048.99,190.085 2051.04,189.811 2053.1,189.537 2055.15,189.263 2057.2,188.99 2059.25,188.718 2061.31,188.445 2063.36,188.173 2065.41,187.902 2067.47,187.63 2069.52,187.36 2071.57,187.089 2073.62,186.819 2075.68,186.55 2077.73,186.28 2079.78,186.011 2081.84,185.742 2083.89,185.474 2085.94,185.206 2087.99,184.939 2090.05,184.672 2092.1,184.406 2094.15,184.14 2096.21,183.874 2098.26,183.609 2100.31,183.344 2102.36,183.079 2104.42,182.815 2106.47,182.551 2108.52,182.287 2110.58,182.024 2112.63,181.762 2114.68,181.499 2116.73,181.238 2118.79,180.976 2120.84,180.715 2122.89,180.454 2124.95,180.194 2127,179.934 2129.05,179.674 2131.11,179.414 2133.16,179.155 2135.21,178.896 2137.26,178.637 2139.32,178.38 2141.37,178.122 2143.42,177.865 2145.48,177.608 2147.53,177.352 2149.58,177.096 2151.63,176.841 2153.69,176.586 2155.74,176.331 2157.79,176.076 2159.85,175.822 2161.9,175.568 2163.95,175.315 2166,175.061 2168.06,174.809 2170.11,174.556 2172.16,174.304 2174.22,174.052 2176.27,173.8 2178.32,173.549 2180.37,173.298 2182.43,173.048 2184.48,172.798 2186.53,172.548 2188.59,172.299 2190.64,172.05 2192.69,171.801 2194.74,171.553 2196.8,171.305 2198.85,171.058 2200.9,170.81 2202.96,170.563 2205.01,170.317 2207.06,170.07 2209.12,169.824 2211.17,169.579 2213.22,169.334 2215.27,169.089 2217.33,168.845 2219.38,168.601 2221.43,168.357 2223.49,168.113 2225.54,167.87 2227.59,167.627 2229.64,167.384 2231.7,167.142 2233.75,166.9 2235.8,166.658 2237.86,166.416 2239.91,166.175 2241.96,165.935 2244.01,165.694 2246.07,165.455 2248.12,165.215 2250.17,164.976 2252.23,164.737 2254.28,164.499 2256.33,164.261 2258.38,164.023 2260.44,163.785 2262.49,163.547 2264.54,163.31 2266.6,163.074 2268.65,162.837 2270.7,162.601 2272.75,162.365 2274.81,162.129 2276.86,161.894 2278.91,161.659 2280.97,161.425 2283.02,161.19 2285.07,160.956 2287.12,160.723 2289.18,160.489 2291.23,160.256 \"/>\n",
       "<path clip-path=\"url(#clip020)\" d=\"M251.33 270.476 L562.746 270.476 L562.746 166.796 L251.33 166.796  Z\" fill=\"#ffffff\" fill-rule=\"evenodd\" fill-opacity=\"1\"/>\n",
       "<polyline clip-path=\"url(#clip020)\" style=\"stroke:#000000; stroke-linecap:round; stroke-linejoin:round; stroke-width:4; stroke-opacity:1; fill:none\" points=\"251.33,270.476 562.746,270.476 562.746,166.796 251.33,166.796 251.33,270.476 \"/>\n",
       "<polyline clip-path=\"url(#clip020)\" style=\"stroke:#009af9; stroke-linecap:round; stroke-linejoin:round; stroke-width:4; stroke-opacity:1; fill:none\" points=\"275.484,218.636 420.41,218.636 \"/>\n",
       "<path clip-path=\"url(#clip020)\" d=\"M457.759 235.916 L444.564 201.356 L449.448 201.356 L460.397 230.453 L471.37 201.356 L476.231 201.356 L463.059 235.916 L457.759 235.916 Z\" fill=\"#000000\" fill-rule=\"nonzero\" fill-opacity=\"1\" /><path clip-path=\"url(#clip020)\" d=\"M491.323 199.944 Q488.221 205.268 486.717 210.476 Q485.212 215.684 485.212 221.032 Q485.212 226.379 486.717 231.633 Q488.245 236.865 491.323 242.166 L487.62 242.166 Q484.147 236.726 482.411 231.471 Q480.698 226.217 480.698 221.032 Q480.698 215.87 482.411 210.638 Q484.124 205.407 487.62 199.944 L491.323 199.944 Z\" fill=\"#000000\" fill-rule=\"nonzero\" fill-opacity=\"1\" /><path clip-path=\"url(#clip020)\" d=\"M511.369 222.883 Q506.207 222.883 504.217 224.064 Q502.226 225.244 502.226 228.092 Q502.226 230.36 503.707 231.703 Q505.212 233.022 507.781 233.022 Q511.323 233.022 513.453 230.522 Q515.605 227.999 515.605 223.832 L515.605 222.883 L511.369 222.883 M519.865 221.124 L519.865 235.916 L515.605 235.916 L515.605 231.981 Q514.147 234.342 511.971 235.476 Q509.795 236.587 506.647 236.587 Q502.666 236.587 500.305 234.365 Q497.967 232.119 497.967 228.369 Q497.967 223.994 500.883 221.772 Q503.823 219.55 509.633 219.55 L515.605 219.55 L515.605 219.133 Q515.605 216.194 513.661 214.596 Q511.74 212.976 508.244 212.976 Q506.022 212.976 503.916 213.508 Q501.809 214.041 499.865 215.106 L499.865 211.17 Q502.203 210.268 504.402 209.828 Q506.601 209.365 508.684 209.365 Q514.309 209.365 517.087 212.282 Q519.865 215.198 519.865 221.124 Z\" fill=\"#000000\" fill-rule=\"nonzero\" fill-opacity=\"1\" /><path clip-path=\"url(#clip020)\" d=\"M527.967 199.944 L531.67 199.944 Q535.142 205.407 536.855 210.638 Q538.591 215.87 538.591 221.032 Q538.591 226.217 536.855 231.471 Q535.142 236.726 531.67 242.166 L527.967 242.166 Q531.045 236.865 532.55 231.633 Q534.078 226.379 534.078 221.032 Q534.078 215.684 532.55 210.476 Q531.045 205.268 527.967 199.944 Z\" fill=\"#000000\" fill-rule=\"nonzero\" fill-opacity=\"1\" /></svg>\n"
      ]
     },
     "metadata": {},
     "output_type": "display_data"
    }
   ],
   "source": [
    "plot(prim.a_grid, res.Vʳ[end-16,:], label = \"V(a)\", title = \"Value function for age 50\")\n",
    "xlabel!(\"Assets\")"
   ]
  },
  {
   "cell_type": "code",
   "execution_count": 4,
   "metadata": {},
   "outputs": [
    {
     "data": {
      "image/png": "[encoded data removed]",
      "image/svg+xml": [
       "<?xml version=\"1.0\" encoding=\"utf-8\"?>\n",
       "<svg xmlns=\"http://www.w3.org/2000/svg\" xmlns:xlink=\"http://www.w3.org/1999/xlink\" width=\"600\" height=\"400\" viewBox=\"0 0 2400 1600\">\n",
       "<defs>\n",
       "  <clipPath id=\"clip060\">\n",
       "    <rect x=\"0\" y=\"0\" width=\"2400\" height=\"1600\"/>\n",
       "  </clipPath>\n",
       "</defs>\n",
       "<path clip-path=\"url(#clip060)\" d=\"M0 1600 L2400 1600 L2400 8.88178e-14 L0 8.88178e-14  Z\" fill=\"#ffffff\" fill-rule=\"evenodd\" fill-opacity=\"1\"/>\n",
       "<defs>\n",
       "  <clipPath id=\"clip061\">\n",
       "    <rect x=\"480\" y=\"0\" width=\"1681\" height=\"1600\"/>\n",
       "  </clipPath>\n",
       "</defs>\n",
       "<path clip-path=\"url(#clip060)\" d=\"M242.135 1423.18 L2352.76 1423.18 L2352.76 123.472 L242.135 123.472  Z\" fill=\"#ffffff\" fill-rule=\"evenodd\" fill-opacity=\"1\"/>\n",
       "<defs>\n",
       "  <clipPath id=\"clip062\">\n",
       "    <rect x=\"242\" y=\"123\" width=\"2112\" height=\"1301\"/>\n",
       "  </clipPath>\n",
       "</defs>\n",
       "<polyline clip-path=\"url(#clip062)\" style=\"stroke:#000000; stroke-linecap:round; stroke-linejoin:round; stroke-width:2; stroke-opacity:0.1; fill:none\" points=\"301.803,1423.18 301.803,123.472 \"/>\n",
       "<polyline clip-path=\"url(#clip062)\" style=\"stroke:#000000; stroke-linecap:round; stroke-linejoin:round; stroke-width:2; stroke-opacity:0.1; fill:none\" points=\"965.542,1423.18 965.542,123.472 \"/>\n",
       "<polyline clip-path=\"url(#clip062)\" style=\"stroke:#000000; stroke-linecap:round; stroke-linejoin:round; stroke-width:2; stroke-opacity:0.1; fill:none\" points=\"1629.28,1423.18 1629.28,123.472 \"/>\n",
       "<polyline clip-path=\"url(#clip062)\" style=\"stroke:#000000; stroke-linecap:round; stroke-linejoin:round; stroke-width:2; stroke-opacity:0.1; fill:none\" points=\"2293.02,1423.18 2293.02,123.472 \"/>\n",
       "<polyline clip-path=\"url(#clip060)\" style=\"stroke:#000000; stroke-linecap:round; stroke-linejoin:round; stroke-width:4; stroke-opacity:1; fill:none\" points=\"242.135,1423.18 2352.76,1423.18 \"/>\n",
       "<polyline clip-path=\"url(#clip060)\" style=\"stroke:#000000; stroke-linecap:round; stroke-linejoin:round; stroke-width:4; stroke-opacity:1; fill:none\" points=\"301.803,1423.18 301.803,1404.28 \"/>\n",
       "<polyline clip-path=\"url(#clip060)\" style=\"stroke:#000000; stroke-linecap:round; stroke-linejoin:round; stroke-width:4; stroke-opacity:1; fill:none\" points=\"965.542,1423.18 965.542,1404.28 \"/>\n",
       "<polyline clip-path=\"url(#clip060)\" style=\"stroke:#000000; stroke-linecap:round; stroke-linejoin:round; stroke-width:4; stroke-opacity:1; fill:none\" points=\"1629.28,1423.18 1629.28,1404.28 \"/>\n",
       "<polyline clip-path=\"url(#clip060)\" style=\"stroke:#000000; stroke-linecap:round; stroke-linejoin:round; stroke-width:4; stroke-opacity:1; fill:none\" points=\"2293.02,1423.18 2293.02,1404.28 \"/>\n",
       "<path clip-path=\"url(#clip060)\" d=\"M301.803 1454.1 Q298.192 1454.1 296.363 1457.66 Q294.558 1461.2 294.558 1468.33 Q294.558 1475.44 296.363 1479.01 Q298.192 1482.55 301.803 1482.55 Q305.437 1482.55 307.243 1479.01 Q309.071 1475.44 309.071 1468.33 Q309.071 1461.2 307.243 1457.66 Q305.437 1454.1 301.803 1454.1 M301.803 1450.39 Q307.613 1450.39 310.669 1455 Q313.747 1459.58 313.747 1468.33 Q313.747 1477.06 310.669 1481.67 Q307.613 1486.25 301.803 1486.25 Q295.993 1486.25 292.914 1481.67 Q289.858 1477.06 289.858 1468.33 Q289.858 1459.58 292.914 1455 Q295.993 1450.39 301.803 1450.39 Z\" fill=\"#000000\" fill-rule=\"nonzero\" fill-opacity=\"1\" /><path clip-path=\"url(#clip060)\" d=\"M940.23 1481.64 L947.869 1481.64 L947.869 1455.28 L939.559 1456.95 L939.559 1452.69 L947.823 1451.02 L952.498 1451.02 L952.498 1481.64 L960.137 1481.64 L960.137 1485.58 L940.23 1485.58 L940.23 1481.64 Z\" fill=\"#000000\" fill-rule=\"nonzero\" fill-opacity=\"1\" /><path clip-path=\"url(#clip060)\" d=\"M979.582 1454.1 Q975.971 1454.1 974.142 1457.66 Q972.336 1461.2 972.336 1468.33 Q972.336 1475.44 974.142 1479.01 Q975.971 1482.55 979.582 1482.55 Q983.216 1482.55 985.021 1479.01 Q986.85 1475.44 986.85 1468.33 Q986.85 1461.2 985.021 1457.66 Q983.216 1454.1 979.582 1454.1 M979.582 1450.39 Q985.392 1450.39 988.447 1455 Q991.526 1459.58 991.526 1468.33 Q991.526 1477.06 988.447 1481.67 Q985.392 1486.25 979.582 1486.25 Q973.771 1486.25 970.693 1481.67 Q967.637 1477.06 967.637 1468.33 Q967.637 1459.58 970.693 1455 Q973.771 1450.39 979.582 1450.39 Z\" fill=\"#000000\" fill-rule=\"nonzero\" fill-opacity=\"1\" /><path clip-path=\"url(#clip060)\" d=\"M1608.06 1481.64 L1624.37 1481.64 L1624.37 1485.58 L1602.43 1485.58 L1602.43 1481.64 Q1605.09 1478.89 1609.68 1474.26 Q1614.28 1469.61 1615.46 1468.27 Q1617.71 1465.74 1618.59 1464.01 Q1619.49 1462.25 1619.49 1460.56 Q1619.49 1457.8 1617.55 1456.07 Q1615.62 1454.33 1612.52 1454.33 Q1610.32 1454.33 1607.87 1455.09 Q1605.44 1455.86 1602.66 1457.41 L1602.66 1452.69 Q1605.49 1451.55 1607.94 1450.97 Q1610.39 1450.39 1612.43 1450.39 Q1617.8 1450.39 1620.99 1453.08 Q1624.19 1455.77 1624.19 1460.26 Q1624.19 1462.39 1623.38 1464.31 Q1622.59 1466.2 1620.49 1468.8 Q1619.91 1469.47 1616.81 1472.69 Q1613.7 1475.88 1608.06 1481.64 Z\" fill=\"#000000\" fill-rule=\"nonzero\" fill-opacity=\"1\" /><path clip-path=\"url(#clip060)\" d=\"M1644.19 1454.1 Q1640.58 1454.1 1638.75 1457.66 Q1636.94 1461.2 1636.94 1468.33 Q1636.94 1475.44 1638.75 1479.01 Q1640.58 1482.55 1644.19 1482.55 Q1647.82 1482.55 1649.63 1479.01 Q1651.46 1475.44 1651.46 1468.33 Q1651.46 1461.2 1649.63 1457.66 Q1647.82 1454.1 1644.19 1454.1 M1644.19 1450.39 Q1650 1450.39 1653.05 1455 Q1656.13 1459.58 1656.13 1468.33 Q1656.13 1477.06 1653.05 1481.67 Q1650 1486.25 1644.19 1486.25 Q1638.38 1486.25 1635.3 1481.67 Q1632.24 1477.06 1632.24 1468.33 Q1632.24 1459.58 1635.3 1455 Q1638.38 1450.39 1644.19 1450.39 Z\" fill=\"#000000\" fill-rule=\"nonzero\" fill-opacity=\"1\" /><path clip-path=\"url(#clip060)\" d=\"M2281.86 1466.95 Q2285.22 1467.66 2287.1 1469.93 Q2288.99 1472.2 2288.99 1475.53 Q2288.99 1480.65 2285.48 1483.45 Q2281.96 1486.25 2275.48 1486.25 Q2273.3 1486.25 2270.98 1485.81 Q2268.69 1485.39 2266.24 1484.54 L2266.24 1480.02 Q2268.18 1481.16 2270.5 1481.74 Q2272.81 1482.32 2275.34 1482.32 Q2279.73 1482.32 2282.03 1480.58 Q2284.34 1478.84 2284.34 1475.53 Q2284.34 1472.48 2282.19 1470.77 Q2280.06 1469.03 2276.24 1469.03 L2272.21 1469.03 L2272.21 1465.19 L2276.42 1465.19 Q2279.87 1465.19 2281.7 1463.82 Q2283.53 1462.43 2283.53 1459.84 Q2283.53 1457.18 2281.63 1455.77 Q2279.76 1454.33 2276.24 1454.33 Q2274.32 1454.33 2272.12 1454.75 Q2269.92 1455.16 2267.28 1456.04 L2267.28 1451.88 Q2269.94 1451.14 2272.26 1450.77 Q2274.6 1450.39 2276.66 1450.39 Q2281.98 1450.39 2285.08 1452.83 Q2288.18 1455.23 2288.18 1459.35 Q2288.18 1462.22 2286.54 1464.21 Q2284.9 1466.18 2281.86 1466.95 Z\" fill=\"#000000\" fill-rule=\"nonzero\" fill-opacity=\"1\" /><path clip-path=\"url(#clip060)\" d=\"M2307.86 1454.1 Q2304.25 1454.1 2302.42 1457.66 Q2300.61 1461.2 2300.61 1468.33 Q2300.61 1475.44 2302.42 1479.01 Q2304.25 1482.55 2307.86 1482.55 Q2311.49 1482.55 2313.3 1479.01 Q2315.13 1475.44 2315.13 1468.33 Q2315.13 1461.2 2313.3 1457.66 Q2311.49 1454.1 2307.86 1454.1 M2307.86 1450.39 Q2313.67 1450.39 2316.72 1455 Q2319.8 1459.58 2319.8 1468.33 Q2319.8 1477.06 2316.72 1481.67 Q2313.67 1486.25 2307.86 1486.25 Q2302.05 1486.25 2298.97 1481.67 Q2295.91 1477.06 2295.91 1468.33 Q2295.91 1459.58 2298.97 1455 Q2302.05 1450.39 2307.86 1450.39 Z\" fill=\"#000000\" fill-rule=\"nonzero\" fill-opacity=\"1\" /><path clip-path=\"url(#clip060)\" d=\"M1214.99 1526.86 L1206.27 1550.51 L1223.75 1550.51 L1214.99 1526.86 M1211.37 1520.52 L1218.65 1520.52 L1236.76 1568.04 L1230.08 1568.04 L1225.75 1555.85 L1204.33 1555.85 L1200 1568.04 L1193.22 1568.04 L1211.37 1520.52 Z\" fill=\"#000000\" fill-rule=\"nonzero\" fill-opacity=\"1\" /><path clip-path=\"url(#clip060)\" d=\"M1266.17 1533.45 L1266.17 1538.98 Q1263.69 1537.71 1261.02 1537.07 Q1258.34 1536.44 1255.48 1536.44 Q1251.12 1536.44 1248.92 1537.77 Q1246.76 1539.11 1246.76 1541.79 Q1246.76 1543.82 1248.32 1545 Q1249.88 1546.15 1254.59 1547.2 L1256.59 1547.64 Q1262.83 1548.98 1265.44 1551.43 Q1268.08 1553.85 1268.08 1558.21 Q1268.08 1563.17 1264.14 1566.07 Q1260.22 1568.97 1253.35 1568.97 Q1250.48 1568.97 1247.36 1568.39 Q1244.28 1567.85 1240.84 1566.74 L1240.84 1560.69 Q1244.08 1562.38 1247.24 1563.24 Q1250.39 1564.07 1253.47 1564.07 Q1257.61 1564.07 1259.84 1562.66 Q1262.07 1561.23 1262.07 1558.65 Q1262.07 1556.27 1260.44 1554.99 Q1258.85 1553.72 1253.41 1552.54 L1251.37 1552.07 Q1245.93 1550.92 1243.51 1548.56 Q1241.09 1546.18 1241.09 1542.04 Q1241.09 1537.01 1244.66 1534.27 Q1248.22 1531.54 1254.78 1531.54 Q1258.03 1531.54 1260.89 1532.01 Q1263.75 1532.49 1266.17 1533.45 Z\" fill=\"#000000\" fill-rule=\"nonzero\" fill-opacity=\"1\" /><path clip-path=\"url(#clip060)\" d=\"M1300.13 1533.45 L1300.13 1538.98 Q1297.65 1537.71 1294.98 1537.07 Q1292.3 1536.44 1289.44 1536.44 Q1285.08 1536.44 1282.88 1537.77 Q1280.72 1539.11 1280.72 1541.79 Q1280.72 1543.82 1282.28 1545 Q1283.84 1546.15 1288.55 1547.2 L1290.55 1547.64 Q1296.79 1548.98 1299.4 1551.43 Q1302.04 1553.85 1302.04 1558.21 Q1302.04 1563.17 1298.1 1566.07 Q1294.18 1568.97 1287.31 1568.97 Q1284.44 1568.97 1281.32 1568.39 Q1278.24 1567.85 1274.8 1566.74 L1274.8 1560.69 Q1278.05 1562.38 1281.2 1563.24 Q1284.35 1564.07 1287.44 1564.07 Q1291.57 1564.07 1293.8 1562.66 Q1296.03 1561.23 1296.03 1558.65 Q1296.03 1556.27 1294.41 1554.99 Q1292.81 1553.72 1287.37 1552.54 L1285.33 1552.07 Q1279.89 1550.92 1277.47 1548.56 Q1275.05 1546.18 1275.05 1542.04 Q1275.05 1537.01 1278.62 1534.27 Q1282.18 1531.54 1288.74 1531.54 Q1291.99 1531.54 1294.85 1532.01 Q1297.72 1532.49 1300.13 1533.45 Z\" fill=\"#000000\" fill-rule=\"nonzero\" fill-opacity=\"1\" /><path clip-path=\"url(#clip060)\" d=\"M1341.86 1548.76 L1341.86 1551.62 L1314.94 1551.62 Q1315.32 1557.67 1318.56 1560.85 Q1321.84 1564 1327.67 1564 Q1331.04 1564 1334.19 1563.17 Q1337.37 1562.35 1340.49 1560.69 L1340.49 1566.23 Q1337.34 1567.57 1334.03 1568.27 Q1330.72 1568.97 1327.32 1568.97 Q1318.79 1568.97 1313.79 1564 Q1308.82 1559.04 1308.82 1550.57 Q1308.82 1541.82 1313.53 1536.69 Q1318.28 1531.54 1326.3 1531.54 Q1333.49 1531.54 1337.66 1536.18 Q1341.86 1540.8 1341.86 1548.76 M1336.01 1547.04 Q1335.94 1542.23 1333.3 1539.37 Q1330.69 1536.5 1326.36 1536.5 Q1321.46 1536.5 1318.5 1539.27 Q1315.57 1542.04 1315.13 1547.07 L1336.01 1547.04 Z\" fill=\"#000000\" fill-rule=\"nonzero\" fill-opacity=\"1\" /><path clip-path=\"url(#clip060)\" d=\"M1357.27 1522.27 L1357.27 1532.4 L1369.33 1532.4 L1369.33 1536.95 L1357.27 1536.95 L1357.27 1556.3 Q1357.27 1560.66 1358.44 1561.9 Q1359.65 1563.14 1363.31 1563.14 L1369.33 1563.14 L1369.33 1568.04 L1363.31 1568.04 Q1356.53 1568.04 1353.96 1565.53 Q1351.38 1562.98 1351.38 1556.3 L1351.38 1536.95 L1347.08 1536.95 L1347.08 1532.4 L1351.38 1532.4 L1351.38 1522.27 L1357.27 1522.27 Z\" fill=\"#000000\" fill-rule=\"nonzero\" fill-opacity=\"1\" /><path clip-path=\"url(#clip060)\" d=\"M1399.76 1533.45 L1399.76 1538.98 Q1397.28 1537.71 1394.6 1537.07 Q1391.93 1536.44 1389.06 1536.44 Q1384.7 1536.44 1382.51 1537.77 Q1380.34 1539.11 1380.34 1541.79 Q1380.34 1543.82 1381.9 1545 Q1383.46 1546.15 1388.17 1547.2 L1390.18 1547.64 Q1396.42 1548.98 1399.03 1551.43 Q1401.67 1553.85 1401.67 1558.21 Q1401.67 1563.17 1397.72 1566.07 Q1393.81 1568.97 1386.93 1568.97 Q1384.07 1568.97 1380.95 1568.39 Q1377.86 1567.85 1374.42 1566.74 L1374.42 1560.69 Q1377.67 1562.38 1380.82 1563.24 Q1383.97 1564.07 1387.06 1564.07 Q1391.2 1564.07 1393.42 1562.66 Q1395.65 1561.23 1395.65 1558.65 Q1395.65 1556.27 1394.03 1554.99 Q1392.44 1553.72 1386.99 1552.54 L1384.96 1552.07 Q1379.52 1550.92 1377.1 1548.56 Q1374.68 1546.18 1374.68 1542.04 Q1374.68 1537.01 1378.24 1534.27 Q1381.81 1531.54 1388.36 1531.54 Q1391.61 1531.54 1394.47 1532.01 Q1397.34 1532.49 1399.76 1533.45 Z\" fill=\"#000000\" fill-rule=\"nonzero\" fill-opacity=\"1\" /><polyline clip-path=\"url(#clip062)\" style=\"stroke:#000000; stroke-linecap:round; stroke-linejoin:round; stroke-width:2; stroke-opacity:0.1; fill:none\" points=\"242.135,1180.48 2352.76,1180.48 \"/>\n",
       "<polyline clip-path=\"url(#clip062)\" style=\"stroke:#000000; stroke-linecap:round; stroke-linejoin:round; stroke-width:2; stroke-opacity:0.1; fill:none\" points=\"242.135,843.306 2352.76,843.306 \"/>\n",
       "<polyline clip-path=\"url(#clip062)\" style=\"stroke:#000000; stroke-linecap:round; stroke-linejoin:round; stroke-width:2; stroke-opacity:0.1; fill:none\" points=\"242.135,506.133 2352.76,506.133 \"/>\n",
       "<polyline clip-path=\"url(#clip062)\" style=\"stroke:#000000; stroke-linecap:round; stroke-linejoin:round; stroke-width:2; stroke-opacity:0.1; fill:none\" points=\"242.135,168.96 2352.76,168.96 \"/>\n",
       "<polyline clip-path=\"url(#clip060)\" style=\"stroke:#000000; stroke-linecap:round; stroke-linejoin:round; stroke-width:4; stroke-opacity:1; fill:none\" points=\"242.135,1423.18 242.135,123.472 \"/>\n",
       "<polyline clip-path=\"url(#clip060)\" style=\"stroke:#000000; stroke-linecap:round; stroke-linejoin:round; stroke-width:4; stroke-opacity:1; fill:none\" points=\"242.135,1180.48 261.032,1180.48 \"/>\n",
       "<polyline clip-path=\"url(#clip060)\" style=\"stroke:#000000; stroke-linecap:round; stroke-linejoin:round; stroke-width:4; stroke-opacity:1; fill:none\" points=\"242.135,843.306 261.032,843.306 \"/>\n",
       "<polyline clip-path=\"url(#clip060)\" style=\"stroke:#000000; stroke-linecap:round; stroke-linejoin:round; stroke-width:4; stroke-opacity:1; fill:none\" points=\"242.135,506.133 261.032,506.133 \"/>\n",
       "<polyline clip-path=\"url(#clip060)\" style=\"stroke:#000000; stroke-linecap:round; stroke-linejoin:round; stroke-width:4; stroke-opacity:1; fill:none\" points=\"242.135,168.96 261.032,168.96 \"/>\n",
       "<path clip-path=\"url(#clip060)\" d=\"M114.26 1180.93 L143.936 1180.93 L143.936 1184.87 L114.26 1184.87 L114.26 1180.93 Z\" fill=\"#000000\" fill-rule=\"nonzero\" fill-opacity=\"1\" /><path clip-path=\"url(#clip060)\" d=\"M154.075 1163.2 L172.431 1163.2 L172.431 1167.13 L158.357 1167.13 L158.357 1175.61 Q159.376 1175.26 160.394 1175.1 Q161.413 1174.91 162.431 1174.91 Q168.218 1174.91 171.598 1178.08 Q174.977 1181.25 174.977 1186.67 Q174.977 1192.25 171.505 1195.35 Q168.033 1198.43 161.714 1198.43 Q159.538 1198.43 157.269 1198.06 Q155.024 1197.69 152.616 1196.95 L152.616 1192.25 Q154.7 1193.38 156.922 1193.94 Q159.144 1194.5 161.621 1194.5 Q165.626 1194.5 167.964 1192.39 Q170.302 1190.28 170.302 1186.67 Q170.302 1183.06 167.964 1180.95 Q165.626 1178.85 161.621 1178.85 Q159.746 1178.85 157.871 1179.26 Q156.019 1179.68 154.075 1180.56 L154.075 1163.2 Z\" fill=\"#000000\" fill-rule=\"nonzero\" fill-opacity=\"1\" /><path clip-path=\"url(#clip060)\" d=\"M194.19 1166.28 Q190.579 1166.28 188.75 1169.84 Q186.945 1173.38 186.945 1180.51 Q186.945 1187.62 188.75 1191.19 Q190.579 1194.73 194.19 1194.73 Q197.825 1194.73 199.63 1191.19 Q201.459 1187.62 201.459 1180.51 Q201.459 1173.38 199.63 1169.84 Q197.825 1166.28 194.19 1166.28 M194.19 1162.57 Q200 1162.57 203.056 1167.18 Q206.135 1171.76 206.135 1180.51 Q206.135 1189.24 203.056 1193.85 Q200 1198.43 194.19 1198.43 Q188.38 1198.43 185.301 1193.85 Q182.246 1189.24 182.246 1180.51 Q182.246 1171.76 185.301 1167.18 Q188.38 1162.57 194.19 1162.57 Z\" fill=\"#000000\" fill-rule=\"nonzero\" fill-opacity=\"1\" /><path clip-path=\"url(#clip060)\" d=\"M114.26 843.757 L143.936 843.757 L143.936 847.693 L114.26 847.693 L114.26 843.757 Z\" fill=\"#000000\" fill-rule=\"nonzero\" fill-opacity=\"1\" /><path clip-path=\"url(#clip060)\" d=\"M166.876 830.1 L155.07 848.549 L166.876 848.549 L166.876 830.1 M165.649 826.026 L171.528 826.026 L171.528 848.549 L176.459 848.549 L176.459 852.438 L171.528 852.438 L171.528 860.586 L166.876 860.586 L166.876 852.438 L151.274 852.438 L151.274 847.924 L165.649 826.026 Z\" fill=\"#000000\" fill-rule=\"nonzero\" fill-opacity=\"1\" /><path clip-path=\"url(#clip060)\" d=\"M194.19 829.105 Q190.579 829.105 188.75 832.67 Q186.945 836.211 186.945 843.341 Q186.945 850.447 188.75 854.012 Q190.579 857.554 194.19 857.554 Q197.825 857.554 199.63 854.012 Q201.459 850.447 201.459 843.341 Q201.459 836.211 199.63 832.67 Q197.825 829.105 194.19 829.105 M194.19 825.401 Q200 825.401 203.056 830.008 Q206.135 834.591 206.135 843.341 Q206.135 852.068 203.056 856.674 Q200 861.257 194.19 861.257 Q188.38 861.257 185.301 856.674 Q182.246 852.068 182.246 843.341 Q182.246 834.591 185.301 830.008 Q188.38 825.401 194.19 825.401 Z\" fill=\"#000000\" fill-rule=\"nonzero\" fill-opacity=\"1\" /><path clip-path=\"url(#clip060)\" d=\"M114.26 506.584 L143.936 506.584 L143.936 510.519 L114.26 510.519 L114.26 506.584 Z\" fill=\"#000000\" fill-rule=\"nonzero\" fill-opacity=\"1\" /><path clip-path=\"url(#clip060)\" d=\"M168.195 504.779 Q171.552 505.496 173.427 507.765 Q175.325 510.033 175.325 513.367 Q175.325 518.482 171.806 521.283 Q168.288 524.084 161.806 524.084 Q159.63 524.084 157.315 523.644 Q155.024 523.228 152.57 522.371 L152.57 517.857 Q154.515 518.992 156.829 519.57 Q159.144 520.149 161.667 520.149 Q166.065 520.149 168.357 518.413 Q170.672 516.677 170.672 513.367 Q170.672 510.311 168.519 508.598 Q166.39 506.862 162.57 506.862 L158.542 506.862 L158.542 503.019 L162.755 503.019 Q166.204 503.019 168.033 501.654 Q169.862 500.265 169.862 497.672 Q169.862 495.01 167.964 493.598 Q166.089 492.163 162.57 492.163 Q160.649 492.163 158.45 492.58 Q156.251 492.996 153.612 493.876 L153.612 489.709 Q156.274 488.969 158.589 488.598 Q160.927 488.228 162.987 488.228 Q168.311 488.228 171.413 490.658 Q174.514 493.066 174.514 497.186 Q174.514 500.057 172.871 502.047 Q171.227 504.015 168.195 504.779 Z\" fill=\"#000000\" fill-rule=\"nonzero\" fill-opacity=\"1\" /><path clip-path=\"url(#clip060)\" d=\"M194.19 491.932 Q190.579 491.932 188.75 495.496 Q186.945 499.038 186.945 506.168 Q186.945 513.274 188.75 516.839 Q190.579 520.38 194.19 520.38 Q197.825 520.38 199.63 516.839 Q201.459 513.274 201.459 506.168 Q201.459 499.038 199.63 495.496 Q197.825 491.932 194.19 491.932 M194.19 488.228 Q200 488.228 203.056 492.834 Q206.135 497.418 206.135 506.168 Q206.135 514.894 203.056 519.501 Q200 524.084 194.19 524.084 Q188.38 524.084 185.301 519.501 Q182.246 514.894 182.246 506.168 Q182.246 497.418 185.301 492.834 Q188.38 488.228 194.19 488.228 Z\" fill=\"#000000\" fill-rule=\"nonzero\" fill-opacity=\"1\" /><path clip-path=\"url(#clip060)\" d=\"M114.26 169.411 L143.936 169.411 L143.936 173.346 L114.26 173.346 L114.26 169.411 Z\" fill=\"#000000\" fill-rule=\"nonzero\" fill-opacity=\"1\" /><path clip-path=\"url(#clip060)\" d=\"M158.056 182.305 L174.376 182.305 L174.376 186.24 L152.431 186.24 L152.431 182.305 Q155.093 179.55 159.677 174.92 Q164.283 170.268 165.464 168.925 Q167.709 166.402 168.589 164.666 Q169.491 162.906 169.491 161.217 Q169.491 158.462 167.547 156.726 Q165.626 154.99 162.524 154.99 Q160.325 154.99 157.871 155.754 Q155.44 156.518 152.663 158.069 L152.663 153.346 Q155.487 152.212 157.94 151.633 Q160.394 151.055 162.431 151.055 Q167.802 151.055 170.996 153.74 Q174.19 156.425 174.19 160.916 Q174.19 163.045 173.38 164.967 Q172.593 166.865 170.487 169.457 Q169.908 170.129 166.806 173.346 Q163.704 176.541 158.056 182.305 Z\" fill=\"#000000\" fill-rule=\"nonzero\" fill-opacity=\"1\" /><path clip-path=\"url(#clip060)\" d=\"M194.19 154.758 Q190.579 154.758 188.75 158.323 Q186.945 161.865 186.945 168.994 Q186.945 176.101 188.75 179.666 Q190.579 183.207 194.19 183.207 Q197.825 183.207 199.63 179.666 Q201.459 176.101 201.459 168.994 Q201.459 161.865 199.63 158.323 Q197.825 154.758 194.19 154.758 M194.19 151.055 Q200 151.055 203.056 155.661 Q206.135 160.244 206.135 168.994 Q206.135 177.721 203.056 182.328 Q200 186.911 194.19 186.911 Q188.38 186.911 185.301 182.328 Q182.246 177.721 182.246 168.994 Q182.246 160.244 185.301 155.661 Q188.38 151.055 194.19 151.055 Z\" fill=\"#000000\" fill-rule=\"nonzero\" fill-opacity=\"1\" /><path clip-path=\"url(#clip060)\" d=\"M64.0042 819.827 L16.4842 837.97 L16.4842 831.254 L56.4926 816.199 L16.4842 801.112 L16.4842 794.428 L64.0042 812.539 L64.0042 819.827 Z\" fill=\"#000000\" fill-rule=\"nonzero\" fill-opacity=\"1\" /><path clip-path=\"url(#clip060)\" d=\"M14.5426 773.676 Q21.8632 777.941 29.0246 780.01 Q36.186 782.079 43.5384 782.079 Q50.8908 782.079 58.1159 780.01 Q65.3091 777.909 72.5979 773.676 L72.5979 778.769 Q65.1182 783.543 57.8931 785.93 Q50.668 788.285 43.5384 788.285 Q36.4406 788.285 29.2474 785.93 Q22.0542 783.575 14.5426 778.769 L14.5426 773.676 Z\" fill=\"#000000\" fill-rule=\"nonzero\" fill-opacity=\"1\" /><path clip-path=\"url(#clip060)\" d=\"M46.0847 746.113 Q46.0847 753.21 47.7079 755.948 Q49.3312 758.685 53.2461 758.685 Q56.3653 758.685 58.2114 756.648 Q60.0256 754.579 60.0256 751.046 Q60.0256 746.176 56.5881 743.248 Q53.1188 740.288 47.3897 740.288 L46.0847 740.288 L46.0847 746.113 M43.6657 734.432 L64.0042 734.432 L64.0042 740.288 L58.5933 740.288 Q61.8398 742.293 63.3994 745.285 Q64.9272 748.277 64.9272 752.606 Q64.9272 758.08 61.8716 761.327 Q58.7843 764.541 53.6281 764.541 Q47.6125 764.541 44.5569 760.531 Q41.5014 756.489 41.5014 748.5 L41.5014 740.288 L40.9285 740.288 Q36.8862 740.288 34.6901 742.962 Q32.4621 745.603 32.4621 750.409 Q32.4621 753.465 33.1941 756.361 Q33.9262 759.258 35.3903 761.931 L29.9795 761.931 Q28.7381 758.717 28.1334 755.693 Q27.4968 752.669 27.4968 749.805 Q27.4968 742.07 31.5072 738.251 Q35.5176 734.432 43.6657 734.432 Z\" fill=\"#000000\" fill-rule=\"nonzero\" fill-opacity=\"1\" /><path clip-path=\"url(#clip060)\" d=\"M14.5426 723.292 L14.5426 718.199 Q22.0542 713.425 29.2474 711.069 Q36.4406 708.682 43.5384 708.682 Q50.668 708.682 57.8931 711.069 Q65.1182 713.425 72.5979 718.199 L72.5979 723.292 Q65.3091 719.058 58.1159 716.989 Q50.8908 714.889 43.5384 714.889 Q36.186 714.889 29.0246 716.989 Q21.8632 719.058 14.5426 723.292 Z\" fill=\"#000000\" fill-rule=\"nonzero\" fill-opacity=\"1\" /><path clip-path=\"url(#clip060)\" d=\"M800.42 72.576 L777.329 12.096 L785.877 12.096 L805.038 63.0159 L824.239 12.096 L832.746 12.096 L809.696 72.576 L800.42 72.576 Z\" fill=\"#000000\" fill-rule=\"nonzero\" fill-opacity=\"1\" /><path clip-path=\"url(#clip060)\" d=\"M855.431 49.7694 Q846.397 49.7694 842.914 51.8354 Q839.43 53.9013 839.43 58.8839 Q839.43 62.8538 842.022 65.2034 Q844.655 67.5124 849.152 67.5124 Q855.35 67.5124 859.077 63.1374 Q862.844 58.7219 862.844 51.4303 L862.844 49.7694 L855.431 49.7694 M870.298 46.6907 L870.298 72.576 L862.844 72.576 L862.844 65.6895 Q860.292 69.8214 856.484 71.8063 Q852.676 73.7508 847.167 73.7508 Q840.199 73.7508 836.068 69.8619 Q831.976 65.9325 831.976 59.3701 Q831.976 51.7138 837.08 47.825 Q842.225 43.9361 852.393 43.9361 L862.844 43.9361 L862.844 43.2069 Q862.844 38.0623 859.441 35.2672 Q856.079 32.4315 849.962 32.4315 Q846.073 32.4315 842.387 33.3632 Q838.701 34.295 835.298 36.1584 L835.298 29.2718 Q839.389 27.692 843.238 26.9223 Q847.086 26.1121 850.732 26.1121 Q860.576 26.1121 865.437 31.2163 Q870.298 36.3204 870.298 46.6907 Z\" fill=\"#000000\" fill-rule=\"nonzero\" fill-opacity=\"1\" /><path clip-path=\"url(#clip060)\" d=\"M885.651 9.54393 L893.104 9.54393 L893.104 72.576 L885.651 72.576 L885.651 9.54393 Z\" fill=\"#000000\" fill-rule=\"nonzero\" fill-opacity=\"1\" /><path clip-path=\"url(#clip060)\" d=\"M907.931 54.671 L907.931 27.2059 L915.384 27.2059 L915.384 54.3874 Q915.384 60.8284 917.896 64.0691 Q920.407 67.2693 925.43 67.2693 Q931.466 67.2693 934.95 63.421 Q938.474 59.5726 938.474 52.9291 L938.474 27.2059 L945.928 27.2059 L945.928 72.576 L938.474 72.576 L938.474 65.6084 Q935.76 69.7404 932.155 71.7658 Q928.59 73.7508 923.851 73.7508 Q916.032 73.7508 911.981 68.8897 Q907.931 64.0286 907.931 54.671 M926.686 26.1121 L926.686 26.1121 Z\" fill=\"#000000\" fill-rule=\"nonzero\" fill-opacity=\"1\" /><path clip-path=\"url(#clip060)\" d=\"M1000.09 48.0275 L1000.09 51.6733 L965.818 51.6733 Q966.304 59.3701 970.436 63.421 Q974.608 67.4314 982.022 67.4314 Q986.316 67.4314 990.326 66.3781 Q994.377 65.3249 998.347 63.2184 L998.347 70.267 Q994.336 71.9684 990.123 72.8596 Q985.91 73.7508 981.576 73.7508 Q970.72 73.7508 964.36 67.4314 Q958.04 61.1119 958.04 50.3365 Q958.04 39.1965 964.036 32.6746 Q970.071 26.1121 980.28 26.1121 Q989.435 26.1121 994.741 32.0264 Q1000.09 37.9003 1000.09 48.0275 M992.635 45.84 Q992.554 39.7232 989.192 36.0774 Q985.87 32.4315 980.361 32.4315 Q974.122 32.4315 970.355 35.9558 Q966.628 39.4801 966.061 45.8805 L992.635 45.84 Z\" fill=\"#000000\" fill-rule=\"nonzero\" fill-opacity=\"1\" /><path clip-path=\"url(#clip060)\" d=\"M1061.66 9.54393 L1061.66 15.7418 L1054.53 15.7418 Q1050.52 15.7418 1048.94 17.3622 Q1047.4 18.9825 1047.4 23.1955 L1047.4 27.2059 L1059.68 27.2059 L1059.68 32.9987 L1047.4 32.9987 L1047.4 72.576 L1039.91 72.576 L1039.91 32.9987 L1032.78 32.9987 L1032.78 27.2059 L1039.91 27.2059 L1039.91 24.0462 Q1039.91 16.471 1043.43 13.0277 Q1046.96 9.54393 1054.61 9.54393 L1061.66 9.54393 Z\" fill=\"#000000\" fill-rule=\"nonzero\" fill-opacity=\"1\" /><path clip-path=\"url(#clip060)\" d=\"M1067.13 54.671 L1067.13 27.2059 L1074.58 27.2059 L1074.58 54.3874 Q1074.58 60.8284 1077.1 64.0691 Q1079.61 67.2693 1084.63 67.2693 Q1090.67 67.2693 1094.15 63.421 Q1097.67 59.5726 1097.67 52.9291 L1097.67 27.2059 L1105.13 27.2059 L1105.13 72.576 L1097.67 72.576 L1097.67 65.6084 Q1094.96 69.7404 1091.36 71.7658 Q1087.79 73.7508 1083.05 73.7508 Q1075.23 73.7508 1071.18 68.8897 Q1067.13 64.0286 1067.13 54.671 M1085.89 26.1121 L1085.89 26.1121 Z\" fill=\"#000000\" fill-rule=\"nonzero\" fill-opacity=\"1\" /><path clip-path=\"url(#clip060)\" d=\"M1158.2 45.1919 L1158.2 72.576 L1150.74 72.576 L1150.74 45.4349 Q1150.74 38.994 1148.23 35.7938 Q1145.72 32.5936 1140.7 32.5936 Q1134.66 32.5936 1131.18 36.4419 Q1127.69 40.2903 1127.69 46.9338 L1127.69 72.576 L1120.2 72.576 L1120.2 27.2059 L1127.69 27.2059 L1127.69 34.2544 Q1130.37 30.163 1133.97 28.1376 Q1137.62 26.1121 1142.36 26.1121 Q1150.17 26.1121 1154.19 30.9732 Q1158.2 35.7938 1158.2 45.1919 Z\" fill=\"#000000\" fill-rule=\"nonzero\" fill-opacity=\"1\" /><path clip-path=\"url(#clip060)\" d=\"M1205.71 28.9478 L1205.71 35.9153 Q1202.55 34.1734 1199.35 33.3227 Q1196.19 32.4315 1192.95 32.4315 Q1185.7 32.4315 1181.69 37.0496 Q1177.68 41.6271 1177.68 49.9314 Q1177.68 58.2358 1181.69 62.8538 Q1185.7 67.4314 1192.95 67.4314 Q1196.19 67.4314 1199.35 66.5807 Q1202.55 65.6895 1205.71 63.9476 L1205.71 70.8341 Q1202.59 72.2924 1199.23 73.0216 Q1195.91 73.7508 1192.14 73.7508 Q1181.89 73.7508 1175.86 67.3098 Q1169.82 60.8689 1169.82 49.9314 Q1169.82 38.832 1175.9 32.472 Q1182.01 26.1121 1192.63 26.1121 Q1196.07 26.1121 1199.35 26.8413 Q1202.63 27.5299 1205.71 28.9478 Z\" fill=\"#000000\" fill-rule=\"nonzero\" fill-opacity=\"1\" /><path clip-path=\"url(#clip060)\" d=\"M1226.05 14.324 L1226.05 27.2059 L1241.4 27.2059 L1241.4 32.9987 L1226.05 32.9987 L1226.05 57.6282 Q1226.05 63.1779 1227.55 64.7578 Q1229.09 66.3376 1233.74 66.3376 L1241.4 66.3376 L1241.4 72.576 L1233.74 72.576 Q1225.12 72.576 1221.84 69.3758 Q1218.55 66.1351 1218.55 57.6282 L1218.55 32.9987 L1213.09 32.9987 L1213.09 27.2059 L1218.55 27.2059 L1218.55 14.324 L1226.05 14.324 Z\" fill=\"#000000\" fill-rule=\"nonzero\" fill-opacity=\"1\" /><path clip-path=\"url(#clip060)\" d=\"M1251.2 27.2059 L1258.66 27.2059 L1258.66 72.576 L1251.2 72.576 L1251.2 27.2059 M1251.2 9.54393 L1258.66 9.54393 L1258.66 18.9825 L1251.2 18.9825 L1251.2 9.54393 Z\" fill=\"#000000\" fill-rule=\"nonzero\" fill-opacity=\"1\" /><path clip-path=\"url(#clip060)\" d=\"M1291.83 32.4315 Q1285.84 32.4315 1282.36 37.1306 Q1278.87 41.7891 1278.87 49.9314 Q1278.87 58.0738 1282.32 62.7728 Q1285.8 67.4314 1291.83 67.4314 Q1297.79 67.4314 1301.27 62.7323 Q1304.76 58.0333 1304.76 49.9314 Q1304.76 41.8701 1301.27 37.1711 Q1297.79 32.4315 1291.83 32.4315 M1291.83 26.1121 Q1301.56 26.1121 1307.11 32.4315 Q1312.66 38.7509 1312.66 49.9314 Q1312.66 61.0714 1307.11 67.4314 Q1301.56 73.7508 1291.83 73.7508 Q1282.07 73.7508 1276.52 67.4314 Q1271.01 61.0714 1271.01 49.9314 Q1271.01 38.7509 1276.52 32.4315 Q1282.07 26.1121 1291.83 26.1121 Z\" fill=\"#000000\" fill-rule=\"nonzero\" fill-opacity=\"1\" /><path clip-path=\"url(#clip060)\" d=\"M1362.73 45.1919 L1362.73 72.576 L1355.27 72.576 L1355.27 45.4349 Q1355.27 38.994 1352.76 35.7938 Q1350.25 32.5936 1345.23 32.5936 Q1339.19 32.5936 1335.71 36.4419 Q1332.22 40.2903 1332.22 46.9338 L1332.22 72.576 L1324.73 72.576 L1324.73 27.2059 L1332.22 27.2059 L1332.22 34.2544 Q1334.9 30.163 1338.5 28.1376 Q1342.15 26.1121 1346.89 26.1121 Q1354.7 26.1121 1358.72 30.9732 Q1362.73 35.7938 1362.73 45.1919 Z\" fill=\"#000000\" fill-rule=\"nonzero\" fill-opacity=\"1\" /><path clip-path=\"url(#clip060)\" d=\"M1426.93 9.54393 L1426.93 15.7418 L1419.8 15.7418 Q1415.79 15.7418 1414.21 17.3622 Q1412.67 18.9825 1412.67 23.1955 L1412.67 27.2059 L1424.95 27.2059 L1424.95 32.9987 L1412.67 32.9987 L1412.67 72.576 L1405.18 72.576 L1405.18 32.9987 L1398.05 32.9987 L1398.05 27.2059 L1405.18 27.2059 L1405.18 24.0462 Q1405.18 16.471 1408.7 13.0277 Q1412.23 9.54393 1419.88 9.54393 L1426.93 9.54393 Z\" fill=\"#000000\" fill-rule=\"nonzero\" fill-opacity=\"1\" /><path clip-path=\"url(#clip060)\" d=\"M1450.75 32.4315 Q1444.76 32.4315 1441.27 37.1306 Q1437.79 41.7891 1437.79 49.9314 Q1437.79 58.0738 1441.23 62.7728 Q1444.72 67.4314 1450.75 67.4314 Q1456.71 67.4314 1460.19 62.7323 Q1463.67 58.0333 1463.67 49.9314 Q1463.67 41.8701 1460.19 37.1711 Q1456.71 32.4315 1450.75 32.4315 M1450.75 26.1121 Q1460.47 26.1121 1466.02 32.4315 Q1471.57 38.7509 1471.57 49.9314 Q1471.57 61.0714 1466.02 67.4314 Q1460.47 73.7508 1450.75 73.7508 Q1440.99 73.7508 1435.44 67.4314 Q1429.93 61.0714 1429.93 49.9314 Q1429.93 38.7509 1435.44 32.4315 Q1440.99 26.1121 1450.75 26.1121 Z\" fill=\"#000000\" fill-rule=\"nonzero\" fill-opacity=\"1\" /><path clip-path=\"url(#clip060)\" d=\"M1510.22 34.1734 Q1508.96 33.4443 1507.46 33.1202 Q1506.01 32.7556 1504.22 32.7556 Q1497.9 32.7556 1494.5 36.8875 Q1491.14 40.9789 1491.14 48.6757 L1491.14 72.576 L1483.65 72.576 L1483.65 27.2059 L1491.14 27.2059 L1491.14 34.2544 Q1493.49 30.1225 1497.26 28.1376 Q1501.02 26.1121 1506.41 26.1121 Q1507.18 26.1121 1508.11 26.2337 Q1509.04 26.3147 1510.18 26.5172 L1510.22 34.1734 Z\" fill=\"#000000\" fill-rule=\"nonzero\" fill-opacity=\"1\" /><path clip-path=\"url(#clip060)\" d=\"M1565.03 49.7694 Q1555.99 49.7694 1552.51 51.8354 Q1549.03 53.9013 1549.03 58.8839 Q1549.03 62.8538 1551.62 65.2034 Q1554.25 67.5124 1558.75 67.5124 Q1564.95 67.5124 1568.67 63.1374 Q1572.44 58.7219 1572.44 51.4303 L1572.44 49.7694 L1565.03 49.7694 M1579.89 46.6907 L1579.89 72.576 L1572.44 72.576 L1572.44 65.6895 Q1569.89 69.8214 1566.08 71.8063 Q1562.27 73.7508 1556.76 73.7508 Q1549.8 73.7508 1545.66 69.8619 Q1541.57 65.9325 1541.57 59.3701 Q1541.57 51.7138 1546.68 47.825 Q1551.82 43.9361 1561.99 43.9361 L1572.44 43.9361 L1572.44 43.2069 Q1572.44 38.0623 1569.04 35.2672 Q1565.68 32.4315 1559.56 32.4315 Q1555.67 32.4315 1551.98 33.3632 Q1548.3 34.295 1544.89 36.1584 L1544.89 29.2718 Q1548.99 27.692 1552.83 26.9223 Q1556.68 26.1121 1560.33 26.1121 Q1570.17 26.1121 1575.03 31.2163 Q1579.89 36.3204 1579.89 46.6907 Z\" fill=\"#000000\" fill-rule=\"nonzero\" fill-opacity=\"1\" /><path clip-path=\"url(#clip060)\" d=\"M1625.1 49.3643 Q1625.1 41.2625 1621.74 36.8065 Q1618.42 32.3505 1612.38 32.3505 Q1606.39 32.3505 1603.03 36.8065 Q1599.7 41.2625 1599.7 49.3643 Q1599.7 57.4256 1603.03 61.8816 Q1606.39 66.3376 1612.38 66.3376 Q1618.42 66.3376 1621.74 61.8816 Q1625.1 57.4256 1625.1 49.3643 M1632.56 66.9452 Q1632.56 78.5308 1627.41 84.1616 Q1622.27 89.8329 1611.65 89.8329 Q1607.72 89.8329 1604.24 89.2252 Q1600.76 88.6581 1597.48 87.4428 L1597.48 80.1917 Q1600.76 81.9741 1603.96 82.8248 Q1607.16 83.6755 1610.48 83.6755 Q1617.81 83.6755 1621.46 79.8271 Q1625.1 76.0193 1625.1 68.282 L1625.1 64.5957 Q1622.79 68.6061 1619.19 70.5911 Q1615.58 72.576 1610.56 72.576 Q1602.22 72.576 1597.11 66.2161 Q1592.01 59.8562 1592.01 49.3643 Q1592.01 38.832 1597.11 32.472 Q1602.22 26.1121 1610.56 26.1121 Q1615.58 26.1121 1619.19 28.0971 Q1622.79 30.082 1625.1 34.0924 L1625.1 27.2059 L1632.56 27.2059 L1632.56 66.9452 Z\" fill=\"#000000\" fill-rule=\"nonzero\" fill-opacity=\"1\" /><path clip-path=\"url(#clip060)\" d=\"M1686.72 48.0275 L1686.72 51.6733 L1652.45 51.6733 Q1652.93 59.3701 1657.06 63.421 Q1661.24 67.4314 1668.65 67.4314 Q1672.94 67.4314 1676.95 66.3781 Q1681.01 65.3249 1684.98 63.2184 L1684.98 70.267 Q1680.96 71.9684 1676.75 72.8596 Q1672.54 73.7508 1668.2 73.7508 Q1657.35 73.7508 1650.99 67.4314 Q1644.67 61.1119 1644.67 50.3365 Q1644.67 39.1965 1650.66 32.6746 Q1656.7 26.1121 1666.91 26.1121 Q1676.06 26.1121 1681.37 32.0264 Q1686.72 37.9003 1686.72 48.0275 M1679.26 45.84 Q1679.18 39.7232 1675.82 36.0774 Q1672.5 32.4315 1666.99 32.4315 Q1660.75 32.4315 1656.98 35.9558 Q1653.26 39.4801 1652.69 45.8805 L1679.26 45.84 Z\" fill=\"#000000\" fill-rule=\"nonzero\" fill-opacity=\"1\" /><path clip-path=\"url(#clip060)\" d=\"M1733.42 65.6895 L1761.98 65.6895 L1761.98 72.576 L1723.58 72.576 L1723.58 65.6895 Q1728.24 60.8689 1736.26 52.7671 Q1744.32 44.6248 1746.39 42.2752 Q1750.32 37.8598 1751.86 34.8216 Q1753.44 31.7429 1753.44 28.7857 Q1753.44 23.9651 1750.03 20.927 Q1746.67 17.8888 1741.24 17.8888 Q1737.39 17.8888 1733.1 19.2256 Q1728.85 20.5624 1723.99 23.2765 L1723.99 15.0127 Q1728.93 13.0277 1733.22 12.015 Q1737.52 11.0023 1741.08 11.0023 Q1750.48 11.0023 1756.07 15.7013 Q1761.66 20.4004 1761.66 28.2591 Q1761.66 31.9859 1760.24 35.3482 Q1758.86 38.6699 1755.18 43.2069 Q1754.16 44.3817 1748.74 50.0125 Q1743.31 55.6027 1733.42 65.6895 Z\" fill=\"#000000\" fill-rule=\"nonzero\" fill-opacity=\"1\" /><path clip-path=\"url(#clip060)\" d=\"M1796.66 17.4837 Q1790.34 17.4837 1787.14 23.7221 Q1783.98 29.92 1783.98 42.3968 Q1783.98 54.833 1787.14 61.0714 Q1790.34 67.2693 1796.66 67.2693 Q1803.02 67.2693 1806.18 61.0714 Q1809.38 54.833 1809.38 42.3968 Q1809.38 29.92 1806.18 23.7221 Q1803.02 17.4837 1796.66 17.4837 M1796.66 11.0023 Q1806.83 11.0023 1812.17 19.0636 Q1817.56 27.0843 1817.56 42.3968 Q1817.56 57.6687 1812.17 65.73 Q1806.83 73.7508 1796.66 73.7508 Q1786.49 73.7508 1781.1 65.73 Q1775.76 57.6687 1775.76 42.3968 Q1775.76 27.0843 1781.1 19.0636 Q1786.49 11.0023 1796.66 11.0023 Z\" fill=\"#000000\" fill-rule=\"nonzero\" fill-opacity=\"1\" /><polyline clip-path=\"url(#clip062)\" style=\"stroke:#009af9; stroke-linecap:round; stroke-linejoin:round; stroke-width:4; stroke-opacity:1; fill:none\" points=\"301.869,722.221 303.862,720.7 305.856,719.185 307.849,717.676 309.842,716.172 311.835,714.674 313.828,713.178 315.821,711.688 317.814,710.202 319.808,708.722 321.801,707.248 323.794,705.78 325.787,704.318 327.78,702.862 329.773,701.411 331.766,699.966 333.76,698.526 335.753,697.092 337.746,695.663 339.739,694.238 341.732,692.819 343.725,691.404 345.718,689.995 347.712,688.59 349.705,687.19 351.698,685.796 353.691,684.405 355.684,683.017 357.677,681.635 359.67,680.256 361.664,678.882 363.657,677.513 365.65,676.149 367.643,674.79 369.636,673.437 371.629,672.088 373.622,670.744 375.616,669.405 377.609,668.071 379.602,666.742 381.595,665.419 383.588,664.099 385.581,662.784 387.574,661.474 389.568,660.168 391.561,658.866 393.554,657.568 395.547,656.273 397.54,654.983 399.533,653.695 401.526,652.413 403.52,651.133 405.513,649.858 407.506,648.588 409.499,647.322 411.492,646.061 413.485,644.804 415.479,643.552 417.472,642.304 419.465,641.062 421.458,639.823 423.451,638.589 425.444,637.359 427.437,636.134 429.431,634.913 431.424,633.696 433.417,632.482 435.41,631.272 437.403,630.064 439.396,628.86 441.389,627.66 443.383,626.463 445.376,625.269 447.369,624.079 449.362,622.893 451.355,621.712 453.348,620.534 455.341,619.36 457.335,618.19 459.328,617.024 461.321,615.862 463.314,614.704 465.307,613.55 467.3,612.401 469.293,611.255 471.287,610.113 473.28,608.975 475.273,607.84 477.266,606.708 479.259,605.579 481.252,604.453 483.245,603.33 485.239,602.211 487.232,601.095 489.225,599.981 491.218,598.87 493.211,597.764 495.204,596.661 497.197,595.562 499.191,594.466 501.184,593.375 503.177,592.287 505.17,591.203 507.163,590.122 509.156,589.045 511.149,587.971 513.143,586.901 515.136,585.834 517.129,584.771 519.122,583.71 521.115,582.652 523.108,581.597 525.101,580.544 527.095,579.495 529.088,578.448 531.081,577.404 533.074,576.363 535.067,575.325 537.06,574.292 539.054,573.261 541.047,572.234 543.04,571.21 545.033,570.188 547.026,569.17 549.019,568.155 551.012,567.143 553.006,566.135 554.999,565.13 556.992,564.129 558.985,563.13 560.978,562.134 562.971,561.14 564.964,560.15 566.958,559.161 568.951,558.176 570.944,557.192 572.937,556.211 574.93,555.234 576.923,554.259 578.916,553.287 580.91,552.319 582.903,551.353 584.896,550.391 586.889,549.431 588.882,548.475 590.875,547.522 592.868,546.572 594.862,545.625 596.855,544.68 598.848,543.739 600.841,542.8 602.834,541.863 604.827,540.928 606.82,539.997 608.814,539.067 610.807,538.14 612.8,537.216 614.793,536.294 616.786,535.375 618.779,534.459 620.772,533.546 622.766,532.635 624.759,531.728 626.752,530.823 628.745,529.92 630.738,529.02 632.731,528.122 634.724,527.228 636.718,526.335 638.711,525.446 640.704,524.56 642.697,523.675 644.69,522.792 646.683,521.913 648.677,521.035 650.67,520.16 652.663,519.287 654.656,518.417 656.649,517.55 658.642,516.685 660.635,515.822 662.629,514.961 664.622,514.103 666.615,513.248 668.608,512.395 670.601,511.545 672.594,510.698 674.587,509.853 676.581,509.011 678.574,508.171 680.567,507.333 682.56,506.497 684.553,505.663 686.546,504.832 688.539,504.003 690.533,503.176 692.526,502.352 694.519,501.53 696.512,500.71 698.505,499.892 700.498,499.077 702.491,498.264 704.485,497.453 706.478,496.645 708.471,495.839 710.464,495.035 712.457,494.233 714.45,493.433 716.443,492.636 718.437,491.841 720.43,491.048 722.423,490.256 724.416,489.466 726.409,488.678 728.402,487.893 730.395,487.11 732.389,486.329 734.382,485.55 736.375,484.773 738.368,483.999 740.361,483.226 742.354,482.454 744.347,481.685 746.341,480.917 748.334,480.152 750.327,479.39 752.32,478.629 754.313,477.87 756.306,477.113 758.299,476.358 760.293,475.606 762.286,474.854 764.279,474.104 766.272,473.356 768.265,472.61 770.258,471.865 772.252,471.123 774.245,470.382 776.238,469.644 778.231,468.907 780.224,468.173 782.217,467.44 784.21,466.709 786.204,465.979 788.197,465.252 790.19,464.526 792.183,463.802 794.176,463.079 796.169,462.359 798.162,461.64 800.156,460.924 802.149,460.208 804.142,459.495 806.135,458.783 808.128,458.072 810.121,457.363 812.114,456.656 814.108,455.95 816.101,455.246 818.094,454.544 820.087,453.843 822.08,453.144 824.073,452.447 826.066,451.752 828.06,451.058 830.053,450.366 832.046,449.675 834.039,448.986 836.032,448.299 838.025,447.614 840.018,446.93 842.012,446.247 844.005,445.566 845.998,444.886 847.991,444.208 849.984,443.531 851.977,442.856 853.97,442.183 855.964,441.51 857.957,440.84 859.95,440.17 861.943,439.503 863.936,438.837 865.929,438.172 867.922,437.509 869.916,436.847 871.909,436.187 873.902,435.529 875.895,434.872 877.888,434.217 879.881,433.562 881.874,432.909 883.868,432.258 885.861,431.608 887.854,430.96 889.847,430.313 891.84,429.668 893.833,429.023 895.827,428.38 897.82,427.739 899.813,427.099 901.806,426.46 903.799,425.822 905.792,425.186 907.785,424.551 909.779,423.917 911.772,423.285 913.765,422.654 915.758,422.024 917.751,421.396 919.744,420.769 921.737,420.144 923.731,419.52 925.724,418.897 927.717,418.275 929.71,417.655 931.703,417.036 933.696,416.418 935.689,415.802 937.683,415.188 939.676,414.574 941.669,413.961 943.662,413.35 945.655,412.74 947.648,412.132 949.641,411.525 951.635,410.919 953.628,410.314 955.621,409.71 957.614,409.107 959.607,408.506 961.6,407.905 963.593,407.306 965.587,406.709 967.58,406.112 969.573,405.517 971.566,404.923 973.559,404.33 975.552,403.738 977.545,403.148 979.539,402.558 981.532,401.97 983.525,401.383 985.518,400.797 987.511,400.213 989.504,399.629 991.497,399.047 993.491,398.465 995.484,397.885 997.477,397.306 999.47,396.729 1001.46,396.152 1003.46,395.576 1005.45,395.002 1007.44,394.429 1009.44,393.856 1011.43,393.285 1013.42,392.715 1015.42,392.145 1017.41,391.577 1019.4,391.01 1021.39,390.444 1023.39,389.879 1025.38,389.315 1027.37,388.753 1029.37,388.191 1031.36,387.631 1033.35,387.072 1035.35,386.514 1037.34,385.957 1039.33,385.401 1041.33,384.846 1043.32,384.292 1045.31,383.74 1047.31,383.188 1049.3,382.638 1051.29,382.088 1053.28,381.54 1055.28,380.992 1057.27,380.446 1059.26,379.901 1061.26,379.356 1063.25,378.813 1065.24,378.27 1067.24,377.729 1069.23,377.188 1071.22,376.648 1073.22,376.109 1075.21,375.571 1077.2,375.034 1079.2,374.497 1081.19,373.962 1083.18,373.428 1085.18,372.894 1087.17,372.362 1089.16,371.83 1091.15,371.3 1093.15,370.771 1095.14,370.243 1097.13,369.715 1099.13,369.189 1101.12,368.664 1103.11,368.139 1105.11,367.616 1107.1,367.094 1109.09,366.572 1111.09,366.052 1113.08,365.533 1115.07,365.014 1117.07,364.497 1119.06,363.98 1121.05,363.465 1123.05,362.95 1125.04,362.437 1127.03,361.924 1129.02,361.412 1131.02,360.901 1133.01,360.391 1135,359.882 1137,359.374 1138.99,358.866 1140.98,358.359 1142.98,357.853 1144.97,357.347 1146.96,356.842 1148.96,356.338 1150.95,355.835 1152.94,355.333 1154.94,354.832 1156.93,354.331 1158.92,353.832 1160.91,353.333 1162.91,352.835 1164.9,352.338 1166.89,351.842 1168.89,351.347 1170.88,350.853 1172.87,350.359 1174.87,349.867 1176.86,349.375 1178.85,348.885 1180.85,348.395 1182.84,347.906 1184.83,347.418 1186.83,346.931 1188.82,346.444 1190.81,345.959 1192.81,345.474 1194.8,344.991 1196.79,344.507 1198.78,344.025 1200.78,343.544 1202.77,343.063 1204.76,342.583 1206.76,342.104 1208.75,341.626 1210.74,341.148 1212.74,340.671 1214.73,340.195 1216.72,339.72 1218.72,339.245 1220.71,338.771 1222.7,338.298 1224.7,337.825 1226.69,337.354 1228.68,336.883 1230.67,336.413 1232.67,335.943 1234.66,335.475 1236.65,335.007 1238.65,334.54 1240.64,334.074 1242.63,333.608 1244.63,333.143 1246.62,332.679 1248.61,332.216 1250.61,331.753 1252.6,331.292 1254.59,330.831 1256.59,330.371 1258.58,329.911 1260.57,329.453 1262.57,328.995 1264.56,328.538 1266.55,328.081 1268.54,327.626 1270.54,327.17 1272.53,326.716 1274.52,326.263 1276.52,325.81 1278.51,325.358 1280.5,324.907 1282.5,324.456 1284.49,324.006 1286.48,323.557 1288.48,323.108 1290.47,322.66 1292.46,322.213 1294.46,321.766 1296.45,321.321 1298.44,320.875 1300.44,320.431 1302.43,319.987 1304.42,319.544 1306.41,319.101 1308.41,318.66 1310.4,318.219 1312.39,317.778 1314.39,317.339 1316.38,316.9 1318.37,316.461 1320.37,316.024 1322.36,315.587 1324.35,315.15 1326.35,314.715 1328.34,314.28 1330.33,313.845 1332.33,313.412 1334.32,312.979 1336.31,312.547 1338.3,312.115 1340.3,311.684 1342.29,311.254 1344.28,310.824 1346.28,310.395 1348.27,309.966 1350.26,309.538 1352.26,309.111 1354.25,308.685 1356.24,308.259 1358.24,307.834 1360.23,307.41 1362.22,306.986 1364.22,306.562 1366.21,306.14 1368.2,305.718 1370.2,305.297 1372.19,304.876 1374.18,304.456 1376.17,304.036 1378.17,303.617 1380.16,303.199 1382.15,302.781 1384.15,302.364 1386.14,301.948 1388.13,301.532 1390.13,301.117 1392.12,300.703 1394.11,300.289 1396.11,299.875 1398.1,299.463 1400.09,299.051 1402.09,298.639 1404.08,298.228 1406.07,297.818 1408.06,297.408 1410.06,296.999 1412.05,296.591 1414.04,296.183 1416.04,295.776 1418.03,295.369 1420.02,294.963 1422.02,294.557 1424.01,294.152 1426,293.747 1428,293.343 1429.99,292.94 1431.98,292.537 1433.98,292.135 1435.97,291.734 1437.96,291.333 1439.96,290.932 1441.95,290.533 1443.94,290.133 1445.93,289.734 1447.93,289.336 1449.92,288.939 1451.91,288.542 1453.91,288.146 1455.9,287.75 1457.89,287.354 1459.89,286.96 1461.88,286.565 1463.87,286.172 1465.87,285.779 1467.86,285.386 1469.85,284.994 1471.85,284.603 1473.84,284.212 1475.83,283.822 1477.82,283.432 1479.82,283.043 1481.81,282.655 1483.8,282.267 1485.8,281.879 1487.79,281.492 1489.78,281.106 1491.78,280.72 1493.77,280.335 1495.76,279.95 1497.76,279.566 1499.75,279.182 1501.74,278.798 1503.74,278.416 1505.73,278.033 1507.72,277.652 1509.72,277.27 1511.71,276.89 1513.7,276.51 1515.69,276.13 1517.69,275.751 1519.68,275.372 1521.67,274.994 1523.67,274.617 1525.66,274.24 1527.65,273.863 1529.65,273.487 1531.64,273.112 1533.63,272.737 1535.63,272.362 1537.62,271.988 1539.61,271.615 1541.61,271.242 1543.6,270.869 1545.59,270.497 1547.59,270.126 1549.58,269.755 1551.57,269.384 1553.56,269.015 1555.56,268.645 1557.55,268.276 1559.54,267.908 1561.54,267.54 1563.53,267.173 1565.52,266.806 1567.52,266.439 1569.51,266.073 1571.5,265.708 1573.5,265.343 1575.49,264.979 1577.48,264.615 1579.48,264.251 1581.47,263.888 1583.46,263.526 1585.45,263.163 1587.45,262.802 1589.44,262.44 1591.43,262.08 1593.43,261.72 1595.42,261.36 1597.41,261.001 1599.41,260.642 1601.4,260.283 1603.39,259.926 1605.39,259.568 1607.38,259.211 1609.37,258.855 1611.37,258.499 1613.36,258.144 1615.35,257.788 1617.35,257.434 1619.34,257.08 1621.33,256.726 1623.32,256.373 1625.32,256.02 1627.31,255.667 1629.3,255.316 1631.3,254.964 1633.29,254.613 1635.28,254.263 1637.28,253.913 1639.27,253.563 1641.26,253.214 1643.26,252.865 1645.25,252.517 1647.24,252.169 1649.24,251.822 1651.23,251.475 1653.22,251.129 1655.21,250.783 1657.21,250.437 1659.2,250.092 1661.19,249.748 1663.19,249.404 1665.18,249.06 1667.17,248.717 1669.17,248.374 1671.16,248.031 1673.15,247.689 1675.15,247.348 1677.14,247.006 1679.13,246.666 1681.13,246.325 1683.12,245.985 1685.11,245.646 1687.11,245.307 1689.1,244.968 1691.09,244.63 1693.08,244.292 1695.08,243.955 1697.07,243.618 1699.06,243.282 1701.06,242.946 1703.05,242.61 1705.04,242.275 1707.04,241.94 1709.03,241.606 1711.02,241.272 1713.02,240.938 1715.01,240.605 1717,240.272 1719,239.94 1720.99,239.608 1722.98,239.276 1724.97,238.945 1726.97,238.614 1728.96,238.284 1730.95,237.954 1732.95,237.624 1734.94,237.295 1736.93,236.967 1738.93,236.638 1740.92,236.311 1742.91,235.983 1744.91,235.656 1746.9,235.33 1748.89,235.003 1750.89,234.677 1752.88,234.352 1754.87,234.027 1756.87,233.702 1758.86,233.378 1760.85,233.054 1762.84,232.731 1764.84,232.408 1766.83,232.085 1768.82,231.763 1770.82,231.441 1772.81,231.119 1774.8,230.798 1776.8,230.478 1778.79,230.157 1780.78,229.837 1782.78,229.518 1784.77,229.198 1786.76,228.88 1788.76,228.561 1790.75,228.243 1792.74,227.925 1794.74,227.608 1796.73,227.291 1798.72,226.975 1800.71,226.659 1802.71,226.343 1804.7,226.027 1806.69,225.712 1808.69,225.398 1810.68,225.083 1812.67,224.769 1814.67,224.456 1816.66,224.143 1818.65,223.83 1820.65,223.517 1822.64,223.205 1824.63,222.894 1826.63,222.582 1828.62,222.271 1830.61,221.961 1832.6,221.65 1834.6,221.341 1836.59,221.031 1838.58,220.722 1840.58,220.413 1842.57,220.105 1844.56,219.797 1846.56,219.489 1848.55,219.182 1850.54,218.875 1852.54,218.569 1854.53,218.262 1856.52,217.957 1858.52,217.651 1860.51,217.346 1862.5,217.041 1864.5,216.737 1866.49,216.433 1868.48,216.129 1870.47,215.826 1872.47,215.522 1874.46,215.22 1876.45,214.917 1878.45,214.615 1880.44,214.314 1882.43,214.012 1884.43,213.711 1886.42,213.411 1888.41,213.111 1890.41,212.811 1892.4,212.511 1894.39,212.212 1896.39,211.913 1898.38,211.615 1900.37,211.316 1902.36,211.019 1904.36,210.721 1906.35,210.424 1908.34,210.127 1910.34,209.831 1912.33,209.534 1914.32,209.239 1916.32,208.943 1918.31,208.648 1920.3,208.353 1922.3,208.058 1924.29,207.764 1926.28,207.47 1928.28,207.177 1930.27,206.884 1932.26,206.591 1934.26,206.298 1936.25,206.006 1938.24,205.714 1940.23,205.423 1942.23,205.132 1944.22,204.841 1946.21,204.55 1948.21,204.26 1950.2,203.97 1952.19,203.681 1954.19,203.392 1956.18,203.103 1958.17,202.815 1960.17,202.527 1962.16,202.24 1964.15,201.953 1966.15,201.666 1968.14,201.379 1970.13,201.093 1972.12,200.807 1974.12,200.522 1976.11,200.236 1978.1,199.952 1980.1,199.667 1982.09,199.384 1984.08,199.1 1986.08,198.817 1988.07,198.534 1990.06,198.252 1992.06,197.97 1994.05,197.689 1996.04,197.407 1998.04,197.127 2000.03,196.846 2002.02,196.566 2004.02,196.286 2006.01,196.007 2008,195.728 2009.99,195.449 2011.99,195.17 2013.98,194.892 2015.97,194.615 2017.97,194.338 2019.96,194.061 2021.95,193.785 2023.95,193.508 2025.94,193.233 2027.93,192.958 2029.93,192.683 2031.92,192.409 2033.91,192.135 2035.91,191.861 2037.9,191.588 2039.89,191.315 2041.89,191.042 2043.88,190.77 2045.87,190.498 2047.86,190.226 2049.86,189.955 2051.85,189.684 2053.84,189.413 2055.84,189.143 2057.83,188.874 2059.82,188.604 2061.82,188.336 2063.81,188.067 2065.8,187.799 2067.8,187.532 2069.79,187.265 2071.78,186.998 2073.78,186.732 2075.77,186.466 2077.76,186.2 2079.75,185.934 2081.75,185.669 2083.74,185.405 2085.73,185.14 2087.73,184.876 2089.72,184.613 2091.71,184.349 2093.71,184.086 2095.7,183.824 2097.69,183.562 2099.69,183.301 2101.68,183.04 2103.67,182.779 2105.67,182.519 2107.66,182.259 2109.65,182 2111.65,181.741 2113.64,181.482 2115.63,181.224 2117.62,180.966 2119.62,180.709 2121.61,180.451 2123.6,180.194 2125.6,179.938 2127.59,179.682 2129.58,179.427 2131.58,179.171 2133.57,178.917 2135.56,178.662 2137.56,178.409 2139.55,178.155 2141.54,177.903 2143.54,177.651 2145.53,177.399 2147.52,177.147 2149.51,176.896 2151.51,176.645 2153.5,176.394 2155.49,176.144 2157.49,175.895 2159.48,175.646 2161.47,175.397 2163.47,175.149 2165.46,174.901 2167.45,174.654 2169.45,174.408 2171.44,174.162 2173.43,173.916 2175.43,173.67 2177.42,173.426 2179.41,173.181 2181.41,172.937 2183.4,172.694 2185.39,172.45 2187.38,172.208 2189.38,171.965 2191.37,171.724 2193.36,171.484 2195.36,171.243 2197.35,171.003 2199.34,170.763 2201.34,170.525 2203.33,170.286 2205.32,170.048 2207.32,169.811 2209.31,169.574 2211.3,169.337 2213.3,169.101 2215.29,168.866 2217.28,168.632 2219.27,168.398 2221.27,168.164 2223.26,167.931 2225.25,167.698 2227.25,167.467 2229.24,167.236 2231.23,167.005 2233.23,166.775 2235.22,166.546 2237.21,166.317 2239.21,166.089 2241.2,165.862 2243.19,165.635 2245.19,165.409 2247.18,165.184 2249.17,164.959 2251.17,164.735 2253.16,164.512 2255.15,164.289 2257.14,164.068 2259.14,163.847 2261.13,163.627 2263.12,163.408 2265.12,163.19 2267.11,162.973 2269.1,162.756 2271.1,162.54 2273.09,162.326 2275.08,162.113 2277.08,161.9 2279.07,161.689 2281.06,161.479 2283.06,161.271 2285.05,161.064 2287.04,160.859 2289.04,160.655 2291.03,160.454 2293.02,160.256 \"/>\n",
       "<polyline clip-path=\"url(#clip062)\" style=\"stroke:#e26f46; stroke-linecap:round; stroke-linejoin:round; stroke-width:4; stroke-opacity:1; fill:none\" points=\"301.869,1386.4 303.862,1380.69 305.856,1375.02 307.849,1369.38 309.842,1363.78 311.835,1358.21 313.828,1352.69 315.821,1347.21 317.814,1341.76 319.808,1336.35 321.801,1330.97 323.794,1325.62 325.787,1320.32 327.78,1315.05 329.773,1309.82 331.766,1304.62 333.76,1299.46 335.753,1294.34 337.746,1289.25 339.739,1284.19 341.732,1279.17 343.725,1274.19 345.718,1269.23 347.712,1264.31 349.705,1259.42 351.698,1254.57 353.691,1249.75 355.684,1244.96 357.677,1240.2 359.67,1235.48 361.664,1230.78 363.657,1226.12 365.65,1221.48 367.643,1216.87 369.636,1212.29 371.629,1207.75 373.622,1203.23 375.616,1198.74 377.609,1194.28 379.602,1189.84 381.595,1185.43 383.588,1181.05 385.581,1176.7 387.574,1172.37 389.568,1168.07 391.561,1163.8 393.554,1159.55 395.547,1155.32 397.54,1151.13 399.533,1146.96 401.526,1142.81 403.52,1138.69 405.513,1134.59 407.506,1130.51 409.499,1126.46 411.492,1122.43 413.485,1118.43 415.479,1114.45 417.472,1110.49 419.465,1106.55 421.458,1102.64 423.451,1098.74 425.444,1094.87 427.437,1091.01 429.431,1087.18 431.424,1083.36 433.417,1079.57 435.41,1075.8 437.403,1072.04 439.396,1068.31 441.389,1064.59 443.383,1060.9 445.376,1057.23 447.369,1053.58 449.362,1049.94 451.355,1046.33 453.348,1042.73 455.341,1039.16 457.335,1035.6 459.328,1032.06 461.321,1028.54 463.314,1025.04 465.307,1021.56 467.3,1018.1 469.293,1014.65 471.287,1011.22 473.28,1007.81 475.273,1004.42 477.266,1001.04 479.259,997.678 481.252,994.335 483.245,991.009 485.239,987.702 487.232,984.41 489.225,981.142 491.218,977.889 493.211,974.652 495.204,971.43 497.197,968.224 499.191,965.036 501.184,961.864 503.177,958.709 505.17,955.568 507.163,952.448 509.156,949.344 511.149,946.253 513.143,943.18 515.136,940.125 517.129,937.083 519.122,934.056 521.115,931.043 523.108,928.043 525.101,925.056 527.095,922.084 529.088,919.128 531.081,916.188 533.074,913.261 535.067,910.35 537.06,907.454 539.054,904.571 541.047,901.703 543.04,898.848 545.033,896.008 547.026,893.18 549.019,890.364 551.012,887.562 553.006,884.777 554.999,882.002 556.992,879.243 558.985,876.495 560.978,873.76 562.971,871.038 564.964,868.327 566.958,865.63 568.951,862.944 570.944,860.273 572.937,857.612 574.93,854.962 576.923,852.326 578.916,849.7 580.91,847.088 582.903,844.486 584.896,841.898 586.889,839.322 588.882,836.757 590.875,834.204 592.868,831.662 594.862,829.131 596.855,826.611 598.848,824.104 600.841,821.609 602.834,819.124 604.827,816.648 606.82,814.182 608.814,811.726 610.807,809.283 612.8,806.852 614.793,804.431 616.786,802.021 618.779,799.623 620.772,797.234 622.766,794.855 624.759,792.487 626.752,790.128 628.745,787.779 630.738,785.44 632.731,783.113 634.724,780.799 636.718,778.494 638.711,776.199 640.704,773.913 642.697,771.637 644.69,769.369 646.683,767.112 648.677,764.863 650.67,762.624 652.663,760.394 654.656,758.173 656.649,755.961 658.642,753.759 660.635,751.571 662.629,749.391 664.622,747.221 666.615,745.06 668.608,742.907 670.601,740.763 672.594,738.63 674.587,736.505 676.581,734.389 678.574,732.28 680.567,730.182 682.56,728.091 684.553,726.01 686.546,723.937 688.539,721.872 690.533,719.815 692.526,717.767 694.519,715.732 696.512,713.706 698.505,711.689 700.498,709.68 702.491,707.679 704.485,705.686 706.478,703.702 708.471,701.725 710.464,699.756 712.457,697.796 714.45,695.845 716.443,693.905 718.437,691.974 720.43,690.05 722.423,688.136 724.416,686.232 726.409,684.337 728.402,682.452 730.395,680.577 732.389,678.71 734.382,676.851 736.375,675.003 738.368,673.164 740.361,671.334 742.354,669.514 744.347,667.703 746.341,665.902 748.334,664.111 750.327,662.33 752.32,660.559 754.313,658.796 756.306,657.043 758.299,655.299 760.293,653.564 762.286,651.839 764.279,650.123 766.272,648.416 768.265,646.718 770.258,645.028 772.252,643.349 774.245,641.677 776.238,640.014 778.231,638.359 780.224,636.712 782.217,635.074 784.21,633.445 786.204,631.824 788.197,630.211 790.19,628.606 792.183,627.009 794.176,625.42 796.169,623.838 798.162,622.264 800.156,620.698 802.149,619.139 804.142,617.587 806.135,616.043 808.128,614.506 810.121,612.976 812.114,611.454 814.108,609.939 816.101,608.432 818.094,606.931 820.087,605.439 822.08,603.953 824.073,602.475 826.066,601.003 828.06,599.537 830.053,598.079 832.046,596.626 834.039,595.18 836.032,593.742 838.025,592.311 840.018,590.885 842.012,589.466 844.005,588.054 845.998,586.648 847.991,585.248 849.984,583.856 851.977,582.469 853.97,581.087 855.964,579.712 857.957,578.344 859.95,576.981 861.943,575.625 863.936,574.274 865.929,572.929 867.922,571.59 869.916,570.258 871.909,568.931 873.902,567.609 875.895,566.292 877.888,564.981 879.881,563.675 881.874,562.375 883.868,561.079 885.861,559.789 887.854,558.505 889.847,557.227 891.84,555.955 893.833,554.689 895.827,553.428 897.82,552.172 899.813,550.921 901.806,549.675 903.799,548.434 905.792,547.198 907.785,545.966 909.779,544.74 911.772,543.518 913.765,542.3 915.758,541.087 917.751,539.879 919.744,538.677 921.737,537.479 923.731,536.287 925.724,535.1 927.717,533.918 929.71,532.74 931.703,531.567 933.696,530.398 935.689,529.235 937.683,528.075 939.676,526.92 941.669,525.769 943.662,524.622 945.655,523.479 947.648,522.34 949.641,521.206 951.635,520.077 953.628,518.952 955.621,517.832 957.614,516.715 959.607,515.603 961.6,514.494 963.593,513.39 965.587,512.291 967.58,511.195 969.573,510.103 971.566,509.016 973.559,507.933 975.552,506.853 977.545,505.778 979.539,504.707 981.532,503.639 983.525,502.575 985.518,501.514 987.511,500.458 989.504,499.405 991.497,498.356 993.491,497.311 995.484,496.27 997.477,495.233 999.47,494.2 1001.46,493.17 1003.46,492.144 1005.45,491.122 1007.44,490.104 1009.44,489.088 1011.43,488.076 1013.42,487.068 1015.42,486.064 1017.41,485.063 1019.4,484.065 1021.39,483.069 1023.39,482.078 1025.38,481.09 1027.37,480.106 1029.37,479.124 1031.36,478.147 1033.35,477.172 1035.35,476.201 1037.34,475.234 1039.33,474.27 1041.33,473.309 1043.32,472.352 1045.31,471.397 1047.31,470.446 1049.3,469.498 1051.29,468.553 1053.28,467.612 1055.28,466.673 1057.27,465.737 1059.26,464.804 1061.26,463.874 1063.25,462.947 1065.24,462.023 1067.24,461.101 1069.23,460.184 1071.22,459.269 1073.22,458.357 1075.21,457.448 1077.2,456.543 1079.2,455.64 1081.19,454.74 1083.18,453.843 1085.18,452.949 1087.17,452.058 1089.16,451.169 1091.15,450.284 1093.15,449.402 1095.14,448.522 1097.13,447.645 1099.13,446.771 1101.12,445.899 1103.11,445.03 1105.11,444.164 1107.1,443.3 1109.09,442.439 1111.09,441.58 1113.08,440.724 1115.07,439.871 1117.07,439.02 1119.06,438.171 1121.05,437.326 1123.05,436.484 1125.04,435.644 1127.03,434.806 1129.02,433.971 1131.02,433.139 1133.01,432.309 1135,431.481 1137,430.657 1138.99,429.834 1140.98,429.015 1142.98,428.197 1144.97,427.382 1146.96,426.569 1148.96,425.759 1150.95,424.951 1152.94,424.146 1154.94,423.343 1156.93,422.542 1158.92,421.743 1160.91,420.947 1162.91,420.153 1164.9,419.361 1166.89,418.572 1168.89,417.785 1170.88,417 1172.87,416.218 1174.87,415.438 1176.86,414.66 1178.85,413.884 1180.85,413.111 1182.84,412.34 1184.83,411.571 1186.83,410.804 1188.82,410.04 1190.81,409.278 1192.81,408.517 1194.8,407.76 1196.79,407.004 1198.78,406.25 1200.78,405.499 1202.77,404.749 1204.76,404.002 1206.76,403.256 1208.75,402.513 1210.74,401.771 1212.74,401.031 1214.73,400.294 1216.72,399.558 1218.72,398.824 1220.71,398.092 1222.7,397.362 1224.7,396.634 1226.69,395.909 1228.68,395.185 1230.67,394.463 1232.67,393.744 1234.66,393.026 1236.65,392.31 1238.65,391.596 1240.64,390.884 1242.63,390.174 1244.63,389.466 1246.62,388.759 1248.61,388.055 1250.61,387.352 1252.6,386.652 1254.59,385.953 1256.59,385.256 1258.58,384.561 1260.57,383.868 1262.57,383.177 1264.56,382.487 1266.55,381.799 1268.54,381.113 1270.54,380.428 1272.53,379.746 1274.52,379.065 1276.52,378.386 1278.51,377.709 1280.5,377.033 1282.5,376.359 1284.49,375.687 1286.48,375.017 1288.48,374.349 1290.47,373.682 1292.46,373.017 1294.46,372.353 1296.45,371.692 1298.44,371.032 1300.44,370.374 1302.43,369.717 1304.42,369.062 1306.41,368.41 1308.41,367.758 1310.4,367.109 1312.39,366.46 1314.39,365.814 1316.38,365.169 1318.37,364.525 1320.37,363.883 1322.36,363.243 1324.35,362.604 1326.35,361.967 1328.34,361.331 1330.33,360.697 1332.33,360.065 1334.32,359.434 1336.31,358.805 1338.3,358.177 1340.3,357.55 1342.29,356.925 1344.28,356.301 1346.28,355.679 1348.27,355.058 1350.26,354.439 1352.26,353.821 1354.25,353.205 1356.24,352.591 1358.24,351.977 1360.23,351.366 1362.22,350.756 1364.22,350.147 1366.21,349.54 1368.2,348.934 1370.2,348.33 1372.19,347.727 1374.18,347.126 1376.17,346.526 1378.17,345.927 1380.16,345.33 1382.15,344.734 1384.15,344.14 1386.14,343.548 1388.13,342.956 1390.13,342.366 1392.12,341.778 1394.11,341.19 1396.11,340.605 1398.1,340.02 1400.09,339.437 1402.09,338.855 1404.08,338.274 1406.07,337.695 1408.06,337.117 1410.06,336.54 1412.05,335.965 1414.04,335.391 1416.04,334.818 1418.03,334.247 1420.02,333.676 1422.02,333.108 1424.01,332.54 1426,331.974 1428,331.409 1429.99,330.845 1431.98,330.283 1433.98,329.721 1435.97,329.162 1437.96,328.603 1439.96,328.045 1441.95,327.489 1443.94,326.934 1445.93,326.38 1447.93,325.828 1449.92,325.277 1451.91,324.727 1453.91,324.178 1455.9,323.631 1457.89,323.085 1459.89,322.54 1461.88,321.996 1463.87,321.453 1465.87,320.911 1467.86,320.371 1469.85,319.832 1471.85,319.294 1473.84,318.757 1475.83,318.221 1477.82,317.686 1479.82,317.152 1481.81,316.62 1483.8,316.089 1485.8,315.559 1487.79,315.03 1489.78,314.503 1491.78,313.976 1493.77,313.451 1495.76,312.926 1497.76,312.403 1499.75,311.881 1501.74,311.36 1503.74,310.84 1505.73,310.321 1507.72,309.803 1509.72,309.286 1511.71,308.77 1513.7,308.256 1515.69,307.742 1517.69,307.23 1519.68,306.719 1521.67,306.208 1523.67,305.699 1525.66,305.191 1527.65,304.685 1529.65,304.179 1531.64,303.674 1533.63,303.17 1535.63,302.667 1537.62,302.166 1539.61,301.665 1541.61,301.165 1543.6,300.667 1545.59,300.169 1547.59,299.673 1549.58,299.178 1551.57,298.683 1553.56,298.19 1555.56,297.698 1557.55,297.206 1559.54,296.716 1561.54,296.227 1563.53,295.739 1565.52,295.251 1567.52,294.765 1569.51,294.279 1571.5,293.795 1573.5,293.311 1575.49,292.829 1577.48,292.347 1579.48,291.867 1581.47,291.387 1583.46,290.908 1585.45,290.43 1587.45,289.954 1589.44,289.478 1591.43,289.003 1593.43,288.529 1595.42,288.056 1597.41,287.584 1599.41,287.113 1601.4,286.643 1603.39,286.173 1605.39,285.705 1607.38,285.237 1609.37,284.771 1611.37,284.305 1613.36,283.84 1615.35,283.376 1617.35,282.913 1619.34,282.45 1621.33,281.989 1623.32,281.529 1625.32,281.069 1627.31,280.611 1629.3,280.153 1631.3,279.696 1633.29,279.24 1635.28,278.785 1637.28,278.331 1639.27,277.877 1641.26,277.425 1643.26,276.973 1645.25,276.522 1647.24,276.072 1649.24,275.623 1651.23,275.175 1653.22,274.728 1655.21,274.281 1657.21,273.836 1659.2,273.391 1661.19,272.947 1663.19,272.504 1665.18,272.062 1667.17,271.62 1669.17,271.179 1671.16,270.74 1673.15,270.301 1675.15,269.863 1677.14,269.425 1679.13,268.989 1681.13,268.553 1683.12,268.118 1685.11,267.684 1687.11,267.251 1689.1,266.819 1691.09,266.387 1693.08,265.956 1695.08,265.526 1697.07,265.097 1699.06,264.669 1701.06,264.241 1703.05,263.814 1705.04,263.388 1707.04,262.962 1709.03,262.538 1711.02,262.114 1713.02,261.691 1715.01,261.269 1717,260.847 1719,260.427 1720.99,260.007 1722.98,259.588 1724.97,259.169 1726.97,258.752 1728.96,258.335 1730.95,257.919 1732.95,257.504 1734.94,257.089 1736.93,256.675 1738.93,256.262 1740.92,255.849 1742.91,255.438 1744.91,255.027 1746.9,254.616 1748.89,254.207 1750.89,253.798 1752.88,253.39 1754.87,252.983 1756.87,252.576 1758.86,252.17 1760.85,251.765 1762.84,251.361 1764.84,250.957 1766.83,250.554 1768.82,250.152 1770.82,249.75 1772.81,249.349 1774.8,248.949 1776.8,248.55 1778.79,248.151 1780.78,247.753 1782.78,247.355 1784.77,246.959 1786.76,246.562 1788.76,246.167 1790.75,245.772 1792.74,245.378 1794.74,244.985 1796.73,244.592 1798.72,244.2 1800.71,243.809 1802.71,243.418 1804.7,243.028 1806.69,242.639 1808.69,242.25 1810.68,241.862 1812.67,241.475 1814.67,241.088 1816.66,240.702 1818.65,240.317 1820.65,239.933 1822.64,239.549 1824.63,239.165 1826.63,238.783 1828.62,238.401 1830.61,238.019 1832.6,237.638 1834.6,237.258 1836.59,236.879 1838.58,236.5 1840.58,236.121 1842.57,235.744 1844.56,235.367 1846.56,234.99 1848.55,234.614 1850.54,234.239 1852.54,233.865 1854.53,233.491 1856.52,233.118 1858.52,232.745 1860.51,232.373 1862.5,232.002 1864.5,231.631 1866.49,231.261 1868.48,230.892 1870.47,230.523 1872.47,230.155 1874.46,229.787 1876.45,229.42 1878.45,229.053 1880.44,228.687 1882.43,228.322 1884.43,227.958 1886.42,227.593 1888.41,227.23 1890.41,226.867 1892.4,226.505 1894.39,226.143 1896.39,225.782 1898.38,225.421 1900.37,225.061 1902.36,224.701 1904.36,224.343 1906.35,223.985 1908.34,223.627 1910.34,223.27 1912.33,222.913 1914.32,222.558 1916.32,222.202 1918.31,221.848 1920.3,221.493 1922.3,221.14 1924.29,220.787 1926.28,220.434 1928.28,220.082 1930.27,219.731 1932.26,219.38 1934.26,219.03 1936.25,218.68 1938.24,218.331 1940.23,217.983 1942.23,217.635 1944.22,217.287 1946.21,216.94 1948.21,216.594 1950.2,216.248 1952.19,215.903 1954.19,215.558 1956.18,215.214 1958.17,214.87 1960.17,214.527 1962.16,214.184 1964.15,213.842 1966.15,213.501 1968.14,213.16 1970.13,212.819 1972.12,212.479 1974.12,212.14 1976.11,211.801 1978.1,211.463 1980.1,211.125 1982.09,210.787 1984.08,210.451 1986.08,210.114 1988.07,209.779 1990.06,209.443 1992.06,209.109 1994.05,208.774 1996.04,208.441 1998.04,208.107 2000.03,207.775 2002.02,207.442 2004.02,207.111 2006.01,206.779 2008,206.449 2009.99,206.118 2011.99,205.789 2013.98,205.46 2015.97,205.131 2017.97,204.803 2019.96,204.475 2021.95,204.148 2023.95,203.821 2025.94,203.495 2027.93,203.169 2029.93,202.844 2031.92,202.519 2033.91,202.195 2035.91,201.871 2037.9,201.548 2039.89,201.225 2041.89,200.903 2043.88,200.581 2045.87,200.26 2047.86,199.939 2049.86,199.619 2051.85,199.299 2053.84,198.979 2055.84,198.66 2057.83,198.342 2059.82,198.024 2061.82,197.706 2063.81,197.389 2065.8,197.073 2067.8,196.757 2069.79,196.441 2071.78,196.126 2073.78,195.811 2075.77,195.497 2077.76,195.184 2079.75,194.87 2081.75,194.558 2083.74,194.245 2085.73,193.933 2087.73,193.622 2089.72,193.311 2091.71,193 2093.71,192.69 2095.7,192.381 2097.69,192.072 2099.69,191.763 2101.68,191.455 2103.67,191.147 2105.67,190.84 2107.66,190.533 2109.65,190.227 2111.65,189.921 2113.64,189.615 2115.63,189.31 2117.62,189.005 2119.62,188.701 2121.61,188.398 2123.6,188.094 2125.6,187.791 2127.59,187.489 2129.58,187.187 2131.58,186.885 2133.57,186.584 2135.56,186.284 2137.56,185.983 2139.55,185.684 2141.54,185.384 2143.54,185.086 2145.53,184.787 2147.52,184.489 2149.51,184.191 2151.51,183.894 2153.5,183.598 2155.49,183.301 2157.49,183.006 2159.48,182.71 2161.47,182.416 2163.47,182.121 2165.46,181.827 2167.45,181.534 2169.45,181.24 2171.44,180.948 2173.43,180.655 2175.43,180.363 2177.42,180.072 2179.41,179.781 2181.41,179.49 2183.4,179.2 2185.39,178.911 2187.38,178.621 2189.38,178.333 2191.37,178.044 2193.36,177.756 2195.36,177.468 2197.35,177.181 2199.34,176.895 2201.34,176.608 2203.33,176.322 2205.32,176.037 2207.32,175.752 2209.31,175.467 2211.3,175.183 2213.3,174.899 2215.29,174.616 2217.28,174.333 2219.27,174.051 2221.27,173.769 2223.26,173.487 2225.25,173.206 2227.25,172.925 2229.24,172.645 2231.23,172.365 2233.23,172.086 2235.22,171.807 2237.21,171.528 2239.21,171.25 2241.2,170.973 2243.19,170.695 2245.19,170.419 2247.18,170.142 2249.17,169.866 2251.17,169.591 2253.16,169.316 2255.15,169.041 2257.14,168.767 2259.14,168.494 2261.13,168.22 2263.12,167.948 2265.12,167.676 2267.11,167.404 2269.1,167.133 2271.1,166.862 2273.09,166.592 2275.08,166.322 2277.08,166.053 2279.07,165.784 2281.06,165.516 2283.06,165.249 2285.05,164.983 2287.04,164.72 2289.04,164.458 2291.03,164.199 2293.02,163.944 \"/>\n",
       "<path clip-path=\"url(#clip060)\" d=\"M312.489 322.316 L658.365 322.316 L658.365 166.796 L312.489 166.796  Z\" fill=\"#ffffff\" fill-rule=\"evenodd\" fill-opacity=\"1\"/>\n",
       "<polyline clip-path=\"url(#clip060)\" style=\"stroke:#000000; stroke-linecap:round; stroke-linejoin:round; stroke-width:4; stroke-opacity:1; fill:none\" points=\"312.489,322.316 658.365,322.316 658.365,166.796 312.489,166.796 312.489,322.316 \"/>\n",
       "<polyline clip-path=\"url(#clip060)\" style=\"stroke:#009af9; stroke-linecap:round; stroke-linejoin:round; stroke-width:4; stroke-opacity:1; fill:none\" points=\"335.94,218.636 476.648,218.636 \"/>\n",
       "<path clip-path=\"url(#clip060)\" d=\"M500.678 209.99 L520.91 209.99 L520.91 213.879 L504.891 232.513 L520.91 232.513 L520.91 235.916 L500.099 235.916 L500.099 232.027 L516.118 213.393 L500.678 213.393 L500.678 209.99 Z\" fill=\"#000000\" fill-rule=\"nonzero\" fill-opacity=\"1\" /><path clip-path=\"url(#clip060)\" d=\"M527.97 214.388 L557.645 214.388 L557.645 218.277 L527.97 218.277 L527.97 214.388 M527.97 223.832 L557.645 223.832 L557.645 227.768 L527.97 227.768 L527.97 223.832 Z\" fill=\"#000000\" fill-rule=\"nonzero\" fill-opacity=\"1\" /><path clip-path=\"url(#clip060)\" d=\"M581.905 217.282 Q585.261 217.999 587.136 220.268 Q589.034 222.536 589.034 225.869 Q589.034 230.985 585.516 233.786 Q581.997 236.587 575.516 236.587 Q573.34 236.587 571.025 236.147 Q568.733 235.731 566.28 234.874 L566.28 230.36 Q568.224 231.494 570.539 232.073 Q572.854 232.652 575.377 232.652 Q579.775 232.652 582.067 230.916 Q584.381 229.18 584.381 225.869 Q584.381 222.814 582.229 221.101 Q580.099 219.365 576.28 219.365 L572.252 219.365 L572.252 215.522 L576.465 215.522 Q579.914 215.522 581.743 214.157 Q583.571 212.768 583.571 210.175 Q583.571 207.513 581.673 206.101 Q579.798 204.666 576.28 204.666 Q574.358 204.666 572.159 205.083 Q569.96 205.499 567.321 206.379 L567.321 202.212 Q569.983 201.471 572.298 201.101 Q574.636 200.731 576.696 200.731 Q582.02 200.731 585.122 203.161 Q588.224 205.569 588.224 209.689 Q588.224 212.559 586.581 214.55 Q584.937 216.518 581.905 217.282 Z\" fill=\"#000000\" fill-rule=\"nonzero\" fill-opacity=\"1\" /><path clip-path=\"url(#clip060)\" d=\"M597.9 230.036 L602.784 230.036 L602.784 235.916 L597.9 235.916 L597.9 230.036 Z\" fill=\"#000000\" fill-rule=\"nonzero\" fill-opacity=\"1\" /><path clip-path=\"url(#clip060)\" d=\"M622.969 204.434 Q619.358 204.434 617.529 207.999 Q615.724 211.541 615.724 218.67 Q615.724 225.777 617.529 229.342 Q619.358 232.883 622.969 232.883 Q626.603 232.883 628.409 229.342 Q630.238 225.777 630.238 218.67 Q630.238 211.541 628.409 207.999 Q626.603 204.434 622.969 204.434 M622.969 200.731 Q628.779 200.731 631.835 205.337 Q634.914 209.92 634.914 218.67 Q634.914 227.397 631.835 232.004 Q628.779 236.587 622.969 236.587 Q617.159 236.587 614.08 232.004 Q611.025 227.397 611.025 218.67 Q611.025 209.92 614.08 205.337 Q617.159 200.731 622.969 200.731 Z\" fill=\"#000000\" fill-rule=\"nonzero\" fill-opacity=\"1\" /><polyline clip-path=\"url(#clip060)\" style=\"stroke:#e26f46; stroke-linecap:round; stroke-linejoin:round; stroke-width:4; stroke-opacity:1; fill:none\" points=\"335.94,270.476 476.648,270.476 \"/>\n",
       "<path clip-path=\"url(#clip060)\" d=\"M500.678 261.83 L520.91 261.83 L520.91 265.719 L504.891 284.353 L520.91 284.353 L520.91 287.756 L500.099 287.756 L500.099 283.867 L516.118 265.233 L500.678 265.233 L500.678 261.83 Z\" fill=\"#000000\" fill-rule=\"nonzero\" fill-opacity=\"1\" /><path clip-path=\"url(#clip060)\" d=\"M527.97 266.228 L557.645 266.228 L557.645 270.117 L527.97 270.117 L527.97 266.228 M527.97 275.672 L557.645 275.672 L557.645 279.608 L527.97 279.608 L527.97 275.672 Z\" fill=\"#000000\" fill-rule=\"nonzero\" fill-opacity=\"1\" /><path clip-path=\"url(#clip060)\" d=\"M577.738 256.274 Q574.127 256.274 572.298 259.839 Q570.493 263.381 570.493 270.51 Q570.493 277.617 572.298 281.182 Q574.127 284.723 577.738 284.723 Q581.372 284.723 583.178 281.182 Q585.006 277.617 585.006 270.51 Q585.006 263.381 583.178 259.839 Q581.372 256.274 577.738 256.274 M577.738 252.571 Q583.548 252.571 586.604 257.177 Q589.682 261.76 589.682 270.51 Q589.682 279.237 586.604 283.844 Q583.548 288.427 577.738 288.427 Q571.928 288.427 568.849 283.844 Q565.794 279.237 565.794 270.51 Q565.794 261.76 568.849 257.177 Q571.928 252.571 577.738 252.571 Z\" fill=\"#000000\" fill-rule=\"nonzero\" fill-opacity=\"1\" /><path clip-path=\"url(#clip060)\" d=\"M597.9 281.876 L602.784 281.876 L602.784 287.756 L597.9 287.756 L597.9 281.876 Z\" fill=\"#000000\" fill-rule=\"nonzero\" fill-opacity=\"1\" /><path clip-path=\"url(#clip060)\" d=\"M613.016 253.196 L631.372 253.196 L631.372 257.131 L617.298 257.131 L617.298 265.603 Q618.316 265.256 619.335 265.094 Q620.353 264.909 621.372 264.909 Q627.159 264.909 630.539 268.08 Q633.918 271.251 633.918 276.668 Q633.918 282.246 630.446 285.348 Q626.974 288.427 620.654 288.427 Q618.478 288.427 616.21 288.057 Q613.965 287.686 611.557 286.946 L611.557 282.246 Q613.641 283.381 615.863 283.936 Q618.085 284.492 620.562 284.492 Q624.566 284.492 626.904 282.385 Q629.242 280.279 629.242 276.668 Q629.242 273.057 626.904 270.95 Q624.566 268.844 620.562 268.844 Q618.687 268.844 616.812 269.26 Q614.96 269.677 613.016 270.557 L613.016 253.196 Z\" fill=\"#000000\" fill-rule=\"nonzero\" fill-opacity=\"1\" /></svg>\n"
      ],
      "text/html": [
       "<?xml version=\"1.0\" encoding=\"utf-8\"?>\n",
       "<svg xmlns=\"http://www.w3.org/2000/svg\" xmlns:xlink=\"http://www.w3.org/1999/xlink\" width=\"600\" height=\"400\" viewBox=\"0 0 2400 1600\">\n",
       "<defs>\n",
       "  <clipPath id=\"clip110\">\n",
       "    <rect x=\"0\" y=\"0\" width=\"2400\" height=\"1600\"/>\n",
       "  </clipPath>\n",
       "</defs>\n",
       "<path clip-path=\"url(#clip110)\" d=\"M0 1600 L2400 1600 L2400 8.88178e-14 L0 8.88178e-14  Z\" fill=\"#ffffff\" fill-rule=\"evenodd\" fill-opacity=\"1\"/>\n",
       "<defs>\n",
       "  <clipPath id=\"clip111\">\n",
       "    <rect x=\"480\" y=\"0\" width=\"1681\" height=\"1600\"/>\n",
       "  </clipPath>\n",
       "</defs>\n",
       "<path clip-path=\"url(#clip110)\" d=\"M242.135 1423.18 L2352.76 1423.18 L2352.76 123.472 L242.135 123.472  Z\" fill=\"#ffffff\" fill-rule=\"evenodd\" fill-opacity=\"1\"/>\n",
       "<defs>\n",
       "  <clipPath id=\"clip112\">\n",
       "    <rect x=\"242\" y=\"123\" width=\"2112\" height=\"1301\"/>\n",
       "  </clipPath>\n",
       "</defs>\n",
       "<polyline clip-path=\"url(#clip112)\" style=\"stroke:#000000; stroke-linecap:round; stroke-linejoin:round; stroke-width:2; stroke-opacity:0.1; fill:none\" points=\"301.803,1423.18 301.803,123.472 \"/>\n",
       "<polyline clip-path=\"url(#clip112)\" style=\"stroke:#000000; stroke-linecap:round; stroke-linejoin:round; stroke-width:2; stroke-opacity:0.1; fill:none\" points=\"965.542,1423.18 965.542,123.472 \"/>\n",
       "<polyline clip-path=\"url(#clip112)\" style=\"stroke:#000000; stroke-linecap:round; stroke-linejoin:round; stroke-width:2; stroke-opacity:0.1; fill:none\" points=\"1629.28,1423.18 1629.28,123.472 \"/>\n",
       "<polyline clip-path=\"url(#clip112)\" style=\"stroke:#000000; stroke-linecap:round; stroke-linejoin:round; stroke-width:2; stroke-opacity:0.1; fill:none\" points=\"2293.02,1423.18 2293.02,123.472 \"/>\n",
       "<polyline clip-path=\"url(#clip110)\" style=\"stroke:#000000; stroke-linecap:round; stroke-linejoin:round; stroke-width:4; stroke-opacity:1; fill:none\" points=\"242.135,1423.18 2352.76,1423.18 \"/>\n",
       "<polyline clip-path=\"url(#clip110)\" style=\"stroke:#000000; stroke-linecap:round; stroke-linejoin:round; stroke-width:4; stroke-opacity:1; fill:none\" points=\"301.803,1423.18 301.803,1404.28 \"/>\n",
       "<polyline clip-path=\"url(#clip110)\" style=\"stroke:#000000; stroke-linecap:round; stroke-linejoin:round; stroke-width:4; stroke-opacity:1; fill:none\" points=\"965.542,1423.18 965.542,1404.28 \"/>\n",
       "<polyline clip-path=\"url(#clip110)\" style=\"stroke:#000000; stroke-linecap:round; stroke-linejoin:round; stroke-width:4; stroke-opacity:1; fill:none\" points=\"1629.28,1423.18 1629.28,1404.28 \"/>\n",
       "<polyline clip-path=\"url(#clip110)\" style=\"stroke:#000000; stroke-linecap:round; stroke-linejoin:round; stroke-width:4; stroke-opacity:1; fill:none\" points=\"2293.02,1423.18 2293.02,1404.28 \"/>\n",
       "<path clip-path=\"url(#clip110)\" d=\"M301.803 1454.1 Q298.192 1454.1 296.363 1457.66 Q294.558 1461.2 294.558 1468.33 Q294.558 1475.44 296.363 1479.01 Q298.192 1482.55 301.803 1482.55 Q305.437 1482.55 307.243 1479.01 Q309.071 1475.44 309.071 1468.33 Q309.071 1461.2 307.243 1457.66 Q305.437 1454.1 301.803 1454.1 M301.803 1450.39 Q307.613 1450.39 310.669 1455 Q313.747 1459.58 313.747 1468.33 Q313.747 1477.06 310.669 1481.67 Q307.613 1486.25 301.803 1486.25 Q295.993 1486.25 292.914 1481.67 Q289.858 1477.06 289.858 1468.33 Q289.858 1459.58 292.914 1455 Q295.993 1450.39 301.803 1450.39 Z\" fill=\"#000000\" fill-rule=\"nonzero\" fill-opacity=\"1\" /><path clip-path=\"url(#clip110)\" d=\"M940.23 1481.64 L947.869 1481.64 L947.869 1455.28 L939.559 1456.95 L939.559 1452.69 L947.823 1451.02 L952.498 1451.02 L952.498 1481.64 L960.137 1481.64 L960.137 1485.58 L940.23 1485.58 L940.23 1481.64 Z\" fill=\"#000000\" fill-rule=\"nonzero\" fill-opacity=\"1\" /><path clip-path=\"url(#clip110)\" d=\"M979.582 1454.1 Q975.971 1454.1 974.142 1457.66 Q972.336 1461.2 972.336 1468.33 Q972.336 1475.44 974.142 1479.01 Q975.971 1482.55 979.582 1482.55 Q983.216 1482.55 985.021 1479.01 Q986.85 1475.44 986.85 1468.33 Q986.85 1461.2 985.021 1457.66 Q983.216 1454.1 979.582 1454.1 M979.582 1450.39 Q985.392 1450.39 988.447 1455 Q991.526 1459.58 991.526 1468.33 Q991.526 1477.06 988.447 1481.67 Q985.392 1486.25 979.582 1486.25 Q973.771 1486.25 970.693 1481.67 Q967.637 1477.06 967.637 1468.33 Q967.637 1459.58 970.693 1455 Q973.771 1450.39 979.582 1450.39 Z\" fill=\"#000000\" fill-rule=\"nonzero\" fill-opacity=\"1\" /><path clip-path=\"url(#clip110)\" d=\"M1608.06 1481.64 L1624.37 1481.64 L1624.37 1485.58 L1602.43 1485.58 L1602.43 1481.64 Q1605.09 1478.89 1609.68 1474.26 Q1614.28 1469.61 1615.46 1468.27 Q1617.71 1465.74 1618.59 1464.01 Q1619.49 1462.25 1619.49 1460.56 Q1619.49 1457.8 1617.55 1456.07 Q1615.62 1454.33 1612.52 1454.33 Q1610.32 1454.33 1607.87 1455.09 Q1605.44 1455.86 1602.66 1457.41 L1602.66 1452.69 Q1605.49 1451.55 1607.94 1450.97 Q1610.39 1450.39 1612.43 1450.39 Q1617.8 1450.39 1620.99 1453.08 Q1624.19 1455.77 1624.19 1460.26 Q1624.19 1462.39 1623.38 1464.31 Q1622.59 1466.2 1620.49 1468.8 Q1619.91 1469.47 1616.81 1472.69 Q1613.7 1475.88 1608.06 1481.64 Z\" fill=\"#000000\" fill-rule=\"nonzero\" fill-opacity=\"1\" /><path clip-path=\"url(#clip110)\" d=\"M1644.19 1454.1 Q1640.58 1454.1 1638.75 1457.66 Q1636.94 1461.2 1636.94 1468.33 Q1636.94 1475.44 1638.75 1479.01 Q1640.58 1482.55 1644.19 1482.55 Q1647.82 1482.55 1649.63 1479.01 Q1651.46 1475.44 1651.46 1468.33 Q1651.46 1461.2 1649.63 1457.66 Q1647.82 1454.1 1644.19 1454.1 M1644.19 1450.39 Q1650 1450.39 1653.05 1455 Q1656.13 1459.58 1656.13 1468.33 Q1656.13 1477.06 1653.05 1481.67 Q1650 1486.25 1644.19 1486.25 Q1638.38 1486.25 1635.3 1481.67 Q1632.24 1477.06 1632.24 1468.33 Q1632.24 1459.58 1635.3 1455 Q1638.38 1450.39 1644.19 1450.39 Z\" fill=\"#000000\" fill-rule=\"nonzero\" fill-opacity=\"1\" /><path clip-path=\"url(#clip110)\" d=\"M2281.86 1466.95 Q2285.22 1467.66 2287.1 1469.93 Q2288.99 1472.2 2288.99 1475.53 Q2288.99 1480.65 2285.48 1483.45 Q2281.96 1486.25 2275.48 1486.25 Q2273.3 1486.25 2270.98 1485.81 Q2268.69 1485.39 2266.24 1484.54 L2266.24 1480.02 Q2268.18 1481.16 2270.5 1481.74 Q2272.81 1482.32 2275.34 1482.32 Q2279.73 1482.32 2282.03 1480.58 Q2284.34 1478.84 2284.34 1475.53 Q2284.34 1472.48 2282.19 1470.77 Q2280.06 1469.03 2276.24 1469.03 L2272.21 1469.03 L2272.21 1465.19 L2276.42 1465.19 Q2279.87 1465.19 2281.7 1463.82 Q2283.53 1462.43 2283.53 1459.84 Q2283.53 1457.18 2281.63 1455.77 Q2279.76 1454.33 2276.24 1454.33 Q2274.32 1454.33 2272.12 1454.75 Q2269.92 1455.16 2267.28 1456.04 L2267.28 1451.88 Q2269.94 1451.14 2272.26 1450.77 Q2274.6 1450.39 2276.66 1450.39 Q2281.98 1450.39 2285.08 1452.83 Q2288.18 1455.23 2288.18 1459.35 Q2288.18 1462.22 2286.54 1464.21 Q2284.9 1466.18 2281.86 1466.95 Z\" fill=\"#000000\" fill-rule=\"nonzero\" fill-opacity=\"1\" /><path clip-path=\"url(#clip110)\" d=\"M2307.86 1454.1 Q2304.25 1454.1 2302.42 1457.66 Q2300.61 1461.2 2300.61 1468.33 Q2300.61 1475.44 2302.42 1479.01 Q2304.25 1482.55 2307.86 1482.55 Q2311.49 1482.55 2313.3 1479.01 Q2315.13 1475.44 2315.13 1468.33 Q2315.13 1461.2 2313.3 1457.66 Q2311.49 1454.1 2307.86 1454.1 M2307.86 1450.39 Q2313.67 1450.39 2316.72 1455 Q2319.8 1459.58 2319.8 1468.33 Q2319.8 1477.06 2316.72 1481.67 Q2313.67 1486.25 2307.86 1486.25 Q2302.05 1486.25 2298.97 1481.67 Q2295.91 1477.06 2295.91 1468.33 Q2295.91 1459.58 2298.97 1455 Q2302.05 1450.39 2307.86 1450.39 Z\" fill=\"#000000\" fill-rule=\"nonzero\" fill-opacity=\"1\" /><path clip-path=\"url(#clip110)\" d=\"M1214.99 1526.86 L1206.27 1550.51 L1223.75 1550.51 L1214.99 1526.86 M1211.37 1520.52 L1218.65 1520.52 L1236.76 1568.04 L1230.08 1568.04 L1225.75 1555.85 L1204.33 1555.85 L1200 1568.04 L1193.22 1568.04 L1211.37 1520.52 Z\" fill=\"#000000\" fill-rule=\"nonzero\" fill-opacity=\"1\" /><path clip-path=\"url(#clip110)\" d=\"M1266.17 1533.45 L1266.17 1538.98 Q1263.69 1537.71 1261.02 1537.07 Q1258.34 1536.44 1255.48 1536.44 Q1251.12 1536.44 1248.92 1537.77 Q1246.76 1539.11 1246.76 1541.79 Q1246.76 1543.82 1248.32 1545 Q1249.88 1546.15 1254.59 1547.2 L1256.59 1547.64 Q1262.83 1548.98 1265.44 1551.43 Q1268.08 1553.85 1268.08 1558.21 Q1268.08 1563.17 1264.14 1566.07 Q1260.22 1568.97 1253.35 1568.97 Q1250.48 1568.97 1247.36 1568.39 Q1244.28 1567.85 1240.84 1566.74 L1240.84 1560.69 Q1244.08 1562.38 1247.24 1563.24 Q1250.39 1564.07 1253.47 1564.07 Q1257.61 1564.07 1259.84 1562.66 Q1262.07 1561.23 1262.07 1558.65 Q1262.07 1556.27 1260.44 1554.99 Q1258.85 1553.72 1253.41 1552.54 L1251.37 1552.07 Q1245.93 1550.92 1243.51 1548.56 Q1241.09 1546.18 1241.09 1542.04 Q1241.09 1537.01 1244.66 1534.27 Q1248.22 1531.54 1254.78 1531.54 Q1258.03 1531.54 1260.89 1532.01 Q1263.75 1532.49 1266.17 1533.45 Z\" fill=\"#000000\" fill-rule=\"nonzero\" fill-opacity=\"1\" /><path clip-path=\"url(#clip110)\" d=\"M1300.13 1533.45 L1300.13 1538.98 Q1297.65 1537.71 1294.98 1537.07 Q1292.3 1536.44 1289.44 1536.44 Q1285.08 1536.44 1282.88 1537.77 Q1280.72 1539.11 1280.72 1541.79 Q1280.72 1543.82 1282.28 1545 Q1283.84 1546.15 1288.55 1547.2 L1290.55 1547.64 Q1296.79 1548.98 1299.4 1551.43 Q1302.04 1553.85 1302.04 1558.21 Q1302.04 1563.17 1298.1 1566.07 Q1294.18 1568.97 1287.31 1568.97 Q1284.44 1568.97 1281.32 1568.39 Q1278.24 1567.85 1274.8 1566.74 L1274.8 1560.69 Q1278.05 1562.38 1281.2 1563.24 Q1284.35 1564.07 1287.44 1564.07 Q1291.57 1564.07 1293.8 1562.66 Q1296.03 1561.23 1296.03 1558.65 Q1296.03 1556.27 1294.41 1554.99 Q1292.81 1553.72 1287.37 1552.54 L1285.33 1552.07 Q1279.89 1550.92 1277.47 1548.56 Q1275.05 1546.18 1275.05 1542.04 Q1275.05 1537.01 1278.62 1534.27 Q1282.18 1531.54 1288.74 1531.54 Q1291.99 1531.54 1294.85 1532.01 Q1297.72 1532.49 1300.13 1533.45 Z\" fill=\"#000000\" fill-rule=\"nonzero\" fill-opacity=\"1\" /><path clip-path=\"url(#clip110)\" d=\"M1341.86 1548.76 L1341.86 1551.62 L1314.94 1551.62 Q1315.32 1557.67 1318.56 1560.85 Q1321.84 1564 1327.67 1564 Q1331.04 1564 1334.19 1563.17 Q1337.37 1562.35 1340.49 1560.69 L1340.49 1566.23 Q1337.34 1567.57 1334.03 1568.27 Q1330.72 1568.97 1327.32 1568.97 Q1318.79 1568.97 1313.79 1564 Q1308.82 1559.04 1308.82 1550.57 Q1308.82 1541.82 1313.53 1536.69 Q1318.28 1531.54 1326.3 1531.54 Q1333.49 1531.54 1337.66 1536.18 Q1341.86 1540.8 1341.86 1548.76 M1336.01 1547.04 Q1335.94 1542.23 1333.3 1539.37 Q1330.69 1536.5 1326.36 1536.5 Q1321.46 1536.5 1318.5 1539.27 Q1315.57 1542.04 1315.13 1547.07 L1336.01 1547.04 Z\" fill=\"#000000\" fill-rule=\"nonzero\" fill-opacity=\"1\" /><path clip-path=\"url(#clip110)\" d=\"M1357.27 1522.27 L1357.27 1532.4 L1369.33 1532.4 L1369.33 1536.95 L1357.27 1536.95 L1357.27 1556.3 Q1357.27 1560.66 1358.44 1561.9 Q1359.65 1563.14 1363.31 1563.14 L1369.33 1563.14 L1369.33 1568.04 L1363.31 1568.04 Q1356.53 1568.04 1353.96 1565.53 Q1351.38 1562.98 1351.38 1556.3 L1351.38 1536.95 L1347.08 1536.95 L1347.08 1532.4 L1351.38 1532.4 L1351.38 1522.27 L1357.27 1522.27 Z\" fill=\"#000000\" fill-rule=\"nonzero\" fill-opacity=\"1\" /><path clip-path=\"url(#clip110)\" d=\"M1399.76 1533.45 L1399.76 1538.98 Q1397.28 1537.71 1394.6 1537.07 Q1391.93 1536.44 1389.06 1536.44 Q1384.7 1536.44 1382.51 1537.77 Q1380.34 1539.11 1380.34 1541.79 Q1380.34 1543.82 1381.9 1545 Q1383.46 1546.15 1388.17 1547.2 L1390.18 1547.64 Q1396.42 1548.98 1399.03 1551.43 Q1401.67 1553.85 1401.67 1558.21 Q1401.67 1563.17 1397.72 1566.07 Q1393.81 1568.97 1386.93 1568.97 Q1384.07 1568.97 1380.95 1568.39 Q1377.86 1567.85 1374.42 1566.74 L1374.42 1560.69 Q1377.67 1562.38 1380.82 1563.24 Q1383.97 1564.07 1387.06 1564.07 Q1391.2 1564.07 1393.42 1562.66 Q1395.65 1561.23 1395.65 1558.65 Q1395.65 1556.27 1394.03 1554.99 Q1392.44 1553.72 1386.99 1552.54 L1384.96 1552.07 Q1379.52 1550.92 1377.1 1548.56 Q1374.68 1546.18 1374.68 1542.04 Q1374.68 1537.01 1378.24 1534.27 Q1381.81 1531.54 1388.36 1531.54 Q1391.61 1531.54 1394.47 1532.01 Q1397.34 1532.49 1399.76 1533.45 Z\" fill=\"#000000\" fill-rule=\"nonzero\" fill-opacity=\"1\" /><polyline clip-path=\"url(#clip112)\" style=\"stroke:#000000; stroke-linecap:round; stroke-linejoin:round; stroke-width:2; stroke-opacity:0.1; fill:none\" points=\"242.135,1180.48 2352.76,1180.48 \"/>\n",
       "<polyline clip-path=\"url(#clip112)\" style=\"stroke:#000000; stroke-linecap:round; stroke-linejoin:round; stroke-width:2; stroke-opacity:0.1; fill:none\" points=\"242.135,843.306 2352.76,843.306 \"/>\n",
       "<polyline clip-path=\"url(#clip112)\" style=\"stroke:#000000; stroke-linecap:round; stroke-linejoin:round; stroke-width:2; stroke-opacity:0.1; fill:none\" points=\"242.135,506.133 2352.76,506.133 \"/>\n",
       "<polyline clip-path=\"url(#clip112)\" style=\"stroke:#000000; stroke-linecap:round; stroke-linejoin:round; stroke-width:2; stroke-opacity:0.1; fill:none\" points=\"242.135,168.96 2352.76,168.96 \"/>\n",
       "<polyline clip-path=\"url(#clip110)\" style=\"stroke:#000000; stroke-linecap:round; stroke-linejoin:round; stroke-width:4; stroke-opacity:1; fill:none\" points=\"242.135,1423.18 242.135,123.472 \"/>\n",
       "<polyline clip-path=\"url(#clip110)\" style=\"stroke:#000000; stroke-linecap:round; stroke-linejoin:round; stroke-width:4; stroke-opacity:1; fill:none\" points=\"242.135,1180.48 261.032,1180.48 \"/>\n",
       "<polyline clip-path=\"url(#clip110)\" style=\"stroke:#000000; stroke-linecap:round; stroke-linejoin:round; stroke-width:4; stroke-opacity:1; fill:none\" points=\"242.135,843.306 261.032,843.306 \"/>\n",
       "<polyline clip-path=\"url(#clip110)\" style=\"stroke:#000000; stroke-linecap:round; stroke-linejoin:round; stroke-width:4; stroke-opacity:1; fill:none\" points=\"242.135,506.133 261.032,506.133 \"/>\n",
       "<polyline clip-path=\"url(#clip110)\" style=\"stroke:#000000; stroke-linecap:round; stroke-linejoin:round; stroke-width:4; stroke-opacity:1; fill:none\" points=\"242.135,168.96 261.032,168.96 \"/>\n",
       "<path clip-path=\"url(#clip110)\" d=\"M114.26 1180.93 L143.936 1180.93 L143.936 1184.87 L114.26 1184.87 L114.26 1180.93 Z\" fill=\"#000000\" fill-rule=\"nonzero\" fill-opacity=\"1\" /><path clip-path=\"url(#clip110)\" d=\"M154.075 1163.2 L172.431 1163.2 L172.431 1167.13 L158.357 1167.13 L158.357 1175.61 Q159.376 1175.26 160.394 1175.1 Q161.413 1174.91 162.431 1174.91 Q168.218 1174.91 171.598 1178.08 Q174.977 1181.25 174.977 1186.67 Q174.977 1192.25 171.505 1195.35 Q168.033 1198.43 161.714 1198.43 Q159.538 1198.43 157.269 1198.06 Q155.024 1197.69 152.616 1196.95 L152.616 1192.25 Q154.7 1193.38 156.922 1193.94 Q159.144 1194.5 161.621 1194.5 Q165.626 1194.5 167.964 1192.39 Q170.302 1190.28 170.302 1186.67 Q170.302 1183.06 167.964 1180.95 Q165.626 1178.85 161.621 1178.85 Q159.746 1178.85 157.871 1179.26 Q156.019 1179.68 154.075 1180.56 L154.075 1163.2 Z\" fill=\"#000000\" fill-rule=\"nonzero\" fill-opacity=\"1\" /><path clip-path=\"url(#clip110)\" d=\"M194.19 1166.28 Q190.579 1166.28 188.75 1169.84 Q186.945 1173.38 186.945 1180.51 Q186.945 1187.62 188.75 1191.19 Q190.579 1194.73 194.19 1194.73 Q197.825 1194.73 199.63 1191.19 Q201.459 1187.62 201.459 1180.51 Q201.459 1173.38 199.63 1169.84 Q197.825 1166.28 194.19 1166.28 M194.19 1162.57 Q200 1162.57 203.056 1167.18 Q206.135 1171.76 206.135 1180.51 Q206.135 1189.24 203.056 1193.85 Q200 1198.43 194.19 1198.43 Q188.38 1198.43 185.301 1193.85 Q182.246 1189.24 182.246 1180.51 Q182.246 1171.76 185.301 1167.18 Q188.38 1162.57 194.19 1162.57 Z\" fill=\"#000000\" fill-rule=\"nonzero\" fill-opacity=\"1\" /><path clip-path=\"url(#clip110)\" d=\"M114.26 843.757 L143.936 843.757 L143.936 847.693 L114.26 847.693 L114.26 843.757 Z\" fill=\"#000000\" fill-rule=\"nonzero\" fill-opacity=\"1\" /><path clip-path=\"url(#clip110)\" d=\"M166.876 830.1 L155.07 848.549 L166.876 848.549 L166.876 830.1 M165.649 826.026 L171.528 826.026 L171.528 848.549 L176.459 848.549 L176.459 852.438 L171.528 852.438 L171.528 860.586 L166.876 860.586 L166.876 852.438 L151.274 852.438 L151.274 847.924 L165.649 826.026 Z\" fill=\"#000000\" fill-rule=\"nonzero\" fill-opacity=\"1\" /><path clip-path=\"url(#clip110)\" d=\"M194.19 829.105 Q190.579 829.105 188.75 832.67 Q186.945 836.211 186.945 843.341 Q186.945 850.447 188.75 854.012 Q190.579 857.554 194.19 857.554 Q197.825 857.554 199.63 854.012 Q201.459 850.447 201.459 843.341 Q201.459 836.211 199.63 832.67 Q197.825 829.105 194.19 829.105 M194.19 825.401 Q200 825.401 203.056 830.008 Q206.135 834.591 206.135 843.341 Q206.135 852.068 203.056 856.674 Q200 861.257 194.19 861.257 Q188.38 861.257 185.301 856.674 Q182.246 852.068 182.246 843.341 Q182.246 834.591 185.301 830.008 Q188.38 825.401 194.19 825.401 Z\" fill=\"#000000\" fill-rule=\"nonzero\" fill-opacity=\"1\" /><path clip-path=\"url(#clip110)\" d=\"M114.26 506.584 L143.936 506.584 L143.936 510.519 L114.26 510.519 L114.26 506.584 Z\" fill=\"#000000\" fill-rule=\"nonzero\" fill-opacity=\"1\" /><path clip-path=\"url(#clip110)\" d=\"M168.195 504.779 Q171.552 505.496 173.427 507.765 Q175.325 510.033 175.325 513.367 Q175.325 518.482 171.806 521.283 Q168.288 524.084 161.806 524.084 Q159.63 524.084 157.315 523.644 Q155.024 523.228 152.57 522.371 L152.57 517.857 Q154.515 518.992 156.829 519.57 Q159.144 520.149 161.667 520.149 Q166.065 520.149 168.357 518.413 Q170.672 516.677 170.672 513.367 Q170.672 510.311 168.519 508.598 Q166.39 506.862 162.57 506.862 L158.542 506.862 L158.542 503.019 L162.755 503.019 Q166.204 503.019 168.033 501.654 Q169.862 500.265 169.862 497.672 Q169.862 495.01 167.964 493.598 Q166.089 492.163 162.57 492.163 Q160.649 492.163 158.45 492.58 Q156.251 492.996 153.612 493.876 L153.612 489.709 Q156.274 488.969 158.589 488.598 Q160.927 488.228 162.987 488.228 Q168.311 488.228 171.413 490.658 Q174.514 493.066 174.514 497.186 Q174.514 500.057 172.871 502.047 Q171.227 504.015 168.195 504.779 Z\" fill=\"#000000\" fill-rule=\"nonzero\" fill-opacity=\"1\" /><path clip-path=\"url(#clip110)\" d=\"M194.19 491.932 Q190.579 491.932 188.75 495.496 Q186.945 499.038 186.945 506.168 Q186.945 513.274 188.75 516.839 Q190.579 520.38 194.19 520.38 Q197.825 520.38 199.63 516.839 Q201.459 513.274 201.459 506.168 Q201.459 499.038 199.63 495.496 Q197.825 491.932 194.19 491.932 M194.19 488.228 Q200 488.228 203.056 492.834 Q206.135 497.418 206.135 506.168 Q206.135 514.894 203.056 519.501 Q200 524.084 194.19 524.084 Q188.38 524.084 185.301 519.501 Q182.246 514.894 182.246 506.168 Q182.246 497.418 185.301 492.834 Q188.38 488.228 194.19 488.228 Z\" fill=\"#000000\" fill-rule=\"nonzero\" fill-opacity=\"1\" /><path clip-path=\"url(#clip110)\" d=\"M114.26 169.411 L143.936 169.411 L143.936 173.346 L114.26 173.346 L114.26 169.411 Z\" fill=\"#000000\" fill-rule=\"nonzero\" fill-opacity=\"1\" /><path clip-path=\"url(#clip110)\" d=\"M158.056 182.305 L174.376 182.305 L174.376 186.24 L152.431 186.24 L152.431 182.305 Q155.093 179.55 159.677 174.92 Q164.283 170.268 165.464 168.925 Q167.709 166.402 168.589 164.666 Q169.491 162.906 169.491 161.217 Q169.491 158.462 167.547 156.726 Q165.626 154.99 162.524 154.99 Q160.325 154.99 157.871 155.754 Q155.44 156.518 152.663 158.069 L152.663 153.346 Q155.487 152.212 157.94 151.633 Q160.394 151.055 162.431 151.055 Q167.802 151.055 170.996 153.74 Q174.19 156.425 174.19 160.916 Q174.19 163.045 173.38 164.967 Q172.593 166.865 170.487 169.457 Q169.908 170.129 166.806 173.346 Q163.704 176.541 158.056 182.305 Z\" fill=\"#000000\" fill-rule=\"nonzero\" fill-opacity=\"1\" /><path clip-path=\"url(#clip110)\" d=\"M194.19 154.758 Q190.579 154.758 188.75 158.323 Q186.945 161.865 186.945 168.994 Q186.945 176.101 188.75 179.666 Q190.579 183.207 194.19 183.207 Q197.825 183.207 199.63 179.666 Q201.459 176.101 201.459 168.994 Q201.459 161.865 199.63 158.323 Q197.825 154.758 194.19 154.758 M194.19 151.055 Q200 151.055 203.056 155.661 Q206.135 160.244 206.135 168.994 Q206.135 177.721 203.056 182.328 Q200 186.911 194.19 186.911 Q188.38 186.911 185.301 182.328 Q182.246 177.721 182.246 168.994 Q182.246 160.244 185.301 155.661 Q188.38 151.055 194.19 151.055 Z\" fill=\"#000000\" fill-rule=\"nonzero\" fill-opacity=\"1\" /><path clip-path=\"url(#clip110)\" d=\"M64.0042 819.827 L16.4842 837.97 L16.4842 831.254 L56.4926 816.199 L16.4842 801.112 L16.4842 794.428 L64.0042 812.539 L64.0042 819.827 Z\" fill=\"#000000\" fill-rule=\"nonzero\" fill-opacity=\"1\" /><path clip-path=\"url(#clip110)\" d=\"M14.5426 773.676 Q21.8632 777.941 29.0246 780.01 Q36.186 782.079 43.5384 782.079 Q50.8908 782.079 58.1159 780.01 Q65.3091 777.909 72.5979 773.676 L72.5979 778.769 Q65.1182 783.543 57.8931 785.93 Q50.668 788.285 43.5384 788.285 Q36.4406 788.285 29.2474 785.93 Q22.0542 783.575 14.5426 778.769 L14.5426 773.676 Z\" fill=\"#000000\" fill-rule=\"nonzero\" fill-opacity=\"1\" /><path clip-path=\"url(#clip110)\" d=\"M46.0847 746.113 Q46.0847 753.21 47.7079 755.948 Q49.3312 758.685 53.2461 758.685 Q56.3653 758.685 58.2114 756.648 Q60.0256 754.579 60.0256 751.046 Q60.0256 746.176 56.5881 743.248 Q53.1188 740.288 47.3897 740.288 L46.0847 740.288 L46.0847 746.113 M43.6657 734.432 L64.0042 734.432 L64.0042 740.288 L58.5933 740.288 Q61.8398 742.293 63.3994 745.285 Q64.9272 748.277 64.9272 752.606 Q64.9272 758.08 61.8716 761.327 Q58.7843 764.541 53.6281 764.541 Q47.6125 764.541 44.5569 760.531 Q41.5014 756.489 41.5014 748.5 L41.5014 740.288 L40.9285 740.288 Q36.8862 740.288 34.6901 742.962 Q32.4621 745.603 32.4621 750.409 Q32.4621 753.465 33.1941 756.361 Q33.9262 759.258 35.3903 761.931 L29.9795 761.931 Q28.7381 758.717 28.1334 755.693 Q27.4968 752.669 27.4968 749.805 Q27.4968 742.07 31.5072 738.251 Q35.5176 734.432 43.6657 734.432 Z\" fill=\"#000000\" fill-rule=\"nonzero\" fill-opacity=\"1\" /><path clip-path=\"url(#clip110)\" d=\"M14.5426 723.292 L14.5426 718.199 Q22.0542 713.425 29.2474 711.069 Q36.4406 708.682 43.5384 708.682 Q50.668 708.682 57.8931 711.069 Q65.1182 713.425 72.5979 718.199 L72.5979 723.292 Q65.3091 719.058 58.1159 716.989 Q50.8908 714.889 43.5384 714.889 Q36.186 714.889 29.0246 716.989 Q21.8632 719.058 14.5426 723.292 Z\" fill=\"#000000\" fill-rule=\"nonzero\" fill-opacity=\"1\" /><path clip-path=\"url(#clip110)\" d=\"M800.42 72.576 L777.329 12.096 L785.877 12.096 L805.038 63.0159 L824.239 12.096 L832.746 12.096 L809.696 72.576 L800.42 72.576 Z\" fill=\"#000000\" fill-rule=\"nonzero\" fill-opacity=\"1\" /><path clip-path=\"url(#clip110)\" d=\"M855.431 49.7694 Q846.397 49.7694 842.914 51.8354 Q839.43 53.9013 839.43 58.8839 Q839.43 62.8538 842.022 65.2034 Q844.655 67.5124 849.152 67.5124 Q855.35 67.5124 859.077 63.1374 Q862.844 58.7219 862.844 51.4303 L862.844 49.7694 L855.431 49.7694 M870.298 46.6907 L870.298 72.576 L862.844 72.576 L862.844 65.6895 Q860.292 69.8214 856.484 71.8063 Q852.676 73.7508 847.167 73.7508 Q840.199 73.7508 836.068 69.8619 Q831.976 65.9325 831.976 59.3701 Q831.976 51.7138 837.08 47.825 Q842.225 43.9361 852.393 43.9361 L862.844 43.9361 L862.844 43.2069 Q862.844 38.0623 859.441 35.2672 Q856.079 32.4315 849.962 32.4315 Q846.073 32.4315 842.387 33.3632 Q838.701 34.295 835.298 36.1584 L835.298 29.2718 Q839.389 27.692 843.238 26.9223 Q847.086 26.1121 850.732 26.1121 Q860.576 26.1121 865.437 31.2163 Q870.298 36.3204 870.298 46.6907 Z\" fill=\"#000000\" fill-rule=\"nonzero\" fill-opacity=\"1\" /><path clip-path=\"url(#clip110)\" d=\"M885.651 9.54393 L893.104 9.54393 L893.104 72.576 L885.651 72.576 L885.651 9.54393 Z\" fill=\"#000000\" fill-rule=\"nonzero\" fill-opacity=\"1\" /><path clip-path=\"url(#clip110)\" d=\"M907.931 54.671 L907.931 27.2059 L915.384 27.2059 L915.384 54.3874 Q915.384 60.8284 917.896 64.0691 Q920.407 67.2693 925.43 67.2693 Q931.466 67.2693 934.95 63.421 Q938.474 59.5726 938.474 52.9291 L938.474 27.2059 L945.928 27.2059 L945.928 72.576 L938.474 72.576 L938.474 65.6084 Q935.76 69.7404 932.155 71.7658 Q928.59 73.7508 923.851 73.7508 Q916.032 73.7508 911.981 68.8897 Q907.931 64.0286 907.931 54.671 M926.686 26.1121 L926.686 26.1121 Z\" fill=\"#000000\" fill-rule=\"nonzero\" fill-opacity=\"1\" /><path clip-path=\"url(#clip110)\" d=\"M1000.09 48.0275 L1000.09 51.6733 L965.818 51.6733 Q966.304 59.3701 970.436 63.421 Q974.608 67.4314 982.022 67.4314 Q986.316 67.4314 990.326 66.3781 Q994.377 65.3249 998.347 63.2184 L998.347 70.267 Q994.336 71.9684 990.123 72.8596 Q985.91 73.7508 981.576 73.7508 Q970.72 73.7508 964.36 67.4314 Q958.04 61.1119 958.04 50.3365 Q958.04 39.1965 964.036 32.6746 Q970.071 26.1121 980.28 26.1121 Q989.435 26.1121 994.741 32.0264 Q1000.09 37.9003 1000.09 48.0275 M992.635 45.84 Q992.554 39.7232 989.192 36.0774 Q985.87 32.4315 980.361 32.4315 Q974.122 32.4315 970.355 35.9558 Q966.628 39.4801 966.061 45.8805 L992.635 45.84 Z\" fill=\"#000000\" fill-rule=\"nonzero\" fill-opacity=\"1\" /><path clip-path=\"url(#clip110)\" d=\"M1061.66 9.54393 L1061.66 15.7418 L1054.53 15.7418 Q1050.52 15.7418 1048.94 17.3622 Q1047.4 18.9825 1047.4 23.1955 L1047.4 27.2059 L1059.68 27.2059 L1059.68 32.9987 L1047.4 32.9987 L1047.4 72.576 L1039.91 72.576 L1039.91 32.9987 L1032.78 32.9987 L1032.78 27.2059 L1039.91 27.2059 L1039.91 24.0462 Q1039.91 16.471 1043.43 13.0277 Q1046.96 9.54393 1054.61 9.54393 L1061.66 9.54393 Z\" fill=\"#000000\" fill-rule=\"nonzero\" fill-opacity=\"1\" /><path clip-path=\"url(#clip110)\" d=\"M1067.13 54.671 L1067.13 27.2059 L1074.58 27.2059 L1074.58 54.3874 Q1074.58 60.8284 1077.1 64.0691 Q1079.61 67.2693 1084.63 67.2693 Q1090.67 67.2693 1094.15 63.421 Q1097.67 59.5726 1097.67 52.9291 L1097.67 27.2059 L1105.13 27.2059 L1105.13 72.576 L1097.67 72.576 L1097.67 65.6084 Q1094.96 69.7404 1091.36 71.7658 Q1087.79 73.7508 1083.05 73.7508 Q1075.23 73.7508 1071.18 68.8897 Q1067.13 64.0286 1067.13 54.671 M1085.89 26.1121 L1085.89 26.1121 Z\" fill=\"#000000\" fill-rule=\"nonzero\" fill-opacity=\"1\" /><path clip-path=\"url(#clip110)\" d=\"M1158.2 45.1919 L1158.2 72.576 L1150.74 72.576 L1150.74 45.4349 Q1150.74 38.994 1148.23 35.7938 Q1145.72 32.5936 1140.7 32.5936 Q1134.66 32.5936 1131.18 36.4419 Q1127.69 40.2903 1127.69 46.9338 L1127.69 72.576 L1120.2 72.576 L1120.2 27.2059 L1127.69 27.2059 L1127.69 34.2544 Q1130.37 30.163 1133.97 28.1376 Q1137.62 26.1121 1142.36 26.1121 Q1150.17 26.1121 1154.19 30.9732 Q1158.2 35.7938 1158.2 45.1919 Z\" fill=\"#000000\" fill-rule=\"nonzero\" fill-opacity=\"1\" /><path clip-path=\"url(#clip110)\" d=\"M1205.71 28.9478 L1205.71 35.9153 Q1202.55 34.1734 1199.35 33.3227 Q1196.19 32.4315 1192.95 32.4315 Q1185.7 32.4315 1181.69 37.0496 Q1177.68 41.6271 1177.68 49.9314 Q1177.68 58.2358 1181.69 62.8538 Q1185.7 67.4314 1192.95 67.4314 Q1196.19 67.4314 1199.35 66.5807 Q1202.55 65.6895 1205.71 63.9476 L1205.71 70.8341 Q1202.59 72.2924 1199.23 73.0216 Q1195.91 73.7508 1192.14 73.7508 Q1181.89 73.7508 1175.86 67.3098 Q1169.82 60.8689 1169.82 49.9314 Q1169.82 38.832 1175.9 32.472 Q1182.01 26.1121 1192.63 26.1121 Q1196.07 26.1121 1199.35 26.8413 Q1202.63 27.5299 1205.71 28.9478 Z\" fill=\"#000000\" fill-rule=\"nonzero\" fill-opacity=\"1\" /><path clip-path=\"url(#clip110)\" d=\"M1226.05 14.324 L1226.05 27.2059 L1241.4 27.2059 L1241.4 32.9987 L1226.05 32.9987 L1226.05 57.6282 Q1226.05 63.1779 1227.55 64.7578 Q1229.09 66.3376 1233.74 66.3376 L1241.4 66.3376 L1241.4 72.576 L1233.74 72.576 Q1225.12 72.576 1221.84 69.3758 Q1218.55 66.1351 1218.55 57.6282 L1218.55 32.9987 L1213.09 32.9987 L1213.09 27.2059 L1218.55 27.2059 L1218.55 14.324 L1226.05 14.324 Z\" fill=\"#000000\" fill-rule=\"nonzero\" fill-opacity=\"1\" /><path clip-path=\"url(#clip110)\" d=\"M1251.2 27.2059 L1258.66 27.2059 L1258.66 72.576 L1251.2 72.576 L1251.2 27.2059 M1251.2 9.54393 L1258.66 9.54393 L1258.66 18.9825 L1251.2 18.9825 L1251.2 9.54393 Z\" fill=\"#000000\" fill-rule=\"nonzero\" fill-opacity=\"1\" /><path clip-path=\"url(#clip110)\" d=\"M1291.83 32.4315 Q1285.84 32.4315 1282.36 37.1306 Q1278.87 41.7891 1278.87 49.9314 Q1278.87 58.0738 1282.32 62.7728 Q1285.8 67.4314 1291.83 67.4314 Q1297.79 67.4314 1301.27 62.7323 Q1304.76 58.0333 1304.76 49.9314 Q1304.76 41.8701 1301.27 37.1711 Q1297.79 32.4315 1291.83 32.4315 M1291.83 26.1121 Q1301.56 26.1121 1307.11 32.4315 Q1312.66 38.7509 1312.66 49.9314 Q1312.66 61.0714 1307.11 67.4314 Q1301.56 73.7508 1291.83 73.7508 Q1282.07 73.7508 1276.52 67.4314 Q1271.01 61.0714 1271.01 49.9314 Q1271.01 38.7509 1276.52 32.4315 Q1282.07 26.1121 1291.83 26.1121 Z\" fill=\"#000000\" fill-rule=\"nonzero\" fill-opacity=\"1\" /><path clip-path=\"url(#clip110)\" d=\"M1362.73 45.1919 L1362.73 72.576 L1355.27 72.576 L1355.27 45.4349 Q1355.27 38.994 1352.76 35.7938 Q1350.25 32.5936 1345.23 32.5936 Q1339.19 32.5936 1335.71 36.4419 Q1332.22 40.2903 1332.22 46.9338 L1332.22 72.576 L1324.73 72.576 L1324.73 27.2059 L1332.22 27.2059 L1332.22 34.2544 Q1334.9 30.163 1338.5 28.1376 Q1342.15 26.1121 1346.89 26.1121 Q1354.7 26.1121 1358.72 30.9732 Q1362.73 35.7938 1362.73 45.1919 Z\" fill=\"#000000\" fill-rule=\"nonzero\" fill-opacity=\"1\" /><path clip-path=\"url(#clip110)\" d=\"M1426.93 9.54393 L1426.93 15.7418 L1419.8 15.7418 Q1415.79 15.7418 1414.21 17.3622 Q1412.67 18.9825 1412.67 23.1955 L1412.67 27.2059 L1424.95 27.2059 L1424.95 32.9987 L1412.67 32.9987 L1412.67 72.576 L1405.18 72.576 L1405.18 32.9987 L1398.05 32.9987 L1398.05 27.2059 L1405.18 27.2059 L1405.18 24.0462 Q1405.18 16.471 1408.7 13.0277 Q1412.23 9.54393 1419.88 9.54393 L1426.93 9.54393 Z\" fill=\"#000000\" fill-rule=\"nonzero\" fill-opacity=\"1\" /><path clip-path=\"url(#clip110)\" d=\"M1450.75 32.4315 Q1444.76 32.4315 1441.27 37.1306 Q1437.79 41.7891 1437.79 49.9314 Q1437.79 58.0738 1441.23 62.7728 Q1444.72 67.4314 1450.75 67.4314 Q1456.71 67.4314 1460.19 62.7323 Q1463.67 58.0333 1463.67 49.9314 Q1463.67 41.8701 1460.19 37.1711 Q1456.71 32.4315 1450.75 32.4315 M1450.75 26.1121 Q1460.47 26.1121 1466.02 32.4315 Q1471.57 38.7509 1471.57 49.9314 Q1471.57 61.0714 1466.02 67.4314 Q1460.47 73.7508 1450.75 73.7508 Q1440.99 73.7508 1435.44 67.4314 Q1429.93 61.0714 1429.93 49.9314 Q1429.93 38.7509 1435.44 32.4315 Q1440.99 26.1121 1450.75 26.1121 Z\" fill=\"#000000\" fill-rule=\"nonzero\" fill-opacity=\"1\" /><path clip-path=\"url(#clip110)\" d=\"M1510.22 34.1734 Q1508.96 33.4443 1507.46 33.1202 Q1506.01 32.7556 1504.22 32.7556 Q1497.9 32.7556 1494.5 36.8875 Q1491.14 40.9789 1491.14 48.6757 L1491.14 72.576 L1483.65 72.576 L1483.65 27.2059 L1491.14 27.2059 L1491.14 34.2544 Q1493.49 30.1225 1497.26 28.1376 Q1501.02 26.1121 1506.41 26.1121 Q1507.18 26.1121 1508.11 26.2337 Q1509.04 26.3147 1510.18 26.5172 L1510.22 34.1734 Z\" fill=\"#000000\" fill-rule=\"nonzero\" fill-opacity=\"1\" /><path clip-path=\"url(#clip110)\" d=\"M1565.03 49.7694 Q1555.99 49.7694 1552.51 51.8354 Q1549.03 53.9013 1549.03 58.8839 Q1549.03 62.8538 1551.62 65.2034 Q1554.25 67.5124 1558.75 67.5124 Q1564.95 67.5124 1568.67 63.1374 Q1572.44 58.7219 1572.44 51.4303 L1572.44 49.7694 L1565.03 49.7694 M1579.89 46.6907 L1579.89 72.576 L1572.44 72.576 L1572.44 65.6895 Q1569.89 69.8214 1566.08 71.8063 Q1562.27 73.7508 1556.76 73.7508 Q1549.8 73.7508 1545.66 69.8619 Q1541.57 65.9325 1541.57 59.3701 Q1541.57 51.7138 1546.68 47.825 Q1551.82 43.9361 1561.99 43.9361 L1572.44 43.9361 L1572.44 43.2069 Q1572.44 38.0623 1569.04 35.2672 Q1565.68 32.4315 1559.56 32.4315 Q1555.67 32.4315 1551.98 33.3632 Q1548.3 34.295 1544.89 36.1584 L1544.89 29.2718 Q1548.99 27.692 1552.83 26.9223 Q1556.68 26.1121 1560.33 26.1121 Q1570.17 26.1121 1575.03 31.2163 Q1579.89 36.3204 1579.89 46.6907 Z\" fill=\"#000000\" fill-rule=\"nonzero\" fill-opacity=\"1\" /><path clip-path=\"url(#clip110)\" d=\"M1625.1 49.3643 Q1625.1 41.2625 1621.74 36.8065 Q1618.42 32.3505 1612.38 32.3505 Q1606.39 32.3505 1603.03 36.8065 Q1599.7 41.2625 1599.7 49.3643 Q1599.7 57.4256 1603.03 61.8816 Q1606.39 66.3376 1612.38 66.3376 Q1618.42 66.3376 1621.74 61.8816 Q1625.1 57.4256 1625.1 49.3643 M1632.56 66.9452 Q1632.56 78.5308 1627.41 84.1616 Q1622.27 89.8329 1611.65 89.8329 Q1607.72 89.8329 1604.24 89.2252 Q1600.76 88.6581 1597.48 87.4428 L1597.48 80.1917 Q1600.76 81.9741 1603.96 82.8248 Q1607.16 83.6755 1610.48 83.6755 Q1617.81 83.6755 1621.46 79.8271 Q1625.1 76.0193 1625.1 68.282 L1625.1 64.5957 Q1622.79 68.6061 1619.19 70.5911 Q1615.58 72.576 1610.56 72.576 Q1602.22 72.576 1597.11 66.2161 Q1592.01 59.8562 1592.01 49.3643 Q1592.01 38.832 1597.11 32.472 Q1602.22 26.1121 1610.56 26.1121 Q1615.58 26.1121 1619.19 28.0971 Q1622.79 30.082 1625.1 34.0924 L1625.1 27.2059 L1632.56 27.2059 L1632.56 66.9452 Z\" fill=\"#000000\" fill-rule=\"nonzero\" fill-opacity=\"1\" /><path clip-path=\"url(#clip110)\" d=\"M1686.72 48.0275 L1686.72 51.6733 L1652.45 51.6733 Q1652.93 59.3701 1657.06 63.421 Q1661.24 67.4314 1668.65 67.4314 Q1672.94 67.4314 1676.95 66.3781 Q1681.01 65.3249 1684.98 63.2184 L1684.98 70.267 Q1680.96 71.9684 1676.75 72.8596 Q1672.54 73.7508 1668.2 73.7508 Q1657.35 73.7508 1650.99 67.4314 Q1644.67 61.1119 1644.67 50.3365 Q1644.67 39.1965 1650.66 32.6746 Q1656.7 26.1121 1666.91 26.1121 Q1676.06 26.1121 1681.37 32.0264 Q1686.72 37.9003 1686.72 48.0275 M1679.26 45.84 Q1679.18 39.7232 1675.82 36.0774 Q1672.5 32.4315 1666.99 32.4315 Q1660.75 32.4315 1656.98 35.9558 Q1653.26 39.4801 1652.69 45.8805 L1679.26 45.84 Z\" fill=\"#000000\" fill-rule=\"nonzero\" fill-opacity=\"1\" /><path clip-path=\"url(#clip110)\" d=\"M1733.42 65.6895 L1761.98 65.6895 L1761.98 72.576 L1723.58 72.576 L1723.58 65.6895 Q1728.24 60.8689 1736.26 52.7671 Q1744.32 44.6248 1746.39 42.2752 Q1750.32 37.8598 1751.86 34.8216 Q1753.44 31.7429 1753.44 28.7857 Q1753.44 23.9651 1750.03 20.927 Q1746.67 17.8888 1741.24 17.8888 Q1737.39 17.8888 1733.1 19.2256 Q1728.85 20.5624 1723.99 23.2765 L1723.99 15.0127 Q1728.93 13.0277 1733.22 12.015 Q1737.52 11.0023 1741.08 11.0023 Q1750.48 11.0023 1756.07 15.7013 Q1761.66 20.4004 1761.66 28.2591 Q1761.66 31.9859 1760.24 35.3482 Q1758.86 38.6699 1755.18 43.2069 Q1754.16 44.3817 1748.74 50.0125 Q1743.31 55.6027 1733.42 65.6895 Z\" fill=\"#000000\" fill-rule=\"nonzero\" fill-opacity=\"1\" /><path clip-path=\"url(#clip110)\" d=\"M1796.66 17.4837 Q1790.34 17.4837 1787.14 23.7221 Q1783.98 29.92 1783.98 42.3968 Q1783.98 54.833 1787.14 61.0714 Q1790.34 67.2693 1796.66 67.2693 Q1803.02 67.2693 1806.18 61.0714 Q1809.38 54.833 1809.38 42.3968 Q1809.38 29.92 1806.18 23.7221 Q1803.02 17.4837 1796.66 17.4837 M1796.66 11.0023 Q1806.83 11.0023 1812.17 19.0636 Q1817.56 27.0843 1817.56 42.3968 Q1817.56 57.6687 1812.17 65.73 Q1806.83 73.7508 1796.66 73.7508 Q1786.49 73.7508 1781.1 65.73 Q1775.76 57.6687 1775.76 42.3968 Q1775.76 27.0843 1781.1 19.0636 Q1786.49 11.0023 1796.66 11.0023 Z\" fill=\"#000000\" fill-rule=\"nonzero\" fill-opacity=\"1\" /><polyline clip-path=\"url(#clip112)\" style=\"stroke:#009af9; stroke-linecap:round; stroke-linejoin:round; stroke-width:4; stroke-opacity:1; fill:none\" points=\"301.869,722.221 303.862,720.7 305.856,719.185 307.849,717.676 309.842,716.172 311.835,714.674 313.828,713.178 315.821,711.688 317.814,710.202 319.808,708.722 321.801,707.248 323.794,705.78 325.787,704.318 327.78,702.862 329.773,701.411 331.766,699.966 333.76,698.526 335.753,697.092 337.746,695.663 339.739,694.238 341.732,692.819 343.725,691.404 345.718,689.995 347.712,688.59 349.705,687.19 351.698,685.796 353.691,684.405 355.684,683.017 357.677,681.635 359.67,680.256 361.664,678.882 363.657,677.513 365.65,676.149 367.643,674.79 369.636,673.437 371.629,672.088 373.622,670.744 375.616,669.405 377.609,668.071 379.602,666.742 381.595,665.419 383.588,664.099 385.581,662.784 387.574,661.474 389.568,660.168 391.561,658.866 393.554,657.568 395.547,656.273 397.54,654.983 399.533,653.695 401.526,652.413 403.52,651.133 405.513,649.858 407.506,648.588 409.499,647.322 411.492,646.061 413.485,644.804 415.479,643.552 417.472,642.304 419.465,641.062 421.458,639.823 423.451,638.589 425.444,637.359 427.437,636.134 429.431,634.913 431.424,633.696 433.417,632.482 435.41,631.272 437.403,630.064 439.396,628.86 441.389,627.66 443.383,626.463 445.376,625.269 447.369,624.079 449.362,622.893 451.355,621.712 453.348,620.534 455.341,619.36 457.335,618.19 459.328,617.024 461.321,615.862 463.314,614.704 465.307,613.55 467.3,612.401 469.293,611.255 471.287,610.113 473.28,608.975 475.273,607.84 477.266,606.708 479.259,605.579 481.252,604.453 483.245,603.33 485.239,602.211 487.232,601.095 489.225,599.981 491.218,598.87 493.211,597.764 495.204,596.661 497.197,595.562 499.191,594.466 501.184,593.375 503.177,592.287 505.17,591.203 507.163,590.122 509.156,589.045 511.149,587.971 513.143,586.901 515.136,585.834 517.129,584.771 519.122,583.71 521.115,582.652 523.108,581.597 525.101,580.544 527.095,579.495 529.088,578.448 531.081,577.404 533.074,576.363 535.067,575.325 537.06,574.292 539.054,573.261 541.047,572.234 543.04,571.21 545.033,570.188 547.026,569.17 549.019,568.155 551.012,567.143 553.006,566.135 554.999,565.13 556.992,564.129 558.985,563.13 560.978,562.134 562.971,561.14 564.964,560.15 566.958,559.161 568.951,558.176 570.944,557.192 572.937,556.211 574.93,555.234 576.923,554.259 578.916,553.287 580.91,552.319 582.903,551.353 584.896,550.391 586.889,549.431 588.882,548.475 590.875,547.522 592.868,546.572 594.862,545.625 596.855,544.68 598.848,543.739 600.841,542.8 602.834,541.863 604.827,540.928 606.82,539.997 608.814,539.067 610.807,538.14 612.8,537.216 614.793,536.294 616.786,535.375 618.779,534.459 620.772,533.546 622.766,532.635 624.759,531.728 626.752,530.823 628.745,529.92 630.738,529.02 632.731,528.122 634.724,527.228 636.718,526.335 638.711,525.446 640.704,524.56 642.697,523.675 644.69,522.792 646.683,521.913 648.677,521.035 650.67,520.16 652.663,519.287 654.656,518.417 656.649,517.55 658.642,516.685 660.635,515.822 662.629,514.961 664.622,514.103 666.615,513.248 668.608,512.395 670.601,511.545 672.594,510.698 674.587,509.853 676.581,509.011 678.574,508.171 680.567,507.333 682.56,506.497 684.553,505.663 686.546,504.832 688.539,504.003 690.533,503.176 692.526,502.352 694.519,501.53 696.512,500.71 698.505,499.892 700.498,499.077 702.491,498.264 704.485,497.453 706.478,496.645 708.471,495.839 710.464,495.035 712.457,494.233 714.45,493.433 716.443,492.636 718.437,491.841 720.43,491.048 722.423,490.256 724.416,489.466 726.409,488.678 728.402,487.893 730.395,487.11 732.389,486.329 734.382,485.55 736.375,484.773 738.368,483.999 740.361,483.226 742.354,482.454 744.347,481.685 746.341,480.917 748.334,480.152 750.327,479.39 752.32,478.629 754.313,477.87 756.306,477.113 758.299,476.358 760.293,475.606 762.286,474.854 764.279,474.104 766.272,473.356 768.265,472.61 770.258,471.865 772.252,471.123 774.245,470.382 776.238,469.644 778.231,468.907 780.224,468.173 782.217,467.44 784.21,466.709 786.204,465.979 788.197,465.252 790.19,464.526 792.183,463.802 794.176,463.079 796.169,462.359 798.162,461.64 800.156,460.924 802.149,460.208 804.142,459.495 806.135,458.783 808.128,458.072 810.121,457.363 812.114,456.656 814.108,455.95 816.101,455.246 818.094,454.544 820.087,453.843 822.08,453.144 824.073,452.447 826.066,451.752 828.06,451.058 830.053,450.366 832.046,449.675 834.039,448.986 836.032,448.299 838.025,447.614 840.018,446.93 842.012,446.247 844.005,445.566 845.998,444.886 847.991,444.208 849.984,443.531 851.977,442.856 853.97,442.183 855.964,441.51 857.957,440.84 859.95,440.17 861.943,439.503 863.936,438.837 865.929,438.172 867.922,437.509 869.916,436.847 871.909,436.187 873.902,435.529 875.895,434.872 877.888,434.217 879.881,433.562 881.874,432.909 883.868,432.258 885.861,431.608 887.854,430.96 889.847,430.313 891.84,429.668 893.833,429.023 895.827,428.38 897.82,427.739 899.813,427.099 901.806,426.46 903.799,425.822 905.792,425.186 907.785,424.551 909.779,423.917 911.772,423.285 913.765,422.654 915.758,422.024 917.751,421.396 919.744,420.769 921.737,420.144 923.731,419.52 925.724,418.897 927.717,418.275 929.71,417.655 931.703,417.036 933.696,416.418 935.689,415.802 937.683,415.188 939.676,414.574 941.669,413.961 943.662,413.35 945.655,412.74 947.648,412.132 949.641,411.525 951.635,410.919 953.628,410.314 955.621,409.71 957.614,409.107 959.607,408.506 961.6,407.905 963.593,407.306 965.587,406.709 967.58,406.112 969.573,405.517 971.566,404.923 973.559,404.33 975.552,403.738 977.545,403.148 979.539,402.558 981.532,401.97 983.525,401.383 985.518,400.797 987.511,400.213 989.504,399.629 991.497,399.047 993.491,398.465 995.484,397.885 997.477,397.306 999.47,396.729 1001.46,396.152 1003.46,395.576 1005.45,395.002 1007.44,394.429 1009.44,393.856 1011.43,393.285 1013.42,392.715 1015.42,392.145 1017.41,391.577 1019.4,391.01 1021.39,390.444 1023.39,389.879 1025.38,389.315 1027.37,388.753 1029.37,388.191 1031.36,387.631 1033.35,387.072 1035.35,386.514 1037.34,385.957 1039.33,385.401 1041.33,384.846 1043.32,384.292 1045.31,383.74 1047.31,383.188 1049.3,382.638 1051.29,382.088 1053.28,381.54 1055.28,380.992 1057.27,380.446 1059.26,379.901 1061.26,379.356 1063.25,378.813 1065.24,378.27 1067.24,377.729 1069.23,377.188 1071.22,376.648 1073.22,376.109 1075.21,375.571 1077.2,375.034 1079.2,374.497 1081.19,373.962 1083.18,373.428 1085.18,372.894 1087.17,372.362 1089.16,371.83 1091.15,371.3 1093.15,370.771 1095.14,370.243 1097.13,369.715 1099.13,369.189 1101.12,368.664 1103.11,368.139 1105.11,367.616 1107.1,367.094 1109.09,366.572 1111.09,366.052 1113.08,365.533 1115.07,365.014 1117.07,364.497 1119.06,363.98 1121.05,363.465 1123.05,362.95 1125.04,362.437 1127.03,361.924 1129.02,361.412 1131.02,360.901 1133.01,360.391 1135,359.882 1137,359.374 1138.99,358.866 1140.98,358.359 1142.98,357.853 1144.97,357.347 1146.96,356.842 1148.96,356.338 1150.95,355.835 1152.94,355.333 1154.94,354.832 1156.93,354.331 1158.92,353.832 1160.91,353.333 1162.91,352.835 1164.9,352.338 1166.89,351.842 1168.89,351.347 1170.88,350.853 1172.87,350.359 1174.87,349.867 1176.86,349.375 1178.85,348.885 1180.85,348.395 1182.84,347.906 1184.83,347.418 1186.83,346.931 1188.82,346.444 1190.81,345.959 1192.81,345.474 1194.8,344.991 1196.79,344.507 1198.78,344.025 1200.78,343.544 1202.77,343.063 1204.76,342.583 1206.76,342.104 1208.75,341.626 1210.74,341.148 1212.74,340.671 1214.73,340.195 1216.72,339.72 1218.72,339.245 1220.71,338.771 1222.7,338.298 1224.7,337.825 1226.69,337.354 1228.68,336.883 1230.67,336.413 1232.67,335.943 1234.66,335.475 1236.65,335.007 1238.65,334.54 1240.64,334.074 1242.63,333.608 1244.63,333.143 1246.62,332.679 1248.61,332.216 1250.61,331.753 1252.6,331.292 1254.59,330.831 1256.59,330.371 1258.58,329.911 1260.57,329.453 1262.57,328.995 1264.56,328.538 1266.55,328.081 1268.54,327.626 1270.54,327.17 1272.53,326.716 1274.52,326.263 1276.52,325.81 1278.51,325.358 1280.5,324.907 1282.5,324.456 1284.49,324.006 1286.48,323.557 1288.48,323.108 1290.47,322.66 1292.46,322.213 1294.46,321.766 1296.45,321.321 1298.44,320.875 1300.44,320.431 1302.43,319.987 1304.42,319.544 1306.41,319.101 1308.41,318.66 1310.4,318.219 1312.39,317.778 1314.39,317.339 1316.38,316.9 1318.37,316.461 1320.37,316.024 1322.36,315.587 1324.35,315.15 1326.35,314.715 1328.34,314.28 1330.33,313.845 1332.33,313.412 1334.32,312.979 1336.31,312.547 1338.3,312.115 1340.3,311.684 1342.29,311.254 1344.28,310.824 1346.28,310.395 1348.27,309.966 1350.26,309.538 1352.26,309.111 1354.25,308.685 1356.24,308.259 1358.24,307.834 1360.23,307.41 1362.22,306.986 1364.22,306.562 1366.21,306.14 1368.2,305.718 1370.2,305.297 1372.19,304.876 1374.18,304.456 1376.17,304.036 1378.17,303.617 1380.16,303.199 1382.15,302.781 1384.15,302.364 1386.14,301.948 1388.13,301.532 1390.13,301.117 1392.12,300.703 1394.11,300.289 1396.11,299.875 1398.1,299.463 1400.09,299.051 1402.09,298.639 1404.08,298.228 1406.07,297.818 1408.06,297.408 1410.06,296.999 1412.05,296.591 1414.04,296.183 1416.04,295.776 1418.03,295.369 1420.02,294.963 1422.02,294.557 1424.01,294.152 1426,293.747 1428,293.343 1429.99,292.94 1431.98,292.537 1433.98,292.135 1435.97,291.734 1437.96,291.333 1439.96,290.932 1441.95,290.533 1443.94,290.133 1445.93,289.734 1447.93,289.336 1449.92,288.939 1451.91,288.542 1453.91,288.146 1455.9,287.75 1457.89,287.354 1459.89,286.96 1461.88,286.565 1463.87,286.172 1465.87,285.779 1467.86,285.386 1469.85,284.994 1471.85,284.603 1473.84,284.212 1475.83,283.822 1477.82,283.432 1479.82,283.043 1481.81,282.655 1483.8,282.267 1485.8,281.879 1487.79,281.492 1489.78,281.106 1491.78,280.72 1493.77,280.335 1495.76,279.95 1497.76,279.566 1499.75,279.182 1501.74,278.798 1503.74,278.416 1505.73,278.033 1507.72,277.652 1509.72,277.27 1511.71,276.89 1513.7,276.51 1515.69,276.13 1517.69,275.751 1519.68,275.372 1521.67,274.994 1523.67,274.617 1525.66,274.24 1527.65,273.863 1529.65,273.487 1531.64,273.112 1533.63,272.737 1535.63,272.362 1537.62,271.988 1539.61,271.615 1541.61,271.242 1543.6,270.869 1545.59,270.497 1547.59,270.126 1549.58,269.755 1551.57,269.384 1553.56,269.015 1555.56,268.645 1557.55,268.276 1559.54,267.908 1561.54,267.54 1563.53,267.173 1565.52,266.806 1567.52,266.439 1569.51,266.073 1571.5,265.708 1573.5,265.343 1575.49,264.979 1577.48,264.615 1579.48,264.251 1581.47,263.888 1583.46,263.526 1585.45,263.163 1587.45,262.802 1589.44,262.44 1591.43,262.08 1593.43,261.72 1595.42,261.36 1597.41,261.001 1599.41,260.642 1601.4,260.283 1603.39,259.926 1605.39,259.568 1607.38,259.211 1609.37,258.855 1611.37,258.499 1613.36,258.144 1615.35,257.788 1617.35,257.434 1619.34,257.08 1621.33,256.726 1623.32,256.373 1625.32,256.02 1627.31,255.667 1629.3,255.316 1631.3,254.964 1633.29,254.613 1635.28,254.263 1637.28,253.913 1639.27,253.563 1641.26,253.214 1643.26,252.865 1645.25,252.517 1647.24,252.169 1649.24,251.822 1651.23,251.475 1653.22,251.129 1655.21,250.783 1657.21,250.437 1659.2,250.092 1661.19,249.748 1663.19,249.404 1665.18,249.06 1667.17,248.717 1669.17,248.374 1671.16,248.031 1673.15,247.689 1675.15,247.348 1677.14,247.006 1679.13,246.666 1681.13,246.325 1683.12,245.985 1685.11,245.646 1687.11,245.307 1689.1,244.968 1691.09,244.63 1693.08,244.292 1695.08,243.955 1697.07,243.618 1699.06,243.282 1701.06,242.946 1703.05,242.61 1705.04,242.275 1707.04,241.94 1709.03,241.606 1711.02,241.272 1713.02,240.938 1715.01,240.605 1717,240.272 1719,239.94 1720.99,239.608 1722.98,239.276 1724.97,238.945 1726.97,238.614 1728.96,238.284 1730.95,237.954 1732.95,237.624 1734.94,237.295 1736.93,236.967 1738.93,236.638 1740.92,236.311 1742.91,235.983 1744.91,235.656 1746.9,235.33 1748.89,235.003 1750.89,234.677 1752.88,234.352 1754.87,234.027 1756.87,233.702 1758.86,233.378 1760.85,233.054 1762.84,232.731 1764.84,232.408 1766.83,232.085 1768.82,231.763 1770.82,231.441 1772.81,231.119 1774.8,230.798 1776.8,230.478 1778.79,230.157 1780.78,229.837 1782.78,229.518 1784.77,229.198 1786.76,228.88 1788.76,228.561 1790.75,228.243 1792.74,227.925 1794.74,227.608 1796.73,227.291 1798.72,226.975 1800.71,226.659 1802.71,226.343 1804.7,226.027 1806.69,225.712 1808.69,225.398 1810.68,225.083 1812.67,224.769 1814.67,224.456 1816.66,224.143 1818.65,223.83 1820.65,223.517 1822.64,223.205 1824.63,222.894 1826.63,222.582 1828.62,222.271 1830.61,221.961 1832.6,221.65 1834.6,221.341 1836.59,221.031 1838.58,220.722 1840.58,220.413 1842.57,220.105 1844.56,219.797 1846.56,219.489 1848.55,219.182 1850.54,218.875 1852.54,218.569 1854.53,218.262 1856.52,217.957 1858.52,217.651 1860.51,217.346 1862.5,217.041 1864.5,216.737 1866.49,216.433 1868.48,216.129 1870.47,215.826 1872.47,215.522 1874.46,215.22 1876.45,214.917 1878.45,214.615 1880.44,214.314 1882.43,214.012 1884.43,213.711 1886.42,213.411 1888.41,213.111 1890.41,212.811 1892.4,212.511 1894.39,212.212 1896.39,211.913 1898.38,211.615 1900.37,211.316 1902.36,211.019 1904.36,210.721 1906.35,210.424 1908.34,210.127 1910.34,209.831 1912.33,209.534 1914.32,209.239 1916.32,208.943 1918.31,208.648 1920.3,208.353 1922.3,208.058 1924.29,207.764 1926.28,207.47 1928.28,207.177 1930.27,206.884 1932.26,206.591 1934.26,206.298 1936.25,206.006 1938.24,205.714 1940.23,205.423 1942.23,205.132 1944.22,204.841 1946.21,204.55 1948.21,204.26 1950.2,203.97 1952.19,203.681 1954.19,203.392 1956.18,203.103 1958.17,202.815 1960.17,202.527 1962.16,202.24 1964.15,201.953 1966.15,201.666 1968.14,201.379 1970.13,201.093 1972.12,200.807 1974.12,200.522 1976.11,200.236 1978.1,199.952 1980.1,199.667 1982.09,199.384 1984.08,199.1 1986.08,198.817 1988.07,198.534 1990.06,198.252 1992.06,197.97 1994.05,197.689 1996.04,197.407 1998.04,197.127 2000.03,196.846 2002.02,196.566 2004.02,196.286 2006.01,196.007 2008,195.728 2009.99,195.449 2011.99,195.17 2013.98,194.892 2015.97,194.615 2017.97,194.338 2019.96,194.061 2021.95,193.785 2023.95,193.508 2025.94,193.233 2027.93,192.958 2029.93,192.683 2031.92,192.409 2033.91,192.135 2035.91,191.861 2037.9,191.588 2039.89,191.315 2041.89,191.042 2043.88,190.77 2045.87,190.498 2047.86,190.226 2049.86,189.955 2051.85,189.684 2053.84,189.413 2055.84,189.143 2057.83,188.874 2059.82,188.604 2061.82,188.336 2063.81,188.067 2065.8,187.799 2067.8,187.532 2069.79,187.265 2071.78,186.998 2073.78,186.732 2075.77,186.466 2077.76,186.2 2079.75,185.934 2081.75,185.669 2083.74,185.405 2085.73,185.14 2087.73,184.876 2089.72,184.613 2091.71,184.349 2093.71,184.086 2095.7,183.824 2097.69,183.562 2099.69,183.301 2101.68,183.04 2103.67,182.779 2105.67,182.519 2107.66,182.259 2109.65,182 2111.65,181.741 2113.64,181.482 2115.63,181.224 2117.62,180.966 2119.62,180.709 2121.61,180.451 2123.6,180.194 2125.6,179.938 2127.59,179.682 2129.58,179.427 2131.58,179.171 2133.57,178.917 2135.56,178.662 2137.56,178.409 2139.55,178.155 2141.54,177.903 2143.54,177.651 2145.53,177.399 2147.52,177.147 2149.51,176.896 2151.51,176.645 2153.5,176.394 2155.49,176.144 2157.49,175.895 2159.48,175.646 2161.47,175.397 2163.47,175.149 2165.46,174.901 2167.45,174.654 2169.45,174.408 2171.44,174.162 2173.43,173.916 2175.43,173.67 2177.42,173.426 2179.41,173.181 2181.41,172.937 2183.4,172.694 2185.39,172.45 2187.38,172.208 2189.38,171.965 2191.37,171.724 2193.36,171.484 2195.36,171.243 2197.35,171.003 2199.34,170.763 2201.34,170.525 2203.33,170.286 2205.32,170.048 2207.32,169.811 2209.31,169.574 2211.3,169.337 2213.3,169.101 2215.29,168.866 2217.28,168.632 2219.27,168.398 2221.27,168.164 2223.26,167.931 2225.25,167.698 2227.25,167.467 2229.24,167.236 2231.23,167.005 2233.23,166.775 2235.22,166.546 2237.21,166.317 2239.21,166.089 2241.2,165.862 2243.19,165.635 2245.19,165.409 2247.18,165.184 2249.17,164.959 2251.17,164.735 2253.16,164.512 2255.15,164.289 2257.14,164.068 2259.14,163.847 2261.13,163.627 2263.12,163.408 2265.12,163.19 2267.11,162.973 2269.1,162.756 2271.1,162.54 2273.09,162.326 2275.08,162.113 2277.08,161.9 2279.07,161.689 2281.06,161.479 2283.06,161.271 2285.05,161.064 2287.04,160.859 2289.04,160.655 2291.03,160.454 2293.02,160.256 \"/>\n",
       "<polyline clip-path=\"url(#clip112)\" style=\"stroke:#e26f46; stroke-linecap:round; stroke-linejoin:round; stroke-width:4; stroke-opacity:1; fill:none\" points=\"301.869,1386.4 303.862,1380.69 305.856,1375.02 307.849,1369.38 309.842,1363.78 311.835,1358.21 313.828,1352.69 315.821,1347.21 317.814,1341.76 319.808,1336.35 321.801,1330.97 323.794,1325.62 325.787,1320.32 327.78,1315.05 329.773,1309.82 331.766,1304.62 333.76,1299.46 335.753,1294.34 337.746,1289.25 339.739,1284.19 341.732,1279.17 343.725,1274.19 345.718,1269.23 347.712,1264.31 349.705,1259.42 351.698,1254.57 353.691,1249.75 355.684,1244.96 357.677,1240.2 359.67,1235.48 361.664,1230.78 363.657,1226.12 365.65,1221.48 367.643,1216.87 369.636,1212.29 371.629,1207.75 373.622,1203.23 375.616,1198.74 377.609,1194.28 379.602,1189.84 381.595,1185.43 383.588,1181.05 385.581,1176.7 387.574,1172.37 389.568,1168.07 391.561,1163.8 393.554,1159.55 395.547,1155.32 397.54,1151.13 399.533,1146.96 401.526,1142.81 403.52,1138.69 405.513,1134.59 407.506,1130.51 409.499,1126.46 411.492,1122.43 413.485,1118.43 415.479,1114.45 417.472,1110.49 419.465,1106.55 421.458,1102.64 423.451,1098.74 425.444,1094.87 427.437,1091.01 429.431,1087.18 431.424,1083.36 433.417,1079.57 435.41,1075.8 437.403,1072.04 439.396,1068.31 441.389,1064.59 443.383,1060.9 445.376,1057.23 447.369,1053.58 449.362,1049.94 451.355,1046.33 453.348,1042.73 455.341,1039.16 457.335,1035.6 459.328,1032.06 461.321,1028.54 463.314,1025.04 465.307,1021.56 467.3,1018.1 469.293,1014.65 471.287,1011.22 473.28,1007.81 475.273,1004.42 477.266,1001.04 479.259,997.678 481.252,994.335 483.245,991.009 485.239,987.702 487.232,984.41 489.225,981.142 491.218,977.889 493.211,974.652 495.204,971.43 497.197,968.224 499.191,965.036 501.184,961.864 503.177,958.709 505.17,955.568 507.163,952.448 509.156,949.344 511.149,946.253 513.143,943.18 515.136,940.125 517.129,937.083 519.122,934.056 521.115,931.043 523.108,928.043 525.101,925.056 527.095,922.084 529.088,919.128 531.081,916.188 533.074,913.261 535.067,910.35 537.06,907.454 539.054,904.571 541.047,901.703 543.04,898.848 545.033,896.008 547.026,893.18 549.019,890.364 551.012,887.562 553.006,884.777 554.999,882.002 556.992,879.243 558.985,876.495 560.978,873.76 562.971,871.038 564.964,868.327 566.958,865.63 568.951,862.944 570.944,860.273 572.937,857.612 574.93,854.962 576.923,852.326 578.916,849.7 580.91,847.088 582.903,844.486 584.896,841.898 586.889,839.322 588.882,836.757 590.875,834.204 592.868,831.662 594.862,829.131 596.855,826.611 598.848,824.104 600.841,821.609 602.834,819.124 604.827,816.648 606.82,814.182 608.814,811.726 610.807,809.283 612.8,806.852 614.793,804.431 616.786,802.021 618.779,799.623 620.772,797.234 622.766,794.855 624.759,792.487 626.752,790.128 628.745,787.779 630.738,785.44 632.731,783.113 634.724,780.799 636.718,778.494 638.711,776.199 640.704,773.913 642.697,771.637 644.69,769.369 646.683,767.112 648.677,764.863 650.67,762.624 652.663,760.394 654.656,758.173 656.649,755.961 658.642,753.759 660.635,751.571 662.629,749.391 664.622,747.221 666.615,745.06 668.608,742.907 670.601,740.763 672.594,738.63 674.587,736.505 676.581,734.389 678.574,732.28 680.567,730.182 682.56,728.091 684.553,726.01 686.546,723.937 688.539,721.872 690.533,719.815 692.526,717.767 694.519,715.732 696.512,713.706 698.505,711.689 700.498,709.68 702.491,707.679 704.485,705.686 706.478,703.702 708.471,701.725 710.464,699.756 712.457,697.796 714.45,695.845 716.443,693.905 718.437,691.974 720.43,690.05 722.423,688.136 724.416,686.232 726.409,684.337 728.402,682.452 730.395,680.577 732.389,678.71 734.382,676.851 736.375,675.003 738.368,673.164 740.361,671.334 742.354,669.514 744.347,667.703 746.341,665.902 748.334,664.111 750.327,662.33 752.32,660.559 754.313,658.796 756.306,657.043 758.299,655.299 760.293,653.564 762.286,651.839 764.279,650.123 766.272,648.416 768.265,646.718 770.258,645.028 772.252,643.349 774.245,641.677 776.238,640.014 778.231,638.359 780.224,636.712 782.217,635.074 784.21,633.445 786.204,631.824 788.197,630.211 790.19,628.606 792.183,627.009 794.176,625.42 796.169,623.838 798.162,622.264 800.156,620.698 802.149,619.139 804.142,617.587 806.135,616.043 808.128,614.506 810.121,612.976 812.114,611.454 814.108,609.939 816.101,608.432 818.094,606.931 820.087,605.439 822.08,603.953 824.073,602.475 826.066,601.003 828.06,599.537 830.053,598.079 832.046,596.626 834.039,595.18 836.032,593.742 838.025,592.311 840.018,590.885 842.012,589.466 844.005,588.054 845.998,586.648 847.991,585.248 849.984,583.856 851.977,582.469 853.97,581.087 855.964,579.712 857.957,578.344 859.95,576.981 861.943,575.625 863.936,574.274 865.929,572.929 867.922,571.59 869.916,570.258 871.909,568.931 873.902,567.609 875.895,566.292 877.888,564.981 879.881,563.675 881.874,562.375 883.868,561.079 885.861,559.789 887.854,558.505 889.847,557.227 891.84,555.955 893.833,554.689 895.827,553.428 897.82,552.172 899.813,550.921 901.806,549.675 903.799,548.434 905.792,547.198 907.785,545.966 909.779,544.74 911.772,543.518 913.765,542.3 915.758,541.087 917.751,539.879 919.744,538.677 921.737,537.479 923.731,536.287 925.724,535.1 927.717,533.918 929.71,532.74 931.703,531.567 933.696,530.398 935.689,529.235 937.683,528.075 939.676,526.92 941.669,525.769 943.662,524.622 945.655,523.479 947.648,522.34 949.641,521.206 951.635,520.077 953.628,518.952 955.621,517.832 957.614,516.715 959.607,515.603 961.6,514.494 963.593,513.39 965.587,512.291 967.58,511.195 969.573,510.103 971.566,509.016 973.559,507.933 975.552,506.853 977.545,505.778 979.539,504.707 981.532,503.639 983.525,502.575 985.518,501.514 987.511,500.458 989.504,499.405 991.497,498.356 993.491,497.311 995.484,496.27 997.477,495.233 999.47,494.2 1001.46,493.17 1003.46,492.144 1005.45,491.122 1007.44,490.104 1009.44,489.088 1011.43,488.076 1013.42,487.068 1015.42,486.064 1017.41,485.063 1019.4,484.065 1021.39,483.069 1023.39,482.078 1025.38,481.09 1027.37,480.106 1029.37,479.124 1031.36,478.147 1033.35,477.172 1035.35,476.201 1037.34,475.234 1039.33,474.27 1041.33,473.309 1043.32,472.352 1045.31,471.397 1047.31,470.446 1049.3,469.498 1051.29,468.553 1053.28,467.612 1055.28,466.673 1057.27,465.737 1059.26,464.804 1061.26,463.874 1063.25,462.947 1065.24,462.023 1067.24,461.101 1069.23,460.184 1071.22,459.269 1073.22,458.357 1075.21,457.448 1077.2,456.543 1079.2,455.64 1081.19,454.74 1083.18,453.843 1085.18,452.949 1087.17,452.058 1089.16,451.169 1091.15,450.284 1093.15,449.402 1095.14,448.522 1097.13,447.645 1099.13,446.771 1101.12,445.899 1103.11,445.03 1105.11,444.164 1107.1,443.3 1109.09,442.439 1111.09,441.58 1113.08,440.724 1115.07,439.871 1117.07,439.02 1119.06,438.171 1121.05,437.326 1123.05,436.484 1125.04,435.644 1127.03,434.806 1129.02,433.971 1131.02,433.139 1133.01,432.309 1135,431.481 1137,430.657 1138.99,429.834 1140.98,429.015 1142.98,428.197 1144.97,427.382 1146.96,426.569 1148.96,425.759 1150.95,424.951 1152.94,424.146 1154.94,423.343 1156.93,422.542 1158.92,421.743 1160.91,420.947 1162.91,420.153 1164.9,419.361 1166.89,418.572 1168.89,417.785 1170.88,417 1172.87,416.218 1174.87,415.438 1176.86,414.66 1178.85,413.884 1180.85,413.111 1182.84,412.34 1184.83,411.571 1186.83,410.804 1188.82,410.04 1190.81,409.278 1192.81,408.517 1194.8,407.76 1196.79,407.004 1198.78,406.25 1200.78,405.499 1202.77,404.749 1204.76,404.002 1206.76,403.256 1208.75,402.513 1210.74,401.771 1212.74,401.031 1214.73,400.294 1216.72,399.558 1218.72,398.824 1220.71,398.092 1222.7,397.362 1224.7,396.634 1226.69,395.909 1228.68,395.185 1230.67,394.463 1232.67,393.744 1234.66,393.026 1236.65,392.31 1238.65,391.596 1240.64,390.884 1242.63,390.174 1244.63,389.466 1246.62,388.759 1248.61,388.055 1250.61,387.352 1252.6,386.652 1254.59,385.953 1256.59,385.256 1258.58,384.561 1260.57,383.868 1262.57,383.177 1264.56,382.487 1266.55,381.799 1268.54,381.113 1270.54,380.428 1272.53,379.746 1274.52,379.065 1276.52,378.386 1278.51,377.709 1280.5,377.033 1282.5,376.359 1284.49,375.687 1286.48,375.017 1288.48,374.349 1290.47,373.682 1292.46,373.017 1294.46,372.353 1296.45,371.692 1298.44,371.032 1300.44,370.374 1302.43,369.717 1304.42,369.062 1306.41,368.41 1308.41,367.758 1310.4,367.109 1312.39,366.46 1314.39,365.814 1316.38,365.169 1318.37,364.525 1320.37,363.883 1322.36,363.243 1324.35,362.604 1326.35,361.967 1328.34,361.331 1330.33,360.697 1332.33,360.065 1334.32,359.434 1336.31,358.805 1338.3,358.177 1340.3,357.55 1342.29,356.925 1344.28,356.301 1346.28,355.679 1348.27,355.058 1350.26,354.439 1352.26,353.821 1354.25,353.205 1356.24,352.591 1358.24,351.977 1360.23,351.366 1362.22,350.756 1364.22,350.147 1366.21,349.54 1368.2,348.934 1370.2,348.33 1372.19,347.727 1374.18,347.126 1376.17,346.526 1378.17,345.927 1380.16,345.33 1382.15,344.734 1384.15,344.14 1386.14,343.548 1388.13,342.956 1390.13,342.366 1392.12,341.778 1394.11,341.19 1396.11,340.605 1398.1,340.02 1400.09,339.437 1402.09,338.855 1404.08,338.274 1406.07,337.695 1408.06,337.117 1410.06,336.54 1412.05,335.965 1414.04,335.391 1416.04,334.818 1418.03,334.247 1420.02,333.676 1422.02,333.108 1424.01,332.54 1426,331.974 1428,331.409 1429.99,330.845 1431.98,330.283 1433.98,329.721 1435.97,329.162 1437.96,328.603 1439.96,328.045 1441.95,327.489 1443.94,326.934 1445.93,326.38 1447.93,325.828 1449.92,325.277 1451.91,324.727 1453.91,324.178 1455.9,323.631 1457.89,323.085 1459.89,322.54 1461.88,321.996 1463.87,321.453 1465.87,320.911 1467.86,320.371 1469.85,319.832 1471.85,319.294 1473.84,318.757 1475.83,318.221 1477.82,317.686 1479.82,317.152 1481.81,316.62 1483.8,316.089 1485.8,315.559 1487.79,315.03 1489.78,314.503 1491.78,313.976 1493.77,313.451 1495.76,312.926 1497.76,312.403 1499.75,311.881 1501.74,311.36 1503.74,310.84 1505.73,310.321 1507.72,309.803 1509.72,309.286 1511.71,308.77 1513.7,308.256 1515.69,307.742 1517.69,307.23 1519.68,306.719 1521.67,306.208 1523.67,305.699 1525.66,305.191 1527.65,304.685 1529.65,304.179 1531.64,303.674 1533.63,303.17 1535.63,302.667 1537.62,302.166 1539.61,301.665 1541.61,301.165 1543.6,300.667 1545.59,300.169 1547.59,299.673 1549.58,299.178 1551.57,298.683 1553.56,298.19 1555.56,297.698 1557.55,297.206 1559.54,296.716 1561.54,296.227 1563.53,295.739 1565.52,295.251 1567.52,294.765 1569.51,294.279 1571.5,293.795 1573.5,293.311 1575.49,292.829 1577.48,292.347 1579.48,291.867 1581.47,291.387 1583.46,290.908 1585.45,290.43 1587.45,289.954 1589.44,289.478 1591.43,289.003 1593.43,288.529 1595.42,288.056 1597.41,287.584 1599.41,287.113 1601.4,286.643 1603.39,286.173 1605.39,285.705 1607.38,285.237 1609.37,284.771 1611.37,284.305 1613.36,283.84 1615.35,283.376 1617.35,282.913 1619.34,282.45 1621.33,281.989 1623.32,281.529 1625.32,281.069 1627.31,280.611 1629.3,280.153 1631.3,279.696 1633.29,279.24 1635.28,278.785 1637.28,278.331 1639.27,277.877 1641.26,277.425 1643.26,276.973 1645.25,276.522 1647.24,276.072 1649.24,275.623 1651.23,275.175 1653.22,274.728 1655.21,274.281 1657.21,273.836 1659.2,273.391 1661.19,272.947 1663.19,272.504 1665.18,272.062 1667.17,271.62 1669.17,271.179 1671.16,270.74 1673.15,270.301 1675.15,269.863 1677.14,269.425 1679.13,268.989 1681.13,268.553 1683.12,268.118 1685.11,267.684 1687.11,267.251 1689.1,266.819 1691.09,266.387 1693.08,265.956 1695.08,265.526 1697.07,265.097 1699.06,264.669 1701.06,264.241 1703.05,263.814 1705.04,263.388 1707.04,262.962 1709.03,262.538 1711.02,262.114 1713.02,261.691 1715.01,261.269 1717,260.847 1719,260.427 1720.99,260.007 1722.98,259.588 1724.97,259.169 1726.97,258.752 1728.96,258.335 1730.95,257.919 1732.95,257.504 1734.94,257.089 1736.93,256.675 1738.93,256.262 1740.92,255.849 1742.91,255.438 1744.91,255.027 1746.9,254.616 1748.89,254.207 1750.89,253.798 1752.88,253.39 1754.87,252.983 1756.87,252.576 1758.86,252.17 1760.85,251.765 1762.84,251.361 1764.84,250.957 1766.83,250.554 1768.82,250.152 1770.82,249.75 1772.81,249.349 1774.8,248.949 1776.8,248.55 1778.79,248.151 1780.78,247.753 1782.78,247.355 1784.77,246.959 1786.76,246.562 1788.76,246.167 1790.75,245.772 1792.74,245.378 1794.74,244.985 1796.73,244.592 1798.72,244.2 1800.71,243.809 1802.71,243.418 1804.7,243.028 1806.69,242.639 1808.69,242.25 1810.68,241.862 1812.67,241.475 1814.67,241.088 1816.66,240.702 1818.65,240.317 1820.65,239.933 1822.64,239.549 1824.63,239.165 1826.63,238.783 1828.62,238.401 1830.61,238.019 1832.6,237.638 1834.6,237.258 1836.59,236.879 1838.58,236.5 1840.58,236.121 1842.57,235.744 1844.56,235.367 1846.56,234.99 1848.55,234.614 1850.54,234.239 1852.54,233.865 1854.53,233.491 1856.52,233.118 1858.52,232.745 1860.51,232.373 1862.5,232.002 1864.5,231.631 1866.49,231.261 1868.48,230.892 1870.47,230.523 1872.47,230.155 1874.46,229.787 1876.45,229.42 1878.45,229.053 1880.44,228.687 1882.43,228.322 1884.43,227.958 1886.42,227.593 1888.41,227.23 1890.41,226.867 1892.4,226.505 1894.39,226.143 1896.39,225.782 1898.38,225.421 1900.37,225.061 1902.36,224.701 1904.36,224.343 1906.35,223.985 1908.34,223.627 1910.34,223.27 1912.33,222.913 1914.32,222.558 1916.32,222.202 1918.31,221.848 1920.3,221.493 1922.3,221.14 1924.29,220.787 1926.28,220.434 1928.28,220.082 1930.27,219.731 1932.26,219.38 1934.26,219.03 1936.25,218.68 1938.24,218.331 1940.23,217.983 1942.23,217.635 1944.22,217.287 1946.21,216.94 1948.21,216.594 1950.2,216.248 1952.19,215.903 1954.19,215.558 1956.18,215.214 1958.17,214.87 1960.17,214.527 1962.16,214.184 1964.15,213.842 1966.15,213.501 1968.14,213.16 1970.13,212.819 1972.12,212.479 1974.12,212.14 1976.11,211.801 1978.1,211.463 1980.1,211.125 1982.09,210.787 1984.08,210.451 1986.08,210.114 1988.07,209.779 1990.06,209.443 1992.06,209.109 1994.05,208.774 1996.04,208.441 1998.04,208.107 2000.03,207.775 2002.02,207.442 2004.02,207.111 2006.01,206.779 2008,206.449 2009.99,206.118 2011.99,205.789 2013.98,205.46 2015.97,205.131 2017.97,204.803 2019.96,204.475 2021.95,204.148 2023.95,203.821 2025.94,203.495 2027.93,203.169 2029.93,202.844 2031.92,202.519 2033.91,202.195 2035.91,201.871 2037.9,201.548 2039.89,201.225 2041.89,200.903 2043.88,200.581 2045.87,200.26 2047.86,199.939 2049.86,199.619 2051.85,199.299 2053.84,198.979 2055.84,198.66 2057.83,198.342 2059.82,198.024 2061.82,197.706 2063.81,197.389 2065.8,197.073 2067.8,196.757 2069.79,196.441 2071.78,196.126 2073.78,195.811 2075.77,195.497 2077.76,195.184 2079.75,194.87 2081.75,194.558 2083.74,194.245 2085.73,193.933 2087.73,193.622 2089.72,193.311 2091.71,193 2093.71,192.69 2095.7,192.381 2097.69,192.072 2099.69,191.763 2101.68,191.455 2103.67,191.147 2105.67,190.84 2107.66,190.533 2109.65,190.227 2111.65,189.921 2113.64,189.615 2115.63,189.31 2117.62,189.005 2119.62,188.701 2121.61,188.398 2123.6,188.094 2125.6,187.791 2127.59,187.489 2129.58,187.187 2131.58,186.885 2133.57,186.584 2135.56,186.284 2137.56,185.983 2139.55,185.684 2141.54,185.384 2143.54,185.086 2145.53,184.787 2147.52,184.489 2149.51,184.191 2151.51,183.894 2153.5,183.598 2155.49,183.301 2157.49,183.006 2159.48,182.71 2161.47,182.416 2163.47,182.121 2165.46,181.827 2167.45,181.534 2169.45,181.24 2171.44,180.948 2173.43,180.655 2175.43,180.363 2177.42,180.072 2179.41,179.781 2181.41,179.49 2183.4,179.2 2185.39,178.911 2187.38,178.621 2189.38,178.333 2191.37,178.044 2193.36,177.756 2195.36,177.468 2197.35,177.181 2199.34,176.895 2201.34,176.608 2203.33,176.322 2205.32,176.037 2207.32,175.752 2209.31,175.467 2211.3,175.183 2213.3,174.899 2215.29,174.616 2217.28,174.333 2219.27,174.051 2221.27,173.769 2223.26,173.487 2225.25,173.206 2227.25,172.925 2229.24,172.645 2231.23,172.365 2233.23,172.086 2235.22,171.807 2237.21,171.528 2239.21,171.25 2241.2,170.973 2243.19,170.695 2245.19,170.419 2247.18,170.142 2249.17,169.866 2251.17,169.591 2253.16,169.316 2255.15,169.041 2257.14,168.767 2259.14,168.494 2261.13,168.22 2263.12,167.948 2265.12,167.676 2267.11,167.404 2269.1,167.133 2271.1,166.862 2273.09,166.592 2275.08,166.322 2277.08,166.053 2279.07,165.784 2281.06,165.516 2283.06,165.249 2285.05,164.983 2287.04,164.72 2289.04,164.458 2291.03,164.199 2293.02,163.944 \"/>\n",
       "<path clip-path=\"url(#clip110)\" d=\"M312.489 322.316 L658.365 322.316 L658.365 166.796 L312.489 166.796  Z\" fill=\"#ffffff\" fill-rule=\"evenodd\" fill-opacity=\"1\"/>\n",
       "<polyline clip-path=\"url(#clip110)\" style=\"stroke:#000000; stroke-linecap:round; stroke-linejoin:round; stroke-width:4; stroke-opacity:1; fill:none\" points=\"312.489,322.316 658.365,322.316 658.365,166.796 312.489,166.796 312.489,322.316 \"/>\n",
       "<polyline clip-path=\"url(#clip110)\" style=\"stroke:#009af9; stroke-linecap:round; stroke-linejoin:round; stroke-width:4; stroke-opacity:1; fill:none\" points=\"335.94,218.636 476.648,218.636 \"/>\n",
       "<path clip-path=\"url(#clip110)\" d=\"M500.678 209.99 L520.91 209.99 L520.91 213.879 L504.891 232.513 L520.91 232.513 L520.91 235.916 L500.099 235.916 L500.099 232.027 L516.118 213.393 L500.678 213.393 L500.678 209.99 Z\" fill=\"#000000\" fill-rule=\"nonzero\" fill-opacity=\"1\" /><path clip-path=\"url(#clip110)\" d=\"M527.97 214.388 L557.645 214.388 L557.645 218.277 L527.97 218.277 L527.97 214.388 M527.97 223.832 L557.645 223.832 L557.645 227.768 L527.97 227.768 L527.97 223.832 Z\" fill=\"#000000\" fill-rule=\"nonzero\" fill-opacity=\"1\" /><path clip-path=\"url(#clip110)\" d=\"M581.905 217.282 Q585.261 217.999 587.136 220.268 Q589.034 222.536 589.034 225.869 Q589.034 230.985 585.516 233.786 Q581.997 236.587 575.516 236.587 Q573.34 236.587 571.025 236.147 Q568.733 235.731 566.28 234.874 L566.28 230.36 Q568.224 231.494 570.539 232.073 Q572.854 232.652 575.377 232.652 Q579.775 232.652 582.067 230.916 Q584.381 229.18 584.381 225.869 Q584.381 222.814 582.229 221.101 Q580.099 219.365 576.28 219.365 L572.252 219.365 L572.252 215.522 L576.465 215.522 Q579.914 215.522 581.743 214.157 Q583.571 212.768 583.571 210.175 Q583.571 207.513 581.673 206.101 Q579.798 204.666 576.28 204.666 Q574.358 204.666 572.159 205.083 Q569.96 205.499 567.321 206.379 L567.321 202.212 Q569.983 201.471 572.298 201.101 Q574.636 200.731 576.696 200.731 Q582.02 200.731 585.122 203.161 Q588.224 205.569 588.224 209.689 Q588.224 212.559 586.581 214.55 Q584.937 216.518 581.905 217.282 Z\" fill=\"#000000\" fill-rule=\"nonzero\" fill-opacity=\"1\" /><path clip-path=\"url(#clip110)\" d=\"M597.9 230.036 L602.784 230.036 L602.784 235.916 L597.9 235.916 L597.9 230.036 Z\" fill=\"#000000\" fill-rule=\"nonzero\" fill-opacity=\"1\" /><path clip-path=\"url(#clip110)\" d=\"M622.969 204.434 Q619.358 204.434 617.529 207.999 Q615.724 211.541 615.724 218.67 Q615.724 225.777 617.529 229.342 Q619.358 232.883 622.969 232.883 Q626.603 232.883 628.409 229.342 Q630.238 225.777 630.238 218.67 Q630.238 211.541 628.409 207.999 Q626.603 204.434 622.969 204.434 M622.969 200.731 Q628.779 200.731 631.835 205.337 Q634.914 209.92 634.914 218.67 Q634.914 227.397 631.835 232.004 Q628.779 236.587 622.969 236.587 Q617.159 236.587 614.08 232.004 Q611.025 227.397 611.025 218.67 Q611.025 209.92 614.08 205.337 Q617.159 200.731 622.969 200.731 Z\" fill=\"#000000\" fill-rule=\"nonzero\" fill-opacity=\"1\" /><polyline clip-path=\"url(#clip110)\" style=\"stroke:#e26f46; stroke-linecap:round; stroke-linejoin:round; stroke-width:4; stroke-opacity:1; fill:none\" points=\"335.94,270.476 476.648,270.476 \"/>\n",
       "<path clip-path=\"url(#clip110)\" d=\"M500.678 261.83 L520.91 261.83 L520.91 265.719 L504.891 284.353 L520.91 284.353 L520.91 287.756 L500.099 287.756 L500.099 283.867 L516.118 265.233 L500.678 265.233 L500.678 261.83 Z\" fill=\"#000000\" fill-rule=\"nonzero\" fill-opacity=\"1\" /><path clip-path=\"url(#clip110)\" d=\"M527.97 266.228 L557.645 266.228 L557.645 270.117 L527.97 270.117 L527.97 266.228 M527.97 275.672 L557.645 275.672 L557.645 279.608 L527.97 279.608 L527.97 275.672 Z\" fill=\"#000000\" fill-rule=\"nonzero\" fill-opacity=\"1\" /><path clip-path=\"url(#clip110)\" d=\"M577.738 256.274 Q574.127 256.274 572.298 259.839 Q570.493 263.381 570.493 270.51 Q570.493 277.617 572.298 281.182 Q574.127 284.723 577.738 284.723 Q581.372 284.723 583.178 281.182 Q585.006 277.617 585.006 270.51 Q585.006 263.381 583.178 259.839 Q581.372 256.274 577.738 256.274 M577.738 252.571 Q583.548 252.571 586.604 257.177 Q589.682 261.76 589.682 270.51 Q589.682 279.237 586.604 283.844 Q583.548 288.427 577.738 288.427 Q571.928 288.427 568.849 283.844 Q565.794 279.237 565.794 270.51 Q565.794 261.76 568.849 257.177 Q571.928 252.571 577.738 252.571 Z\" fill=\"#000000\" fill-rule=\"nonzero\" fill-opacity=\"1\" /><path clip-path=\"url(#clip110)\" d=\"M597.9 281.876 L602.784 281.876 L602.784 287.756 L597.9 287.756 L597.9 281.876 Z\" fill=\"#000000\" fill-rule=\"nonzero\" fill-opacity=\"1\" /><path clip-path=\"url(#clip110)\" d=\"M613.016 253.196 L631.372 253.196 L631.372 257.131 L617.298 257.131 L617.298 265.603 Q618.316 265.256 619.335 265.094 Q620.353 264.909 621.372 264.909 Q627.159 264.909 630.539 268.08 Q633.918 271.251 633.918 276.668 Q633.918 282.246 630.446 285.348 Q626.974 288.427 620.654 288.427 Q618.478 288.427 616.21 288.057 Q613.965 287.686 611.557 286.946 L611.557 282.246 Q613.641 283.381 615.863 283.936 Q618.085 284.492 620.562 284.492 Q624.566 284.492 626.904 282.385 Q629.242 280.279 629.242 276.668 Q629.242 273.057 626.904 270.95 Q624.566 268.844 620.562 268.844 Q618.687 268.844 616.812 269.26 Q614.96 269.677 613.016 270.557 L613.016 253.196 Z\" fill=\"#000000\" fill-rule=\"nonzero\" fill-opacity=\"1\" /></svg>\n"
      ]
     },
     "metadata": {},
     "output_type": "display_data"
    }
   ],
   "source": [
    "# plot value function for age 20\n",
    "plot(prim.a_grid, res.Vʷ[20,:,1], label = \"z=3.0\", title = \"Value function for age 20\")\n",
    "plot!(prim.a_grid, res.Vʷ[20,:,2], label = \"z=0.5\", title = \"Value function for age 20\")\n",
    "# update x and y labels\n",
    "xlabel!(\"Assets\")\n",
    "ylabel!(\"V(a)\")"
   ]
  },
  {
   "cell_type": "code",
   "execution_count": 5,
   "metadata": {},
   "outputs": [
    {
     "data": {
      "image/png": "[encoded data removed]",
      "image/svg+xml": [
       "<?xml version=\"1.0\" encoding=\"utf-8\"?>\n",
       "<svg xmlns=\"http://www.w3.org/2000/svg\" xmlns:xlink=\"http://www.w3.org/1999/xlink\" width=\"600\" height=\"400\" viewBox=\"0 0 2400 1600\">\n",
       "<defs>\n",
       "  <clipPath id=\"clip150\">\n",
       "    <rect x=\"0\" y=\"0\" width=\"2400\" height=\"1600\"/>\n",
       "  </clipPath>\n",
       "</defs>\n",
       "<path clip-path=\"url(#clip150)\" d=\"M0 1600 L2400 1600 L2400 8.88178e-14 L0 8.88178e-14  Z\" fill=\"#ffffff\" fill-rule=\"evenodd\" fill-opacity=\"1\"/>\n",
       "<defs>\n",
       "  <clipPath id=\"clip151\">\n",
       "    <rect x=\"480\" y=\"0\" width=\"1681\" height=\"1600\"/>\n",
       "  </clipPath>\n",
       "</defs>\n",
       "<path clip-path=\"url(#clip150)\" d=\"M203.964 1423.18 L2352.76 1423.18 L2352.76 123.472 L203.964 123.472  Z\" fill=\"#ffffff\" fill-rule=\"evenodd\" fill-opacity=\"1\"/>\n",
       "<defs>\n",
       "  <clipPath id=\"clip152\">\n",
       "    <rect x=\"203\" y=\"123\" width=\"2150\" height=\"1301\"/>\n",
       "  </clipPath>\n",
       "</defs>\n",
       "<polyline clip-path=\"url(#clip152)\" style=\"stroke:#000000; stroke-linecap:round; stroke-linejoin:round; stroke-width:2; stroke-opacity:0.1; fill:none\" points=\"264.711,1423.18 264.711,123.472 \"/>\n",
       "<polyline clip-path=\"url(#clip152)\" style=\"stroke:#000000; stroke-linecap:round; stroke-linejoin:round; stroke-width:2; stroke-opacity:0.1; fill:none\" points=\"940.454,1423.18 940.454,123.472 \"/>\n",
       "<polyline clip-path=\"url(#clip152)\" style=\"stroke:#000000; stroke-linecap:round; stroke-linejoin:round; stroke-width:2; stroke-opacity:0.1; fill:none\" points=\"1616.2,1423.18 1616.2,123.472 \"/>\n",
       "<polyline clip-path=\"url(#clip152)\" style=\"stroke:#000000; stroke-linecap:round; stroke-linejoin:round; stroke-width:2; stroke-opacity:0.1; fill:none\" points=\"2291.94,1423.18 2291.94,123.472 \"/>\n",
       "<polyline clip-path=\"url(#clip150)\" style=\"stroke:#000000; stroke-linecap:round; stroke-linejoin:round; stroke-width:4; stroke-opacity:1; fill:none\" points=\"203.964,1423.18 2352.76,1423.18 \"/>\n",
       "<polyline clip-path=\"url(#clip150)\" style=\"stroke:#000000; stroke-linecap:round; stroke-linejoin:round; stroke-width:4; stroke-opacity:1; fill:none\" points=\"264.711,1423.18 264.711,1404.28 \"/>\n",
       "<polyline clip-path=\"url(#clip150)\" style=\"stroke:#000000; stroke-linecap:round; stroke-linejoin:round; stroke-width:4; stroke-opacity:1; fill:none\" points=\"940.454,1423.18 940.454,1404.28 \"/>\n",
       "<polyline clip-path=\"url(#clip150)\" style=\"stroke:#000000; stroke-linecap:round; stroke-linejoin:round; stroke-width:4; stroke-opacity:1; fill:none\" points=\"1616.2,1423.18 1616.2,1404.28 \"/>\n",
       "<polyline clip-path=\"url(#clip150)\" style=\"stroke:#000000; stroke-linecap:round; stroke-linejoin:round; stroke-width:4; stroke-opacity:1; fill:none\" points=\"2291.94,1423.18 2291.94,1404.28 \"/>\n",
       "<path clip-path=\"url(#clip150)\" d=\"M264.711 1454.1 Q261.1 1454.1 259.271 1457.66 Q257.466 1461.2 257.466 1468.33 Q257.466 1475.44 259.271 1479.01 Q261.1 1482.55 264.711 1482.55 Q268.345 1482.55 270.151 1479.01 Q271.979 1475.44 271.979 1468.33 Q271.979 1461.2 270.151 1457.66 Q268.345 1454.1 264.711 1454.1 M264.711 1450.39 Q270.521 1450.39 273.577 1455 Q276.655 1459.58 276.655 1468.33 Q276.655 1477.06 273.577 1481.67 Q270.521 1486.25 264.711 1486.25 Q258.901 1486.25 255.822 1481.67 Q252.766 1477.06 252.766 1468.33 Q252.766 1459.58 255.822 1455 Q258.901 1450.39 264.711 1450.39 Z\" fill=\"#000000\" fill-rule=\"nonzero\" fill-opacity=\"1\" /><path clip-path=\"url(#clip150)\" d=\"M915.142 1481.64 L922.781 1481.64 L922.781 1455.28 L914.471 1456.95 L914.471 1452.69 L922.734 1451.02 L927.41 1451.02 L927.41 1481.64 L935.049 1481.64 L935.049 1485.58 L915.142 1485.58 L915.142 1481.64 Z\" fill=\"#000000\" fill-rule=\"nonzero\" fill-opacity=\"1\" /><path clip-path=\"url(#clip150)\" d=\"M954.494 1454.1 Q950.882 1454.1 949.054 1457.66 Q947.248 1461.2 947.248 1468.33 Q947.248 1475.44 949.054 1479.01 Q950.882 1482.55 954.494 1482.55 Q958.128 1482.55 959.933 1479.01 Q961.762 1475.44 961.762 1468.33 Q961.762 1461.2 959.933 1457.66 Q958.128 1454.1 954.494 1454.1 M954.494 1450.39 Q960.304 1450.39 963.359 1455 Q966.438 1459.58 966.438 1468.33 Q966.438 1477.06 963.359 1481.67 Q960.304 1486.25 954.494 1486.25 Q948.683 1486.25 945.605 1481.67 Q942.549 1477.06 942.549 1468.33 Q942.549 1459.58 945.605 1455 Q948.683 1450.39 954.494 1450.39 Z\" fill=\"#000000\" fill-rule=\"nonzero\" fill-opacity=\"1\" /><path clip-path=\"url(#clip150)\" d=\"M1594.97 1481.64 L1611.29 1481.64 L1611.29 1485.58 L1589.35 1485.58 L1589.35 1481.64 Q1592.01 1478.89 1596.59 1474.26 Q1601.2 1469.61 1602.38 1468.27 Q1604.62 1465.74 1605.5 1464.01 Q1606.41 1462.25 1606.41 1460.56 Q1606.41 1457.8 1604.46 1456.07 Q1602.54 1454.33 1599.44 1454.33 Q1597.24 1454.33 1594.79 1455.09 Q1592.36 1455.86 1589.58 1457.41 L1589.58 1452.69 Q1592.4 1451.55 1594.86 1450.97 Q1597.31 1450.39 1599.35 1450.39 Q1604.72 1450.39 1607.91 1453.08 Q1611.11 1455.77 1611.11 1460.26 Q1611.11 1462.39 1610.29 1464.31 Q1609.51 1466.2 1607.4 1468.8 Q1606.82 1469.47 1603.72 1472.69 Q1600.62 1475.88 1594.97 1481.64 Z\" fill=\"#000000\" fill-rule=\"nonzero\" fill-opacity=\"1\" /><path clip-path=\"url(#clip150)\" d=\"M1631.1 1454.1 Q1627.49 1454.1 1625.67 1457.66 Q1623.86 1461.2 1623.86 1468.33 Q1623.86 1475.44 1625.67 1479.01 Q1627.49 1482.55 1631.1 1482.55 Q1634.74 1482.55 1636.54 1479.01 Q1638.37 1475.44 1638.37 1468.33 Q1638.37 1461.2 1636.54 1457.66 Q1634.74 1454.1 1631.1 1454.1 M1631.1 1450.39 Q1636.92 1450.39 1639.97 1455 Q1643.05 1459.58 1643.05 1468.33 Q1643.05 1477.06 1639.97 1481.67 Q1636.92 1486.25 1631.1 1486.25 Q1625.29 1486.25 1622.22 1481.67 Q1619.16 1477.06 1619.16 1468.33 Q1619.16 1459.58 1622.22 1455 Q1625.29 1450.39 1631.1 1450.39 Z\" fill=\"#000000\" fill-rule=\"nonzero\" fill-opacity=\"1\" /><path clip-path=\"url(#clip150)\" d=\"M2280.78 1466.95 Q2284.14 1467.66 2286.02 1469.93 Q2287.91 1472.2 2287.91 1475.53 Q2287.91 1480.65 2284.39 1483.45 Q2280.88 1486.25 2274.39 1486.25 Q2272.22 1486.25 2269.9 1485.81 Q2267.61 1485.39 2265.16 1484.54 L2265.16 1480.02 Q2267.1 1481.16 2269.42 1481.74 Q2271.73 1482.32 2274.26 1482.32 Q2278.65 1482.32 2280.95 1480.58 Q2283.26 1478.84 2283.26 1475.53 Q2283.26 1472.48 2281.11 1470.77 Q2278.98 1469.03 2275.16 1469.03 L2271.13 1469.03 L2271.13 1465.19 L2275.34 1465.19 Q2278.79 1465.19 2280.62 1463.82 Q2282.45 1462.43 2282.45 1459.84 Q2282.45 1457.18 2280.55 1455.77 Q2278.68 1454.33 2275.16 1454.33 Q2273.24 1454.33 2271.04 1454.75 Q2268.84 1455.16 2266.2 1456.04 L2266.2 1451.88 Q2268.86 1451.14 2271.18 1450.77 Q2273.52 1450.39 2275.58 1450.39 Q2280.9 1450.39 2284 1452.83 Q2287.1 1455.23 2287.1 1459.35 Q2287.1 1462.22 2285.46 1464.21 Q2283.82 1466.18 2280.78 1466.95 Z\" fill=\"#000000\" fill-rule=\"nonzero\" fill-opacity=\"1\" /><path clip-path=\"url(#clip150)\" d=\"M2306.78 1454.1 Q2303.17 1454.1 2301.34 1457.66 Q2299.53 1461.2 2299.53 1468.33 Q2299.53 1475.44 2301.34 1479.01 Q2303.17 1482.55 2306.78 1482.55 Q2310.41 1482.55 2312.22 1479.01 Q2314.05 1475.44 2314.05 1468.33 Q2314.05 1461.2 2312.22 1457.66 Q2310.41 1454.1 2306.78 1454.1 M2306.78 1450.39 Q2312.59 1450.39 2315.64 1455 Q2318.72 1459.58 2318.72 1468.33 Q2318.72 1477.06 2315.64 1481.67 Q2312.59 1486.25 2306.78 1486.25 Q2300.97 1486.25 2297.89 1481.67 Q2294.83 1477.06 2294.83 1468.33 Q2294.83 1459.58 2297.89 1455 Q2300.97 1450.39 2306.78 1450.39 Z\" fill=\"#000000\" fill-rule=\"nonzero\" fill-opacity=\"1\" /><path clip-path=\"url(#clip150)\" d=\"M1195.91 1526.86 L1187.19 1550.51 L1204.66 1550.51 L1195.91 1526.86 M1192.28 1520.52 L1199.57 1520.52 L1217.68 1568.04 L1210.99 1568.04 L1206.67 1555.85 L1185.25 1555.85 L1180.92 1568.04 L1174.14 1568.04 L1192.28 1520.52 Z\" fill=\"#000000\" fill-rule=\"nonzero\" fill-opacity=\"1\" /><path clip-path=\"url(#clip150)\" d=\"M1247.09 1533.45 L1247.09 1538.98 Q1244.61 1537.71 1241.93 1537.07 Q1239.26 1536.44 1236.39 1536.44 Q1232.03 1536.44 1229.84 1537.77 Q1227.67 1539.11 1227.67 1541.79 Q1227.67 1543.82 1229.23 1545 Q1230.79 1546.15 1235.5 1547.2 L1237.51 1547.64 Q1243.75 1548.98 1246.36 1551.43 Q1249 1553.85 1249 1558.21 Q1249 1563.17 1245.05 1566.07 Q1241.14 1568.97 1234.26 1568.97 Q1231.4 1568.97 1228.28 1568.39 Q1225.19 1567.85 1221.75 1566.74 L1221.75 1560.69 Q1225 1562.38 1228.15 1563.24 Q1231.3 1564.07 1234.39 1564.07 Q1238.53 1564.07 1240.75 1562.66 Q1242.98 1561.23 1242.98 1558.65 Q1242.98 1556.27 1241.36 1554.99 Q1239.77 1553.72 1234.32 1552.54 L1232.29 1552.07 Q1226.85 1550.92 1224.43 1548.56 Q1222.01 1546.18 1222.01 1542.04 Q1222.01 1537.01 1225.57 1534.27 Q1229.14 1531.54 1235.69 1531.54 Q1238.94 1531.54 1241.8 1532.01 Q1244.67 1532.49 1247.09 1533.45 Z\" fill=\"#000000\" fill-rule=\"nonzero\" fill-opacity=\"1\" /><path clip-path=\"url(#clip150)\" d=\"M1281.05 1533.45 L1281.05 1538.98 Q1278.57 1537.71 1275.89 1537.07 Q1273.22 1536.44 1270.35 1536.44 Q1265.99 1536.44 1263.8 1537.77 Q1261.63 1539.11 1261.63 1541.79 Q1261.63 1543.82 1263.19 1545 Q1264.75 1546.15 1269.46 1547.2 L1271.47 1547.64 Q1277.71 1548.98 1280.32 1551.43 Q1282.96 1553.85 1282.96 1558.21 Q1282.96 1563.17 1279.01 1566.07 Q1275.1 1568.97 1268.22 1568.97 Q1265.36 1568.97 1262.24 1568.39 Q1259.15 1567.85 1255.71 1566.74 L1255.71 1560.69 Q1258.96 1562.38 1262.11 1563.24 Q1265.26 1564.07 1268.35 1564.07 Q1272.49 1564.07 1274.72 1562.66 Q1276.94 1561.23 1276.94 1558.65 Q1276.94 1556.27 1275.32 1554.99 Q1273.73 1553.72 1268.29 1552.54 L1266.25 1552.07 Q1260.81 1550.92 1258.39 1548.56 Q1255.97 1546.18 1255.97 1542.04 Q1255.97 1537.01 1259.53 1534.27 Q1263.1 1531.54 1269.65 1531.54 Q1272.9 1531.54 1275.77 1532.01 Q1278.63 1532.49 1281.05 1533.45 Z\" fill=\"#000000\" fill-rule=\"nonzero\" fill-opacity=\"1\" /><path clip-path=\"url(#clip150)\" d=\"M1322.78 1548.76 L1322.78 1551.62 L1295.85 1551.62 Q1296.23 1557.67 1299.48 1560.85 Q1302.76 1564 1308.58 1564 Q1311.95 1564 1315.11 1563.17 Q1318.29 1562.35 1321.41 1560.69 L1321.41 1566.23 Q1318.26 1567.57 1314.95 1568.27 Q1311.64 1568.97 1308.23 1568.97 Q1299.7 1568.97 1294.7 1564 Q1289.74 1559.04 1289.74 1550.57 Q1289.74 1541.82 1294.45 1536.69 Q1299.19 1531.54 1307.21 1531.54 Q1314.41 1531.54 1318.58 1536.18 Q1322.78 1540.8 1322.78 1548.76 M1316.92 1547.04 Q1316.86 1542.23 1314.21 1539.37 Q1311.6 1536.5 1307.28 1536.5 Q1302.37 1536.5 1299.41 1539.27 Q1296.49 1542.04 1296.04 1547.07 L1316.92 1547.04 Z\" fill=\"#000000\" fill-rule=\"nonzero\" fill-opacity=\"1\" /><path clip-path=\"url(#clip150)\" d=\"M1338.18 1522.27 L1338.18 1532.4 L1350.24 1532.4 L1350.24 1536.95 L1338.18 1536.95 L1338.18 1556.3 Q1338.18 1560.66 1339.36 1561.9 Q1340.57 1563.14 1344.23 1563.14 L1350.24 1563.14 L1350.24 1568.04 L1344.23 1568.04 Q1337.45 1568.04 1334.87 1565.53 Q1332.29 1562.98 1332.29 1556.3 L1332.29 1536.95 L1328 1536.95 L1328 1532.4 L1332.29 1532.4 L1332.29 1522.27 L1338.18 1522.27 Z\" fill=\"#000000\" fill-rule=\"nonzero\" fill-opacity=\"1\" /><path clip-path=\"url(#clip150)\" d=\"M1380.67 1533.45 L1380.67 1538.98 Q1378.19 1537.71 1375.52 1537.07 Q1372.84 1536.44 1369.98 1536.44 Q1365.62 1536.44 1363.42 1537.77 Q1361.26 1539.11 1361.26 1541.79 Q1361.26 1543.82 1362.82 1545 Q1364.38 1546.15 1369.09 1547.2 L1371.09 1547.64 Q1377.33 1548.98 1379.94 1551.43 Q1382.58 1553.85 1382.58 1558.21 Q1382.58 1563.17 1378.64 1566.07 Q1374.72 1568.97 1367.85 1568.97 Q1364.98 1568.97 1361.86 1568.39 Q1358.77 1567.85 1355.34 1566.74 L1355.34 1560.69 Q1358.58 1562.38 1361.73 1563.24 Q1364.89 1564.07 1367.97 1564.07 Q1372.11 1564.07 1374.34 1562.66 Q1376.57 1561.23 1376.57 1558.65 Q1376.57 1556.27 1374.94 1554.99 Q1373.35 1553.72 1367.91 1552.54 L1365.87 1552.07 Q1360.43 1550.92 1358.01 1548.56 Q1355.59 1546.18 1355.59 1542.04 Q1355.59 1537.01 1359.16 1534.27 Q1362.72 1531.54 1369.28 1531.54 Q1372.52 1531.54 1375.39 1532.01 Q1378.25 1532.49 1380.67 1533.45 Z\" fill=\"#000000\" fill-rule=\"nonzero\" fill-opacity=\"1\" /><polyline clip-path=\"url(#clip152)\" style=\"stroke:#000000; stroke-linecap:round; stroke-linejoin:round; stroke-width:2; stroke-opacity:0.1; fill:none\" points=\"203.964,1386.44 2352.76,1386.44 \"/>\n",
       "<polyline clip-path=\"url(#clip152)\" style=\"stroke:#000000; stroke-linecap:round; stroke-linejoin:round; stroke-width:2; stroke-opacity:0.1; fill:none\" points=\"203.964,977.71 2352.76,977.71 \"/>\n",
       "<polyline clip-path=\"url(#clip152)\" style=\"stroke:#000000; stroke-linecap:round; stroke-linejoin:round; stroke-width:2; stroke-opacity:0.1; fill:none\" points=\"203.964,568.983 2352.76,568.983 \"/>\n",
       "<polyline clip-path=\"url(#clip152)\" style=\"stroke:#000000; stroke-linecap:round; stroke-linejoin:round; stroke-width:2; stroke-opacity:0.1; fill:none\" points=\"203.964,160.256 2352.76,160.256 \"/>\n",
       "<polyline clip-path=\"url(#clip150)\" style=\"stroke:#000000; stroke-linecap:round; stroke-linejoin:round; stroke-width:4; stroke-opacity:1; fill:none\" points=\"203.964,1423.18 203.964,123.472 \"/>\n",
       "<polyline clip-path=\"url(#clip150)\" style=\"stroke:#000000; stroke-linecap:round; stroke-linejoin:round; stroke-width:4; stroke-opacity:1; fill:none\" points=\"203.964,1386.44 222.861,1386.44 \"/>\n",
       "<polyline clip-path=\"url(#clip150)\" style=\"stroke:#000000; stroke-linecap:round; stroke-linejoin:round; stroke-width:4; stroke-opacity:1; fill:none\" points=\"203.964,977.71 222.861,977.71 \"/>\n",
       "<polyline clip-path=\"url(#clip150)\" style=\"stroke:#000000; stroke-linecap:round; stroke-linejoin:round; stroke-width:4; stroke-opacity:1; fill:none\" points=\"203.964,568.983 222.861,568.983 \"/>\n",
       "<polyline clip-path=\"url(#clip150)\" style=\"stroke:#000000; stroke-linecap:round; stroke-linejoin:round; stroke-width:4; stroke-opacity:1; fill:none\" points=\"203.964,160.256 222.861,160.256 \"/>\n",
       "<path clip-path=\"url(#clip150)\" d=\"M156.019 1372.24 Q152.408 1372.24 150.579 1375.8 Q148.774 1379.34 148.774 1386.47 Q148.774 1393.58 150.579 1397.14 Q152.408 1400.68 156.019 1400.68 Q159.653 1400.68 161.459 1397.14 Q163.288 1393.58 163.288 1386.47 Q163.288 1379.34 161.459 1375.8 Q159.653 1372.24 156.019 1372.24 M156.019 1368.53 Q161.829 1368.53 164.885 1373.14 Q167.964 1377.72 167.964 1386.47 Q167.964 1395.2 164.885 1399.8 Q161.829 1404.39 156.019 1404.39 Q150.209 1404.39 147.13 1399.8 Q144.075 1395.2 144.075 1386.47 Q144.075 1377.72 147.13 1373.14 Q150.209 1368.53 156.019 1368.53 Z\" fill=\"#000000\" fill-rule=\"nonzero\" fill-opacity=\"1\" /><path clip-path=\"url(#clip150)\" d=\"M116.668 991.055 L124.306 991.055 L124.306 964.689 L115.996 966.356 L115.996 962.096 L124.26 960.43 L128.936 960.43 L128.936 991.055 L136.575 991.055 L136.575 994.99 L116.668 994.99 L116.668 991.055 Z\" fill=\"#000000\" fill-rule=\"nonzero\" fill-opacity=\"1\" /><path clip-path=\"url(#clip150)\" d=\"M156.019 963.508 Q152.408 963.508 150.579 967.073 Q148.774 970.615 148.774 977.745 Q148.774 984.851 150.579 988.416 Q152.408 991.957 156.019 991.957 Q159.653 991.957 161.459 988.416 Q163.288 984.851 163.288 977.745 Q163.288 970.615 161.459 967.073 Q159.653 963.508 156.019 963.508 M156.019 959.805 Q161.829 959.805 164.885 964.411 Q167.964 968.995 167.964 977.745 Q167.964 986.471 164.885 991.078 Q161.829 995.661 156.019 995.661 Q150.209 995.661 147.13 991.078 Q144.075 986.471 144.075 977.745 Q144.075 968.995 147.13 964.411 Q150.209 959.805 156.019 959.805 Z\" fill=\"#000000\" fill-rule=\"nonzero\" fill-opacity=\"1\" /><path clip-path=\"url(#clip150)\" d=\"M119.885 582.328 L136.204 582.328 L136.204 586.263 L114.26 586.263 L114.26 582.328 Q116.922 579.573 121.505 574.944 Q126.112 570.291 127.292 568.948 Q129.538 566.425 130.417 564.689 Q131.32 562.93 131.32 561.24 Q131.32 558.485 129.376 556.749 Q127.455 555.013 124.353 555.013 Q122.154 555.013 119.7 555.777 Q117.269 556.541 114.492 558.092 L114.492 553.37 Q117.316 552.235 119.769 551.657 Q122.223 551.078 124.26 551.078 Q129.63 551.078 132.825 553.763 Q136.019 556.448 136.019 560.939 Q136.019 563.069 135.209 564.99 Q134.422 566.888 132.316 569.481 Q131.737 570.152 128.635 573.37 Q125.533 576.564 119.885 582.328 Z\" fill=\"#000000\" fill-rule=\"nonzero\" fill-opacity=\"1\" /><path clip-path=\"url(#clip150)\" d=\"M156.019 554.782 Q152.408 554.782 150.579 558.347 Q148.774 561.888 148.774 569.018 Q148.774 576.124 150.579 579.689 Q152.408 583.231 156.019 583.231 Q159.653 583.231 161.459 579.689 Q163.288 576.124 163.288 569.018 Q163.288 561.888 161.459 558.347 Q159.653 554.782 156.019 554.782 M156.019 551.078 Q161.829 551.078 164.885 555.685 Q167.964 560.268 167.964 569.018 Q167.964 577.745 164.885 582.351 Q161.829 586.934 156.019 586.934 Q150.209 586.934 147.13 582.351 Q144.075 577.745 144.075 569.018 Q144.075 560.268 147.13 555.685 Q150.209 551.078 156.019 551.078 Z\" fill=\"#000000\" fill-rule=\"nonzero\" fill-opacity=\"1\" /><path clip-path=\"url(#clip150)\" d=\"M130.024 158.902 Q133.38 159.62 135.255 161.888 Q137.154 164.157 137.154 167.49 Q137.154 172.606 133.635 175.407 Q130.117 178.208 123.635 178.208 Q121.459 178.208 119.144 177.768 Q116.853 177.351 114.399 176.495 L114.399 171.981 Q116.343 173.115 118.658 173.694 Q120.973 174.272 123.496 174.272 Q127.894 174.272 130.186 172.536 Q132.501 170.8 132.501 167.49 Q132.501 164.435 130.348 162.722 Q128.218 160.985 124.399 160.985 L120.371 160.985 L120.371 157.143 L124.584 157.143 Q128.033 157.143 129.862 155.777 Q131.691 154.388 131.691 151.796 Q131.691 149.134 129.792 147.722 Q127.917 146.286 124.399 146.286 Q122.478 146.286 120.279 146.703 Q118.08 147.12 115.441 147.999 L115.441 143.833 Q118.103 143.092 120.418 142.722 Q122.755 142.351 124.816 142.351 Q130.14 142.351 133.242 144.782 Q136.343 147.189 136.343 151.31 Q136.343 154.18 134.7 156.171 Q133.056 158.138 130.024 158.902 Z\" fill=\"#000000\" fill-rule=\"nonzero\" fill-opacity=\"1\" /><path clip-path=\"url(#clip150)\" d=\"M156.019 146.055 Q152.408 146.055 150.579 149.62 Q148.774 153.161 148.774 160.291 Q148.774 167.397 150.579 170.962 Q152.408 174.504 156.019 174.504 Q159.653 174.504 161.459 170.962 Q163.288 167.397 163.288 160.291 Q163.288 153.161 161.459 149.62 Q159.653 146.055 156.019 146.055 M156.019 142.351 Q161.829 142.351 164.885 146.958 Q167.964 151.541 167.964 160.291 Q167.964 169.018 164.885 173.624 Q161.829 178.208 156.019 178.208 Q150.209 178.208 147.13 173.624 Q144.075 169.018 144.075 160.291 Q144.075 151.541 147.13 146.958 Q150.209 142.351 156.019 142.351 Z\" fill=\"#000000\" fill-rule=\"nonzero\" fill-opacity=\"1\" /><path clip-path=\"url(#clip150)\" d=\"M46.0847 824.474 Q46.0847 831.572 47.7079 834.309 Q49.3312 837.047 53.2461 837.047 Q56.3653 837.047 58.2114 835.01 Q60.0256 832.941 60.0256 829.408 Q60.0256 824.538 56.5881 821.61 Q53.1188 818.65 47.3897 818.65 L46.0847 818.65 L46.0847 824.474 M43.6657 812.793 L64.0042 812.793 L64.0042 818.65 L58.5933 818.65 Q61.8398 820.655 63.3994 823.647 Q64.9272 826.639 64.9272 830.967 Q64.9272 836.442 61.8716 839.688 Q58.7843 842.903 53.6281 842.903 Q47.6125 842.903 44.5569 838.893 Q41.5014 834.851 41.5014 826.862 L41.5014 818.65 L40.9285 818.65 Q36.8862 818.65 34.6901 821.323 Q32.4621 823.965 32.4621 828.771 Q32.4621 831.827 33.1941 834.723 Q33.9262 837.62 35.3903 840.293 L29.9795 840.293 Q28.7381 837.079 28.1334 834.055 Q27.4968 831.031 27.4968 828.167 Q27.4968 820.432 31.5072 816.613 Q35.5176 812.793 43.6657 812.793 Z\" fill=\"#000000\" fill-rule=\"nonzero\" fill-opacity=\"1\" /><path clip-path=\"url(#clip150)\" d=\"M16.4842 795.192 L34.149 795.192 L34.149 800.603 L16.4842 800.603 L16.4842 795.192 Z\" fill=\"#000000\" fill-rule=\"nonzero\" fill-opacity=\"1\" /><path clip-path=\"url(#clip150)\" d=\"M14.5426 768.743 Q21.8632 773.008 29.0246 775.077 Q36.186 777.145 43.5384 777.145 Q50.8908 777.145 58.1159 775.077 Q65.3091 772.976 72.5979 768.743 L72.5979 773.835 Q65.1182 778.61 57.8931 780.997 Q50.668 783.352 43.5384 783.352 Q36.4406 783.352 29.2474 780.997 Q22.0542 778.641 14.5426 773.835 L14.5426 768.743 Z\" fill=\"#000000\" fill-rule=\"nonzero\" fill-opacity=\"1\" /><path clip-path=\"url(#clip150)\" d=\"M46.0847 741.179 Q46.0847 748.277 47.7079 751.014 Q49.3312 753.751 53.2461 753.751 Q56.3653 753.751 58.2114 751.714 Q60.0256 749.646 60.0256 746.113 Q60.0256 741.243 56.5881 738.315 Q53.1188 735.355 47.3897 735.355 L46.0847 735.355 L46.0847 741.179 M43.6657 729.498 L64.0042 729.498 L64.0042 735.355 L58.5933 735.355 Q61.8398 737.36 63.3994 740.352 Q64.9272 743.344 64.9272 747.672 Q64.9272 753.147 61.8716 756.393 Q58.7843 759.608 53.6281 759.608 Q47.6125 759.608 44.5569 755.597 Q41.5014 751.555 41.5014 743.566 L41.5014 735.355 L40.9285 735.355 Q36.8862 735.355 34.6901 738.028 Q32.4621 740.67 32.4621 745.476 Q32.4621 748.532 33.1941 751.428 Q33.9262 754.324 35.3903 756.998 L29.9795 756.998 Q28.7381 753.783 28.1334 750.76 Q27.4968 747.736 27.4968 744.871 Q27.4968 737.137 31.5072 733.318 Q35.5176 729.498 43.6657 729.498 Z\" fill=\"#000000\" fill-rule=\"nonzero\" fill-opacity=\"1\" /><path clip-path=\"url(#clip150)\" d=\"M14.5426 718.358 L14.5426 713.266 Q22.0542 708.491 29.2474 706.136 Q36.4406 703.749 43.5384 703.749 Q50.668 703.749 57.8931 706.136 Q65.1182 708.491 72.5979 713.266 L72.5979 718.358 Q65.3091 714.125 58.1159 712.056 Q50.8908 709.955 43.5384 709.955 Q36.186 709.955 29.0246 712.056 Q21.8632 714.125 14.5426 718.358 Z\" fill=\"#000000\" fill-rule=\"nonzero\" fill-opacity=\"1\" /><path clip-path=\"url(#clip150)\" d=\"M764.766 18.8205 L764.766 41.5461 L775.055 41.5461 Q780.767 41.5461 783.886 38.5889 Q787.005 35.6318 787.005 30.163 Q787.005 24.7348 783.886 21.7777 Q780.767 18.8205 775.055 18.8205 L764.766 18.8205 M756.583 12.096 L775.055 12.096 Q785.223 12.096 790.408 16.714 Q795.634 21.2916 795.634 30.163 Q795.634 39.1155 790.408 43.6931 Q785.223 48.2706 775.055 48.2706 L764.766 48.2706 L764.766 72.576 L756.583 72.576 L756.583 12.096 Z\" fill=\"#000000\" fill-rule=\"nonzero\" fill-opacity=\"1\" /><path clip-path=\"url(#clip150)\" d=\"M820.911 32.4315 Q814.916 32.4315 811.432 37.1306 Q807.948 41.7891 807.948 49.9314 Q807.948 58.0738 811.392 62.7728 Q814.876 67.4314 820.911 67.4314 Q826.866 67.4314 830.35 62.7323 Q833.834 58.0333 833.834 49.9314 Q833.834 41.8701 830.35 37.1711 Q826.866 32.4315 820.911 32.4315 M820.911 26.1121 Q830.634 26.1121 836.183 32.4315 Q841.733 38.7509 841.733 49.9314 Q841.733 61.0714 836.183 67.4314 Q830.634 73.7508 820.911 73.7508 Q811.149 73.7508 805.599 67.4314 Q800.09 61.0714 800.09 49.9314 Q800.09 38.7509 805.599 32.4315 Q811.149 26.1121 820.911 26.1121 Z\" fill=\"#000000\" fill-rule=\"nonzero\" fill-opacity=\"1\" /><path clip-path=\"url(#clip150)\" d=\"M854.088 9.54393 L861.542 9.54393 L861.542 72.576 L854.088 72.576 L854.088 9.54393 Z\" fill=\"#000000\" fill-rule=\"nonzero\" fill-opacity=\"1\" /><path clip-path=\"url(#clip150)\" d=\"M877.138 27.2059 L884.592 27.2059 L884.592 72.576 L877.138 72.576 L877.138 27.2059 M877.138 9.54393 L884.592 9.54393 L884.592 18.9825 L877.138 18.9825 L877.138 9.54393 Z\" fill=\"#000000\" fill-rule=\"nonzero\" fill-opacity=\"1\" /><path clip-path=\"url(#clip150)\" d=\"M932.838 28.9478 L932.838 35.9153 Q929.678 34.1734 926.478 33.3227 Q923.318 32.4315 920.078 32.4315 Q912.826 32.4315 908.816 37.0496 Q904.806 41.6271 904.806 49.9314 Q904.806 58.2358 908.816 62.8538 Q912.826 67.4314 920.078 67.4314 Q923.318 67.4314 926.478 66.5807 Q929.678 65.6895 932.838 63.9476 L932.838 70.8341 Q929.719 72.2924 926.356 73.0216 Q923.035 73.7508 919.267 73.7508 Q909.019 73.7508 902.983 67.3098 Q896.947 60.8689 896.947 49.9314 Q896.947 38.832 903.023 32.472 Q909.14 26.1121 919.753 26.1121 Q923.197 26.1121 926.478 26.8413 Q929.759 27.5299 932.838 28.9478 Z\" fill=\"#000000\" fill-rule=\"nonzero\" fill-opacity=\"1\" /><path clip-path=\"url(#clip150)\" d=\"M964.678 76.7889 Q961.518 84.8907 958.521 87.3618 Q955.523 89.8329 950.5 89.8329 L944.545 89.8329 L944.545 83.5945 L948.92 83.5945 Q951.999 83.5945 953.7 82.1361 Q955.401 80.6778 957.467 75.2496 L958.804 71.8468 L940.454 27.2059 L948.353 27.2059 L962.531 62.6918 L976.709 27.2059 L984.608 27.2059 L964.678 76.7889 Z\" fill=\"#000000\" fill-rule=\"nonzero\" fill-opacity=\"1\" /><path clip-path=\"url(#clip150)\" d=\"M1044.24 9.54393 L1044.24 15.7418 L1037.11 15.7418 Q1033.1 15.7418 1031.52 17.3622 Q1029.98 18.9825 1029.98 23.1955 L1029.98 27.2059 L1042.25 27.2059 L1042.25 32.9987 L1029.98 32.9987 L1029.98 72.576 L1022.48 72.576 L1022.48 32.9987 L1015.35 32.9987 L1015.35 27.2059 L1022.48 27.2059 L1022.48 24.0462 Q1022.48 16.471 1026.01 13.0277 Q1029.53 9.54393 1037.19 9.54393 L1044.24 9.54393 Z\" fill=\"#000000\" fill-rule=\"nonzero\" fill-opacity=\"1\" /><path clip-path=\"url(#clip150)\" d=\"M1049.71 54.671 L1049.71 27.2059 L1057.16 27.2059 L1057.16 54.3874 Q1057.16 60.8284 1059.67 64.0691 Q1062.18 67.2693 1067.21 67.2693 Q1073.24 67.2693 1076.73 63.421 Q1080.25 59.5726 1080.25 52.9291 L1080.25 27.2059 L1087.7 27.2059 L1087.7 72.576 L1080.25 72.576 L1080.25 65.6084 Q1077.54 69.7404 1073.93 71.7658 Q1070.37 73.7508 1065.63 73.7508 Q1057.81 73.7508 1053.76 68.8897 Q1049.71 64.0286 1049.71 54.671 M1068.46 26.1121 L1068.46 26.1121 Z\" fill=\"#000000\" fill-rule=\"nonzero\" fill-opacity=\"1\" /><path clip-path=\"url(#clip150)\" d=\"M1140.77 45.1919 L1140.77 72.576 L1133.32 72.576 L1133.32 45.4349 Q1133.32 38.994 1130.81 35.7938 Q1128.29 32.5936 1123.27 32.5936 Q1117.24 32.5936 1113.75 36.4419 Q1110.27 40.2903 1110.27 46.9338 L1110.27 72.576 L1102.77 72.576 L1102.77 27.2059 L1110.27 27.2059 L1110.27 34.2544 Q1112.94 30.163 1116.55 28.1376 Q1120.19 26.1121 1124.93 26.1121 Q1132.75 26.1121 1136.76 30.9732 Q1140.77 35.7938 1140.77 45.1919 Z\" fill=\"#000000\" fill-rule=\"nonzero\" fill-opacity=\"1\" /><path clip-path=\"url(#clip150)\" d=\"M1188.29 28.9478 L1188.29 35.9153 Q1185.13 34.1734 1181.93 33.3227 Q1178.77 32.4315 1175.53 32.4315 Q1168.28 32.4315 1164.27 37.0496 Q1160.26 41.6271 1160.26 49.9314 Q1160.26 58.2358 1164.27 62.8538 Q1168.28 67.4314 1175.53 67.4314 Q1178.77 67.4314 1181.93 66.5807 Q1185.13 65.6895 1188.29 63.9476 L1188.29 70.8341 Q1185.17 72.2924 1181.81 73.0216 Q1178.48 73.7508 1174.72 73.7508 Q1164.47 73.7508 1158.43 67.3098 Q1152.4 60.8689 1152.4 49.9314 Q1152.4 38.832 1158.47 32.472 Q1164.59 26.1121 1175.2 26.1121 Q1178.65 26.1121 1181.93 26.8413 Q1185.21 27.5299 1188.29 28.9478 Z\" fill=\"#000000\" fill-rule=\"nonzero\" fill-opacity=\"1\" /><path clip-path=\"url(#clip150)\" d=\"M1208.62 14.324 L1208.62 27.2059 L1223.98 27.2059 L1223.98 32.9987 L1208.62 32.9987 L1208.62 57.6282 Q1208.62 63.1779 1210.12 64.7578 Q1211.66 66.3376 1216.32 66.3376 L1223.98 66.3376 L1223.98 72.576 L1216.32 72.576 Q1207.69 72.576 1204.41 69.3758 Q1201.13 66.1351 1201.13 57.6282 L1201.13 32.9987 L1195.66 32.9987 L1195.66 27.2059 L1201.13 27.2059 L1201.13 14.324 L1208.62 14.324 Z\" fill=\"#000000\" fill-rule=\"nonzero\" fill-opacity=\"1\" /><path clip-path=\"url(#clip150)\" d=\"M1233.78 27.2059 L1241.23 27.2059 L1241.23 72.576 L1233.78 72.576 L1233.78 27.2059 M1233.78 9.54393 L1241.23 9.54393 L1241.23 18.9825 L1233.78 18.9825 L1233.78 9.54393 Z\" fill=\"#000000\" fill-rule=\"nonzero\" fill-opacity=\"1\" /><path clip-path=\"url(#clip150)\" d=\"M1274.41 32.4315 Q1268.41 32.4315 1264.93 37.1306 Q1261.45 41.7891 1261.45 49.9314 Q1261.45 58.0738 1264.89 62.7728 Q1268.37 67.4314 1274.41 67.4314 Q1280.36 67.4314 1283.85 62.7323 Q1287.33 58.0333 1287.33 49.9314 Q1287.33 41.8701 1283.85 37.1711 Q1280.36 32.4315 1274.41 32.4315 M1274.41 26.1121 Q1284.13 26.1121 1289.68 32.4315 Q1295.23 38.7509 1295.23 49.9314 Q1295.23 61.0714 1289.68 67.4314 Q1284.13 73.7508 1274.41 73.7508 Q1264.65 73.7508 1259.1 67.4314 Q1253.59 61.0714 1253.59 49.9314 Q1253.59 38.7509 1259.1 32.4315 Q1264.65 26.1121 1274.41 26.1121 Z\" fill=\"#000000\" fill-rule=\"nonzero\" fill-opacity=\"1\" /><path clip-path=\"url(#clip150)\" d=\"M1345.3 45.1919 L1345.3 72.576 L1337.85 72.576 L1337.85 45.4349 Q1337.85 38.994 1335.34 35.7938 Q1332.82 32.5936 1327.8 32.5936 Q1321.77 32.5936 1318.28 36.4419 Q1314.8 40.2903 1314.8 46.9338 L1314.8 72.576 L1307.3 72.576 L1307.3 27.2059 L1314.8 27.2059 L1314.8 34.2544 Q1317.47 30.163 1321.08 28.1376 Q1324.72 26.1121 1329.46 26.1121 Q1337.28 26.1121 1341.29 30.9732 Q1345.3 35.7938 1345.3 45.1919 Z\" fill=\"#000000\" fill-rule=\"nonzero\" fill-opacity=\"1\" /><path clip-path=\"url(#clip150)\" d=\"M1409.51 9.54393 L1409.51 15.7418 L1402.38 15.7418 Q1398.37 15.7418 1396.79 17.3622 Q1395.25 18.9825 1395.25 23.1955 L1395.25 27.2059 L1407.52 27.2059 L1407.52 32.9987 L1395.25 32.9987 L1395.25 72.576 L1387.75 72.576 L1387.75 32.9987 L1380.62 32.9987 L1380.62 27.2059 L1387.75 27.2059 L1387.75 24.0462 Q1387.75 16.471 1391.28 13.0277 Q1394.8 9.54393 1402.46 9.54393 L1409.51 9.54393 Z\" fill=\"#000000\" fill-rule=\"nonzero\" fill-opacity=\"1\" /><path clip-path=\"url(#clip150)\" d=\"M1433.33 32.4315 Q1427.33 32.4315 1423.85 37.1306 Q1420.36 41.7891 1420.36 49.9314 Q1420.36 58.0738 1423.81 62.7728 Q1427.29 67.4314 1433.33 67.4314 Q1439.28 67.4314 1442.77 62.7323 Q1446.25 58.0333 1446.25 49.9314 Q1446.25 41.8701 1442.77 37.1711 Q1439.28 32.4315 1433.33 32.4315 M1433.33 26.1121 Q1443.05 26.1121 1448.6 32.4315 Q1454.15 38.7509 1454.15 49.9314 Q1454.15 61.0714 1448.6 67.4314 Q1443.05 73.7508 1433.33 73.7508 Q1423.56 73.7508 1418.01 67.4314 Q1412.51 61.0714 1412.51 49.9314 Q1412.51 38.7509 1418.01 32.4315 Q1423.56 26.1121 1433.33 26.1121 Z\" fill=\"#000000\" fill-rule=\"nonzero\" fill-opacity=\"1\" /><path clip-path=\"url(#clip150)\" d=\"M1492.79 34.1734 Q1491.54 33.4443 1490.04 33.1202 Q1488.58 32.7556 1486.8 32.7556 Q1480.48 32.7556 1477.08 36.8875 Q1473.71 40.9789 1473.71 48.6757 L1473.71 72.576 L1466.22 72.576 L1466.22 27.2059 L1473.71 27.2059 L1473.71 34.2544 Q1476.06 30.1225 1479.83 28.1376 Q1483.6 26.1121 1488.99 26.1121 Q1489.76 26.1121 1490.69 26.2337 Q1491.62 26.3147 1492.75 26.5172 L1492.79 34.1734 Z\" fill=\"#000000\" fill-rule=\"nonzero\" fill-opacity=\"1\" /><path clip-path=\"url(#clip150)\" d=\"M1547.6 49.7694 Q1538.57 49.7694 1535.09 51.8354 Q1531.6 53.9013 1531.6 58.8839 Q1531.6 62.8538 1534.19 65.2034 Q1536.83 67.5124 1541.32 67.5124 Q1547.52 67.5124 1551.25 63.1374 Q1555.02 58.7219 1555.02 51.4303 L1555.02 49.7694 L1547.6 49.7694 M1562.47 46.6907 L1562.47 72.576 L1555.02 72.576 L1555.02 65.6895 Q1552.46 69.8214 1548.66 71.8063 Q1544.85 73.7508 1539.34 73.7508 Q1532.37 73.7508 1528.24 69.8619 Q1524.15 65.9325 1524.15 59.3701 Q1524.15 51.7138 1529.25 47.825 Q1534.4 43.9361 1544.56 43.9361 L1555.02 43.9361 L1555.02 43.2069 Q1555.02 38.0623 1551.61 35.2672 Q1548.25 32.4315 1542.13 32.4315 Q1538.25 32.4315 1534.56 33.3632 Q1530.87 34.295 1527.47 36.1584 L1527.47 29.2718 Q1531.56 27.692 1535.41 26.9223 Q1539.26 26.1121 1542.9 26.1121 Q1552.75 26.1121 1557.61 31.2163 Q1562.47 36.3204 1562.47 46.6907 Z\" fill=\"#000000\" fill-rule=\"nonzero\" fill-opacity=\"1\" /><path clip-path=\"url(#clip150)\" d=\"M1607.68 49.3643 Q1607.68 41.2625 1604.32 36.8065 Q1600.99 32.3505 1594.96 32.3505 Q1588.96 32.3505 1585.6 36.8065 Q1582.28 41.2625 1582.28 49.3643 Q1582.28 57.4256 1585.6 61.8816 Q1588.96 66.3376 1594.96 66.3376 Q1600.99 66.3376 1604.32 61.8816 Q1607.68 57.4256 1607.68 49.3643 M1615.13 66.9452 Q1615.13 78.5308 1609.99 84.1616 Q1604.84 89.8329 1594.23 89.8329 Q1590.3 89.8329 1586.82 89.2252 Q1583.33 88.6581 1580.05 87.4428 L1580.05 80.1917 Q1583.33 81.9741 1586.53 82.8248 Q1589.73 83.6755 1593.05 83.6755 Q1600.39 83.6755 1604.03 79.8271 Q1607.68 76.0193 1607.68 68.282 L1607.68 64.5957 Q1605.37 68.6061 1601.76 70.5911 Q1598.16 72.576 1593.14 72.576 Q1584.79 72.576 1579.69 66.2161 Q1574.58 59.8562 1574.58 49.3643 Q1574.58 38.832 1579.69 32.472 Q1584.79 26.1121 1593.14 26.1121 Q1598.16 26.1121 1601.76 28.0971 Q1605.37 30.082 1607.68 34.0924 L1607.68 27.2059 L1615.13 27.2059 L1615.13 66.9452 Z\" fill=\"#000000\" fill-rule=\"nonzero\" fill-opacity=\"1\" /><path clip-path=\"url(#clip150)\" d=\"M1669.29 48.0275 L1669.29 51.6733 L1635.02 51.6733 Q1635.51 59.3701 1639.64 63.421 Q1643.81 67.4314 1651.23 67.4314 Q1655.52 67.4314 1659.53 66.3781 Q1663.58 65.3249 1667.55 63.2184 L1667.55 70.267 Q1663.54 71.9684 1659.33 72.8596 Q1655.11 73.7508 1650.78 73.7508 Q1639.92 73.7508 1633.56 67.4314 Q1627.24 61.1119 1627.24 50.3365 Q1627.24 39.1965 1633.24 32.6746 Q1639.28 26.1121 1649.48 26.1121 Q1658.64 26.1121 1663.95 32.0264 Q1669.29 37.9003 1669.29 48.0275 M1661.84 45.84 Q1661.76 39.7232 1658.4 36.0774 Q1655.07 32.4315 1649.56 32.4315 Q1643.33 32.4315 1639.56 35.9558 Q1635.83 39.4801 1635.26 45.8805 L1661.84 45.84 Z\" fill=\"#000000\" fill-rule=\"nonzero\" fill-opacity=\"1\" /><path clip-path=\"url(#clip150)\" d=\"M1716 65.6895 L1744.56 65.6895 L1744.56 72.576 L1706.16 72.576 L1706.16 65.6895 Q1710.81 60.8689 1718.83 52.7671 Q1726.9 44.6248 1728.96 42.2752 Q1732.89 37.8598 1734.43 34.8216 Q1736.01 31.7429 1736.01 28.7857 Q1736.01 23.9651 1732.61 20.927 Q1729.25 17.8888 1723.82 17.8888 Q1719.97 17.8888 1715.68 19.2256 Q1711.42 20.5624 1706.56 23.2765 L1706.56 15.0127 Q1711.5 13.0277 1715.8 12.015 Q1720.09 11.0023 1723.66 11.0023 Q1733.05 11.0023 1738.64 15.7013 Q1744.23 20.4004 1744.23 28.2591 Q1744.23 31.9859 1742.82 35.3482 Q1741.44 38.6699 1737.75 43.2069 Q1736.74 44.3817 1731.31 50.0125 Q1725.88 55.6027 1716 65.6895 Z\" fill=\"#000000\" fill-rule=\"nonzero\" fill-opacity=\"1\" /><path clip-path=\"url(#clip150)\" d=\"M1779.23 17.4837 Q1772.91 17.4837 1769.71 23.7221 Q1766.55 29.92 1766.55 42.3968 Q1766.55 54.833 1769.71 61.0714 Q1772.91 67.2693 1779.23 67.2693 Q1785.59 67.2693 1788.75 61.0714 Q1791.95 54.833 1791.95 42.3968 Q1791.95 29.92 1788.75 23.7221 Q1785.59 17.4837 1779.23 17.4837 M1779.23 11.0023 Q1789.4 11.0023 1794.75 19.0636 Q1800.14 27.0843 1800.14 42.3968 Q1800.14 57.6687 1794.75 65.73 Q1789.4 73.7508 1779.23 73.7508 Q1769.07 73.7508 1763.68 65.73 Q1758.33 57.6687 1758.33 42.3968 Q1758.33 27.0843 1763.68 19.0636 Q1769.07 11.0023 1779.23 11.0023 Z\" fill=\"#000000\" fill-rule=\"nonzero\" fill-opacity=\"1\" /><polyline clip-path=\"url(#clip152)\" style=\"stroke:#009af9; stroke-linecap:round; stroke-linejoin:round; stroke-width:4; stroke-opacity:1; fill:none\" points=\"264.778,1329.94 266.808,1328.71 268.837,1327.48 270.866,1326.25 272.895,1325.03 274.924,1323.8 276.954,1323.8 278.983,1322.57 281.012,1321.35 283.041,1320.12 285.07,1318.89 287.1,1317.66 289.129,1316.44 291.158,1315.21 293.187,1313.98 295.216,1312.75 297.246,1311.53 299.275,1310.3 301.304,1309.07 303.333,1307.84 305.362,1306.62 307.391,1305.39 309.421,1304.16 311.45,1302.93 313.479,1301.71 315.508,1300.48 317.537,1300.48 319.567,1299.25 321.596,1298.03 323.625,1296.8 325.654,1295.57 327.683,1294.34 329.713,1293.12 331.742,1291.89 333.771,1290.66 335.8,1289.43 337.829,1288.21 339.859,1286.98 341.888,1285.75 343.917,1284.52 345.946,1283.3 347.975,1282.07 350.005,1280.84 352.034,1279.61 354.063,1278.39 356.092,1277.16 358.121,1275.93 360.15,1275.93 362.18,1274.71 364.209,1273.48 366.238,1272.25 368.267,1271.02 370.296,1269.8 372.326,1268.57 374.355,1267.34 376.384,1266.11 378.413,1264.89 380.442,1263.66 382.472,1262.43 384.501,1261.2 386.53,1259.98 388.559,1258.75 390.588,1257.52 392.618,1256.29 394.647,1255.07 396.676,1253.84 398.705,1252.61 400.734,1251.39 402.763,1251.39 404.793,1250.16 406.822,1248.93 408.851,1247.7 410.88,1246.48 412.909,1245.25 414.939,1244.02 416.968,1242.79 418.997,1241.57 421.026,1240.34 423.055,1239.11 425.085,1237.88 427.114,1236.66 429.143,1235.43 431.172,1234.2 433.201,1232.97 435.231,1231.75 437.26,1230.52 439.289,1229.29 441.318,1228.07 443.347,1228.07 445.377,1226.84 447.406,1225.61 449.435,1224.38 451.464,1223.16 453.493,1221.93 455.522,1220.7 457.552,1219.47 459.581,1218.25 461.61,1217.02 463.639,1215.79 465.668,1214.56 467.698,1213.34 469.727,1212.11 471.756,1210.88 473.785,1209.65 475.814,1208.43 477.844,1207.2 479.873,1205.97 481.902,1204.75 483.931,1203.52 485.96,1203.52 487.99,1202.29 490.019,1201.06 492.048,1199.84 494.077,1198.61 496.106,1197.38 498.136,1196.15 500.165,1194.93 502.194,1193.7 504.223,1192.47 506.252,1191.24 508.281,1190.02 510.311,1188.79 512.34,1187.56 514.369,1186.33 516.398,1185.11 518.427,1183.88 520.457,1182.65 522.486,1181.43 524.515,1180.2 526.544,1178.97 528.573,1178.97 530.603,1177.74 532.632,1176.52 534.661,1175.29 536.69,1174.06 538.719,1172.83 540.749,1171.61 542.778,1170.38 544.807,1169.15 546.836,1167.92 548.865,1166.7 550.894,1165.47 552.924,1164.24 554.953,1163.01 556.982,1161.79 559.011,1160.56 561.04,1159.33 563.07,1158.11 565.099,1156.88 567.128,1155.65 569.157,1155.65 571.186,1154.42 573.216,1153.2 575.245,1151.97 577.274,1150.74 579.303,1149.51 581.332,1148.29 583.362,1147.06 585.391,1145.83 587.42,1144.6 589.449,1143.38 591.478,1142.15 593.508,1140.92 595.537,1139.69 597.566,1138.47 599.595,1137.24 601.624,1136.01 603.653,1134.79 605.683,1133.56 607.712,1132.33 609.741,1131.1 611.77,1131.1 613.799,1129.88 615.829,1128.65 617.858,1127.42 619.887,1126.19 621.916,1124.97 623.945,1123.74 625.975,1122.51 628.004,1121.28 630.033,1120.06 632.062,1118.83 634.091,1117.6 636.121,1116.37 638.15,1115.15 640.179,1113.92 642.208,1112.69 644.237,1111.47 646.267,1110.24 648.296,1109.01 650.325,1109.01 652.354,1107.78 654.383,1106.56 656.412,1105.33 658.442,1104.1 660.471,1102.87 662.5,1101.65 664.529,1100.42 666.558,1099.19 668.588,1097.96 670.617,1096.74 672.646,1095.51 674.675,1094.28 676.704,1093.06 678.734,1091.83 680.763,1090.6 682.792,1089.37 684.821,1088.15 686.85,1086.92 688.88,1085.69 690.909,1085.69 692.938,1084.46 694.967,1083.24 696.996,1082.01 699.025,1080.78 701.055,1079.55 703.084,1078.33 705.113,1077.1 707.142,1075.87 709.171,1074.64 711.201,1073.42 713.23,1072.19 715.259,1070.96 717.288,1069.74 719.317,1068.51 721.347,1067.28 723.376,1066.05 725.405,1064.83 727.434,1063.6 729.463,1062.37 731.493,1061.14 733.522,1061.14 735.551,1059.92 737.58,1058.69 739.609,1057.46 741.639,1056.23 743.668,1055.01 745.697,1053.78 747.726,1052.55 749.755,1051.32 751.784,1050.1 753.814,1048.87 755.843,1047.64 757.872,1046.42 759.901,1045.19 761.93,1043.96 763.96,1042.73 765.989,1041.51 768.018,1040.28 770.047,1039.05 772.076,1037.82 774.106,1036.6 776.135,1035.37 778.164,1034.14 780.193,1034.14 782.222,1032.91 784.252,1031.69 786.281,1030.46 788.31,1029.23 790.339,1028 792.368,1026.78 794.398,1025.55 796.427,1024.32 798.456,1023.1 800.485,1021.87 802.514,1020.64 804.543,1019.41 806.573,1018.19 808.602,1016.96 810.631,1015.73 812.66,1014.5 814.689,1013.28 816.719,1012.05 818.748,1010.82 820.777,1009.59 822.806,1008.37 824.835,1007.14 826.865,1007.14 828.894,1005.91 830.923,1004.68 832.952,1003.46 834.981,1002.23 837.011,1001 839.04,999.775 841.069,998.548 843.098,997.32 845.127,996.093 847.156,994.866 849.186,993.638 851.215,992.411 853.244,991.184 855.273,989.956 857.302,988.729 859.332,987.501 861.361,986.274 863.39,985.047 865.419,983.819 867.448,982.592 869.478,981.365 871.507,980.137 873.536,978.91 875.565,977.683 877.594,977.683 879.624,976.455 881.653,975.228 883.682,974 885.711,972.773 887.74,971.546 889.77,970.318 891.799,969.091 893.828,967.864 895.857,966.636 897.886,965.409 899.915,964.182 901.945,962.954 903.974,961.727 906.003,960.499 908.032,959.272 910.061,958.045 912.091,956.817 914.12,955.59 916.149,954.363 918.178,953.135 920.207,951.908 922.237,950.68 924.266,949.453 926.295,948.226 928.324,946.998 930.353,945.771 932.383,945.771 934.412,944.544 936.441,943.316 938.47,942.089 940.499,940.862 942.529,939.634 944.558,938.407 946.587,937.179 948.616,935.952 950.645,934.725 952.674,933.497 954.704,932.27 956.733,931.043 958.762,929.815 960.791,928.588 962.82,927.361 964.85,926.133 966.879,924.906 968.908,923.678 970.937,922.451 972.966,921.224 974.996,919.996 977.025,918.769 979.054,917.542 981.083,916.314 983.112,915.087 985.142,913.859 987.171,912.632 989.2,912.632 991.229,911.405 993.258,910.177 995.287,908.95 997.317,907.723 999.346,906.495 1001.38,905.268 1003.4,904.041 1005.43,902.813 1007.46,901.586 1009.49,900.358 1011.52,899.131 1013.55,897.904 1015.58,896.676 1017.61,895.449 1019.64,894.222 1021.67,892.994 1023.7,891.767 1025.73,890.54 1027.75,889.312 1029.78,888.085 1031.81,886.857 1033.84,885.63 1035.87,884.403 1037.9,883.175 1039.93,881.948 1041.96,880.721 1043.99,879.493 1046.02,878.266 1048.05,878.266 1050.08,877.038 1052.1,875.811 1054.13,874.584 1056.16,873.356 1058.19,872.129 1060.22,870.902 1062.25,869.674 1064.28,868.447 1066.31,867.22 1068.34,865.992 1070.37,864.765 1072.4,863.537 1074.43,862.31 1076.46,861.083 1078.48,859.855 1080.51,858.628 1082.54,857.401 1084.57,856.173 1086.6,854.946 1088.63,853.719 1090.66,852.491 1092.69,851.264 1094.72,850.036 1096.75,848.809 1098.78,847.582 1100.81,846.354 1102.83,845.127 1104.86,843.9 1106.89,842.672 1108.92,842.672 1110.95,841.445 1112.98,840.217 1115.01,838.99 1117.04,837.763 1119.07,836.535 1121.1,835.308 1123.13,834.081 1125.16,832.853 1127.18,831.626 1129.21,830.399 1131.24,829.171 1133.27,827.944 1135.3,826.716 1137.33,825.489 1139.36,824.262 1141.39,823.034 1143.42,821.807 1145.45,820.58 1147.48,819.352 1149.51,818.125 1151.54,816.898 1153.56,815.67 1155.59,814.443 1157.62,813.215 1159.65,811.988 1161.68,810.761 1163.71,809.533 1165.74,808.306 1167.77,807.079 1169.8,805.851 1171.83,804.624 1173.86,803.396 1175.89,803.396 1177.91,802.169 1179.94,800.942 1181.97,799.714 1184,798.487 1186.03,797.26 1188.06,796.032 1190.09,794.805 1192.12,793.578 1194.15,792.35 1196.18,791.123 1198.21,789.895 1200.24,788.668 1202.27,787.441 1204.29,786.213 1206.32,784.986 1208.35,783.759 1210.38,782.531 1212.41,781.304 1214.44,780.077 1216.47,778.849 1218.5,777.622 1220.53,776.394 1222.56,775.167 1224.59,773.94 1226.62,772.712 1228.64,771.485 1230.67,770.258 1232.7,769.03 1234.73,767.803 1236.76,766.575 1238.79,765.348 1240.82,764.121 1242.85,762.893 1244.88,761.666 1246.91,761.666 1248.94,760.439 1250.97,759.211 1252.99,757.984 1255.02,756.757 1257.05,755.529 1259.08,754.302 1261.11,753.074 1263.14,751.847 1265.17,750.62 1267.2,749.392 1269.23,748.165 1271.26,746.938 1273.29,745.71 1275.32,744.483 1277.35,743.255 1279.37,742.028 1281.4,740.801 1283.43,739.573 1285.46,738.346 1287.49,737.119 1289.52,735.891 1291.55,734.664 1293.58,733.437 1295.61,732.209 1297.64,730.982 1299.67,729.754 1301.7,728.527 1303.72,727.3 1305.75,726.072 1307.78,724.845 1309.81,723.618 1311.84,722.39 1313.87,721.163 1315.9,719.936 1317.93,718.708 1319.96,717.481 1321.99,716.253 1324.02,716.253 1326.05,715.026 1328.07,713.799 1330.1,712.571 1332.13,711.344 1334.16,710.117 1336.19,708.889 1338.22,707.662 1340.25,706.434 1342.28,705.207 1344.31,703.98 1346.34,702.752 1348.37,701.525 1350.4,700.298 1352.43,699.07 1354.45,697.843 1356.48,696.616 1358.51,695.388 1360.54,694.161 1362.57,692.933 1364.6,691.706 1366.63,690.479 1368.66,689.251 1370.69,688.024 1372.72,686.797 1374.75,685.569 1376.78,684.342 1378.8,683.115 1380.83,681.887 1382.86,680.66 1384.89,679.432 1386.92,678.205 1388.95,676.978 1390.98,675.75 1393.01,674.523 1395.04,673.296 1397.07,672.068 1399.1,670.841 1401.13,670.841 1403.16,669.613 1405.18,668.386 1407.21,667.159 1409.24,665.931 1411.27,664.704 1413.3,663.477 1415.33,662.249 1417.36,661.022 1419.39,659.795 1421.42,658.567 1423.45,657.34 1425.48,656.112 1427.51,654.885 1429.53,653.658 1431.56,652.43 1433.59,651.203 1435.62,649.976 1437.65,648.748 1439.68,647.521 1441.71,646.294 1443.74,645.066 1445.77,643.839 1447.8,642.611 1449.83,641.384 1451.86,640.157 1453.88,638.929 1455.91,637.702 1457.94,636.475 1459.97,635.247 1462,634.02 1464.03,632.792 1466.06,631.565 1468.09,630.338 1470.12,629.11 1472.15,627.883 1474.18,626.656 1476.21,625.428 1478.24,624.201 1480.26,622.974 1482.29,621.746 1484.32,621.746 1486.35,620.519 1488.38,619.291 1490.41,618.064 1492.44,616.837 1494.47,615.609 1496.5,614.382 1498.53,613.155 1500.56,611.927 1502.59,610.7 1504.61,609.473 1506.64,608.245 1508.67,607.018 1510.7,605.79 1512.73,604.563 1514.76,603.336 1516.79,602.108 1518.82,600.881 1520.85,599.654 1522.88,598.426 1524.91,597.199 1526.94,595.971 1528.96,594.744 1530.99,593.517 1533.02,592.289 1535.05,591.062 1537.08,589.835 1539.11,588.607 1541.14,587.38 1543.17,586.153 1545.2,584.925 1547.23,583.698 1549.26,582.47 1551.29,581.243 1553.32,580.016 1555.34,578.788 1557.37,577.561 1559.4,576.334 1561.43,575.106 1563.46,573.879 1565.49,572.652 1567.52,571.424 1569.55,571.424 1571.58,570.197 1573.61,568.969 1575.64,567.742 1577.67,566.515 1579.69,565.287 1581.72,564.06 1583.75,562.833 1585.78,561.605 1587.81,560.378 1589.84,559.15 1591.87,557.923 1593.9,556.696 1595.93,555.468 1597.96,554.241 1599.99,553.014 1602.02,551.786 1604.05,550.559 1606.07,549.332 1608.1,548.104 1610.13,546.877 1612.16,545.649 1614.19,544.422 1616.22,543.195 1618.25,541.967 1620.28,540.74 1622.31,539.513 1624.34,538.285 1626.37,537.058 1628.4,535.831 1630.42,534.603 1632.45,533.376 1634.48,532.148 1636.51,530.921 1638.54,529.694 1640.57,528.466 1642.6,527.239 1644.63,526.012 1646.66,524.784 1648.69,523.557 1650.72,522.329 1652.75,521.102 1654.77,519.875 1656.8,518.647 1658.83,517.42 1660.86,517.42 1662.89,516.193 1664.92,514.965 1666.95,513.738 1668.98,512.511 1671.01,511.283 1673.04,510.056 1675.07,508.828 1677.1,507.601 1679.13,506.374 1681.15,505.146 1683.18,503.919 1685.21,502.692 1687.24,501.464 1689.27,500.237 1691.3,499.01 1693.33,497.782 1695.36,496.555 1697.39,495.327 1699.42,494.1 1701.45,492.873 1703.48,491.645 1705.5,490.418 1707.53,489.191 1709.56,487.963 1711.59,486.736 1713.62,485.508 1715.65,484.281 1717.68,483.054 1719.71,481.826 1721.74,480.599 1723.77,479.372 1725.8,478.144 1727.83,476.917 1729.85,475.69 1731.88,474.462 1733.91,473.235 1735.94,472.007 1737.97,470.78 1740,469.553 1742.03,468.325 1744.06,467.098 1746.09,465.871 1748.12,464.643 1750.15,463.416 1752.18,462.189 1754.21,460.961 1756.23,460.961 1758.26,459.734 1760.29,458.506 1762.32,457.279 1764.35,456.052 1766.38,454.824 1768.41,453.597 1770.44,452.37 1772.47,451.142 1774.5,449.915 1776.53,448.687 1778.56,447.46 1780.58,446.233 1782.61,445.005 1784.64,443.778 1786.67,442.551 1788.7,441.323 1790.73,440.096 1792.76,438.869 1794.79,437.641 1796.82,436.414 1798.85,435.186 1800.88,433.959 1802.91,432.732 1804.94,431.504 1806.96,430.277 1808.99,429.05 1811.02,427.822 1813.05,426.595 1815.08,425.368 1817.11,424.14 1819.14,422.913 1821.17,421.685 1823.2,420.458 1825.23,419.231 1827.26,418.003 1829.29,416.776 1831.31,415.549 1833.34,414.321 1835.37,413.094 1837.4,411.866 1839.43,410.639 1841.46,409.412 1843.49,408.184 1845.52,406.957 1847.55,405.73 1849.58,404.502 1851.61,403.275 1853.64,402.048 1855.66,402.048 1857.69,400.82 1859.72,399.593 1861.75,398.365 1863.78,397.138 1865.81,395.911 1867.84,394.683 1869.87,393.456 1871.9,392.229 1873.93,391.001 1875.96,389.774 1877.99,388.547 1880.02,387.319 1882.04,386.092 1884.07,384.864 1886.1,383.637 1888.13,382.41 1890.16,381.182 1892.19,379.955 1894.22,378.728 1896.25,377.5 1898.28,376.273 1900.31,375.045 1902.34,373.818 1904.37,372.591 1906.39,371.363 1908.42,370.136 1910.45,368.909 1912.48,367.681 1914.51,366.454 1916.54,365.227 1918.57,363.999 1920.6,362.772 1922.63,361.544 1924.66,360.317 1926.69,359.09 1928.72,357.862 1930.74,356.635 1932.77,355.408 1934.8,354.18 1936.83,352.953 1938.86,351.726 1940.89,350.498 1942.92,349.271 1944.95,348.043 1946.98,346.816 1949.01,345.589 1951.04,345.589 1953.07,344.361 1955.1,343.134 1957.12,341.907 1959.15,340.679 1961.18,339.452 1963.21,338.224 1965.24,336.997 1967.27,335.77 1969.3,334.542 1971.33,333.315 1973.36,332.088 1975.39,330.86 1977.42,329.633 1979.45,328.406 1981.47,327.178 1983.5,325.951 1985.53,324.723 1987.56,323.496 1989.59,322.269 1991.62,321.041 1993.65,319.814 1995.68,318.587 1997.71,317.359 1999.74,316.132 2001.77,314.905 2003.8,313.677 2005.82,312.45 2007.85,311.222 2009.88,309.995 2011.91,308.768 2013.94,307.54 2015.97,307.54 2018,306.313 2020.03,305.086 2022.06,303.858 2024.09,302.631 2026.12,301.403 2028.15,300.176 2030.18,298.949 2032.2,297.721 2034.23,296.494 2036.26,295.267 2038.29,294.039 2040.32,292.812 2042.35,291.585 2044.38,290.357 2046.41,289.13 2048.44,287.902 2050.47,286.675 2052.5,285.448 2054.53,284.22 2056.55,282.993 2058.58,281.766 2060.61,280.538 2062.64,279.311 2064.67,278.084 2066.7,278.084 2068.73,276.856 2070.76,275.629 2072.79,274.401 2074.82,273.174 2076.85,271.947 2078.88,270.719 2080.91,269.492 2082.93,268.265 2084.96,267.037 2086.99,265.81 2089.02,264.582 2091.05,263.355 2093.08,262.128 2095.11,260.9 2097.14,259.673 2099.17,258.446 2101.2,257.218 2103.23,255.991 2105.26,254.764 2107.28,253.536 2109.31,253.536 2111.34,252.309 2113.37,251.081 2115.4,249.854 2117.43,248.627 2119.46,247.399 2121.49,246.172 2123.52,244.945 2125.55,243.717 2127.58,242.49 2129.61,241.263 2131.63,240.035 2133.66,238.808 2135.69,237.58 2137.72,236.353 2139.75,235.126 2141.78,233.898 2143.81,232.671 2145.84,232.671 2147.87,231.444 2149.9,230.216 2151.93,228.989 2153.96,227.761 2155.99,226.534 2158.01,225.307 2160.04,224.079 2162.07,222.852 2164.1,221.625 2166.13,220.397 2168.16,219.17 2170.19,217.943 2172.22,216.715 2174.25,216.715 2176.28,215.488 2178.31,214.26 2180.34,213.033 2182.36,211.806 2184.39,210.578 2186.42,209.351 2188.45,208.124 2190.48,206.896 2192.51,205.669 2194.54,204.442 2196.57,203.214 2198.6,203.214 2200.63,201.987 2202.66,200.759 2204.69,199.532 2206.71,198.305 2208.74,197.077 2210.77,195.85 2212.8,194.623 2214.83,193.395 2216.86,192.168 2218.89,192.168 2220.92,190.94 2222.95,189.713 2224.98,188.486 2227.01,187.258 2229.04,186.031 2231.07,184.804 2233.09,184.804 2235.12,183.576 2237.15,182.349 2239.18,181.122 2241.21,179.894 2243.24,178.667 2245.27,178.667 2247.3,177.439 2249.33,176.212 2251.36,174.985 2253.39,173.757 2255.42,172.53 2257.44,172.53 2259.47,171.303 2261.5,170.075 2263.53,168.848 2265.56,168.848 2267.59,167.621 2269.62,166.393 2271.65,165.166 2273.68,165.166 2275.71,163.938 2277.74,162.711 2279.77,162.711 2281.8,161.484 2283.82,161.484 2285.85,160.256 2287.88,160.256 2289.91,160.256 2291.94,160.256 \"/>\n",
       "<polyline clip-path=\"url(#clip152)\" style=\"stroke:#e26f46; stroke-linecap:round; stroke-linejoin:round; stroke-width:4; stroke-opacity:1; fill:none\" points=\"264.778,1386.4 266.808,1385.17 268.837,1383.94 270.866,1382.71 272.895,1381.49 274.924,1380.26 276.954,1379.03 278.983,1377.8 281.012,1376.58 283.041,1375.35 285.07,1374.12 287.1,1372.89 289.129,1371.67 291.158,1370.44 293.187,1369.21 295.216,1367.99 297.246,1366.76 299.275,1365.53 301.304,1364.3 303.333,1363.08 305.362,1361.85 307.391,1360.62 309.421,1359.39 311.45,1358.17 313.479,1356.94 315.508,1355.71 317.537,1354.48 319.567,1353.26 321.596,1352.03 323.625,1350.8 325.654,1349.57 327.683,1348.35 329.713,1347.12 331.742,1345.89 333.771,1344.67 335.8,1343.44 337.829,1342.21 339.859,1340.98 341.888,1339.76 343.917,1338.53 345.946,1337.3 347.975,1336.07 350.005,1334.85 352.034,1333.62 354.063,1332.39 356.092,1331.16 358.121,1329.94 360.15,1328.71 362.18,1327.48 364.209,1326.25 366.238,1325.03 368.267,1323.8 370.296,1322.57 372.326,1321.35 374.355,1320.12 376.384,1318.89 378.413,1317.66 380.442,1316.44 382.472,1315.21 384.501,1313.98 386.53,1312.75 388.559,1311.53 390.588,1310.3 392.618,1309.07 394.647,1307.84 396.676,1306.62 398.705,1305.39 400.734,1304.16 402.763,1302.93 404.793,1301.71 406.822,1300.48 408.851,1299.25 410.88,1298.03 412.909,1296.8 414.939,1295.57 416.968,1294.34 418.997,1293.12 421.026,1291.89 423.055,1290.66 425.085,1289.43 427.114,1288.21 429.143,1286.98 431.172,1285.75 433.201,1284.52 435.231,1283.3 437.26,1282.07 439.289,1280.84 441.318,1279.61 443.347,1279.61 445.377,1278.39 447.406,1277.16 449.435,1275.93 451.464,1274.71 453.493,1273.48 455.522,1272.25 457.552,1271.02 459.581,1269.8 461.61,1268.57 463.639,1267.34 465.668,1266.11 467.698,1264.89 469.727,1263.66 471.756,1262.43 473.785,1261.2 475.814,1259.98 477.844,1258.75 479.873,1257.52 481.902,1256.29 483.931,1255.07 485.96,1253.84 487.99,1252.61 490.019,1251.39 492.048,1250.16 494.077,1248.93 496.106,1247.7 498.136,1246.48 500.165,1245.25 502.194,1244.02 504.223,1242.79 506.252,1241.57 508.281,1240.34 510.311,1239.11 512.34,1237.88 514.369,1236.66 516.398,1235.43 518.427,1234.2 520.457,1232.97 522.486,1231.75 524.515,1230.52 526.544,1229.29 528.573,1228.07 530.603,1226.84 532.632,1225.61 534.661,1224.38 536.69,1223.16 538.719,1221.93 540.749,1220.7 542.778,1219.47 544.807,1218.25 546.836,1217.02 548.865,1215.79 550.894,1214.56 552.924,1213.34 554.953,1212.11 556.982,1210.88 559.011,1209.65 561.04,1208.43 563.07,1207.2 565.099,1205.97 567.128,1204.75 569.157,1203.52 571.186,1202.29 573.216,1201.06 575.245,1199.84 577.274,1198.61 579.303,1197.38 581.332,1196.15 583.362,1194.93 585.391,1193.7 587.42,1192.47 589.449,1191.24 591.478,1190.02 593.508,1188.79 595.537,1187.56 597.566,1186.33 599.595,1185.11 601.624,1183.88 603.653,1182.65 605.683,1181.43 607.712,1180.2 609.741,1178.97 611.77,1177.74 613.799,1176.52 615.829,1175.29 617.858,1174.06 619.887,1172.83 621.916,1171.61 623.945,1170.38 625.975,1169.15 628.004,1167.92 630.033,1166.7 632.062,1165.47 634.091,1164.24 636.121,1163.01 638.15,1161.79 640.179,1160.56 642.208,1159.33 644.237,1158.11 646.267,1156.88 648.296,1155.65 650.325,1154.42 652.354,1153.2 654.383,1151.97 656.412,1150.74 658.442,1149.51 660.471,1148.29 662.5,1147.06 664.529,1145.83 666.558,1144.6 668.588,1143.38 670.617,1142.15 672.646,1140.92 674.675,1139.69 676.704,1138.47 678.734,1137.24 680.763,1136.01 682.792,1134.79 684.821,1133.56 686.85,1132.33 688.88,1131.1 690.909,1129.88 692.938,1128.65 694.967,1127.42 696.996,1126.19 699.025,1124.97 701.055,1123.74 703.084,1122.51 705.113,1121.28 707.142,1120.06 709.171,1118.83 711.201,1117.6 713.23,1116.37 715.259,1115.15 717.288,1113.92 719.317,1112.69 721.347,1111.47 723.376,1110.24 725.405,1109.01 727.434,1107.78 729.463,1106.56 731.493,1105.33 733.522,1104.1 735.551,1102.87 737.58,1101.65 739.609,1100.42 741.639,1099.19 743.668,1097.96 745.697,1096.74 747.726,1095.51 749.755,1094.28 751.784,1093.06 753.814,1091.83 755.843,1090.6 757.872,1089.37 759.901,1088.15 761.93,1086.92 763.96,1085.69 765.989,1084.46 768.018,1083.24 770.047,1082.01 772.076,1080.78 774.106,1079.55 776.135,1078.33 778.164,1077.1 780.193,1075.87 782.222,1074.64 784.252,1073.42 786.281,1072.19 788.31,1070.96 790.339,1069.74 792.368,1068.51 794.398,1067.28 796.427,1066.05 798.456,1064.83 800.485,1063.6 802.514,1062.37 804.543,1061.14 806.573,1059.92 808.602,1058.69 810.631,1057.46 812.66,1056.23 814.689,1055.01 816.719,1053.78 818.748,1052.55 820.777,1051.32 822.806,1050.1 824.835,1048.87 826.865,1047.64 828.894,1046.42 830.923,1045.19 832.952,1043.96 834.981,1042.73 837.011,1041.51 839.04,1040.28 841.069,1039.05 843.098,1037.82 845.127,1036.6 847.156,1035.37 849.186,1034.14 851.215,1032.91 853.244,1031.69 855.273,1030.46 857.302,1029.23 859.332,1028 861.361,1026.78 863.39,1025.55 865.419,1024.32 867.448,1023.1 869.478,1021.87 871.507,1020.64 873.536,1019.41 875.565,1018.19 877.594,1016.96 879.624,1015.73 881.653,1014.5 883.682,1013.28 885.711,1012.05 887.74,1010.82 889.77,1009.59 891.799,1008.37 893.828,1007.14 895.857,1005.91 897.886,1004.68 899.915,1003.46 901.945,1002.23 903.974,1001 906.003,999.775 908.032,998.548 910.061,997.32 912.091,996.093 914.12,994.866 916.149,993.638 918.178,992.411 920.207,991.184 922.237,989.956 924.266,988.729 926.295,987.501 928.324,986.274 930.353,985.047 932.383,983.819 934.412,982.592 936.441,981.365 938.47,980.137 940.499,978.91 942.529,977.683 944.558,976.455 946.587,975.228 948.616,974 950.645,972.773 952.674,971.546 954.704,970.318 956.733,969.091 958.762,967.864 960.791,966.636 962.82,965.409 964.85,964.182 966.879,962.954 968.908,961.727 970.937,960.499 972.966,959.272 974.996,958.045 977.025,956.817 979.054,955.59 981.083,954.363 983.112,953.135 985.142,951.908 987.171,950.68 989.2,949.453 991.229,948.226 993.258,946.998 995.287,945.771 997.317,944.544 999.346,943.316 1001.38,942.089 1003.4,940.862 1005.43,939.634 1007.46,938.407 1009.49,937.179 1011.52,935.952 1013.55,934.725 1015.58,933.497 1017.61,932.27 1019.64,931.043 1021.67,929.815 1023.7,928.588 1025.73,927.361 1027.75,926.133 1029.78,924.906 1031.81,923.678 1033.84,922.451 1035.87,921.224 1037.9,919.996 1039.93,918.769 1041.96,917.542 1043.99,916.314 1046.02,915.087 1048.05,913.859 1050.08,912.632 1052.1,911.405 1054.13,910.177 1056.16,908.95 1058.19,907.723 1060.22,906.495 1062.25,905.268 1064.28,904.041 1066.31,902.813 1068.34,901.586 1070.37,900.358 1072.4,899.131 1074.43,897.904 1076.46,896.676 1078.48,895.449 1080.51,894.222 1082.54,892.994 1084.57,891.767 1086.6,890.54 1088.63,889.312 1090.66,888.085 1092.69,886.857 1094.72,885.63 1096.75,884.403 1098.78,883.175 1100.81,881.948 1102.83,880.721 1104.86,879.493 1106.89,878.266 1108.92,877.038 1110.95,875.811 1112.98,874.584 1115.01,873.356 1117.04,872.129 1119.07,870.902 1121.1,869.674 1123.13,868.447 1125.16,867.22 1127.18,865.992 1129.21,864.765 1131.24,863.537 1133.27,862.31 1135.3,861.083 1137.33,859.855 1139.36,858.628 1141.39,857.401 1143.42,856.173 1145.45,854.946 1147.48,853.719 1149.51,852.491 1151.54,851.264 1153.56,850.036 1155.59,848.809 1157.62,847.582 1159.65,846.354 1161.68,845.127 1163.71,843.9 1165.74,842.672 1167.77,841.445 1169.8,840.217 1171.83,838.99 1173.86,837.763 1175.89,836.535 1177.91,835.308 1179.94,834.081 1181.97,832.853 1184,831.626 1186.03,830.399 1188.06,829.171 1190.09,827.944 1192.12,826.716 1194.15,825.489 1196.18,823.034 1198.21,821.807 1200.24,820.58 1202.27,819.352 1204.29,818.125 1206.32,816.898 1208.35,815.67 1210.38,814.443 1212.41,813.215 1214.44,811.988 1216.47,810.761 1218.5,809.533 1220.53,808.306 1222.56,807.079 1224.59,805.851 1226.62,804.624 1228.64,803.396 1230.67,802.169 1232.7,800.942 1234.73,799.714 1236.76,798.487 1238.79,797.26 1240.82,796.032 1242.85,794.805 1244.88,793.578 1246.91,792.35 1248.94,791.123 1250.97,789.895 1252.99,788.668 1255.02,787.441 1257.05,786.213 1259.08,784.986 1261.11,783.759 1263.14,782.531 1265.17,781.304 1267.2,780.077 1269.23,778.849 1271.26,777.622 1273.29,776.394 1275.32,775.167 1277.35,773.94 1279.37,772.712 1281.4,771.485 1283.43,770.258 1285.46,769.03 1287.49,767.803 1289.52,766.575 1291.55,765.348 1293.58,764.121 1295.61,762.893 1297.64,761.666 1299.67,760.439 1301.7,759.211 1303.72,757.984 1305.75,756.757 1307.78,755.529 1309.81,754.302 1311.84,753.074 1313.87,751.847 1315.9,750.62 1317.93,749.392 1319.96,748.165 1321.99,746.938 1324.02,745.71 1326.05,744.483 1328.07,743.255 1330.1,742.028 1332.13,740.801 1334.16,739.573 1336.19,738.346 1338.22,737.119 1340.25,735.891 1342.28,734.664 1344.31,733.437 1346.34,732.209 1348.37,730.982 1350.4,729.754 1352.43,728.527 1354.45,727.3 1356.48,726.072 1358.51,724.845 1360.54,723.618 1362.57,722.39 1364.6,721.163 1366.63,719.936 1368.66,718.708 1370.69,717.481 1372.72,716.253 1374.75,715.026 1376.78,713.799 1378.8,712.571 1380.83,711.344 1382.86,710.117 1384.89,708.889 1386.92,707.662 1388.95,706.434 1390.98,705.207 1393.01,703.98 1395.04,702.752 1397.07,701.525 1399.1,700.298 1401.13,699.07 1403.16,697.843 1405.18,696.616 1407.21,695.388 1409.24,694.161 1411.27,692.933 1413.3,691.706 1415.33,690.479 1417.36,689.251 1419.39,688.024 1421.42,686.797 1423.45,685.569 1425.48,684.342 1427.51,683.115 1429.53,681.887 1431.56,680.66 1433.59,679.432 1435.62,678.205 1437.65,676.978 1439.68,675.75 1441.71,674.523 1443.74,673.296 1445.77,672.068 1447.8,670.841 1449.83,669.613 1451.86,668.386 1453.88,667.159 1455.91,665.931 1457.94,664.704 1459.97,663.477 1462,662.249 1464.03,661.022 1466.06,659.795 1468.09,658.567 1470.12,657.34 1472.15,656.112 1474.18,654.885 1476.21,653.658 1478.24,652.43 1480.26,651.203 1482.29,649.976 1484.32,648.748 1486.35,647.521 1488.38,646.294 1490.41,645.066 1492.44,643.839 1494.47,642.611 1496.5,641.384 1498.53,640.157 1500.56,638.929 1502.59,637.702 1504.61,636.475 1506.64,635.247 1508.67,634.02 1510.7,632.792 1512.73,631.565 1514.76,630.338 1516.79,629.11 1518.82,627.883 1520.85,626.656 1522.88,625.428 1524.91,624.201 1526.94,622.974 1528.96,621.746 1530.99,620.519 1533.02,619.291 1535.05,618.064 1537.08,616.837 1539.11,615.609 1541.14,614.382 1543.17,613.155 1545.2,611.927 1547.23,610.7 1549.26,609.473 1551.29,608.245 1553.32,607.018 1555.34,605.79 1557.37,604.563 1559.4,603.336 1561.43,602.108 1563.46,600.881 1565.49,599.654 1567.52,598.426 1569.55,597.199 1571.58,595.971 1573.61,594.744 1575.64,593.517 1577.67,592.289 1579.69,591.062 1581.72,589.835 1583.75,588.607 1585.78,587.38 1587.81,586.153 1589.84,584.925 1591.87,583.698 1593.9,582.47 1595.93,581.243 1597.96,578.788 1599.99,577.561 1602.02,576.334 1604.05,575.106 1606.07,573.879 1608.1,572.652 1610.13,571.424 1612.16,570.197 1614.19,568.969 1616.22,567.742 1618.25,566.515 1620.28,565.287 1622.31,564.06 1624.34,562.833 1626.37,561.605 1628.4,560.378 1630.42,559.15 1632.45,557.923 1634.48,556.696 1636.51,555.468 1638.54,554.241 1640.57,553.014 1642.6,551.786 1644.63,550.559 1646.66,549.332 1648.69,548.104 1650.72,546.877 1652.75,545.649 1654.77,544.422 1656.8,543.195 1658.83,541.967 1660.86,540.74 1662.89,539.513 1664.92,538.285 1666.95,537.058 1668.98,535.831 1671.01,534.603 1673.04,533.376 1675.07,532.148 1677.1,530.921 1679.13,529.694 1681.15,528.466 1683.18,527.239 1685.21,526.012 1687.24,524.784 1689.27,523.557 1691.3,522.329 1693.33,521.102 1695.36,519.875 1697.39,518.647 1699.42,517.42 1701.45,516.193 1703.48,514.965 1705.5,513.738 1707.53,512.511 1709.56,511.283 1711.59,510.056 1713.62,508.828 1715.65,507.601 1717.68,506.374 1719.71,505.146 1721.74,503.919 1723.77,502.692 1725.8,501.464 1727.83,500.237 1729.85,499.01 1731.88,497.782 1733.91,496.555 1735.94,495.327 1737.97,494.1 1740,492.873 1742.03,491.645 1744.06,490.418 1746.09,489.191 1748.12,487.963 1750.15,486.736 1752.18,485.508 1754.21,484.281 1756.23,483.054 1758.26,481.826 1760.29,480.599 1762.32,479.372 1764.35,478.144 1766.38,476.917 1768.41,475.69 1770.44,474.462 1772.47,473.235 1774.5,472.007 1776.53,470.78 1778.56,469.553 1780.58,468.325 1782.61,467.098 1784.64,465.871 1786.67,464.643 1788.7,463.416 1790.73,462.189 1792.76,460.961 1794.79,459.734 1796.82,458.506 1798.85,457.279 1800.88,456.052 1802.91,454.824 1804.94,453.597 1806.96,452.37 1808.99,451.142 1811.02,449.915 1813.05,448.687 1815.08,447.46 1817.11,446.233 1819.14,445.005 1821.17,443.778 1823.2,442.551 1825.23,441.323 1827.26,440.096 1829.29,438.869 1831.31,437.641 1833.34,436.414 1835.37,435.186 1837.4,433.959 1839.43,432.732 1841.46,431.504 1843.49,430.277 1845.52,429.05 1847.55,427.822 1849.58,426.595 1851.61,425.368 1853.64,424.14 1855.66,422.913 1857.69,421.685 1859.72,420.458 1861.75,419.231 1863.78,418.003 1865.81,416.776 1867.84,415.549 1869.87,414.321 1871.9,413.094 1873.93,411.866 1875.96,410.639 1877.99,409.412 1880.02,408.184 1882.04,406.957 1884.07,405.73 1886.1,404.502 1888.13,403.275 1890.16,402.048 1892.19,400.82 1894.22,399.593 1896.25,398.365 1898.28,397.138 1900.31,395.911 1902.34,394.683 1904.37,393.456 1906.39,392.229 1908.42,391.001 1910.45,389.774 1912.48,388.547 1914.51,387.319 1916.54,386.092 1918.57,384.864 1920.6,383.637 1922.63,382.41 1924.66,381.182 1926.69,379.955 1928.72,378.728 1930.74,377.5 1932.77,376.273 1934.8,375.045 1936.83,373.818 1938.86,372.591 1940.89,371.363 1942.92,370.136 1944.95,368.909 1946.98,367.681 1949.01,366.454 1951.04,365.227 1953.07,363.999 1955.1,362.772 1957.12,360.317 1959.15,359.09 1961.18,357.862 1963.21,356.635 1965.24,355.408 1967.27,354.18 1969.3,352.953 1971.33,351.726 1973.36,350.498 1975.39,349.271 1977.42,348.043 1979.45,346.816 1981.47,345.589 1983.5,344.361 1985.53,343.134 1987.56,341.907 1989.59,340.679 1991.62,339.452 1993.65,338.224 1995.68,336.997 1997.71,335.77 1999.74,334.542 2001.77,333.315 2003.8,332.088 2005.82,330.86 2007.85,329.633 2009.88,328.406 2011.91,327.178 2013.94,325.951 2015.97,324.723 2018,323.496 2020.03,322.269 2022.06,321.041 2024.09,319.814 2026.12,318.587 2028.15,317.359 2030.18,316.132 2032.2,314.905 2034.23,313.677 2036.26,312.45 2038.29,311.222 2040.32,309.995 2042.35,308.768 2044.38,307.54 2046.41,306.313 2048.44,305.086 2050.47,303.858 2052.5,302.631 2054.53,301.403 2056.55,300.176 2058.58,298.949 2060.61,297.721 2062.64,296.494 2064.67,295.267 2066.7,294.039 2068.73,292.812 2070.76,291.585 2072.79,290.357 2074.82,289.13 2076.85,287.902 2078.88,286.675 2080.91,285.448 2082.93,284.22 2084.96,282.993 2086.99,281.766 2089.02,280.538 2091.05,279.311 2093.08,278.084 2095.11,276.856 2097.14,275.629 2099.17,274.401 2101.2,273.174 2103.23,271.947 2105.26,270.719 2107.28,269.492 2109.31,268.265 2111.34,267.037 2113.37,265.81 2115.4,264.582 2117.43,263.355 2119.46,262.128 2121.49,260.9 2123.52,259.673 2125.55,258.446 2127.58,257.218 2129.61,255.991 2131.63,254.764 2133.66,253.536 2135.69,252.309 2137.72,251.081 2139.75,249.854 2141.78,248.627 2143.81,247.399 2145.84,246.172 2147.87,244.945 2149.9,243.717 2151.93,242.49 2153.96,241.263 2155.99,240.035 2158.01,238.808 2160.04,237.58 2162.07,236.353 2164.1,235.126 2166.13,233.898 2168.16,232.671 2170.19,231.444 2172.22,230.216 2174.25,228.989 2176.28,227.761 2178.31,226.534 2180.34,225.307 2182.36,224.079 2184.39,222.852 2186.42,221.625 2188.45,220.397 2190.48,219.17 2192.51,217.943 2194.54,216.715 2196.57,215.488 2198.6,214.26 2200.63,213.033 2202.66,211.806 2204.69,210.578 2206.71,209.351 2208.74,208.124 2210.77,206.896 2212.8,205.669 2214.83,204.442 2216.86,203.214 2218.89,201.987 2220.92,200.759 2222.95,199.532 2224.98,198.305 2227.01,197.077 2229.04,195.85 2231.07,194.623 2233.09,193.395 2235.12,192.168 2237.15,190.94 2239.18,189.713 2241.21,188.486 2243.24,187.258 2245.27,186.031 2247.3,184.804 2249.33,183.576 2251.36,182.349 2253.39,181.122 2255.42,179.894 2257.44,178.667 2259.47,177.439 2261.5,176.212 2263.53,174.985 2265.56,173.757 2267.59,172.53 2269.62,171.303 2271.65,170.075 2273.68,168.848 2275.71,167.621 2277.74,166.393 2279.77,165.166 2281.8,163.938 2283.82,162.711 2285.85,162.711 2287.88,161.484 2289.91,160.256 2291.94,160.256 \"/>\n",
       "<path clip-path=\"url(#clip150)\" d=\"M275.59 322.316 L654.427 322.316 L654.427 166.796 L275.59 166.796  Z\" fill=\"#ffffff\" fill-rule=\"evenodd\" fill-opacity=\"1\"/>\n",
       "<polyline clip-path=\"url(#clip150)\" style=\"stroke:#000000; stroke-linecap:round; stroke-linejoin:round; stroke-width:4; stroke-opacity:1; fill:none\" points=\"275.59,322.316 654.427,322.316 654.427,166.796 275.59,166.796 275.59,322.316 \"/>\n",
       "<polyline clip-path=\"url(#clip150)\" style=\"stroke:#009af9; stroke-linecap:round; stroke-linejoin:round; stroke-width:4; stroke-opacity:1; fill:none\" points=\"299.465,218.636 442.718,218.636 \"/>\n",
       "<path clip-path=\"url(#clip150)\" d=\"M467.172 209.99 L487.404 209.99 L487.404 213.879 L471.385 232.513 L487.404 232.513 L487.404 235.916 L466.594 235.916 L466.594 232.027 L482.612 213.393 L467.172 213.393 L467.172 209.99 Z\" fill=\"#000000\" fill-rule=\"nonzero\" fill-opacity=\"1\" /><path clip-path=\"url(#clip150)\" d=\"M509.533 214.388 L539.209 214.388 L539.209 218.277 L509.533 218.277 L509.533 214.388 M509.533 223.832 L539.209 223.832 L539.209 227.768 L509.533 227.768 L509.533 223.832 Z\" fill=\"#000000\" fill-rule=\"nonzero\" fill-opacity=\"1\" /><path clip-path=\"url(#clip150)\" d=\"M578.538 217.282 Q581.894 217.999 583.769 220.268 Q585.667 222.536 585.667 225.869 Q585.667 230.985 582.149 233.786 Q578.63 236.587 572.149 236.587 Q569.973 236.587 567.658 236.147 Q565.366 235.731 562.913 234.874 L562.913 230.36 Q564.857 231.494 567.172 232.073 Q569.487 232.652 572.01 232.652 Q576.408 232.652 578.7 230.916 Q581.014 229.18 581.014 225.869 Q581.014 222.814 578.862 221.101 Q576.732 219.365 572.913 219.365 L568.885 219.365 L568.885 215.522 L573.098 215.522 Q576.547 215.522 578.376 214.157 Q580.204 212.768 580.204 210.175 Q580.204 207.513 578.306 206.101 Q576.431 204.666 572.913 204.666 Q570.991 204.666 568.792 205.083 Q566.593 205.499 563.954 206.379 L563.954 202.212 Q566.616 201.471 568.931 201.101 Q571.269 200.731 573.329 200.731 Q578.653 200.731 581.755 203.161 Q584.857 205.569 584.857 209.689 Q584.857 212.559 583.213 214.55 Q581.57 216.518 578.538 217.282 Z\" fill=\"#000000\" fill-rule=\"nonzero\" fill-opacity=\"1\" /><polyline clip-path=\"url(#clip150)\" style=\"stroke:#e26f46; stroke-linecap:round; stroke-linejoin:round; stroke-width:4; stroke-opacity:1; fill:none\" points=\"299.465,270.476 442.718,270.476 \"/>\n",
       "<path clip-path=\"url(#clip150)\" d=\"M467.172 261.83 L487.404 261.83 L487.404 265.719 L471.385 284.353 L487.404 284.353 L487.404 287.756 L466.594 287.756 L466.594 283.867 L482.612 265.233 L467.172 265.233 L467.172 261.83 Z\" fill=\"#000000\" fill-rule=\"nonzero\" fill-opacity=\"1\" /><path clip-path=\"url(#clip150)\" d=\"M509.533 266.228 L539.209 266.228 L539.209 270.117 L509.533 270.117 L509.533 266.228 M509.533 275.672 L539.209 275.672 L539.209 279.608 L509.533 279.608 L509.533 275.672 Z\" fill=\"#000000\" fill-rule=\"nonzero\" fill-opacity=\"1\" /><path clip-path=\"url(#clip150)\" d=\"M574.371 256.274 Q570.76 256.274 568.931 259.839 Q567.126 263.381 567.126 270.51 Q567.126 277.617 568.931 281.182 Q570.76 284.723 574.371 284.723 Q578.005 284.723 579.811 281.182 Q581.639 277.617 581.639 270.51 Q581.639 263.381 579.811 259.839 Q578.005 256.274 574.371 256.274 M574.371 252.571 Q580.181 252.571 583.237 257.177 Q586.315 261.76 586.315 270.51 Q586.315 279.237 583.237 283.844 Q580.181 288.427 574.371 288.427 Q568.561 288.427 565.482 283.844 Q562.427 279.237 562.427 270.51 Q562.427 261.76 565.482 257.177 Q568.561 252.571 574.371 252.571 Z\" fill=\"#000000\" fill-rule=\"nonzero\" fill-opacity=\"1\" /><path clip-path=\"url(#clip150)\" d=\"M594.533 281.876 L599.417 281.876 L599.417 287.756 L594.533 287.756 L594.533 281.876 Z\" fill=\"#000000\" fill-rule=\"nonzero\" fill-opacity=\"1\" /><path clip-path=\"url(#clip150)\" d=\"M609.649 253.196 L628.005 253.196 L628.005 257.131 L613.931 257.131 L613.931 265.603 Q614.949 265.256 615.968 265.094 Q616.986 264.909 618.005 264.909 Q623.792 264.909 627.172 268.08 Q630.551 271.251 630.551 276.668 Q630.551 282.246 627.079 285.348 Q623.607 288.427 617.287 288.427 Q615.111 288.427 612.843 288.057 Q610.598 287.686 608.19 286.946 L608.19 282.246 Q610.274 283.381 612.496 283.936 Q614.718 284.492 617.195 284.492 Q621.199 284.492 623.537 282.385 Q625.875 280.279 625.875 276.668 Q625.875 273.057 623.537 270.95 Q621.199 268.844 617.195 268.844 Q615.32 268.844 613.445 269.26 Q611.593 269.677 609.649 270.557 L609.649 253.196 Z\" fill=\"#000000\" fill-rule=\"nonzero\" fill-opacity=\"1\" /></svg>\n"
      ],
      "text/html": [
       "<?xml version=\"1.0\" encoding=\"utf-8\"?>\n",
       "<svg xmlns=\"http://www.w3.org/2000/svg\" xmlns:xlink=\"http://www.w3.org/1999/xlink\" width=\"600\" height=\"400\" viewBox=\"0 0 2400 1600\">\n",
       "<defs>\n",
       "  <clipPath id=\"clip200\">\n",
       "    <rect x=\"0\" y=\"0\" width=\"2400\" height=\"1600\"/>\n",
       "  </clipPath>\n",
       "</defs>\n",
       "<path clip-path=\"url(#clip200)\" d=\"M0 1600 L2400 1600 L2400 8.88178e-14 L0 8.88178e-14  Z\" fill=\"#ffffff\" fill-rule=\"evenodd\" fill-opacity=\"1\"/>\n",
       "<defs>\n",
       "  <clipPath id=\"clip201\">\n",
       "    <rect x=\"480\" y=\"0\" width=\"1681\" height=\"1600\"/>\n",
       "  </clipPath>\n",
       "</defs>\n",
       "<path clip-path=\"url(#clip200)\" d=\"M203.964 1423.18 L2352.76 1423.18 L2352.76 123.472 L203.964 123.472  Z\" fill=\"#ffffff\" fill-rule=\"evenodd\" fill-opacity=\"1\"/>\n",
       "<defs>\n",
       "  <clipPath id=\"clip202\">\n",
       "    <rect x=\"203\" y=\"123\" width=\"2150\" height=\"1301\"/>\n",
       "  </clipPath>\n",
       "</defs>\n",
       "<polyline clip-path=\"url(#clip202)\" style=\"stroke:#000000; stroke-linecap:round; stroke-linejoin:round; stroke-width:2; stroke-opacity:0.1; fill:none\" points=\"264.711,1423.18 264.711,123.472 \"/>\n",
       "<polyline clip-path=\"url(#clip202)\" style=\"stroke:#000000; stroke-linecap:round; stroke-linejoin:round; stroke-width:2; stroke-opacity:0.1; fill:none\" points=\"940.454,1423.18 940.454,123.472 \"/>\n",
       "<polyline clip-path=\"url(#clip202)\" style=\"stroke:#000000; stroke-linecap:round; stroke-linejoin:round; stroke-width:2; stroke-opacity:0.1; fill:none\" points=\"1616.2,1423.18 1616.2,123.472 \"/>\n",
       "<polyline clip-path=\"url(#clip202)\" style=\"stroke:#000000; stroke-linecap:round; stroke-linejoin:round; stroke-width:2; stroke-opacity:0.1; fill:none\" points=\"2291.94,1423.18 2291.94,123.472 \"/>\n",
       "<polyline clip-path=\"url(#clip200)\" style=\"stroke:#000000; stroke-linecap:round; stroke-linejoin:round; stroke-width:4; stroke-opacity:1; fill:none\" points=\"203.964,1423.18 2352.76,1423.18 \"/>\n",
       "<polyline clip-path=\"url(#clip200)\" style=\"stroke:#000000; stroke-linecap:round; stroke-linejoin:round; stroke-width:4; stroke-opacity:1; fill:none\" points=\"264.711,1423.18 264.711,1404.28 \"/>\n",
       "<polyline clip-path=\"url(#clip200)\" style=\"stroke:#000000; stroke-linecap:round; stroke-linejoin:round; stroke-width:4; stroke-opacity:1; fill:none\" points=\"940.454,1423.18 940.454,1404.28 \"/>\n",
       "<polyline clip-path=\"url(#clip200)\" style=\"stroke:#000000; stroke-linecap:round; stroke-linejoin:round; stroke-width:4; stroke-opacity:1; fill:none\" points=\"1616.2,1423.18 1616.2,1404.28 \"/>\n",
       "<polyline clip-path=\"url(#clip200)\" style=\"stroke:#000000; stroke-linecap:round; stroke-linejoin:round; stroke-width:4; stroke-opacity:1; fill:none\" points=\"2291.94,1423.18 2291.94,1404.28 \"/>\n",
       "<path clip-path=\"url(#clip200)\" d=\"M264.711 1454.1 Q261.1 1454.1 259.271 1457.66 Q257.466 1461.2 257.466 1468.33 Q257.466 1475.44 259.271 1479.01 Q261.1 1482.55 264.711 1482.55 Q268.345 1482.55 270.151 1479.01 Q271.979 1475.44 271.979 1468.33 Q271.979 1461.2 270.151 1457.66 Q268.345 1454.1 264.711 1454.1 M264.711 1450.39 Q270.521 1450.39 273.577 1455 Q276.655 1459.58 276.655 1468.33 Q276.655 1477.06 273.577 1481.67 Q270.521 1486.25 264.711 1486.25 Q258.901 1486.25 255.822 1481.67 Q252.766 1477.06 252.766 1468.33 Q252.766 1459.58 255.822 1455 Q258.901 1450.39 264.711 1450.39 Z\" fill=\"#000000\" fill-rule=\"nonzero\" fill-opacity=\"1\" /><path clip-path=\"url(#clip200)\" d=\"M915.142 1481.64 L922.781 1481.64 L922.781 1455.28 L914.471 1456.95 L914.471 1452.69 L922.734 1451.02 L927.41 1451.02 L927.41 1481.64 L935.049 1481.64 L935.049 1485.58 L915.142 1485.58 L915.142 1481.64 Z\" fill=\"#000000\" fill-rule=\"nonzero\" fill-opacity=\"1\" /><path clip-path=\"url(#clip200)\" d=\"M954.494 1454.1 Q950.882 1454.1 949.054 1457.66 Q947.248 1461.2 947.248 1468.33 Q947.248 1475.44 949.054 1479.01 Q950.882 1482.55 954.494 1482.55 Q958.128 1482.55 959.933 1479.01 Q961.762 1475.44 961.762 1468.33 Q961.762 1461.2 959.933 1457.66 Q958.128 1454.1 954.494 1454.1 M954.494 1450.39 Q960.304 1450.39 963.359 1455 Q966.438 1459.58 966.438 1468.33 Q966.438 1477.06 963.359 1481.67 Q960.304 1486.25 954.494 1486.25 Q948.683 1486.25 945.605 1481.67 Q942.549 1477.06 942.549 1468.33 Q942.549 1459.58 945.605 1455 Q948.683 1450.39 954.494 1450.39 Z\" fill=\"#000000\" fill-rule=\"nonzero\" fill-opacity=\"1\" /><path clip-path=\"url(#clip200)\" d=\"M1594.97 1481.64 L1611.29 1481.64 L1611.29 1485.58 L1589.35 1485.58 L1589.35 1481.64 Q1592.01 1478.89 1596.59 1474.26 Q1601.2 1469.61 1602.38 1468.27 Q1604.62 1465.74 1605.5 1464.01 Q1606.41 1462.25 1606.41 1460.56 Q1606.41 1457.8 1604.46 1456.07 Q1602.54 1454.33 1599.44 1454.33 Q1597.24 1454.33 1594.79 1455.09 Q1592.36 1455.86 1589.58 1457.41 L1589.58 1452.69 Q1592.4 1451.55 1594.86 1450.97 Q1597.31 1450.39 1599.35 1450.39 Q1604.72 1450.39 1607.91 1453.08 Q1611.11 1455.77 1611.11 1460.26 Q1611.11 1462.39 1610.29 1464.31 Q1609.51 1466.2 1607.4 1468.8 Q1606.82 1469.47 1603.72 1472.69 Q1600.62 1475.88 1594.97 1481.64 Z\" fill=\"#000000\" fill-rule=\"nonzero\" fill-opacity=\"1\" /><path clip-path=\"url(#clip200)\" d=\"M1631.1 1454.1 Q1627.49 1454.1 1625.67 1457.66 Q1623.86 1461.2 1623.86 1468.33 Q1623.86 1475.44 1625.67 1479.01 Q1627.49 1482.55 1631.1 1482.55 Q1634.74 1482.55 1636.54 1479.01 Q1638.37 1475.44 1638.37 1468.33 Q1638.37 1461.2 1636.54 1457.66 Q1634.74 1454.1 1631.1 1454.1 M1631.1 1450.39 Q1636.92 1450.39 1639.97 1455 Q1643.05 1459.58 1643.05 1468.33 Q1643.05 1477.06 1639.97 1481.67 Q1636.92 1486.25 1631.1 1486.25 Q1625.29 1486.25 1622.22 1481.67 Q1619.16 1477.06 1619.16 1468.33 Q1619.16 1459.58 1622.22 1455 Q1625.29 1450.39 1631.1 1450.39 Z\" fill=\"#000000\" fill-rule=\"nonzero\" fill-opacity=\"1\" /><path clip-path=\"url(#clip200)\" d=\"M2280.78 1466.95 Q2284.14 1467.66 2286.02 1469.93 Q2287.91 1472.2 2287.91 1475.53 Q2287.91 1480.65 2284.39 1483.45 Q2280.88 1486.25 2274.39 1486.25 Q2272.22 1486.25 2269.9 1485.81 Q2267.61 1485.39 2265.16 1484.54 L2265.16 1480.02 Q2267.1 1481.16 2269.42 1481.74 Q2271.73 1482.32 2274.26 1482.32 Q2278.65 1482.32 2280.95 1480.58 Q2283.26 1478.84 2283.26 1475.53 Q2283.26 1472.48 2281.11 1470.77 Q2278.98 1469.03 2275.16 1469.03 L2271.13 1469.03 L2271.13 1465.19 L2275.34 1465.19 Q2278.79 1465.19 2280.62 1463.82 Q2282.45 1462.43 2282.45 1459.84 Q2282.45 1457.18 2280.55 1455.77 Q2278.68 1454.33 2275.16 1454.33 Q2273.24 1454.33 2271.04 1454.75 Q2268.84 1455.16 2266.2 1456.04 L2266.2 1451.88 Q2268.86 1451.14 2271.18 1450.77 Q2273.52 1450.39 2275.58 1450.39 Q2280.9 1450.39 2284 1452.83 Q2287.1 1455.23 2287.1 1459.35 Q2287.1 1462.22 2285.46 1464.21 Q2283.82 1466.18 2280.78 1466.95 Z\" fill=\"#000000\" fill-rule=\"nonzero\" fill-opacity=\"1\" /><path clip-path=\"url(#clip200)\" d=\"M2306.78 1454.1 Q2303.17 1454.1 2301.34 1457.66 Q2299.53 1461.2 2299.53 1468.33 Q2299.53 1475.44 2301.34 1479.01 Q2303.17 1482.55 2306.78 1482.55 Q2310.41 1482.55 2312.22 1479.01 Q2314.05 1475.44 2314.05 1468.33 Q2314.05 1461.2 2312.22 1457.66 Q2310.41 1454.1 2306.78 1454.1 M2306.78 1450.39 Q2312.59 1450.39 2315.64 1455 Q2318.72 1459.58 2318.72 1468.33 Q2318.72 1477.06 2315.64 1481.67 Q2312.59 1486.25 2306.78 1486.25 Q2300.97 1486.25 2297.89 1481.67 Q2294.83 1477.06 2294.83 1468.33 Q2294.83 1459.58 2297.89 1455 Q2300.97 1450.39 2306.78 1450.39 Z\" fill=\"#000000\" fill-rule=\"nonzero\" fill-opacity=\"1\" /><path clip-path=\"url(#clip200)\" d=\"M1195.91 1526.86 L1187.19 1550.51 L1204.66 1550.51 L1195.91 1526.86 M1192.28 1520.52 L1199.57 1520.52 L1217.68 1568.04 L1210.99 1568.04 L1206.67 1555.85 L1185.25 1555.85 L1180.92 1568.04 L1174.14 1568.04 L1192.28 1520.52 Z\" fill=\"#000000\" fill-rule=\"nonzero\" fill-opacity=\"1\" /><path clip-path=\"url(#clip200)\" d=\"M1247.09 1533.45 L1247.09 1538.98 Q1244.61 1537.71 1241.93 1537.07 Q1239.26 1536.44 1236.39 1536.44 Q1232.03 1536.44 1229.84 1537.77 Q1227.67 1539.11 1227.67 1541.79 Q1227.67 1543.82 1229.23 1545 Q1230.79 1546.15 1235.5 1547.2 L1237.51 1547.64 Q1243.75 1548.98 1246.36 1551.43 Q1249 1553.85 1249 1558.21 Q1249 1563.17 1245.05 1566.07 Q1241.14 1568.97 1234.26 1568.97 Q1231.4 1568.97 1228.28 1568.39 Q1225.19 1567.85 1221.75 1566.74 L1221.75 1560.69 Q1225 1562.38 1228.15 1563.24 Q1231.3 1564.07 1234.39 1564.07 Q1238.53 1564.07 1240.75 1562.66 Q1242.98 1561.23 1242.98 1558.65 Q1242.98 1556.27 1241.36 1554.99 Q1239.77 1553.72 1234.32 1552.54 L1232.29 1552.07 Q1226.85 1550.92 1224.43 1548.56 Q1222.01 1546.18 1222.01 1542.04 Q1222.01 1537.01 1225.57 1534.27 Q1229.14 1531.54 1235.69 1531.54 Q1238.94 1531.54 1241.8 1532.01 Q1244.67 1532.49 1247.09 1533.45 Z\" fill=\"#000000\" fill-rule=\"nonzero\" fill-opacity=\"1\" /><path clip-path=\"url(#clip200)\" d=\"M1281.05 1533.45 L1281.05 1538.98 Q1278.57 1537.71 1275.89 1537.07 Q1273.22 1536.44 1270.35 1536.44 Q1265.99 1536.44 1263.8 1537.77 Q1261.63 1539.11 1261.63 1541.79 Q1261.63 1543.82 1263.19 1545 Q1264.75 1546.15 1269.46 1547.2 L1271.47 1547.64 Q1277.71 1548.98 1280.32 1551.43 Q1282.96 1553.85 1282.96 1558.21 Q1282.96 1563.17 1279.01 1566.07 Q1275.1 1568.97 1268.22 1568.97 Q1265.36 1568.97 1262.24 1568.39 Q1259.15 1567.85 1255.71 1566.74 L1255.71 1560.69 Q1258.96 1562.38 1262.11 1563.24 Q1265.26 1564.07 1268.35 1564.07 Q1272.49 1564.07 1274.72 1562.66 Q1276.94 1561.23 1276.94 1558.65 Q1276.94 1556.27 1275.32 1554.99 Q1273.73 1553.72 1268.29 1552.54 L1266.25 1552.07 Q1260.81 1550.92 1258.39 1548.56 Q1255.97 1546.18 1255.97 1542.04 Q1255.97 1537.01 1259.53 1534.27 Q1263.1 1531.54 1269.65 1531.54 Q1272.9 1531.54 1275.77 1532.01 Q1278.63 1532.49 1281.05 1533.45 Z\" fill=\"#000000\" fill-rule=\"nonzero\" fill-opacity=\"1\" /><path clip-path=\"url(#clip200)\" d=\"M1322.78 1548.76 L1322.78 1551.62 L1295.85 1551.62 Q1296.23 1557.67 1299.48 1560.85 Q1302.76 1564 1308.58 1564 Q1311.95 1564 1315.11 1563.17 Q1318.29 1562.35 1321.41 1560.69 L1321.41 1566.23 Q1318.26 1567.57 1314.95 1568.27 Q1311.64 1568.97 1308.23 1568.97 Q1299.7 1568.97 1294.7 1564 Q1289.74 1559.04 1289.74 1550.57 Q1289.74 1541.82 1294.45 1536.69 Q1299.19 1531.54 1307.21 1531.54 Q1314.41 1531.54 1318.58 1536.18 Q1322.78 1540.8 1322.78 1548.76 M1316.92 1547.04 Q1316.86 1542.23 1314.21 1539.37 Q1311.6 1536.5 1307.28 1536.5 Q1302.37 1536.5 1299.41 1539.27 Q1296.49 1542.04 1296.04 1547.07 L1316.92 1547.04 Z\" fill=\"#000000\" fill-rule=\"nonzero\" fill-opacity=\"1\" /><path clip-path=\"url(#clip200)\" d=\"M1338.18 1522.27 L1338.18 1532.4 L1350.24 1532.4 L1350.24 1536.95 L1338.18 1536.95 L1338.18 1556.3 Q1338.18 1560.66 1339.36 1561.9 Q1340.57 1563.14 1344.23 1563.14 L1350.24 1563.14 L1350.24 1568.04 L1344.23 1568.04 Q1337.45 1568.04 1334.87 1565.53 Q1332.29 1562.98 1332.29 1556.3 L1332.29 1536.95 L1328 1536.95 L1328 1532.4 L1332.29 1532.4 L1332.29 1522.27 L1338.18 1522.27 Z\" fill=\"#000000\" fill-rule=\"nonzero\" fill-opacity=\"1\" /><path clip-path=\"url(#clip200)\" d=\"M1380.67 1533.45 L1380.67 1538.98 Q1378.19 1537.71 1375.52 1537.07 Q1372.84 1536.44 1369.98 1536.44 Q1365.62 1536.44 1363.42 1537.77 Q1361.26 1539.11 1361.26 1541.79 Q1361.26 1543.82 1362.82 1545 Q1364.38 1546.15 1369.09 1547.2 L1371.09 1547.64 Q1377.33 1548.98 1379.94 1551.43 Q1382.58 1553.85 1382.58 1558.21 Q1382.58 1563.17 1378.64 1566.07 Q1374.72 1568.97 1367.85 1568.97 Q1364.98 1568.97 1361.86 1568.39 Q1358.77 1567.85 1355.34 1566.74 L1355.34 1560.69 Q1358.58 1562.38 1361.73 1563.24 Q1364.89 1564.07 1367.97 1564.07 Q1372.11 1564.07 1374.34 1562.66 Q1376.57 1561.23 1376.57 1558.65 Q1376.57 1556.27 1374.94 1554.99 Q1373.35 1553.72 1367.91 1552.54 L1365.87 1552.07 Q1360.43 1550.92 1358.01 1548.56 Q1355.59 1546.18 1355.59 1542.04 Q1355.59 1537.01 1359.16 1534.27 Q1362.72 1531.54 1369.28 1531.54 Q1372.52 1531.54 1375.39 1532.01 Q1378.25 1532.49 1380.67 1533.45 Z\" fill=\"#000000\" fill-rule=\"nonzero\" fill-opacity=\"1\" /><polyline clip-path=\"url(#clip202)\" style=\"stroke:#000000; stroke-linecap:round; stroke-linejoin:round; stroke-width:2; stroke-opacity:0.1; fill:none\" points=\"203.964,1386.44 2352.76,1386.44 \"/>\n",
       "<polyline clip-path=\"url(#clip202)\" style=\"stroke:#000000; stroke-linecap:round; stroke-linejoin:round; stroke-width:2; stroke-opacity:0.1; fill:none\" points=\"203.964,977.71 2352.76,977.71 \"/>\n",
       "<polyline clip-path=\"url(#clip202)\" style=\"stroke:#000000; stroke-linecap:round; stroke-linejoin:round; stroke-width:2; stroke-opacity:0.1; fill:none\" points=\"203.964,568.983 2352.76,568.983 \"/>\n",
       "<polyline clip-path=\"url(#clip202)\" style=\"stroke:#000000; stroke-linecap:round; stroke-linejoin:round; stroke-width:2; stroke-opacity:0.1; fill:none\" points=\"203.964,160.256 2352.76,160.256 \"/>\n",
       "<polyline clip-path=\"url(#clip200)\" style=\"stroke:#000000; stroke-linecap:round; stroke-linejoin:round; stroke-width:4; stroke-opacity:1; fill:none\" points=\"203.964,1423.18 203.964,123.472 \"/>\n",
       "<polyline clip-path=\"url(#clip200)\" style=\"stroke:#000000; stroke-linecap:round; stroke-linejoin:round; stroke-width:4; stroke-opacity:1; fill:none\" points=\"203.964,1386.44 222.861,1386.44 \"/>\n",
       "<polyline clip-path=\"url(#clip200)\" style=\"stroke:#000000; stroke-linecap:round; stroke-linejoin:round; stroke-width:4; stroke-opacity:1; fill:none\" points=\"203.964,977.71 222.861,977.71 \"/>\n",
       "<polyline clip-path=\"url(#clip200)\" style=\"stroke:#000000; stroke-linecap:round; stroke-linejoin:round; stroke-width:4; stroke-opacity:1; fill:none\" points=\"203.964,568.983 222.861,568.983 \"/>\n",
       "<polyline clip-path=\"url(#clip200)\" style=\"stroke:#000000; stroke-linecap:round; stroke-linejoin:round; stroke-width:4; stroke-opacity:1; fill:none\" points=\"203.964,160.256 222.861,160.256 \"/>\n",
       "<path clip-path=\"url(#clip200)\" d=\"M156.019 1372.24 Q152.408 1372.24 150.579 1375.8 Q148.774 1379.34 148.774 1386.47 Q148.774 1393.58 150.579 1397.14 Q152.408 1400.68 156.019 1400.68 Q159.653 1400.68 161.459 1397.14 Q163.288 1393.58 163.288 1386.47 Q163.288 1379.34 161.459 1375.8 Q159.653 1372.24 156.019 1372.24 M156.019 1368.53 Q161.829 1368.53 164.885 1373.14 Q167.964 1377.72 167.964 1386.47 Q167.964 1395.2 164.885 1399.8 Q161.829 1404.39 156.019 1404.39 Q150.209 1404.39 147.13 1399.8 Q144.075 1395.2 144.075 1386.47 Q144.075 1377.72 147.13 1373.14 Q150.209 1368.53 156.019 1368.53 Z\" fill=\"#000000\" fill-rule=\"nonzero\" fill-opacity=\"1\" /><path clip-path=\"url(#clip200)\" d=\"M116.668 991.055 L124.306 991.055 L124.306 964.689 L115.996 966.356 L115.996 962.096 L124.26 960.43 L128.936 960.43 L128.936 991.055 L136.575 991.055 L136.575 994.99 L116.668 994.99 L116.668 991.055 Z\" fill=\"#000000\" fill-rule=\"nonzero\" fill-opacity=\"1\" /><path clip-path=\"url(#clip200)\" d=\"M156.019 963.508 Q152.408 963.508 150.579 967.073 Q148.774 970.615 148.774 977.745 Q148.774 984.851 150.579 988.416 Q152.408 991.957 156.019 991.957 Q159.653 991.957 161.459 988.416 Q163.288 984.851 163.288 977.745 Q163.288 970.615 161.459 967.073 Q159.653 963.508 156.019 963.508 M156.019 959.805 Q161.829 959.805 164.885 964.411 Q167.964 968.995 167.964 977.745 Q167.964 986.471 164.885 991.078 Q161.829 995.661 156.019 995.661 Q150.209 995.661 147.13 991.078 Q144.075 986.471 144.075 977.745 Q144.075 968.995 147.13 964.411 Q150.209 959.805 156.019 959.805 Z\" fill=\"#000000\" fill-rule=\"nonzero\" fill-opacity=\"1\" /><path clip-path=\"url(#clip200)\" d=\"M119.885 582.328 L136.204 582.328 L136.204 586.263 L114.26 586.263 L114.26 582.328 Q116.922 579.573 121.505 574.944 Q126.112 570.291 127.292 568.948 Q129.538 566.425 130.417 564.689 Q131.32 562.93 131.32 561.24 Q131.32 558.485 129.376 556.749 Q127.455 555.013 124.353 555.013 Q122.154 555.013 119.7 555.777 Q117.269 556.541 114.492 558.092 L114.492 553.37 Q117.316 552.235 119.769 551.657 Q122.223 551.078 124.26 551.078 Q129.63 551.078 132.825 553.763 Q136.019 556.448 136.019 560.939 Q136.019 563.069 135.209 564.99 Q134.422 566.888 132.316 569.481 Q131.737 570.152 128.635 573.37 Q125.533 576.564 119.885 582.328 Z\" fill=\"#000000\" fill-rule=\"nonzero\" fill-opacity=\"1\" /><path clip-path=\"url(#clip200)\" d=\"M156.019 554.782 Q152.408 554.782 150.579 558.347 Q148.774 561.888 148.774 569.018 Q148.774 576.124 150.579 579.689 Q152.408 583.231 156.019 583.231 Q159.653 583.231 161.459 579.689 Q163.288 576.124 163.288 569.018 Q163.288 561.888 161.459 558.347 Q159.653 554.782 156.019 554.782 M156.019 551.078 Q161.829 551.078 164.885 555.685 Q167.964 560.268 167.964 569.018 Q167.964 577.745 164.885 582.351 Q161.829 586.934 156.019 586.934 Q150.209 586.934 147.13 582.351 Q144.075 577.745 144.075 569.018 Q144.075 560.268 147.13 555.685 Q150.209 551.078 156.019 551.078 Z\" fill=\"#000000\" fill-rule=\"nonzero\" fill-opacity=\"1\" /><path clip-path=\"url(#clip200)\" d=\"M130.024 158.902 Q133.38 159.62 135.255 161.888 Q137.154 164.157 137.154 167.49 Q137.154 172.606 133.635 175.407 Q130.117 178.208 123.635 178.208 Q121.459 178.208 119.144 177.768 Q116.853 177.351 114.399 176.495 L114.399 171.981 Q116.343 173.115 118.658 173.694 Q120.973 174.272 123.496 174.272 Q127.894 174.272 130.186 172.536 Q132.501 170.8 132.501 167.49 Q132.501 164.435 130.348 162.722 Q128.218 160.985 124.399 160.985 L120.371 160.985 L120.371 157.143 L124.584 157.143 Q128.033 157.143 129.862 155.777 Q131.691 154.388 131.691 151.796 Q131.691 149.134 129.792 147.722 Q127.917 146.286 124.399 146.286 Q122.478 146.286 120.279 146.703 Q118.08 147.12 115.441 147.999 L115.441 143.833 Q118.103 143.092 120.418 142.722 Q122.755 142.351 124.816 142.351 Q130.14 142.351 133.242 144.782 Q136.343 147.189 136.343 151.31 Q136.343 154.18 134.7 156.171 Q133.056 158.138 130.024 158.902 Z\" fill=\"#000000\" fill-rule=\"nonzero\" fill-opacity=\"1\" /><path clip-path=\"url(#clip200)\" d=\"M156.019 146.055 Q152.408 146.055 150.579 149.62 Q148.774 153.161 148.774 160.291 Q148.774 167.397 150.579 170.962 Q152.408 174.504 156.019 174.504 Q159.653 174.504 161.459 170.962 Q163.288 167.397 163.288 160.291 Q163.288 153.161 161.459 149.62 Q159.653 146.055 156.019 146.055 M156.019 142.351 Q161.829 142.351 164.885 146.958 Q167.964 151.541 167.964 160.291 Q167.964 169.018 164.885 173.624 Q161.829 178.208 156.019 178.208 Q150.209 178.208 147.13 173.624 Q144.075 169.018 144.075 160.291 Q144.075 151.541 147.13 146.958 Q150.209 142.351 156.019 142.351 Z\" fill=\"#000000\" fill-rule=\"nonzero\" fill-opacity=\"1\" /><path clip-path=\"url(#clip200)\" d=\"M46.0847 824.474 Q46.0847 831.572 47.7079 834.309 Q49.3312 837.047 53.2461 837.047 Q56.3653 837.047 58.2114 835.01 Q60.0256 832.941 60.0256 829.408 Q60.0256 824.538 56.5881 821.61 Q53.1188 818.65 47.3897 818.65 L46.0847 818.65 L46.0847 824.474 M43.6657 812.793 L64.0042 812.793 L64.0042 818.65 L58.5933 818.65 Q61.8398 820.655 63.3994 823.647 Q64.9272 826.639 64.9272 830.967 Q64.9272 836.442 61.8716 839.688 Q58.7843 842.903 53.6281 842.903 Q47.6125 842.903 44.5569 838.893 Q41.5014 834.851 41.5014 826.862 L41.5014 818.65 L40.9285 818.65 Q36.8862 818.65 34.6901 821.323 Q32.4621 823.965 32.4621 828.771 Q32.4621 831.827 33.1941 834.723 Q33.9262 837.62 35.3903 840.293 L29.9795 840.293 Q28.7381 837.079 28.1334 834.055 Q27.4968 831.031 27.4968 828.167 Q27.4968 820.432 31.5072 816.613 Q35.5176 812.793 43.6657 812.793 Z\" fill=\"#000000\" fill-rule=\"nonzero\" fill-opacity=\"1\" /><path clip-path=\"url(#clip200)\" d=\"M16.4842 795.192 L34.149 795.192 L34.149 800.603 L16.4842 800.603 L16.4842 795.192 Z\" fill=\"#000000\" fill-rule=\"nonzero\" fill-opacity=\"1\" /><path clip-path=\"url(#clip200)\" d=\"M14.5426 768.743 Q21.8632 773.008 29.0246 775.077 Q36.186 777.145 43.5384 777.145 Q50.8908 777.145 58.1159 775.077 Q65.3091 772.976 72.5979 768.743 L72.5979 773.835 Q65.1182 778.61 57.8931 780.997 Q50.668 783.352 43.5384 783.352 Q36.4406 783.352 29.2474 780.997 Q22.0542 778.641 14.5426 773.835 L14.5426 768.743 Z\" fill=\"#000000\" fill-rule=\"nonzero\" fill-opacity=\"1\" /><path clip-path=\"url(#clip200)\" d=\"M46.0847 741.179 Q46.0847 748.277 47.7079 751.014 Q49.3312 753.751 53.2461 753.751 Q56.3653 753.751 58.2114 751.714 Q60.0256 749.646 60.0256 746.113 Q60.0256 741.243 56.5881 738.315 Q53.1188 735.355 47.3897 735.355 L46.0847 735.355 L46.0847 741.179 M43.6657 729.498 L64.0042 729.498 L64.0042 735.355 L58.5933 735.355 Q61.8398 737.36 63.3994 740.352 Q64.9272 743.344 64.9272 747.672 Q64.9272 753.147 61.8716 756.393 Q58.7843 759.608 53.6281 759.608 Q47.6125 759.608 44.5569 755.597 Q41.5014 751.555 41.5014 743.566 L41.5014 735.355 L40.9285 735.355 Q36.8862 735.355 34.6901 738.028 Q32.4621 740.67 32.4621 745.476 Q32.4621 748.532 33.1941 751.428 Q33.9262 754.324 35.3903 756.998 L29.9795 756.998 Q28.7381 753.783 28.1334 750.76 Q27.4968 747.736 27.4968 744.871 Q27.4968 737.137 31.5072 733.318 Q35.5176 729.498 43.6657 729.498 Z\" fill=\"#000000\" fill-rule=\"nonzero\" fill-opacity=\"1\" /><path clip-path=\"url(#clip200)\" d=\"M14.5426 718.358 L14.5426 713.266 Q22.0542 708.491 29.2474 706.136 Q36.4406 703.749 43.5384 703.749 Q50.668 703.749 57.8931 706.136 Q65.1182 708.491 72.5979 713.266 L72.5979 718.358 Q65.3091 714.125 58.1159 712.056 Q50.8908 709.955 43.5384 709.955 Q36.186 709.955 29.0246 712.056 Q21.8632 714.125 14.5426 718.358 Z\" fill=\"#000000\" fill-rule=\"nonzero\" fill-opacity=\"1\" /><path clip-path=\"url(#clip200)\" d=\"M764.766 18.8205 L764.766 41.5461 L775.055 41.5461 Q780.767 41.5461 783.886 38.5889 Q787.005 35.6318 787.005 30.163 Q787.005 24.7348 783.886 21.7777 Q780.767 18.8205 775.055 18.8205 L764.766 18.8205 M756.583 12.096 L775.055 12.096 Q785.223 12.096 790.408 16.714 Q795.634 21.2916 795.634 30.163 Q795.634 39.1155 790.408 43.6931 Q785.223 48.2706 775.055 48.2706 L764.766 48.2706 L764.766 72.576 L756.583 72.576 L756.583 12.096 Z\" fill=\"#000000\" fill-rule=\"nonzero\" fill-opacity=\"1\" /><path clip-path=\"url(#clip200)\" d=\"M820.911 32.4315 Q814.916 32.4315 811.432 37.1306 Q807.948 41.7891 807.948 49.9314 Q807.948 58.0738 811.392 62.7728 Q814.876 67.4314 820.911 67.4314 Q826.866 67.4314 830.35 62.7323 Q833.834 58.0333 833.834 49.9314 Q833.834 41.8701 830.35 37.1711 Q826.866 32.4315 820.911 32.4315 M820.911 26.1121 Q830.634 26.1121 836.183 32.4315 Q841.733 38.7509 841.733 49.9314 Q841.733 61.0714 836.183 67.4314 Q830.634 73.7508 820.911 73.7508 Q811.149 73.7508 805.599 67.4314 Q800.09 61.0714 800.09 49.9314 Q800.09 38.7509 805.599 32.4315 Q811.149 26.1121 820.911 26.1121 Z\" fill=\"#000000\" fill-rule=\"nonzero\" fill-opacity=\"1\" /><path clip-path=\"url(#clip200)\" d=\"M854.088 9.54393 L861.542 9.54393 L861.542 72.576 L854.088 72.576 L854.088 9.54393 Z\" fill=\"#000000\" fill-rule=\"nonzero\" fill-opacity=\"1\" /><path clip-path=\"url(#clip200)\" d=\"M877.138 27.2059 L884.592 27.2059 L884.592 72.576 L877.138 72.576 L877.138 27.2059 M877.138 9.54393 L884.592 9.54393 L884.592 18.9825 L877.138 18.9825 L877.138 9.54393 Z\" fill=\"#000000\" fill-rule=\"nonzero\" fill-opacity=\"1\" /><path clip-path=\"url(#clip200)\" d=\"M932.838 28.9478 L932.838 35.9153 Q929.678 34.1734 926.478 33.3227 Q923.318 32.4315 920.078 32.4315 Q912.826 32.4315 908.816 37.0496 Q904.806 41.6271 904.806 49.9314 Q904.806 58.2358 908.816 62.8538 Q912.826 67.4314 920.078 67.4314 Q923.318 67.4314 926.478 66.5807 Q929.678 65.6895 932.838 63.9476 L932.838 70.8341 Q929.719 72.2924 926.356 73.0216 Q923.035 73.7508 919.267 73.7508 Q909.019 73.7508 902.983 67.3098 Q896.947 60.8689 896.947 49.9314 Q896.947 38.832 903.023 32.472 Q909.14 26.1121 919.753 26.1121 Q923.197 26.1121 926.478 26.8413 Q929.759 27.5299 932.838 28.9478 Z\" fill=\"#000000\" fill-rule=\"nonzero\" fill-opacity=\"1\" /><path clip-path=\"url(#clip200)\" d=\"M964.678 76.7889 Q961.518 84.8907 958.521 87.3618 Q955.523 89.8329 950.5 89.8329 L944.545 89.8329 L944.545 83.5945 L948.92 83.5945 Q951.999 83.5945 953.7 82.1361 Q955.401 80.6778 957.467 75.2496 L958.804 71.8468 L940.454 27.2059 L948.353 27.2059 L962.531 62.6918 L976.709 27.2059 L984.608 27.2059 L964.678 76.7889 Z\" fill=\"#000000\" fill-rule=\"nonzero\" fill-opacity=\"1\" /><path clip-path=\"url(#clip200)\" d=\"M1044.24 9.54393 L1044.24 15.7418 L1037.11 15.7418 Q1033.1 15.7418 1031.52 17.3622 Q1029.98 18.9825 1029.98 23.1955 L1029.98 27.2059 L1042.25 27.2059 L1042.25 32.9987 L1029.98 32.9987 L1029.98 72.576 L1022.48 72.576 L1022.48 32.9987 L1015.35 32.9987 L1015.35 27.2059 L1022.48 27.2059 L1022.48 24.0462 Q1022.48 16.471 1026.01 13.0277 Q1029.53 9.54393 1037.19 9.54393 L1044.24 9.54393 Z\" fill=\"#000000\" fill-rule=\"nonzero\" fill-opacity=\"1\" /><path clip-path=\"url(#clip200)\" d=\"M1049.71 54.671 L1049.71 27.2059 L1057.16 27.2059 L1057.16 54.3874 Q1057.16 60.8284 1059.67 64.0691 Q1062.18 67.2693 1067.21 67.2693 Q1073.24 67.2693 1076.73 63.421 Q1080.25 59.5726 1080.25 52.9291 L1080.25 27.2059 L1087.7 27.2059 L1087.7 72.576 L1080.25 72.576 L1080.25 65.6084 Q1077.54 69.7404 1073.93 71.7658 Q1070.37 73.7508 1065.63 73.7508 Q1057.81 73.7508 1053.76 68.8897 Q1049.71 64.0286 1049.71 54.671 M1068.46 26.1121 L1068.46 26.1121 Z\" fill=\"#000000\" fill-rule=\"nonzero\" fill-opacity=\"1\" /><path clip-path=\"url(#clip200)\" d=\"M1140.77 45.1919 L1140.77 72.576 L1133.32 72.576 L1133.32 45.4349 Q1133.32 38.994 1130.81 35.7938 Q1128.29 32.5936 1123.27 32.5936 Q1117.24 32.5936 1113.75 36.4419 Q1110.27 40.2903 1110.27 46.9338 L1110.27 72.576 L1102.77 72.576 L1102.77 27.2059 L1110.27 27.2059 L1110.27 34.2544 Q1112.94 30.163 1116.55 28.1376 Q1120.19 26.1121 1124.93 26.1121 Q1132.75 26.1121 1136.76 30.9732 Q1140.77 35.7938 1140.77 45.1919 Z\" fill=\"#000000\" fill-rule=\"nonzero\" fill-opacity=\"1\" /><path clip-path=\"url(#clip200)\" d=\"M1188.29 28.9478 L1188.29 35.9153 Q1185.13 34.1734 1181.93 33.3227 Q1178.77 32.4315 1175.53 32.4315 Q1168.28 32.4315 1164.27 37.0496 Q1160.26 41.6271 1160.26 49.9314 Q1160.26 58.2358 1164.27 62.8538 Q1168.28 67.4314 1175.53 67.4314 Q1178.77 67.4314 1181.93 66.5807 Q1185.13 65.6895 1188.29 63.9476 L1188.29 70.8341 Q1185.17 72.2924 1181.81 73.0216 Q1178.48 73.7508 1174.72 73.7508 Q1164.47 73.7508 1158.43 67.3098 Q1152.4 60.8689 1152.4 49.9314 Q1152.4 38.832 1158.47 32.472 Q1164.59 26.1121 1175.2 26.1121 Q1178.65 26.1121 1181.93 26.8413 Q1185.21 27.5299 1188.29 28.9478 Z\" fill=\"#000000\" fill-rule=\"nonzero\" fill-opacity=\"1\" /><path clip-path=\"url(#clip200)\" d=\"M1208.62 14.324 L1208.62 27.2059 L1223.98 27.2059 L1223.98 32.9987 L1208.62 32.9987 L1208.62 57.6282 Q1208.62 63.1779 1210.12 64.7578 Q1211.66 66.3376 1216.32 66.3376 L1223.98 66.3376 L1223.98 72.576 L1216.32 72.576 Q1207.69 72.576 1204.41 69.3758 Q1201.13 66.1351 1201.13 57.6282 L1201.13 32.9987 L1195.66 32.9987 L1195.66 27.2059 L1201.13 27.2059 L1201.13 14.324 L1208.62 14.324 Z\" fill=\"#000000\" fill-rule=\"nonzero\" fill-opacity=\"1\" /><path clip-path=\"url(#clip200)\" d=\"M1233.78 27.2059 L1241.23 27.2059 L1241.23 72.576 L1233.78 72.576 L1233.78 27.2059 M1233.78 9.54393 L1241.23 9.54393 L1241.23 18.9825 L1233.78 18.9825 L1233.78 9.54393 Z\" fill=\"#000000\" fill-rule=\"nonzero\" fill-opacity=\"1\" /><path clip-path=\"url(#clip200)\" d=\"M1274.41 32.4315 Q1268.41 32.4315 1264.93 37.1306 Q1261.45 41.7891 1261.45 49.9314 Q1261.45 58.0738 1264.89 62.7728 Q1268.37 67.4314 1274.41 67.4314 Q1280.36 67.4314 1283.85 62.7323 Q1287.33 58.0333 1287.33 49.9314 Q1287.33 41.8701 1283.85 37.1711 Q1280.36 32.4315 1274.41 32.4315 M1274.41 26.1121 Q1284.13 26.1121 1289.68 32.4315 Q1295.23 38.7509 1295.23 49.9314 Q1295.23 61.0714 1289.68 67.4314 Q1284.13 73.7508 1274.41 73.7508 Q1264.65 73.7508 1259.1 67.4314 Q1253.59 61.0714 1253.59 49.9314 Q1253.59 38.7509 1259.1 32.4315 Q1264.65 26.1121 1274.41 26.1121 Z\" fill=\"#000000\" fill-rule=\"nonzero\" fill-opacity=\"1\" /><path clip-path=\"url(#clip200)\" d=\"M1345.3 45.1919 L1345.3 72.576 L1337.85 72.576 L1337.85 45.4349 Q1337.85 38.994 1335.34 35.7938 Q1332.82 32.5936 1327.8 32.5936 Q1321.77 32.5936 1318.28 36.4419 Q1314.8 40.2903 1314.8 46.9338 L1314.8 72.576 L1307.3 72.576 L1307.3 27.2059 L1314.8 27.2059 L1314.8 34.2544 Q1317.47 30.163 1321.08 28.1376 Q1324.72 26.1121 1329.46 26.1121 Q1337.28 26.1121 1341.29 30.9732 Q1345.3 35.7938 1345.3 45.1919 Z\" fill=\"#000000\" fill-rule=\"nonzero\" fill-opacity=\"1\" /><path clip-path=\"url(#clip200)\" d=\"M1409.51 9.54393 L1409.51 15.7418 L1402.38 15.7418 Q1398.37 15.7418 1396.79 17.3622 Q1395.25 18.9825 1395.25 23.1955 L1395.25 27.2059 L1407.52 27.2059 L1407.52 32.9987 L1395.25 32.9987 L1395.25 72.576 L1387.75 72.576 L1387.75 32.9987 L1380.62 32.9987 L1380.62 27.2059 L1387.75 27.2059 L1387.75 24.0462 Q1387.75 16.471 1391.28 13.0277 Q1394.8 9.54393 1402.46 9.54393 L1409.51 9.54393 Z\" fill=\"#000000\" fill-rule=\"nonzero\" fill-opacity=\"1\" /><path clip-path=\"url(#clip200)\" d=\"M1433.33 32.4315 Q1427.33 32.4315 1423.85 37.1306 Q1420.36 41.7891 1420.36 49.9314 Q1420.36 58.0738 1423.81 62.7728 Q1427.29 67.4314 1433.33 67.4314 Q1439.28 67.4314 1442.77 62.7323 Q1446.25 58.0333 1446.25 49.9314 Q1446.25 41.8701 1442.77 37.1711 Q1439.28 32.4315 1433.33 32.4315 M1433.33 26.1121 Q1443.05 26.1121 1448.6 32.4315 Q1454.15 38.7509 1454.15 49.9314 Q1454.15 61.0714 1448.6 67.4314 Q1443.05 73.7508 1433.33 73.7508 Q1423.56 73.7508 1418.01 67.4314 Q1412.51 61.0714 1412.51 49.9314 Q1412.51 38.7509 1418.01 32.4315 Q1423.56 26.1121 1433.33 26.1121 Z\" fill=\"#000000\" fill-rule=\"nonzero\" fill-opacity=\"1\" /><path clip-path=\"url(#clip200)\" d=\"M1492.79 34.1734 Q1491.54 33.4443 1490.04 33.1202 Q1488.58 32.7556 1486.8 32.7556 Q1480.48 32.7556 1477.08 36.8875 Q1473.71 40.9789 1473.71 48.6757 L1473.71 72.576 L1466.22 72.576 L1466.22 27.2059 L1473.71 27.2059 L1473.71 34.2544 Q1476.06 30.1225 1479.83 28.1376 Q1483.6 26.1121 1488.99 26.1121 Q1489.76 26.1121 1490.69 26.2337 Q1491.62 26.3147 1492.75 26.5172 L1492.79 34.1734 Z\" fill=\"#000000\" fill-rule=\"nonzero\" fill-opacity=\"1\" /><path clip-path=\"url(#clip200)\" d=\"M1547.6 49.7694 Q1538.57 49.7694 1535.09 51.8354 Q1531.6 53.9013 1531.6 58.8839 Q1531.6 62.8538 1534.19 65.2034 Q1536.83 67.5124 1541.32 67.5124 Q1547.52 67.5124 1551.25 63.1374 Q1555.02 58.7219 1555.02 51.4303 L1555.02 49.7694 L1547.6 49.7694 M1562.47 46.6907 L1562.47 72.576 L1555.02 72.576 L1555.02 65.6895 Q1552.46 69.8214 1548.66 71.8063 Q1544.85 73.7508 1539.34 73.7508 Q1532.37 73.7508 1528.24 69.8619 Q1524.15 65.9325 1524.15 59.3701 Q1524.15 51.7138 1529.25 47.825 Q1534.4 43.9361 1544.56 43.9361 L1555.02 43.9361 L1555.02 43.2069 Q1555.02 38.0623 1551.61 35.2672 Q1548.25 32.4315 1542.13 32.4315 Q1538.25 32.4315 1534.56 33.3632 Q1530.87 34.295 1527.47 36.1584 L1527.47 29.2718 Q1531.56 27.692 1535.41 26.9223 Q1539.26 26.1121 1542.9 26.1121 Q1552.75 26.1121 1557.61 31.2163 Q1562.47 36.3204 1562.47 46.6907 Z\" fill=\"#000000\" fill-rule=\"nonzero\" fill-opacity=\"1\" /><path clip-path=\"url(#clip200)\" d=\"M1607.68 49.3643 Q1607.68 41.2625 1604.32 36.8065 Q1600.99 32.3505 1594.96 32.3505 Q1588.96 32.3505 1585.6 36.8065 Q1582.28 41.2625 1582.28 49.3643 Q1582.28 57.4256 1585.6 61.8816 Q1588.96 66.3376 1594.96 66.3376 Q1600.99 66.3376 1604.32 61.8816 Q1607.68 57.4256 1607.68 49.3643 M1615.13 66.9452 Q1615.13 78.5308 1609.99 84.1616 Q1604.84 89.8329 1594.23 89.8329 Q1590.3 89.8329 1586.82 89.2252 Q1583.33 88.6581 1580.05 87.4428 L1580.05 80.1917 Q1583.33 81.9741 1586.53 82.8248 Q1589.73 83.6755 1593.05 83.6755 Q1600.39 83.6755 1604.03 79.8271 Q1607.68 76.0193 1607.68 68.282 L1607.68 64.5957 Q1605.37 68.6061 1601.76 70.5911 Q1598.16 72.576 1593.14 72.576 Q1584.79 72.576 1579.69 66.2161 Q1574.58 59.8562 1574.58 49.3643 Q1574.58 38.832 1579.69 32.472 Q1584.79 26.1121 1593.14 26.1121 Q1598.16 26.1121 1601.76 28.0971 Q1605.37 30.082 1607.68 34.0924 L1607.68 27.2059 L1615.13 27.2059 L1615.13 66.9452 Z\" fill=\"#000000\" fill-rule=\"nonzero\" fill-opacity=\"1\" /><path clip-path=\"url(#clip200)\" d=\"M1669.29 48.0275 L1669.29 51.6733 L1635.02 51.6733 Q1635.51 59.3701 1639.64 63.421 Q1643.81 67.4314 1651.23 67.4314 Q1655.52 67.4314 1659.53 66.3781 Q1663.58 65.3249 1667.55 63.2184 L1667.55 70.267 Q1663.54 71.9684 1659.33 72.8596 Q1655.11 73.7508 1650.78 73.7508 Q1639.92 73.7508 1633.56 67.4314 Q1627.24 61.1119 1627.24 50.3365 Q1627.24 39.1965 1633.24 32.6746 Q1639.28 26.1121 1649.48 26.1121 Q1658.64 26.1121 1663.95 32.0264 Q1669.29 37.9003 1669.29 48.0275 M1661.84 45.84 Q1661.76 39.7232 1658.4 36.0774 Q1655.07 32.4315 1649.56 32.4315 Q1643.33 32.4315 1639.56 35.9558 Q1635.83 39.4801 1635.26 45.8805 L1661.84 45.84 Z\" fill=\"#000000\" fill-rule=\"nonzero\" fill-opacity=\"1\" /><path clip-path=\"url(#clip200)\" d=\"M1716 65.6895 L1744.56 65.6895 L1744.56 72.576 L1706.16 72.576 L1706.16 65.6895 Q1710.81 60.8689 1718.83 52.7671 Q1726.9 44.6248 1728.96 42.2752 Q1732.89 37.8598 1734.43 34.8216 Q1736.01 31.7429 1736.01 28.7857 Q1736.01 23.9651 1732.61 20.927 Q1729.25 17.8888 1723.82 17.8888 Q1719.97 17.8888 1715.68 19.2256 Q1711.42 20.5624 1706.56 23.2765 L1706.56 15.0127 Q1711.5 13.0277 1715.8 12.015 Q1720.09 11.0023 1723.66 11.0023 Q1733.05 11.0023 1738.64 15.7013 Q1744.23 20.4004 1744.23 28.2591 Q1744.23 31.9859 1742.82 35.3482 Q1741.44 38.6699 1737.75 43.2069 Q1736.74 44.3817 1731.31 50.0125 Q1725.88 55.6027 1716 65.6895 Z\" fill=\"#000000\" fill-rule=\"nonzero\" fill-opacity=\"1\" /><path clip-path=\"url(#clip200)\" d=\"M1779.23 17.4837 Q1772.91 17.4837 1769.71 23.7221 Q1766.55 29.92 1766.55 42.3968 Q1766.55 54.833 1769.71 61.0714 Q1772.91 67.2693 1779.23 67.2693 Q1785.59 67.2693 1788.75 61.0714 Q1791.95 54.833 1791.95 42.3968 Q1791.95 29.92 1788.75 23.7221 Q1785.59 17.4837 1779.23 17.4837 M1779.23 11.0023 Q1789.4 11.0023 1794.75 19.0636 Q1800.14 27.0843 1800.14 42.3968 Q1800.14 57.6687 1794.75 65.73 Q1789.4 73.7508 1779.23 73.7508 Q1769.07 73.7508 1763.68 65.73 Q1758.33 57.6687 1758.33 42.3968 Q1758.33 27.0843 1763.68 19.0636 Q1769.07 11.0023 1779.23 11.0023 Z\" fill=\"#000000\" fill-rule=\"nonzero\" fill-opacity=\"1\" /><polyline clip-path=\"url(#clip202)\" style=\"stroke:#009af9; stroke-linecap:round; stroke-linejoin:round; stroke-width:4; stroke-opacity:1; fill:none\" points=\"264.778,1329.94 266.808,1328.71 268.837,1327.48 270.866,1326.25 272.895,1325.03 274.924,1323.8 276.954,1323.8 278.983,1322.57 281.012,1321.35 283.041,1320.12 285.07,1318.89 287.1,1317.66 289.129,1316.44 291.158,1315.21 293.187,1313.98 295.216,1312.75 297.246,1311.53 299.275,1310.3 301.304,1309.07 303.333,1307.84 305.362,1306.62 307.391,1305.39 309.421,1304.16 311.45,1302.93 313.479,1301.71 315.508,1300.48 317.537,1300.48 319.567,1299.25 321.596,1298.03 323.625,1296.8 325.654,1295.57 327.683,1294.34 329.713,1293.12 331.742,1291.89 333.771,1290.66 335.8,1289.43 337.829,1288.21 339.859,1286.98 341.888,1285.75 343.917,1284.52 345.946,1283.3 347.975,1282.07 350.005,1280.84 352.034,1279.61 354.063,1278.39 356.092,1277.16 358.121,1275.93 360.15,1275.93 362.18,1274.71 364.209,1273.48 366.238,1272.25 368.267,1271.02 370.296,1269.8 372.326,1268.57 374.355,1267.34 376.384,1266.11 378.413,1264.89 380.442,1263.66 382.472,1262.43 384.501,1261.2 386.53,1259.98 388.559,1258.75 390.588,1257.52 392.618,1256.29 394.647,1255.07 396.676,1253.84 398.705,1252.61 400.734,1251.39 402.763,1251.39 404.793,1250.16 406.822,1248.93 408.851,1247.7 410.88,1246.48 412.909,1245.25 414.939,1244.02 416.968,1242.79 418.997,1241.57 421.026,1240.34 423.055,1239.11 425.085,1237.88 427.114,1236.66 429.143,1235.43 431.172,1234.2 433.201,1232.97 435.231,1231.75 437.26,1230.52 439.289,1229.29 441.318,1228.07 443.347,1228.07 445.377,1226.84 447.406,1225.61 449.435,1224.38 451.464,1223.16 453.493,1221.93 455.522,1220.7 457.552,1219.47 459.581,1218.25 461.61,1217.02 463.639,1215.79 465.668,1214.56 467.698,1213.34 469.727,1212.11 471.756,1210.88 473.785,1209.65 475.814,1208.43 477.844,1207.2 479.873,1205.97 481.902,1204.75 483.931,1203.52 485.96,1203.52 487.99,1202.29 490.019,1201.06 492.048,1199.84 494.077,1198.61 496.106,1197.38 498.136,1196.15 500.165,1194.93 502.194,1193.7 504.223,1192.47 506.252,1191.24 508.281,1190.02 510.311,1188.79 512.34,1187.56 514.369,1186.33 516.398,1185.11 518.427,1183.88 520.457,1182.65 522.486,1181.43 524.515,1180.2 526.544,1178.97 528.573,1178.97 530.603,1177.74 532.632,1176.52 534.661,1175.29 536.69,1174.06 538.719,1172.83 540.749,1171.61 542.778,1170.38 544.807,1169.15 546.836,1167.92 548.865,1166.7 550.894,1165.47 552.924,1164.24 554.953,1163.01 556.982,1161.79 559.011,1160.56 561.04,1159.33 563.07,1158.11 565.099,1156.88 567.128,1155.65 569.157,1155.65 571.186,1154.42 573.216,1153.2 575.245,1151.97 577.274,1150.74 579.303,1149.51 581.332,1148.29 583.362,1147.06 585.391,1145.83 587.42,1144.6 589.449,1143.38 591.478,1142.15 593.508,1140.92 595.537,1139.69 597.566,1138.47 599.595,1137.24 601.624,1136.01 603.653,1134.79 605.683,1133.56 607.712,1132.33 609.741,1131.1 611.77,1131.1 613.799,1129.88 615.829,1128.65 617.858,1127.42 619.887,1126.19 621.916,1124.97 623.945,1123.74 625.975,1122.51 628.004,1121.28 630.033,1120.06 632.062,1118.83 634.091,1117.6 636.121,1116.37 638.15,1115.15 640.179,1113.92 642.208,1112.69 644.237,1111.47 646.267,1110.24 648.296,1109.01 650.325,1109.01 652.354,1107.78 654.383,1106.56 656.412,1105.33 658.442,1104.1 660.471,1102.87 662.5,1101.65 664.529,1100.42 666.558,1099.19 668.588,1097.96 670.617,1096.74 672.646,1095.51 674.675,1094.28 676.704,1093.06 678.734,1091.83 680.763,1090.6 682.792,1089.37 684.821,1088.15 686.85,1086.92 688.88,1085.69 690.909,1085.69 692.938,1084.46 694.967,1083.24 696.996,1082.01 699.025,1080.78 701.055,1079.55 703.084,1078.33 705.113,1077.1 707.142,1075.87 709.171,1074.64 711.201,1073.42 713.23,1072.19 715.259,1070.96 717.288,1069.74 719.317,1068.51 721.347,1067.28 723.376,1066.05 725.405,1064.83 727.434,1063.6 729.463,1062.37 731.493,1061.14 733.522,1061.14 735.551,1059.92 737.58,1058.69 739.609,1057.46 741.639,1056.23 743.668,1055.01 745.697,1053.78 747.726,1052.55 749.755,1051.32 751.784,1050.1 753.814,1048.87 755.843,1047.64 757.872,1046.42 759.901,1045.19 761.93,1043.96 763.96,1042.73 765.989,1041.51 768.018,1040.28 770.047,1039.05 772.076,1037.82 774.106,1036.6 776.135,1035.37 778.164,1034.14 780.193,1034.14 782.222,1032.91 784.252,1031.69 786.281,1030.46 788.31,1029.23 790.339,1028 792.368,1026.78 794.398,1025.55 796.427,1024.32 798.456,1023.1 800.485,1021.87 802.514,1020.64 804.543,1019.41 806.573,1018.19 808.602,1016.96 810.631,1015.73 812.66,1014.5 814.689,1013.28 816.719,1012.05 818.748,1010.82 820.777,1009.59 822.806,1008.37 824.835,1007.14 826.865,1007.14 828.894,1005.91 830.923,1004.68 832.952,1003.46 834.981,1002.23 837.011,1001 839.04,999.775 841.069,998.548 843.098,997.32 845.127,996.093 847.156,994.866 849.186,993.638 851.215,992.411 853.244,991.184 855.273,989.956 857.302,988.729 859.332,987.501 861.361,986.274 863.39,985.047 865.419,983.819 867.448,982.592 869.478,981.365 871.507,980.137 873.536,978.91 875.565,977.683 877.594,977.683 879.624,976.455 881.653,975.228 883.682,974 885.711,972.773 887.74,971.546 889.77,970.318 891.799,969.091 893.828,967.864 895.857,966.636 897.886,965.409 899.915,964.182 901.945,962.954 903.974,961.727 906.003,960.499 908.032,959.272 910.061,958.045 912.091,956.817 914.12,955.59 916.149,954.363 918.178,953.135 920.207,951.908 922.237,950.68 924.266,949.453 926.295,948.226 928.324,946.998 930.353,945.771 932.383,945.771 934.412,944.544 936.441,943.316 938.47,942.089 940.499,940.862 942.529,939.634 944.558,938.407 946.587,937.179 948.616,935.952 950.645,934.725 952.674,933.497 954.704,932.27 956.733,931.043 958.762,929.815 960.791,928.588 962.82,927.361 964.85,926.133 966.879,924.906 968.908,923.678 970.937,922.451 972.966,921.224 974.996,919.996 977.025,918.769 979.054,917.542 981.083,916.314 983.112,915.087 985.142,913.859 987.171,912.632 989.2,912.632 991.229,911.405 993.258,910.177 995.287,908.95 997.317,907.723 999.346,906.495 1001.38,905.268 1003.4,904.041 1005.43,902.813 1007.46,901.586 1009.49,900.358 1011.52,899.131 1013.55,897.904 1015.58,896.676 1017.61,895.449 1019.64,894.222 1021.67,892.994 1023.7,891.767 1025.73,890.54 1027.75,889.312 1029.78,888.085 1031.81,886.857 1033.84,885.63 1035.87,884.403 1037.9,883.175 1039.93,881.948 1041.96,880.721 1043.99,879.493 1046.02,878.266 1048.05,878.266 1050.08,877.038 1052.1,875.811 1054.13,874.584 1056.16,873.356 1058.19,872.129 1060.22,870.902 1062.25,869.674 1064.28,868.447 1066.31,867.22 1068.34,865.992 1070.37,864.765 1072.4,863.537 1074.43,862.31 1076.46,861.083 1078.48,859.855 1080.51,858.628 1082.54,857.401 1084.57,856.173 1086.6,854.946 1088.63,853.719 1090.66,852.491 1092.69,851.264 1094.72,850.036 1096.75,848.809 1098.78,847.582 1100.81,846.354 1102.83,845.127 1104.86,843.9 1106.89,842.672 1108.92,842.672 1110.95,841.445 1112.98,840.217 1115.01,838.99 1117.04,837.763 1119.07,836.535 1121.1,835.308 1123.13,834.081 1125.16,832.853 1127.18,831.626 1129.21,830.399 1131.24,829.171 1133.27,827.944 1135.3,826.716 1137.33,825.489 1139.36,824.262 1141.39,823.034 1143.42,821.807 1145.45,820.58 1147.48,819.352 1149.51,818.125 1151.54,816.898 1153.56,815.67 1155.59,814.443 1157.62,813.215 1159.65,811.988 1161.68,810.761 1163.71,809.533 1165.74,808.306 1167.77,807.079 1169.8,805.851 1171.83,804.624 1173.86,803.396 1175.89,803.396 1177.91,802.169 1179.94,800.942 1181.97,799.714 1184,798.487 1186.03,797.26 1188.06,796.032 1190.09,794.805 1192.12,793.578 1194.15,792.35 1196.18,791.123 1198.21,789.895 1200.24,788.668 1202.27,787.441 1204.29,786.213 1206.32,784.986 1208.35,783.759 1210.38,782.531 1212.41,781.304 1214.44,780.077 1216.47,778.849 1218.5,777.622 1220.53,776.394 1222.56,775.167 1224.59,773.94 1226.62,772.712 1228.64,771.485 1230.67,770.258 1232.7,769.03 1234.73,767.803 1236.76,766.575 1238.79,765.348 1240.82,764.121 1242.85,762.893 1244.88,761.666 1246.91,761.666 1248.94,760.439 1250.97,759.211 1252.99,757.984 1255.02,756.757 1257.05,755.529 1259.08,754.302 1261.11,753.074 1263.14,751.847 1265.17,750.62 1267.2,749.392 1269.23,748.165 1271.26,746.938 1273.29,745.71 1275.32,744.483 1277.35,743.255 1279.37,742.028 1281.4,740.801 1283.43,739.573 1285.46,738.346 1287.49,737.119 1289.52,735.891 1291.55,734.664 1293.58,733.437 1295.61,732.209 1297.64,730.982 1299.67,729.754 1301.7,728.527 1303.72,727.3 1305.75,726.072 1307.78,724.845 1309.81,723.618 1311.84,722.39 1313.87,721.163 1315.9,719.936 1317.93,718.708 1319.96,717.481 1321.99,716.253 1324.02,716.253 1326.05,715.026 1328.07,713.799 1330.1,712.571 1332.13,711.344 1334.16,710.117 1336.19,708.889 1338.22,707.662 1340.25,706.434 1342.28,705.207 1344.31,703.98 1346.34,702.752 1348.37,701.525 1350.4,700.298 1352.43,699.07 1354.45,697.843 1356.48,696.616 1358.51,695.388 1360.54,694.161 1362.57,692.933 1364.6,691.706 1366.63,690.479 1368.66,689.251 1370.69,688.024 1372.72,686.797 1374.75,685.569 1376.78,684.342 1378.8,683.115 1380.83,681.887 1382.86,680.66 1384.89,679.432 1386.92,678.205 1388.95,676.978 1390.98,675.75 1393.01,674.523 1395.04,673.296 1397.07,672.068 1399.1,670.841 1401.13,670.841 1403.16,669.613 1405.18,668.386 1407.21,667.159 1409.24,665.931 1411.27,664.704 1413.3,663.477 1415.33,662.249 1417.36,661.022 1419.39,659.795 1421.42,658.567 1423.45,657.34 1425.48,656.112 1427.51,654.885 1429.53,653.658 1431.56,652.43 1433.59,651.203 1435.62,649.976 1437.65,648.748 1439.68,647.521 1441.71,646.294 1443.74,645.066 1445.77,643.839 1447.8,642.611 1449.83,641.384 1451.86,640.157 1453.88,638.929 1455.91,637.702 1457.94,636.475 1459.97,635.247 1462,634.02 1464.03,632.792 1466.06,631.565 1468.09,630.338 1470.12,629.11 1472.15,627.883 1474.18,626.656 1476.21,625.428 1478.24,624.201 1480.26,622.974 1482.29,621.746 1484.32,621.746 1486.35,620.519 1488.38,619.291 1490.41,618.064 1492.44,616.837 1494.47,615.609 1496.5,614.382 1498.53,613.155 1500.56,611.927 1502.59,610.7 1504.61,609.473 1506.64,608.245 1508.67,607.018 1510.7,605.79 1512.73,604.563 1514.76,603.336 1516.79,602.108 1518.82,600.881 1520.85,599.654 1522.88,598.426 1524.91,597.199 1526.94,595.971 1528.96,594.744 1530.99,593.517 1533.02,592.289 1535.05,591.062 1537.08,589.835 1539.11,588.607 1541.14,587.38 1543.17,586.153 1545.2,584.925 1547.23,583.698 1549.26,582.47 1551.29,581.243 1553.32,580.016 1555.34,578.788 1557.37,577.561 1559.4,576.334 1561.43,575.106 1563.46,573.879 1565.49,572.652 1567.52,571.424 1569.55,571.424 1571.58,570.197 1573.61,568.969 1575.64,567.742 1577.67,566.515 1579.69,565.287 1581.72,564.06 1583.75,562.833 1585.78,561.605 1587.81,560.378 1589.84,559.15 1591.87,557.923 1593.9,556.696 1595.93,555.468 1597.96,554.241 1599.99,553.014 1602.02,551.786 1604.05,550.559 1606.07,549.332 1608.1,548.104 1610.13,546.877 1612.16,545.649 1614.19,544.422 1616.22,543.195 1618.25,541.967 1620.28,540.74 1622.31,539.513 1624.34,538.285 1626.37,537.058 1628.4,535.831 1630.42,534.603 1632.45,533.376 1634.48,532.148 1636.51,530.921 1638.54,529.694 1640.57,528.466 1642.6,527.239 1644.63,526.012 1646.66,524.784 1648.69,523.557 1650.72,522.329 1652.75,521.102 1654.77,519.875 1656.8,518.647 1658.83,517.42 1660.86,517.42 1662.89,516.193 1664.92,514.965 1666.95,513.738 1668.98,512.511 1671.01,511.283 1673.04,510.056 1675.07,508.828 1677.1,507.601 1679.13,506.374 1681.15,505.146 1683.18,503.919 1685.21,502.692 1687.24,501.464 1689.27,500.237 1691.3,499.01 1693.33,497.782 1695.36,496.555 1697.39,495.327 1699.42,494.1 1701.45,492.873 1703.48,491.645 1705.5,490.418 1707.53,489.191 1709.56,487.963 1711.59,486.736 1713.62,485.508 1715.65,484.281 1717.68,483.054 1719.71,481.826 1721.74,480.599 1723.77,479.372 1725.8,478.144 1727.83,476.917 1729.85,475.69 1731.88,474.462 1733.91,473.235 1735.94,472.007 1737.97,470.78 1740,469.553 1742.03,468.325 1744.06,467.098 1746.09,465.871 1748.12,464.643 1750.15,463.416 1752.18,462.189 1754.21,460.961 1756.23,460.961 1758.26,459.734 1760.29,458.506 1762.32,457.279 1764.35,456.052 1766.38,454.824 1768.41,453.597 1770.44,452.37 1772.47,451.142 1774.5,449.915 1776.53,448.687 1778.56,447.46 1780.58,446.233 1782.61,445.005 1784.64,443.778 1786.67,442.551 1788.7,441.323 1790.73,440.096 1792.76,438.869 1794.79,437.641 1796.82,436.414 1798.85,435.186 1800.88,433.959 1802.91,432.732 1804.94,431.504 1806.96,430.277 1808.99,429.05 1811.02,427.822 1813.05,426.595 1815.08,425.368 1817.11,424.14 1819.14,422.913 1821.17,421.685 1823.2,420.458 1825.23,419.231 1827.26,418.003 1829.29,416.776 1831.31,415.549 1833.34,414.321 1835.37,413.094 1837.4,411.866 1839.43,410.639 1841.46,409.412 1843.49,408.184 1845.52,406.957 1847.55,405.73 1849.58,404.502 1851.61,403.275 1853.64,402.048 1855.66,402.048 1857.69,400.82 1859.72,399.593 1861.75,398.365 1863.78,397.138 1865.81,395.911 1867.84,394.683 1869.87,393.456 1871.9,392.229 1873.93,391.001 1875.96,389.774 1877.99,388.547 1880.02,387.319 1882.04,386.092 1884.07,384.864 1886.1,383.637 1888.13,382.41 1890.16,381.182 1892.19,379.955 1894.22,378.728 1896.25,377.5 1898.28,376.273 1900.31,375.045 1902.34,373.818 1904.37,372.591 1906.39,371.363 1908.42,370.136 1910.45,368.909 1912.48,367.681 1914.51,366.454 1916.54,365.227 1918.57,363.999 1920.6,362.772 1922.63,361.544 1924.66,360.317 1926.69,359.09 1928.72,357.862 1930.74,356.635 1932.77,355.408 1934.8,354.18 1936.83,352.953 1938.86,351.726 1940.89,350.498 1942.92,349.271 1944.95,348.043 1946.98,346.816 1949.01,345.589 1951.04,345.589 1953.07,344.361 1955.1,343.134 1957.12,341.907 1959.15,340.679 1961.18,339.452 1963.21,338.224 1965.24,336.997 1967.27,335.77 1969.3,334.542 1971.33,333.315 1973.36,332.088 1975.39,330.86 1977.42,329.633 1979.45,328.406 1981.47,327.178 1983.5,325.951 1985.53,324.723 1987.56,323.496 1989.59,322.269 1991.62,321.041 1993.65,319.814 1995.68,318.587 1997.71,317.359 1999.74,316.132 2001.77,314.905 2003.8,313.677 2005.82,312.45 2007.85,311.222 2009.88,309.995 2011.91,308.768 2013.94,307.54 2015.97,307.54 2018,306.313 2020.03,305.086 2022.06,303.858 2024.09,302.631 2026.12,301.403 2028.15,300.176 2030.18,298.949 2032.2,297.721 2034.23,296.494 2036.26,295.267 2038.29,294.039 2040.32,292.812 2042.35,291.585 2044.38,290.357 2046.41,289.13 2048.44,287.902 2050.47,286.675 2052.5,285.448 2054.53,284.22 2056.55,282.993 2058.58,281.766 2060.61,280.538 2062.64,279.311 2064.67,278.084 2066.7,278.084 2068.73,276.856 2070.76,275.629 2072.79,274.401 2074.82,273.174 2076.85,271.947 2078.88,270.719 2080.91,269.492 2082.93,268.265 2084.96,267.037 2086.99,265.81 2089.02,264.582 2091.05,263.355 2093.08,262.128 2095.11,260.9 2097.14,259.673 2099.17,258.446 2101.2,257.218 2103.23,255.991 2105.26,254.764 2107.28,253.536 2109.31,253.536 2111.34,252.309 2113.37,251.081 2115.4,249.854 2117.43,248.627 2119.46,247.399 2121.49,246.172 2123.52,244.945 2125.55,243.717 2127.58,242.49 2129.61,241.263 2131.63,240.035 2133.66,238.808 2135.69,237.58 2137.72,236.353 2139.75,235.126 2141.78,233.898 2143.81,232.671 2145.84,232.671 2147.87,231.444 2149.9,230.216 2151.93,228.989 2153.96,227.761 2155.99,226.534 2158.01,225.307 2160.04,224.079 2162.07,222.852 2164.1,221.625 2166.13,220.397 2168.16,219.17 2170.19,217.943 2172.22,216.715 2174.25,216.715 2176.28,215.488 2178.31,214.26 2180.34,213.033 2182.36,211.806 2184.39,210.578 2186.42,209.351 2188.45,208.124 2190.48,206.896 2192.51,205.669 2194.54,204.442 2196.57,203.214 2198.6,203.214 2200.63,201.987 2202.66,200.759 2204.69,199.532 2206.71,198.305 2208.74,197.077 2210.77,195.85 2212.8,194.623 2214.83,193.395 2216.86,192.168 2218.89,192.168 2220.92,190.94 2222.95,189.713 2224.98,188.486 2227.01,187.258 2229.04,186.031 2231.07,184.804 2233.09,184.804 2235.12,183.576 2237.15,182.349 2239.18,181.122 2241.21,179.894 2243.24,178.667 2245.27,178.667 2247.3,177.439 2249.33,176.212 2251.36,174.985 2253.39,173.757 2255.42,172.53 2257.44,172.53 2259.47,171.303 2261.5,170.075 2263.53,168.848 2265.56,168.848 2267.59,167.621 2269.62,166.393 2271.65,165.166 2273.68,165.166 2275.71,163.938 2277.74,162.711 2279.77,162.711 2281.8,161.484 2283.82,161.484 2285.85,160.256 2287.88,160.256 2289.91,160.256 2291.94,160.256 \"/>\n",
       "<polyline clip-path=\"url(#clip202)\" style=\"stroke:#e26f46; stroke-linecap:round; stroke-linejoin:round; stroke-width:4; stroke-opacity:1; fill:none\" points=\"264.778,1386.4 266.808,1385.17 268.837,1383.94 270.866,1382.71 272.895,1381.49 274.924,1380.26 276.954,1379.03 278.983,1377.8 281.012,1376.58 283.041,1375.35 285.07,1374.12 287.1,1372.89 289.129,1371.67 291.158,1370.44 293.187,1369.21 295.216,1367.99 297.246,1366.76 299.275,1365.53 301.304,1364.3 303.333,1363.08 305.362,1361.85 307.391,1360.62 309.421,1359.39 311.45,1358.17 313.479,1356.94 315.508,1355.71 317.537,1354.48 319.567,1353.26 321.596,1352.03 323.625,1350.8 325.654,1349.57 327.683,1348.35 329.713,1347.12 331.742,1345.89 333.771,1344.67 335.8,1343.44 337.829,1342.21 339.859,1340.98 341.888,1339.76 343.917,1338.53 345.946,1337.3 347.975,1336.07 350.005,1334.85 352.034,1333.62 354.063,1332.39 356.092,1331.16 358.121,1329.94 360.15,1328.71 362.18,1327.48 364.209,1326.25 366.238,1325.03 368.267,1323.8 370.296,1322.57 372.326,1321.35 374.355,1320.12 376.384,1318.89 378.413,1317.66 380.442,1316.44 382.472,1315.21 384.501,1313.98 386.53,1312.75 388.559,1311.53 390.588,1310.3 392.618,1309.07 394.647,1307.84 396.676,1306.62 398.705,1305.39 400.734,1304.16 402.763,1302.93 404.793,1301.71 406.822,1300.48 408.851,1299.25 410.88,1298.03 412.909,1296.8 414.939,1295.57 416.968,1294.34 418.997,1293.12 421.026,1291.89 423.055,1290.66 425.085,1289.43 427.114,1288.21 429.143,1286.98 431.172,1285.75 433.201,1284.52 435.231,1283.3 437.26,1282.07 439.289,1280.84 441.318,1279.61 443.347,1279.61 445.377,1278.39 447.406,1277.16 449.435,1275.93 451.464,1274.71 453.493,1273.48 455.522,1272.25 457.552,1271.02 459.581,1269.8 461.61,1268.57 463.639,1267.34 465.668,1266.11 467.698,1264.89 469.727,1263.66 471.756,1262.43 473.785,1261.2 475.814,1259.98 477.844,1258.75 479.873,1257.52 481.902,1256.29 483.931,1255.07 485.96,1253.84 487.99,1252.61 490.019,1251.39 492.048,1250.16 494.077,1248.93 496.106,1247.7 498.136,1246.48 500.165,1245.25 502.194,1244.02 504.223,1242.79 506.252,1241.57 508.281,1240.34 510.311,1239.11 512.34,1237.88 514.369,1236.66 516.398,1235.43 518.427,1234.2 520.457,1232.97 522.486,1231.75 524.515,1230.52 526.544,1229.29 528.573,1228.07 530.603,1226.84 532.632,1225.61 534.661,1224.38 536.69,1223.16 538.719,1221.93 540.749,1220.7 542.778,1219.47 544.807,1218.25 546.836,1217.02 548.865,1215.79 550.894,1214.56 552.924,1213.34 554.953,1212.11 556.982,1210.88 559.011,1209.65 561.04,1208.43 563.07,1207.2 565.099,1205.97 567.128,1204.75 569.157,1203.52 571.186,1202.29 573.216,1201.06 575.245,1199.84 577.274,1198.61 579.303,1197.38 581.332,1196.15 583.362,1194.93 585.391,1193.7 587.42,1192.47 589.449,1191.24 591.478,1190.02 593.508,1188.79 595.537,1187.56 597.566,1186.33 599.595,1185.11 601.624,1183.88 603.653,1182.65 605.683,1181.43 607.712,1180.2 609.741,1178.97 611.77,1177.74 613.799,1176.52 615.829,1175.29 617.858,1174.06 619.887,1172.83 621.916,1171.61 623.945,1170.38 625.975,1169.15 628.004,1167.92 630.033,1166.7 632.062,1165.47 634.091,1164.24 636.121,1163.01 638.15,1161.79 640.179,1160.56 642.208,1159.33 644.237,1158.11 646.267,1156.88 648.296,1155.65 650.325,1154.42 652.354,1153.2 654.383,1151.97 656.412,1150.74 658.442,1149.51 660.471,1148.29 662.5,1147.06 664.529,1145.83 666.558,1144.6 668.588,1143.38 670.617,1142.15 672.646,1140.92 674.675,1139.69 676.704,1138.47 678.734,1137.24 680.763,1136.01 682.792,1134.79 684.821,1133.56 686.85,1132.33 688.88,1131.1 690.909,1129.88 692.938,1128.65 694.967,1127.42 696.996,1126.19 699.025,1124.97 701.055,1123.74 703.084,1122.51 705.113,1121.28 707.142,1120.06 709.171,1118.83 711.201,1117.6 713.23,1116.37 715.259,1115.15 717.288,1113.92 719.317,1112.69 721.347,1111.47 723.376,1110.24 725.405,1109.01 727.434,1107.78 729.463,1106.56 731.493,1105.33 733.522,1104.1 735.551,1102.87 737.58,1101.65 739.609,1100.42 741.639,1099.19 743.668,1097.96 745.697,1096.74 747.726,1095.51 749.755,1094.28 751.784,1093.06 753.814,1091.83 755.843,1090.6 757.872,1089.37 759.901,1088.15 761.93,1086.92 763.96,1085.69 765.989,1084.46 768.018,1083.24 770.047,1082.01 772.076,1080.78 774.106,1079.55 776.135,1078.33 778.164,1077.1 780.193,1075.87 782.222,1074.64 784.252,1073.42 786.281,1072.19 788.31,1070.96 790.339,1069.74 792.368,1068.51 794.398,1067.28 796.427,1066.05 798.456,1064.83 800.485,1063.6 802.514,1062.37 804.543,1061.14 806.573,1059.92 808.602,1058.69 810.631,1057.46 812.66,1056.23 814.689,1055.01 816.719,1053.78 818.748,1052.55 820.777,1051.32 822.806,1050.1 824.835,1048.87 826.865,1047.64 828.894,1046.42 830.923,1045.19 832.952,1043.96 834.981,1042.73 837.011,1041.51 839.04,1040.28 841.069,1039.05 843.098,1037.82 845.127,1036.6 847.156,1035.37 849.186,1034.14 851.215,1032.91 853.244,1031.69 855.273,1030.46 857.302,1029.23 859.332,1028 861.361,1026.78 863.39,1025.55 865.419,1024.32 867.448,1023.1 869.478,1021.87 871.507,1020.64 873.536,1019.41 875.565,1018.19 877.594,1016.96 879.624,1015.73 881.653,1014.5 883.682,1013.28 885.711,1012.05 887.74,1010.82 889.77,1009.59 891.799,1008.37 893.828,1007.14 895.857,1005.91 897.886,1004.68 899.915,1003.46 901.945,1002.23 903.974,1001 906.003,999.775 908.032,998.548 910.061,997.32 912.091,996.093 914.12,994.866 916.149,993.638 918.178,992.411 920.207,991.184 922.237,989.956 924.266,988.729 926.295,987.501 928.324,986.274 930.353,985.047 932.383,983.819 934.412,982.592 936.441,981.365 938.47,980.137 940.499,978.91 942.529,977.683 944.558,976.455 946.587,975.228 948.616,974 950.645,972.773 952.674,971.546 954.704,970.318 956.733,969.091 958.762,967.864 960.791,966.636 962.82,965.409 964.85,964.182 966.879,962.954 968.908,961.727 970.937,960.499 972.966,959.272 974.996,958.045 977.025,956.817 979.054,955.59 981.083,954.363 983.112,953.135 985.142,951.908 987.171,950.68 989.2,949.453 991.229,948.226 993.258,946.998 995.287,945.771 997.317,944.544 999.346,943.316 1001.38,942.089 1003.4,940.862 1005.43,939.634 1007.46,938.407 1009.49,937.179 1011.52,935.952 1013.55,934.725 1015.58,933.497 1017.61,932.27 1019.64,931.043 1021.67,929.815 1023.7,928.588 1025.73,927.361 1027.75,926.133 1029.78,924.906 1031.81,923.678 1033.84,922.451 1035.87,921.224 1037.9,919.996 1039.93,918.769 1041.96,917.542 1043.99,916.314 1046.02,915.087 1048.05,913.859 1050.08,912.632 1052.1,911.405 1054.13,910.177 1056.16,908.95 1058.19,907.723 1060.22,906.495 1062.25,905.268 1064.28,904.041 1066.31,902.813 1068.34,901.586 1070.37,900.358 1072.4,899.131 1074.43,897.904 1076.46,896.676 1078.48,895.449 1080.51,894.222 1082.54,892.994 1084.57,891.767 1086.6,890.54 1088.63,889.312 1090.66,888.085 1092.69,886.857 1094.72,885.63 1096.75,884.403 1098.78,883.175 1100.81,881.948 1102.83,880.721 1104.86,879.493 1106.89,878.266 1108.92,877.038 1110.95,875.811 1112.98,874.584 1115.01,873.356 1117.04,872.129 1119.07,870.902 1121.1,869.674 1123.13,868.447 1125.16,867.22 1127.18,865.992 1129.21,864.765 1131.24,863.537 1133.27,862.31 1135.3,861.083 1137.33,859.855 1139.36,858.628 1141.39,857.401 1143.42,856.173 1145.45,854.946 1147.48,853.719 1149.51,852.491 1151.54,851.264 1153.56,850.036 1155.59,848.809 1157.62,847.582 1159.65,846.354 1161.68,845.127 1163.71,843.9 1165.74,842.672 1167.77,841.445 1169.8,840.217 1171.83,838.99 1173.86,837.763 1175.89,836.535 1177.91,835.308 1179.94,834.081 1181.97,832.853 1184,831.626 1186.03,830.399 1188.06,829.171 1190.09,827.944 1192.12,826.716 1194.15,825.489 1196.18,823.034 1198.21,821.807 1200.24,820.58 1202.27,819.352 1204.29,818.125 1206.32,816.898 1208.35,815.67 1210.38,814.443 1212.41,813.215 1214.44,811.988 1216.47,810.761 1218.5,809.533 1220.53,808.306 1222.56,807.079 1224.59,805.851 1226.62,804.624 1228.64,803.396 1230.67,802.169 1232.7,800.942 1234.73,799.714 1236.76,798.487 1238.79,797.26 1240.82,796.032 1242.85,794.805 1244.88,793.578 1246.91,792.35 1248.94,791.123 1250.97,789.895 1252.99,788.668 1255.02,787.441 1257.05,786.213 1259.08,784.986 1261.11,783.759 1263.14,782.531 1265.17,781.304 1267.2,780.077 1269.23,778.849 1271.26,777.622 1273.29,776.394 1275.32,775.167 1277.35,773.94 1279.37,772.712 1281.4,771.485 1283.43,770.258 1285.46,769.03 1287.49,767.803 1289.52,766.575 1291.55,765.348 1293.58,764.121 1295.61,762.893 1297.64,761.666 1299.67,760.439 1301.7,759.211 1303.72,757.984 1305.75,756.757 1307.78,755.529 1309.81,754.302 1311.84,753.074 1313.87,751.847 1315.9,750.62 1317.93,749.392 1319.96,748.165 1321.99,746.938 1324.02,745.71 1326.05,744.483 1328.07,743.255 1330.1,742.028 1332.13,740.801 1334.16,739.573 1336.19,738.346 1338.22,737.119 1340.25,735.891 1342.28,734.664 1344.31,733.437 1346.34,732.209 1348.37,730.982 1350.4,729.754 1352.43,728.527 1354.45,727.3 1356.48,726.072 1358.51,724.845 1360.54,723.618 1362.57,722.39 1364.6,721.163 1366.63,719.936 1368.66,718.708 1370.69,717.481 1372.72,716.253 1374.75,715.026 1376.78,713.799 1378.8,712.571 1380.83,711.344 1382.86,710.117 1384.89,708.889 1386.92,707.662 1388.95,706.434 1390.98,705.207 1393.01,703.98 1395.04,702.752 1397.07,701.525 1399.1,700.298 1401.13,699.07 1403.16,697.843 1405.18,696.616 1407.21,695.388 1409.24,694.161 1411.27,692.933 1413.3,691.706 1415.33,690.479 1417.36,689.251 1419.39,688.024 1421.42,686.797 1423.45,685.569 1425.48,684.342 1427.51,683.115 1429.53,681.887 1431.56,680.66 1433.59,679.432 1435.62,678.205 1437.65,676.978 1439.68,675.75 1441.71,674.523 1443.74,673.296 1445.77,672.068 1447.8,670.841 1449.83,669.613 1451.86,668.386 1453.88,667.159 1455.91,665.931 1457.94,664.704 1459.97,663.477 1462,662.249 1464.03,661.022 1466.06,659.795 1468.09,658.567 1470.12,657.34 1472.15,656.112 1474.18,654.885 1476.21,653.658 1478.24,652.43 1480.26,651.203 1482.29,649.976 1484.32,648.748 1486.35,647.521 1488.38,646.294 1490.41,645.066 1492.44,643.839 1494.47,642.611 1496.5,641.384 1498.53,640.157 1500.56,638.929 1502.59,637.702 1504.61,636.475 1506.64,635.247 1508.67,634.02 1510.7,632.792 1512.73,631.565 1514.76,630.338 1516.79,629.11 1518.82,627.883 1520.85,626.656 1522.88,625.428 1524.91,624.201 1526.94,622.974 1528.96,621.746 1530.99,620.519 1533.02,619.291 1535.05,618.064 1537.08,616.837 1539.11,615.609 1541.14,614.382 1543.17,613.155 1545.2,611.927 1547.23,610.7 1549.26,609.473 1551.29,608.245 1553.32,607.018 1555.34,605.79 1557.37,604.563 1559.4,603.336 1561.43,602.108 1563.46,600.881 1565.49,599.654 1567.52,598.426 1569.55,597.199 1571.58,595.971 1573.61,594.744 1575.64,593.517 1577.67,592.289 1579.69,591.062 1581.72,589.835 1583.75,588.607 1585.78,587.38 1587.81,586.153 1589.84,584.925 1591.87,583.698 1593.9,582.47 1595.93,581.243 1597.96,578.788 1599.99,577.561 1602.02,576.334 1604.05,575.106 1606.07,573.879 1608.1,572.652 1610.13,571.424 1612.16,570.197 1614.19,568.969 1616.22,567.742 1618.25,566.515 1620.28,565.287 1622.31,564.06 1624.34,562.833 1626.37,561.605 1628.4,560.378 1630.42,559.15 1632.45,557.923 1634.48,556.696 1636.51,555.468 1638.54,554.241 1640.57,553.014 1642.6,551.786 1644.63,550.559 1646.66,549.332 1648.69,548.104 1650.72,546.877 1652.75,545.649 1654.77,544.422 1656.8,543.195 1658.83,541.967 1660.86,540.74 1662.89,539.513 1664.92,538.285 1666.95,537.058 1668.98,535.831 1671.01,534.603 1673.04,533.376 1675.07,532.148 1677.1,530.921 1679.13,529.694 1681.15,528.466 1683.18,527.239 1685.21,526.012 1687.24,524.784 1689.27,523.557 1691.3,522.329 1693.33,521.102 1695.36,519.875 1697.39,518.647 1699.42,517.42 1701.45,516.193 1703.48,514.965 1705.5,513.738 1707.53,512.511 1709.56,511.283 1711.59,510.056 1713.62,508.828 1715.65,507.601 1717.68,506.374 1719.71,505.146 1721.74,503.919 1723.77,502.692 1725.8,501.464 1727.83,500.237 1729.85,499.01 1731.88,497.782 1733.91,496.555 1735.94,495.327 1737.97,494.1 1740,492.873 1742.03,491.645 1744.06,490.418 1746.09,489.191 1748.12,487.963 1750.15,486.736 1752.18,485.508 1754.21,484.281 1756.23,483.054 1758.26,481.826 1760.29,480.599 1762.32,479.372 1764.35,478.144 1766.38,476.917 1768.41,475.69 1770.44,474.462 1772.47,473.235 1774.5,472.007 1776.53,470.78 1778.56,469.553 1780.58,468.325 1782.61,467.098 1784.64,465.871 1786.67,464.643 1788.7,463.416 1790.73,462.189 1792.76,460.961 1794.79,459.734 1796.82,458.506 1798.85,457.279 1800.88,456.052 1802.91,454.824 1804.94,453.597 1806.96,452.37 1808.99,451.142 1811.02,449.915 1813.05,448.687 1815.08,447.46 1817.11,446.233 1819.14,445.005 1821.17,443.778 1823.2,442.551 1825.23,441.323 1827.26,440.096 1829.29,438.869 1831.31,437.641 1833.34,436.414 1835.37,435.186 1837.4,433.959 1839.43,432.732 1841.46,431.504 1843.49,430.277 1845.52,429.05 1847.55,427.822 1849.58,426.595 1851.61,425.368 1853.64,424.14 1855.66,422.913 1857.69,421.685 1859.72,420.458 1861.75,419.231 1863.78,418.003 1865.81,416.776 1867.84,415.549 1869.87,414.321 1871.9,413.094 1873.93,411.866 1875.96,410.639 1877.99,409.412 1880.02,408.184 1882.04,406.957 1884.07,405.73 1886.1,404.502 1888.13,403.275 1890.16,402.048 1892.19,400.82 1894.22,399.593 1896.25,398.365 1898.28,397.138 1900.31,395.911 1902.34,394.683 1904.37,393.456 1906.39,392.229 1908.42,391.001 1910.45,389.774 1912.48,388.547 1914.51,387.319 1916.54,386.092 1918.57,384.864 1920.6,383.637 1922.63,382.41 1924.66,381.182 1926.69,379.955 1928.72,378.728 1930.74,377.5 1932.77,376.273 1934.8,375.045 1936.83,373.818 1938.86,372.591 1940.89,371.363 1942.92,370.136 1944.95,368.909 1946.98,367.681 1949.01,366.454 1951.04,365.227 1953.07,363.999 1955.1,362.772 1957.12,360.317 1959.15,359.09 1961.18,357.862 1963.21,356.635 1965.24,355.408 1967.27,354.18 1969.3,352.953 1971.33,351.726 1973.36,350.498 1975.39,349.271 1977.42,348.043 1979.45,346.816 1981.47,345.589 1983.5,344.361 1985.53,343.134 1987.56,341.907 1989.59,340.679 1991.62,339.452 1993.65,338.224 1995.68,336.997 1997.71,335.77 1999.74,334.542 2001.77,333.315 2003.8,332.088 2005.82,330.86 2007.85,329.633 2009.88,328.406 2011.91,327.178 2013.94,325.951 2015.97,324.723 2018,323.496 2020.03,322.269 2022.06,321.041 2024.09,319.814 2026.12,318.587 2028.15,317.359 2030.18,316.132 2032.2,314.905 2034.23,313.677 2036.26,312.45 2038.29,311.222 2040.32,309.995 2042.35,308.768 2044.38,307.54 2046.41,306.313 2048.44,305.086 2050.47,303.858 2052.5,302.631 2054.53,301.403 2056.55,300.176 2058.58,298.949 2060.61,297.721 2062.64,296.494 2064.67,295.267 2066.7,294.039 2068.73,292.812 2070.76,291.585 2072.79,290.357 2074.82,289.13 2076.85,287.902 2078.88,286.675 2080.91,285.448 2082.93,284.22 2084.96,282.993 2086.99,281.766 2089.02,280.538 2091.05,279.311 2093.08,278.084 2095.11,276.856 2097.14,275.629 2099.17,274.401 2101.2,273.174 2103.23,271.947 2105.26,270.719 2107.28,269.492 2109.31,268.265 2111.34,267.037 2113.37,265.81 2115.4,264.582 2117.43,263.355 2119.46,262.128 2121.49,260.9 2123.52,259.673 2125.55,258.446 2127.58,257.218 2129.61,255.991 2131.63,254.764 2133.66,253.536 2135.69,252.309 2137.72,251.081 2139.75,249.854 2141.78,248.627 2143.81,247.399 2145.84,246.172 2147.87,244.945 2149.9,243.717 2151.93,242.49 2153.96,241.263 2155.99,240.035 2158.01,238.808 2160.04,237.58 2162.07,236.353 2164.1,235.126 2166.13,233.898 2168.16,232.671 2170.19,231.444 2172.22,230.216 2174.25,228.989 2176.28,227.761 2178.31,226.534 2180.34,225.307 2182.36,224.079 2184.39,222.852 2186.42,221.625 2188.45,220.397 2190.48,219.17 2192.51,217.943 2194.54,216.715 2196.57,215.488 2198.6,214.26 2200.63,213.033 2202.66,211.806 2204.69,210.578 2206.71,209.351 2208.74,208.124 2210.77,206.896 2212.8,205.669 2214.83,204.442 2216.86,203.214 2218.89,201.987 2220.92,200.759 2222.95,199.532 2224.98,198.305 2227.01,197.077 2229.04,195.85 2231.07,194.623 2233.09,193.395 2235.12,192.168 2237.15,190.94 2239.18,189.713 2241.21,188.486 2243.24,187.258 2245.27,186.031 2247.3,184.804 2249.33,183.576 2251.36,182.349 2253.39,181.122 2255.42,179.894 2257.44,178.667 2259.47,177.439 2261.5,176.212 2263.53,174.985 2265.56,173.757 2267.59,172.53 2269.62,171.303 2271.65,170.075 2273.68,168.848 2275.71,167.621 2277.74,166.393 2279.77,165.166 2281.8,163.938 2283.82,162.711 2285.85,162.711 2287.88,161.484 2289.91,160.256 2291.94,160.256 \"/>\n",
       "<path clip-path=\"url(#clip200)\" d=\"M275.59 322.316 L654.427 322.316 L654.427 166.796 L275.59 166.796  Z\" fill=\"#ffffff\" fill-rule=\"evenodd\" fill-opacity=\"1\"/>\n",
       "<polyline clip-path=\"url(#clip200)\" style=\"stroke:#000000; stroke-linecap:round; stroke-linejoin:round; stroke-width:4; stroke-opacity:1; fill:none\" points=\"275.59,322.316 654.427,322.316 654.427,166.796 275.59,166.796 275.59,322.316 \"/>\n",
       "<polyline clip-path=\"url(#clip200)\" style=\"stroke:#009af9; stroke-linecap:round; stroke-linejoin:round; stroke-width:4; stroke-opacity:1; fill:none\" points=\"299.465,218.636 442.718,218.636 \"/>\n",
       "<path clip-path=\"url(#clip200)\" d=\"M467.172 209.99 L487.404 209.99 L487.404 213.879 L471.385 232.513 L487.404 232.513 L487.404 235.916 L466.594 235.916 L466.594 232.027 L482.612 213.393 L467.172 213.393 L467.172 209.99 Z\" fill=\"#000000\" fill-rule=\"nonzero\" fill-opacity=\"1\" /><path clip-path=\"url(#clip200)\" d=\"M509.533 214.388 L539.209 214.388 L539.209 218.277 L509.533 218.277 L509.533 214.388 M509.533 223.832 L539.209 223.832 L539.209 227.768 L509.533 227.768 L509.533 223.832 Z\" fill=\"#000000\" fill-rule=\"nonzero\" fill-opacity=\"1\" /><path clip-path=\"url(#clip200)\" d=\"M578.538 217.282 Q581.894 217.999 583.769 220.268 Q585.667 222.536 585.667 225.869 Q585.667 230.985 582.149 233.786 Q578.63 236.587 572.149 236.587 Q569.973 236.587 567.658 236.147 Q565.366 235.731 562.913 234.874 L562.913 230.36 Q564.857 231.494 567.172 232.073 Q569.487 232.652 572.01 232.652 Q576.408 232.652 578.7 230.916 Q581.014 229.18 581.014 225.869 Q581.014 222.814 578.862 221.101 Q576.732 219.365 572.913 219.365 L568.885 219.365 L568.885 215.522 L573.098 215.522 Q576.547 215.522 578.376 214.157 Q580.204 212.768 580.204 210.175 Q580.204 207.513 578.306 206.101 Q576.431 204.666 572.913 204.666 Q570.991 204.666 568.792 205.083 Q566.593 205.499 563.954 206.379 L563.954 202.212 Q566.616 201.471 568.931 201.101 Q571.269 200.731 573.329 200.731 Q578.653 200.731 581.755 203.161 Q584.857 205.569 584.857 209.689 Q584.857 212.559 583.213 214.55 Q581.57 216.518 578.538 217.282 Z\" fill=\"#000000\" fill-rule=\"nonzero\" fill-opacity=\"1\" /><polyline clip-path=\"url(#clip200)\" style=\"stroke:#e26f46; stroke-linecap:round; stroke-linejoin:round; stroke-width:4; stroke-opacity:1; fill:none\" points=\"299.465,270.476 442.718,270.476 \"/>\n",
       "<path clip-path=\"url(#clip200)\" d=\"M467.172 261.83 L487.404 261.83 L487.404 265.719 L471.385 284.353 L487.404 284.353 L487.404 287.756 L466.594 287.756 L466.594 283.867 L482.612 265.233 L467.172 265.233 L467.172 261.83 Z\" fill=\"#000000\" fill-rule=\"nonzero\" fill-opacity=\"1\" /><path clip-path=\"url(#clip200)\" d=\"M509.533 266.228 L539.209 266.228 L539.209 270.117 L509.533 270.117 L509.533 266.228 M509.533 275.672 L539.209 275.672 L539.209 279.608 L509.533 279.608 L509.533 275.672 Z\" fill=\"#000000\" fill-rule=\"nonzero\" fill-opacity=\"1\" /><path clip-path=\"url(#clip200)\" d=\"M574.371 256.274 Q570.76 256.274 568.931 259.839 Q567.126 263.381 567.126 270.51 Q567.126 277.617 568.931 281.182 Q570.76 284.723 574.371 284.723 Q578.005 284.723 579.811 281.182 Q581.639 277.617 581.639 270.51 Q581.639 263.381 579.811 259.839 Q578.005 256.274 574.371 256.274 M574.371 252.571 Q580.181 252.571 583.237 257.177 Q586.315 261.76 586.315 270.51 Q586.315 279.237 583.237 283.844 Q580.181 288.427 574.371 288.427 Q568.561 288.427 565.482 283.844 Q562.427 279.237 562.427 270.51 Q562.427 261.76 565.482 257.177 Q568.561 252.571 574.371 252.571 Z\" fill=\"#000000\" fill-rule=\"nonzero\" fill-opacity=\"1\" /><path clip-path=\"url(#clip200)\" d=\"M594.533 281.876 L599.417 281.876 L599.417 287.756 L594.533 287.756 L594.533 281.876 Z\" fill=\"#000000\" fill-rule=\"nonzero\" fill-opacity=\"1\" /><path clip-path=\"url(#clip200)\" d=\"M609.649 253.196 L628.005 253.196 L628.005 257.131 L613.931 257.131 L613.931 265.603 Q614.949 265.256 615.968 265.094 Q616.986 264.909 618.005 264.909 Q623.792 264.909 627.172 268.08 Q630.551 271.251 630.551 276.668 Q630.551 282.246 627.079 285.348 Q623.607 288.427 617.287 288.427 Q615.111 288.427 612.843 288.057 Q610.598 287.686 608.19 286.946 L608.19 282.246 Q610.274 283.381 612.496 283.936 Q614.718 284.492 617.195 284.492 Q621.199 284.492 623.537 282.385 Q625.875 280.279 625.875 276.668 Q625.875 273.057 623.537 270.95 Q621.199 268.844 617.195 268.844 Q615.32 268.844 613.445 269.26 Q611.593 269.677 609.649 270.557 L609.649 253.196 Z\" fill=\"#000000\" fill-rule=\"nonzero\" fill-opacity=\"1\" /></svg>\n"
      ]
     },
     "metadata": {},
     "output_type": "display_data"
    }
   ],
   "source": [
    "# plot policy function for age 20 for both z\n",
    "plot(prim.a_grid, res.gʷ[20,:,1], label = \"z = 3\", title = \"Policy function for age 20\")\n",
    "plot!(prim.a_grid, res.gʷ[20,:,2], label = \"z = 0.5\")\n",
    "# change x label\n",
    "xlabel!(\"Assets\")\n",
    "# change y label\n",
    "ylabel!(\"a'(a)\")"
   ]
  },
  {
   "cell_type": "markdown",
   "metadata": {},
   "source": [
    "## Part 2\n",
    "\n",
    "Here we solve for the stationary distribution of agents across age, productivity and wealth given the choices of households, $F_j(z, a)$. First we find the relative size of each cohort of age $j$ (denoted $\\mu_j$) with \n",
    "\n",
    "$$ \\mu_{j+1} = \\frac{\\mu_j}{1+n} $$ \n",
    "\n",
    "for each $j = 1, 2, ..., N-1$.\n",
    "\n",
    "Then, we normalize so that $\\sum_j \\mu_j = 1$. Then we get the initial distribution by $F_1(z_H, 0) = \\mu_1 \\pi_H$, $F_1(z_L, 0) = \\mu_1 \\pi_L$, and then iterate forward using policy functions. Note that since retired workers are not characterized by their productivity, the distribution of retired workers is just over age and assets. "
   ]
  },
  {
   "cell_type": "code",
   "execution_count": 6,
   "metadata": {},
   "outputs": [
    {
     "data": {
      "text/plain": [
       "45×1000×2 Array{Float64, 3}:\n",
       "[:, :, 1] =\n",
       " 0.0043444    0.0         0.0         …  0.0  0.0  0.0  0.0  0.0  0.0  0.0\n",
       " 0.000317487  0.0         0.0            0.0  0.0  0.0  0.0  0.0  0.0  0.0\n",
       " 0.000308098  0.0         0.0            0.0  0.0  0.0  0.0  0.0  0.0  0.0\n",
       " 0.000298986  0.0         0.0            0.0  0.0  0.0  0.0  0.0  0.0  0.0\n",
       " 0.000290143  0.0         0.0            0.0  0.0  0.0  0.0  0.0  0.0  0.0\n",
       " 0.000281562  0.0         0.0         …  0.0  0.0  0.0  0.0  0.0  0.0  0.0\n",
       " 0.000273235  0.0         0.0            0.0  0.0  0.0  0.0  0.0  0.0  0.0\n",
       " 0.000265154  0.0         0.0            0.0  0.0  0.0  0.0  0.0  0.0  0.0\n",
       " 0.000257313  0.0         0.0            0.0  0.0  0.0  0.0  0.0  0.0  0.0\n",
       " 0.000249703  0.0         0.0            0.0  0.0  0.0  0.0  0.0  0.0  0.0\n",
       " ⋮                                    ⋱            ⋮                   \n",
       " 0.0          0.0         0.0            0.0  0.0  0.0  0.0  0.0  0.0  0.0\n",
       " 0.0          0.0         0.0            0.0  0.0  0.0  0.0  0.0  0.0  0.0\n",
       " 0.0          0.0         0.0            0.0  0.0  0.0  0.0  0.0  0.0  0.0\n",
       " 0.0          0.0         0.0            0.0  0.0  0.0  0.0  0.0  0.0  0.0\n",
       " 0.0          0.0         0.0         …  0.0  0.0  0.0  0.0  0.0  0.0  0.0\n",
       " 0.0          0.0         0.0            0.0  0.0  0.0  0.0  0.0  0.0  0.0\n",
       " 0.0          0.0         0.0            0.0  0.0  0.0  0.0  0.0  0.0  0.0\n",
       " 0.0          0.0         8.99778e-5     0.0  0.0  0.0  0.0  0.0  0.0  0.0\n",
       " 0.0          8.73167e-5  0.0            0.0  0.0  0.0  0.0  0.0  0.0  0.0\n",
       "\n",
       "[:, :, 2] =\n",
       " 0.016983   0.0         0.0         …  0.0  0.0  0.0  0.0  0.0  0.0  0.0\n",
       " 0.0164808  0.0         0.0            0.0  0.0  0.0  0.0  0.0  0.0  0.0\n",
       " 0.0159934  0.0         0.0            0.0  0.0  0.0  0.0  0.0  0.0  0.0\n",
       " 0.0155204  0.0         0.0            0.0  0.0  0.0  0.0  0.0  0.0  0.0\n",
       " 0.0150614  0.0         0.0            0.0  0.0  0.0  0.0  0.0  0.0  0.0\n",
       " 0.0146159  0.0         0.0         …  0.0  0.0  0.0  0.0  0.0  0.0  0.0\n",
       " 0.0141837  0.0         0.0            0.0  0.0  0.0  0.0  0.0  0.0  0.0\n",
       " 0.0137642  0.0         0.0            0.0  0.0  0.0  0.0  0.0  0.0  0.0\n",
       " 0.0133571  0.0         0.0            0.0  0.0  0.0  0.0  0.0  0.0  0.0\n",
       " 0.0129621  0.0         0.0            0.0  0.0  0.0  0.0  0.0  0.0  0.0\n",
       " ⋮                                  ⋱            ⋮                   \n",
       " 0.0        0.0         0.0            0.0  0.0  0.0  0.0  0.0  0.0  0.0\n",
       " 0.0        0.0         0.0            0.0  0.0  0.0  0.0  0.0  0.0  0.0\n",
       " 0.0        0.0         0.0            0.0  0.0  0.0  0.0  0.0  0.0  0.0\n",
       " 0.0        0.0         0.0            0.0  0.0  0.0  0.0  0.0  0.0  0.0\n",
       " 0.0        0.0         0.0         …  0.0  0.0  0.0  0.0  0.0  0.0  0.0\n",
       " 0.0        0.0         0.0            0.0  0.0  0.0  0.0  0.0  0.0  0.0\n",
       " 0.0        0.0         0.0            0.0  0.0  0.0  0.0  0.0  0.0  0.0\n",
       " 0.0        0.0         0.00467075     0.0  0.0  0.0  0.0  0.0  0.0  0.0\n",
       " 0.0        0.00453262  0.0            0.0  0.0  0.0  0.0  0.0  0.0  0.0"
      ]
     },
     "metadata": {},
     "output_type": "display_data"
    }
   ],
   "source": [
    "steady_dist(prim, res)"
   ]
  },
  {
   "cell_type": "code",
   "execution_count": 7,
   "metadata": {},
   "outputs": [
    {
     "data": {
      "text/plain": [
       "0.23603132923155665"
      ]
     },
     "metadata": {},
     "output_type": "display_data"
    }
   ],
   "source": [
    "sum(res.Fʳ) # proportion in retirement"
   ]
  },
  {
   "cell_type": "code",
   "execution_count": 8,
   "metadata": {},
   "outputs": [
    {
     "data": {
      "text/plain": [
       "0.7620799882774727"
      ]
     },
     "metadata": {},
     "output_type": "display_data"
    }
   ],
   "source": [
    "sum(res.Fʷ) # proportion working"
   ]
  },
  {
   "cell_type": "markdown",
   "metadata": {},
   "source": [
    "---\n",
    "\n",
    "## Part 3\n",
    "\n",
    "Here we solve for a steady state in the benchmark model (described above). The algorithm is as follows:\n",
    "\n",
    "1. Make initial guess for aggregates $K_0$, $L_0$\n",
    "2. Solve for implied wage $w_0$ and interest rate $r_0$ using firm first order conditions\n",
    "3. Use government budget constraint to solve for retirement benefits $b = \\theta w_0 L_0 / \\sum_{j=J^R}^N \\mu_j$\n",
    "4. Solve the household problem for value and policy functions given prices and retirement benefits\n",
    "5. Find the implied distribution of wealth\n",
    "6. Solve for the implied aggregate values $K_{new}$, $L_{new}$\n",
    "7. Iterate aggregates in the direction of the new values, $K_1 = \\rho K_{new} + (1-\\rho) K_0$, $L_1 = \\rho L_{new} + (1-\\rho) L_0$ for small $\\rho$\n",
    "8. Take new values as the initial guess and iterate until $\\max\\{|K_{new} - K_0|, |L_{new} - L_0|\\} < \\varepsilon$"
   ]
  },
  {
   "cell_type": "code",
   "execution_count": 55,
   "metadata": {},
   "outputs": [
    {
     "name": "stdout",
     "output_type": "stream",
     "text": [
      "K = 3.319752920807827, L = 0.34010125860787443\n"
     ]
    },
    {
     "name": "stdout",
     "output_type": "stream",
     "text": [
      "K = 3.319518099814095, L = 0.340200248672668\n"
     ]
    },
    {
     "name": "stdout",
     "output_type": "stream",
     "text": [
      "K = 3.319292725913946, L = 0.3402970045979788\n"
     ]
    },
    {
     "name": "stdout",
     "output_type": "stream",
     "text": [
      "K = 3.319078981387269, L = 0.3403915541132562\n"
     ]
    },
    {
     "name": "stdout",
     "output_type": "stream",
     "text": [
      "K = 3.3188755611669705, L = 0.34048402748054324\n"
     ]
    },
    {
     "name": "stdout",
     "output_type": "stream",
     "text": [
      "K = 3.318684206566412, L = 0.34057442386882236\n"
     ]
    },
    {
     "name": "stdout",
     "output_type": "stream",
     "text": [
      "K = 3.3185025789618647, L = 0.3406627714066461\n"
     ]
    },
    {
     "name": "stdout",
     "output_type": "stream",
     "text": [
      "K = 3.3183280065964738, L = 0.3407491249744071\n"
     ]
    },
    {
     "name": "stdout",
     "output_type": "stream",
     "text": [
      "K = 3.318166373308996, L = 0.3408335605236409\n"
     ]
    },
    {
     "name": "stdout",
     "output_type": "stream",
     "text": [
      "K = 3.3180137275470325, L = 0.3409160621651747\n"
     ]
    },
    {
     "name": "stdout",
     "output_type": "stream",
     "text": [
      "K = 3.3178724057302778, L = 0.3409967291405453\n"
     ]
    },
    {
     "name": "stdout",
     "output_type": "stream",
     "text": [
      "K = 3.317743028526501, L = 0.34107557106786085\n"
     ]
    },
    {
     "name": "stdout",
     "output_type": "stream",
     "text": [
      "K = 3.317621937535606, L = 0.3411526779223086\n"
     ]
    },
    {
     "name": "stdout",
     "output_type": "stream",
     "text": [
      "K = 3.3175068787167907, L = 0.3412280807364483\n"
     ]
    },
    {
     "name": "stdout",
     "output_type": "stream",
     "text": [
      "K = 3.3174027937127413, L = 0.34130176354853103\n"
     ]
    },
    {
     "name": "stdout",
     "output_type": "stream",
     "text": [
      "K = 3.317305964581812, L = 0.341373814822918\n"
     ]
    },
    {
     "name": "stdout",
     "output_type": "stream",
     "text": [
      "K = 3.31721615134696, L = 0.34144425936819617\n"
     ]
    },
    {
     "name": "stdout",
     "output_type": "stream",
     "text": [
      "K = 3.3171305044915207, L = 0.3415131486788478\n"
     ]
    },
    {
     "name": "stdout",
     "output_type": "stream",
     "text": [
      "K = 3.317050047419329, L = 0.34158051133249867\n"
     ]
    },
    {
     "name": "stdout",
     "output_type": "stream",
     "text": [
      "K = 3.3169720034920753, L = 0.3416463296856564\n"
     ]
    },
    {
     "name": "stdout",
     "output_type": "stream",
     "text": [
      "K = 3.316901326395339, L = 0.34171070703045975\n"
     ]
    },
    {
     "name": "stdout",
     "output_type": "stream",
     "text": [
      "K = 3.316833645894524, L = 0.34177366453527347\n"
     ]
    },
    {
     "name": "stdout",
     "output_type": "stream",
     "text": [
      "K = 3.31677438355259, L = 0.3418352180309436\n"
     ]
    },
    {
     "name": "stdout",
     "output_type": "stream",
     "text": [
      "K = 3.316720948959663, L = 0.3418953998701011\n"
     ]
    },
    {
     "name": "stdout",
     "output_type": "stream",
     "text": [
      "K = 3.3166739828649625, L = 0.3419542647094683\n"
     ]
    },
    {
     "name": "stdout",
     "output_type": "stream",
     "text": [
      "K = 3.3166299428166077, L = 0.3420118208250416\n"
     ]
    },
    {
     "name": "stdout",
     "output_type": "stream",
     "text": [
      "K = 3.316593572996501, L = 0.3420681096205868\n"
     ]
    },
    {
     "name": "stdout",
     "output_type": "stream",
     "text": [
      "K = 3.3165629135210435, L = 0.3421231470592266\n"
     ]
    },
    {
     "name": "stdout",
     "output_type": "stream",
     "text": [
      "K = 3.3165343151756197, L = 0.34217693205968336\n"
     ]
    },
    {
     "name": "stdout",
     "output_type": "stream",
     "text": [
      "K = 3.3165117671726487, L = 0.34222954413043183\n"
     ]
    },
    {
     "name": "stdout",
     "output_type": "stream",
     "text": [
      "K = 3.3164944799298834, L = 0.34228100134978734\n"
     ]
    },
    {
     "name": "stdout",
     "output_type": "stream",
     "text": [
      "K = 3.3164789970649093, L = 0.3423313349652277\n"
     ]
    },
    {
     "name": "stdout",
     "output_type": "stream",
     "text": [
      "K = 3.3164674741179447, L = 0.3423805520376614\n"
     ]
    },
    {
     "name": "stdout",
     "output_type": "stream",
     "text": [
      "K = 3.316460966006729, L = 0.34242870523783225\n"
     ]
    },
    {
     "name": "stdout",
     "output_type": "stream",
     "text": [
      "K = 3.316456551884859, L = 0.3424758077827445\n"
     ]
    },
    {
     "name": "stdout",
     "output_type": "stream",
     "text": [
      "K = 3.3164558196986866, L = 0.34252187365139886\n",
      "Converged in 36 iterations\n"
     ]
    }
   ],
   "source": [
    "market_clearing(prim, res; K₀=3.32, L₀=.34)"
   ]
  },
  {
   "cell_type": "code",
   "execution_count": 56,
   "metadata": {},
   "outputs": [
    {
     "data": {
      "text/plain": [
       "0.024184875934499236"
      ]
     },
     "metadata": {},
     "output_type": "display_data"
    }
   ],
   "source": [
    "# interest rate\n",
    "res.r"
   ]
  },
  {
   "cell_type": "code",
   "execution_count": 57,
   "metadata": {},
   "outputs": [
    {
     "data": {
      "text/plain": [
       "1.4492922264827355"
      ]
     },
     "metadata": {},
     "output_type": "display_data"
    }
   ],
   "source": [
    "# wage\n",
    "res.w"
   ]
  },
  {
   "cell_type": "code",
   "execution_count": 58,
   "metadata": {},
   "outputs": [
    {
     "data": {
      "text/plain": [
       "0.23131771547161362"
      ]
     },
     "metadata": {},
     "output_type": "display_data"
    }
   ],
   "source": [
    "# social security benefit\n",
    "res.b"
   ]
  },
  {
   "cell_type": "code",
   "execution_count": 59,
   "metadata": {},
   "outputs": [
    {
     "data": {
      "text/plain": [
       "-1.894955903190854"
      ]
     },
     "metadata": {},
     "output_type": "display_data"
    }
   ],
   "source": [
    "# calculate average utility\n",
    "welfare = res.Fʳ ⋅ res.uʳ + res.Fʷ ⋅ res.uʷ"
   ]
  },
  {
   "cell_type": "code",
   "execution_count": 94,
   "metadata": {},
   "outputs": [
    {
     "data": {
      "text/plain": [
       "1.6724876513957527"
      ]
     },
     "metadata": {},
     "output_type": "display_data"
    }
   ],
   "source": [
    "# collapse distribution of assets across age and efficiency\n",
    "a_dist = sum(res.Fʳ, dims=1) + sum(res.Fʷ, dims=(1,3))\n",
    "\n",
    "# find mean of a_dist\n",
    "μ_a = prim.a_grid ⋅ a_dist\n",
    "\n",
    "# find standard deviation of a_dist\n",
    "σ_a = sqrt.((prim.a_grid .- μ_a).^2 ⋅ a_dist)\n",
    "\n",
    "# find coefficient of variation\n",
    "σ_a / μ_a"
   ]
  },
  {
   "cell_type": "markdown",
   "metadata": {},
   "source": [
    "### Now we run different specifications. \n",
    "\n",
    "#### Benchmark without SS."
   ]
  },
  {
   "cell_type": "code",
   "execution_count": 60,
   "metadata": {},
   "outputs": [
    {
     "name": "stdout",
     "output_type": "stream",
     "text": [
      "K = 4.695800969731552, L = 0.3699493941628877\n"
     ]
    },
    {
     "name": "stdout",
     "output_type": "stream",
     "text": [
      "K = 4.691695332792751, L = 0.36989937670228984\n"
     ]
    },
    {
     "name": "stdout",
     "output_type": "stream",
     "text": [
      "K = 4.687679179388834, L = 0.36984998226343624\n"
     ]
    },
    {
     "name": "stdout",
     "output_type": "stream",
     "text": [
      "K = 4.683746161902944, L = 0.36980110337535627\n"
     ]
    },
    {
     "name": "stdout",
     "output_type": "stream",
     "text": [
      "K = 4.6799036985189275, L = 0.36975283960129973\n"
     ]
    },
    {
     "name": "stdout",
     "output_type": "stream",
     "text": [
      "K = 4.6761467754739785, L = 0.3697051448084143\n"
     ]
    },
    {
     "name": "stdout",
     "output_type": "stream",
     "text": [
      "K = 4.672473197138022, L = 0.3696580733739217\n"
     ]
    },
    {
     "name": "stdout",
     "output_type": "stream",
     "text": [
      "K = 4.668888739398777, L = 0.36961166964087455\n"
     ]
    },
    {
     "name": "stdout",
     "output_type": "stream",
     "text": [
      "K = 4.665389213082077, L = 0.36956583513015256\n"
     ]
    },
    {
     "name": "stdout",
     "output_type": "stream",
     "text": [
      "K = 4.661965760401109, L = 0.3695206192503721\n"
     ]
    },
    {
     "name": "stdout",
     "output_type": "stream",
     "text": [
      "K = 4.658620818197761, L = 0.3694759905680069\n"
     ]
    },
    {
     "name": "stdout",
     "output_type": "stream",
     "text": [
      "K = 4.655341808076399, L = 0.36943191150859905\n"
     ]
    },
    {
     "name": "stdout",
     "output_type": "stream",
     "text": [
      "K = 4.65214348231849, L = 0.36938835608529746\n"
     ]
    },
    {
     "name": "stdout",
     "output_type": "stream",
     "text": [
      "K = 4.649023491280976, L = 0.369345417875145\n"
     ]
    },
    {
     "name": "stdout",
     "output_type": "stream",
     "text": [
      "K = 4.645970615420355, L = 0.36930306094213083\n"
     ]
    },
    {
     "name": "stdout",
     "output_type": "stream",
     "text": [
      "K = 4.642984937254774, L = 0.36926119821154557\n"
     ]
    },
    {
     "name": "stdout",
     "output_type": "stream",
     "text": [
      "K = 4.6400677872230505, L = 0.3692199405407395\n"
     ]
    },
    {
     "name": "stdout",
     "output_type": "stream",
     "text": [
      "K = 4.6372120007633875, L = 0.3691792312316781\n"
     ]
    },
    {
     "name": "stdout",
     "output_type": "stream",
     "text": [
      "K = 4.634416581054795, L = 0.3691390298137384\n"
     ]
    },
    {
     "name": "stdout",
     "output_type": "stream",
     "text": [
      "K = 4.6316883947904826, L = 0.36909935175243364\n"
     ]
    },
    {
     "name": "stdout",
     "output_type": "stream",
     "text": [
      "K = 4.629015843489389, L = 0.3690601510891398\n"
     ]
    },
    {
     "name": "stdout",
     "output_type": "stream",
     "text": [
      "K = 4.626398428432629, L = 0.36902140904240455\n"
     ]
    },
    {
     "name": "stdout",
     "output_type": "stream",
     "text": [
      "K = 4.62383657102244, L = 0.36898312410074324\n"
     ]
    },
    {
     "name": "stdout",
     "output_type": "stream",
     "text": [
      "K = 4.62147365558124, L = 0.36894573553376425\n"
     ]
    },
    {
     "name": "stdout",
     "output_type": "stream",
     "text": [
      "K = 4.619165077333828, L = 0.3689088656796339\n"
     ]
    },
    {
     "name": "stdout",
     "output_type": "stream",
     "text": [
      "K = 4.616911602662734, L = 0.36887259629474467\n"
     ]
    },
    {
     "name": "stdout",
     "output_type": "stream",
     "text": [
      "K = 4.61470260580446, L = 0.3688368229751904\n"
     ]
    },
    {
     "name": "stdout",
     "output_type": "stream",
     "text": [
      "K = 4.6125460824055295, L = 0.3688015685999363\n"
     ]
    },
    {
     "name": "stdout",
     "output_type": "stream",
     "text": [
      "K = 4.610436424564272, L = 0.3687667906486445\n"
     ]
    },
    {
     "name": "stdout",
     "output_type": "stream",
     "text": [
      "K = 4.608374789048892, L = 0.3687325412277393\n"
     ]
    },
    {
     "name": "stdout",
     "output_type": "stream",
     "text": [
      "K = 4.606363014621092, L = 0.36869879152056684\n"
     ]
    },
    {
     "name": "stdout",
     "output_type": "stream",
     "text": [
      "K = 4.6043905331065185, L = 0.36866548083360295\n"
     ]
    },
    {
     "name": "stdout",
     "output_type": "stream",
     "text": [
      "K = 4.60246261566876, L = 0.36863269610419747\n"
     ]
    },
    {
     "name": "stdout",
     "output_type": "stream",
     "text": [
      "K = 4.600579677039938, L = 0.36860041995949516\n"
     ]
    },
    {
     "name": "stdout",
     "output_type": "stream",
     "text": [
      "K = 4.598738455022996, L = 0.36856862985253175\n"
     ]
    },
    {
     "name": "stdout",
     "output_type": "stream",
     "text": [
      "K = 4.596942303923377, L = 0.368537277655125\n"
     ]
    },
    {
     "name": "stdout",
     "output_type": "stream",
     "text": [
      "K = 4.595193426124371, L = 0.36850639429344795\n"
     ]
    },
    {
     "name": "stdout",
     "output_type": "stream",
     "text": [
      "K = 4.593480191496774, L = 0.36847594800924643\n"
     ]
    },
    {
     "name": "stdout",
     "output_type": "stream",
     "text": [
      "K = 4.591806981988368, L = 0.36844595621698534\n"
     ]
    },
    {
     "name": "stdout",
     "output_type": "stream",
     "text": [
      "K = 4.590172093545802, L = 0.36841646270945866\n"
     ]
    },
    {
     "name": "stdout",
     "output_type": "stream",
     "text": [
      "K = 4.588574390447501, L = 0.36838733154239706\n"
     ]
    },
    {
     "name": "stdout",
     "output_type": "stream",
     "text": [
      "K = 4.587011483934563, L = 0.36835866712742976\n"
     ]
    },
    {
     "name": "stdout",
     "output_type": "stream",
     "text": [
      "K = 4.585481094326462, L = 0.3683303999760649\n"
     ]
    },
    {
     "name": "stdout",
     "output_type": "stream",
     "text": [
      "K = 4.583987256795307, L = 0.36830259908330343\n"
     ]
    },
    {
     "name": "stdout",
     "output_type": "stream",
     "text": [
      "K = 4.582528043902305, L = 0.3682752269466347\n"
     ]
    },
    {
     "name": "stdout",
     "output_type": "stream",
     "text": [
      "K = 4.581098245514144, L = 0.3682482666848279\n"
     ]
    },
    {
     "name": "stdout",
     "output_type": "stream",
     "text": [
      "K = 4.579699818126796, L = 0.36822173468213604\n"
     ]
    },
    {
     "name": "stdout",
     "output_type": "stream",
     "text": [
      "K = 4.578333903417014, L = 0.3681956010072323\n"
     ]
    },
    {
     "name": "stdout",
     "output_type": "stream",
     "text": [
      "K = 4.576997244627394, L = 0.3681698699364223\n"
     ]
    },
    {
     "name": "stdout",
     "output_type": "stream",
     "text": [
      "K = 4.575689040668322, L = 0.3681445480202462\n"
     ]
    },
    {
     "name": "stdout",
     "output_type": "stream",
     "text": [
      "K = 4.574408956799589, L = 0.36811958106758413\n"
     ]
    },
    {
     "name": "stdout",
     "output_type": "stream",
     "text": [
      "K = 4.573164677074813, L = 0.3680950375310188\n"
     ]
    },
    {
     "name": "stdout",
     "output_type": "stream",
     "text": [
      "K = 4.571949773619156, L = 0.36807088021287376\n"
     ]
    },
    {
     "name": "stdout",
     "output_type": "stream",
     "text": [
      "K = 4.570761963514415, L = 0.3680471237354776\n"
     ]
    },
    {
     "name": "stdout",
     "output_type": "stream",
     "text": [
      "K = 4.569599929080344, L = 0.36802372454518784\n"
     ]
    },
    {
     "name": "stdout",
     "output_type": "stream",
     "text": [
      "K = 4.568466359153511, L = 0.36800069772539235\n"
     ]
    },
    {
     "name": "stdout",
     "output_type": "stream",
     "text": [
      "K = 4.56735593247854, L = 0.36797803216389574\n"
     ]
    },
    {
     "name": "stdout",
     "output_type": "stream",
     "text": [
      "K = 4.566266014685518, L = 0.36795570145642226\n"
     ]
    },
    {
     "name": "stdout",
     "output_type": "stream",
     "text": [
      "K = 4.5651989632857815, L = 0.3679337208118738\n"
     ]
    },
    {
     "name": "stdout",
     "output_type": "stream",
     "text": [
      "K = 4.5641550075697594, L = 0.36791210276674063\n"
     ]
    },
    {
     "name": "stdout",
     "output_type": "stream",
     "text": [
      "K = 4.563135368276423, L = 0.36789082824821556\n"
     ]
    },
    {
     "name": "stdout",
     "output_type": "stream",
     "text": [
      "K = 4.562139871609496, L = 0.3678699385767555\n"
     ]
    },
    {
     "name": "stdout",
     "output_type": "stream",
     "text": [
      "K = 4.561165905522493, L = 0.3678493871882689\n"
     ]
    },
    {
     "name": "stdout",
     "output_type": "stream",
     "text": [
      "K = 4.5602146045923515, L = 0.36782911185329353\n"
     ]
    },
    {
     "name": "stdout",
     "output_type": "stream",
     "text": [
      "K = 4.55928196044875, L = 0.36780916133336006\n"
     ]
    },
    {
     "name": "stdout",
     "output_type": "stream",
     "text": [
      "K = 4.558361953817959, L = 0.3677895014401454\n"
     ]
    },
    {
     "name": "stdout",
     "output_type": "stream",
     "text": [
      "K = 4.557460779720819, L = 0.367770130779566\n"
     ]
    },
    {
     "name": "stdout",
     "output_type": "stream",
     "text": [
      "K = 4.556580525609701, L = 0.3677510562952133\n"
     ]
    },
    {
     "name": "stdout",
     "output_type": "stream",
     "text": [
      "K = 4.555720746305472, L = 0.367732270649018\n"
     ]
    },
    {
     "name": "stdout",
     "output_type": "stream",
     "text": [
      "K = 4.554879853868583, L = 0.36771380959073074\n"
     ]
    },
    {
     "name": "stdout",
     "output_type": "stream",
     "text": [
      "K = 4.554059481265253, L = 0.36769565223058615\n"
     ]
    },
    {
     "name": "stdout",
     "output_type": "stream",
     "text": [
      "K = 4.553258224643662, L = 0.36767778394766176\n"
     ]
    },
    {
     "name": "stdout",
     "output_type": "stream",
     "text": [
      "K = 4.55247319999853, L = 0.36766017866942274\n"
     ]
    },
    {
     "name": "stdout",
     "output_type": "stream",
     "text": [
      "K = 4.551706769535842, L = 0.36764283844086804\n"
     ]
    },
    {
     "name": "stdout",
     "output_type": "stream",
     "text": [
      "K = 4.550959898648636, L = 0.36762577710176986\n"
     ]
    },
    {
     "name": "stdout",
     "output_type": "stream",
     "text": [
      "K = 4.550229462302457, L = 0.36760900120643347\n"
     ]
    },
    {
     "name": "stdout",
     "output_type": "stream",
     "text": [
      "K = 4.54951472919161, L = 0.36759251446048874\n"
     ]
    },
    {
     "name": "stdout",
     "output_type": "stream",
     "text": [
      "K = 4.548812573263662, L = 0.3675762804712878\n"
     ]
    },
    {
     "name": "stdout",
     "output_type": "stream",
     "text": [
      "K = 4.54812507831788, L = 0.36756032634537394\n"
     ]
    },
    {
     "name": "stdout",
     "output_type": "stream",
     "text": [
      "K = 4.547452342082888, L = 0.36754464198131026\n"
     ]
    },
    {
     "name": "stdout",
     "output_type": "stream",
     "text": [
      "K = 4.546796865546729, L = 0.36752916513526984\n"
     ]
    },
    {
     "name": "stdout",
     "output_type": "stream",
     "text": [
      "K = 4.5461553326619395, L = 0.36751391433652675\n"
     ]
    },
    {
     "name": "stdout",
     "output_type": "stream",
     "text": [
      "K = 4.545526273714144, L = 0.36749888127938724\n"
     ]
    },
    {
     "name": "stdout",
     "output_type": "stream",
     "text": [
      "K = 4.544911149374322, L = 0.36748409899945217\n"
     ]
    },
    {
     "name": "stdout",
     "output_type": "stream",
     "text": [
      "K = 4.5443072862834475, L = 0.3674695244084786\n"
     ]
    },
    {
     "name": "stdout",
     "output_type": "stream",
     "text": [
      "K = 4.543717528941957, L = 0.3674551667094511\n"
     ]
    },
    {
     "name": "stdout",
     "output_type": "stream",
     "text": [
      "K = 4.543140627635618, L = 0.36744105353914575\n"
     ]
    },
    {
     "name": "stdout",
     "output_type": "stream",
     "text": [
      "K = 4.542573861789304, L = 0.367427165876023\n"
     ]
    },
    {
     "name": "stdout",
     "output_type": "stream",
     "text": [
      "K = 4.542020504568923, L = 0.36741351752302603\n"
     ]
    },
    {
     "name": "stdout",
     "output_type": "stream",
     "text": [
      "K = 4.541480533996624, L = 0.36740010805901535\n"
     ]
    },
    {
     "name": "stdout",
     "output_type": "stream",
     "text": [
      "K = 4.5409547285016965, L = 0.36738695784980385\n"
     ]
    },
    {
     "name": "stdout",
     "output_type": "stream",
     "text": [
      "K = 4.540442201067154, L = 0.36737402826465115\n"
     ]
    },
    {
     "name": "stdout",
     "output_type": "stream",
     "text": [
      "K = 4.5399410955641475, L = 0.36736132174274744\n"
     ]
    },
    {
     "name": "stdout",
     "output_type": "stream",
     "text": [
      "K = 4.539449693122617, L = 0.367348830158462\n"
     ]
    },
    {
     "name": "stdout",
     "output_type": "stream",
     "text": [
      "K = 4.538969664965049, L = 0.3673365490345488\n"
     ]
    },
    {
     "name": "stdout",
     "output_type": "stream",
     "text": [
      "K = 4.538500973782599, L = 0.3673244641183814\n"
     ]
    },
    {
     "name": "stdout",
     "output_type": "stream",
     "text": [
      "K = 4.538042369806999, L = 0.3673125851837029\n"
     ]
    },
    {
     "name": "stdout",
     "output_type": "stream",
     "text": [
      "K = 4.537593998349178, L = 0.36730091042464663\n"
     ]
    },
    {
     "name": "stdout",
     "output_type": "stream",
     "text": [
      "K = 4.537158367854233, L = 0.367289441897263\n"
     ]
    },
    {
     "name": "stdout",
     "output_type": "stream",
     "text": [
      "K = 4.536731627350312, L = 0.3672781716738979\n"
     ]
    },
    {
     "name": "stdout",
     "output_type": "stream",
     "text": [
      "K = 4.536314147341399, L = 0.3672670985948919\n"
     ]
    },
    {
     "name": "stdout",
     "output_type": "stream",
     "text": [
      "K = 4.535905089155218, L = 0.3672562167062832\n"
     ]
    },
    {
     "name": "stdout",
     "output_type": "stream",
     "text": [
      "K = 4.5355045413550235, L = 0.3672455242538986\n"
     ]
    },
    {
     "name": "stdout",
     "output_type": "stream",
     "text": [
      "K = 4.535112125769077, L = 0.36723501731512886\n"
     ]
    },
    {
     "name": "stdout",
     "output_type": "stream",
     "text": [
      "K = 4.534726945119538, L = 0.3672246555369408\n"
     ]
    },
    {
     "name": "stdout",
     "output_type": "stream",
     "text": [
      "K = 4.534350925463414, L = 0.3672144890744012\n"
     ]
    },
    {
     "name": "stdout",
     "output_type": "stream",
     "text": [
      "K = 4.533981816339743, L = 0.36720446024698866\n"
     ]
    },
    {
     "name": "stdout",
     "output_type": "stream",
     "text": [
      "K = 4.533619997992111, L = 0.3671945971304605\n"
     ]
    },
    {
     "name": "stdout",
     "output_type": "stream",
     "text": [
      "K = 4.533265330249328, L = 0.3671848872427145\n"
     ]
    },
    {
     "name": "stdout",
     "output_type": "stream",
     "text": [
      "K = 4.53292112243844, L = 0.3671753502670385\n"
     ]
    },
    {
     "name": "stdout",
     "output_type": "stream",
     "text": [
      "K = 4.532584974525853, L = 0.3671659764927377\n"
     ]
    },
    {
     "name": "stdout",
     "output_type": "stream",
     "text": [
      "K = 4.532256874718664, L = 0.3671567835427576\n"
     ]
    },
    {
     "name": "stdout",
     "output_type": "stream",
     "text": [
      "K = 4.531935531383883, L = 0.36714775292270685\n"
     ]
    },
    {
     "name": "stdout",
     "output_type": "stream",
     "text": [
      "K = 4.5316211240486535, L = 0.36713887983458127\n"
     ]
    },
    {
     "name": "stdout",
     "output_type": "stream",
     "text": [
      "K = 4.531312993178859, L = 0.36713016263777565\n"
     ]
    },
    {
     "name": "stdout",
     "output_type": "stream",
     "text": [
      "K = 4.531011994836778, L = 0.3671215982978273\n"
     ]
    },
    {
     "name": "stdout",
     "output_type": "stream",
     "text": [
      "K = 4.530717442910384, L = 0.3671131850402244\n"
     ]
    },
    {
     "name": "stdout",
     "output_type": "stream",
     "text": [
      "K = 4.530428400548367, L = 0.36710489480149167\n"
     ]
    },
    {
     "name": "stdout",
     "output_type": "stream",
     "text": [
      "K = 4.530146042018996, L = 0.36709674796692576\n"
     ]
    },
    {
     "name": "stdout",
     "output_type": "stream",
     "text": [
      "K = 4.529870391842794, L = 0.3670887447729553\n"
     ]
    },
    {
     "name": "stdout",
     "output_type": "stream",
     "text": [
      "K = 4.529600510975862, L = 0.36708088371261205\n"
     ]
    },
    {
     "name": "stdout",
     "output_type": "stream",
     "text": [
      "K = 4.52933613891082, L = 0.3670731594841558\n"
     ]
    },
    {
     "name": "stdout",
     "output_type": "stream",
     "text": [
      "K = 4.52907798955158, L = 0.367065575230548\n"
     ]
    },
    {
     "name": "stdout",
     "output_type": "stream",
     "text": [
      "K = 4.5288255802811275, L = 0.3670581284750225\n"
     ]
    },
    {
     "name": "stdout",
     "output_type": "stream",
     "text": [
      "K = 4.528578499078228, L = 0.3670508150272718\n"
     ]
    },
    {
     "name": "stdout",
     "output_type": "stream",
     "text": [
      "K = 4.5283372140177205, L = 0.3670436275032387\n"
     ]
    },
    {
     "name": "stdout",
     "output_type": "stream",
     "text": [
      "K = 4.528101047667925, L = 0.36703656918807964\n"
     ]
    },
    {
     "name": "stdout",
     "output_type": "stream",
     "text": [
      "K = 4.527869908758837, L = 0.36702963581884807\n"
     ]
    },
    {
     "name": "stdout",
     "output_type": "stream",
     "text": [
      "K = 4.527643613584533, L = 0.36702282789549545\n"
     ]
    },
    {
     "name": "stdout",
     "output_type": "stream",
     "text": [
      "K = 4.527422456646608, L = 0.3670161412109836\n"
     ]
    },
    {
     "name": "stdout",
     "output_type": "stream",
     "text": [
      "K = 4.527204603977875, L = 0.367009545574667\n"
     ]
    },
    {
     "name": "stdout",
     "output_type": "stream",
     "text": [
      "K = 4.526991632938968, L = 0.3670030650415734\n"
     ]
    },
    {
     "name": "stdout",
     "output_type": "stream",
     "text": [
      "K = 4.526783041205544, L = 0.36699670014653607\n"
     ]
    },
    {
     "name": "stdout",
     "output_type": "stream",
     "text": [
      "K = 4.526591500813873, L = 0.3669904613825091\n"
     ]
    },
    {
     "name": "stdout",
     "output_type": "stream",
     "text": [
      "K = 4.526403186480224, L = 0.3669843098654833\n"
     ]
    },
    {
     "name": "stdout",
     "output_type": "stream",
     "text": [
      "K = 4.526218846441894, L = 0.3669782691031605\n"
     ]
    },
    {
     "name": "stdout",
     "output_type": "stream",
     "text": [
      "K = 4.526040509987281, L = 0.36697236322242827\n"
     ]
    },
    {
     "name": "stdout",
     "output_type": "stream",
     "text": [
      "K = 4.525866176435807, L = 0.36696655102119763\n"
     ]
    },
    {
     "name": "stdout",
     "output_type": "stream",
     "text": [
      "K = 4.525695258947399, L = 0.3669608432583387\n"
     ]
    },
    {
     "name": "stdout",
     "output_type": "stream",
     "text": [
      "K = 4.525527922108849, L = 0.36695523472533415\n"
     ]
    },
    {
     "name": "stdout",
     "output_type": "stream",
     "text": [
      "K = 4.525364262049223, L = 0.3669497266711724\n"
     ]
    },
    {
     "name": "stdout",
     "output_type": "stream",
     "text": [
      "K = 4.525204184160891, L = 0.36694431907599084\n"
     ]
    },
    {
     "name": "stdout",
     "output_type": "stream",
     "text": [
      "K = 4.525047354730701, L = 0.36693900757443754\n"
     ]
    },
    {
     "name": "stdout",
     "output_type": "stream",
     "text": [
      "K = 4.524894184024628, L = 0.3669337911898613\n"
     ]
    },
    {
     "name": "stdout",
     "output_type": "stream",
     "text": [
      "K = 4.524744441160803, L = 0.3669286687293671\n"
     ]
    },
    {
     "name": "stdout",
     "output_type": "stream",
     "text": [
      "K = 4.524597820889357, L = 0.3669236375506221\n"
     ]
    },
    {
     "name": "stdout",
     "output_type": "stream",
     "text": [
      "K = 4.524453797775669, L = 0.36691867201499856\n"
     ]
    },
    {
     "name": "stdout",
     "output_type": "stream",
     "text": [
      "K = 4.524315319564648, L = 0.3669138014016154\n"
     ]
    },
    {
     "name": "stdout",
     "output_type": "stream",
     "text": [
      "K = 4.524179959010152, L = 0.36690901969532047\n"
     ]
    },
    {
     "name": "stdout",
     "output_type": "stream",
     "text": [
      "K = 4.524047267270286, L = 0.3669043246400897\n"
     ]
    },
    {
     "name": "stdout",
     "output_type": "stream",
     "text": [
      "K = 4.5239173342937855, L = 0.36689971430203455\n"
     ]
    },
    {
     "name": "stdout",
     "output_type": "stream",
     "text": [
      "K = 4.523789966150995, L = 0.3668951883580882\n"
     ]
    },
    {
     "name": "stdout",
     "output_type": "stream",
     "text": [
      "K = 4.523665384410449, L = 0.3668907446670541\n"
     ]
    },
    {
     "name": "stdout",
     "output_type": "stream",
     "text": [
      "K = 4.52354336749299, L = 0.3668863830172679\n"
     ]
    },
    {
     "name": "stdout",
     "output_type": "stream",
     "text": [
      "K = 4.523421932048934, L = 0.36688208191676536\n"
     ]
    },
    {
     "name": "stdout",
     "output_type": "stream",
     "text": [
      "K = 4.523303012782623, L = 0.36687785969029446\n"
     ]
    },
    {
     "name": "stdout",
     "output_type": "stream",
     "text": [
      "K = 4.523187177932596, L = 0.36687371446673833\n"
     ]
    },
    {
     "name": "stdout",
     "output_type": "stream",
     "text": [
      "K = 4.5230738356826565, L = 0.36686964419482854\n"
     ]
    },
    {
     "name": "stdout",
     "output_type": "stream",
     "text": [
      "K = 4.522962839102828, L = 0.3668656490093884\n"
     ]
    },
    {
     "name": "stdout",
     "output_type": "stream",
     "text": [
      "K = 4.522853956673727, L = 0.3668617265389811\n"
     ]
    },
    {
     "name": "stdout",
     "output_type": "stream",
     "text": [
      "K = 4.522748215400447, L = 0.36685785473773735\n"
     ]
    },
    {
     "name": "stdout",
     "output_type": "stream",
     "text": [
      "K = 4.522644023160524, L = 0.3668540452755885\n"
     ]
    },
    {
     "name": "stdout",
     "output_type": "stream",
     "text": [
      "K = 4.522541968994279, L = 0.3668503059383755\n"
     ]
    },
    {
     "name": "stdout",
     "output_type": "stream",
     "text": [
      "K = 4.5224428362618925, L = 0.36684665177677467\n"
     ]
    },
    {
     "name": "stdout",
     "output_type": "stream",
     "text": [
      "K = 4.522346402555856, L = 0.36684306546017686\n"
     ]
    },
    {
     "name": "stdout",
     "output_type": "stream",
     "text": [
      "K = 4.52225189752394, L = 0.3668395454150832\n"
     ]
    },
    {
     "name": "stdout",
     "output_type": "stream",
     "text": [
      "K = 4.522159299849011, L = 0.3668360903076779\n"
     ]
    },
    {
     "name": "stdout",
     "output_type": "stream",
     "text": [
      "K = 4.522068592577372, L = 0.3668326968873124\n"
     ]
    },
    {
     "name": "stdout",
     "output_type": "stream",
     "text": [
      "K = 4.521979876184121, L = 0.36682936628869794\n"
     ]
    },
    {
     "name": "stdout",
     "output_type": "stream",
     "text": [
      "K = 4.5218929541505775, L = 0.3668260974720726\n"
     ]
    },
    {
     "name": "stdout",
     "output_type": "stream",
     "text": [
      "K = 4.521808108849813, L = 0.3668228916157848\n"
     ]
    },
    {
     "name": "stdout",
     "output_type": "stream",
     "text": [
      "K = 4.521725049360315, L = 0.3668197449875016\n"
     ]
    },
    {
     "name": "stdout",
     "output_type": "stream",
     "text": [
      "K = 4.5216430921896045, L = 0.3668166393179887\n"
     ]
    },
    {
     "name": "stdout",
     "output_type": "stream",
     "text": [
      "K = 4.52156273521844, L = 0.36681359050802453\n"
     ]
    },
    {
     "name": "stdout",
     "output_type": "stream",
     "text": [
      "K = 4.521483941223414, L = 0.3668105977981811\n"
     ]
    },
    {
     "name": "stdout",
     "output_type": "stream",
     "text": [
      "K = 4.521406730890755, L = 0.36680766059330155\n"
     ]
    },
    {
     "name": "stdout",
     "output_type": "stream",
     "text": [
      "K = 4.521331076535598, L = 0.3668047781619457\n"
     ]
    },
    {
     "name": "stdout",
     "output_type": "stream",
     "text": [
      "K = 4.521257398953238, L = 0.3668019497338543\n"
     ]
    },
    {
     "name": "stdout",
     "output_type": "stream",
     "text": [
      "K = 4.521185194303344, L = 0.36679917397959827\n"
     ]
    },
    {
     "name": "stdout",
     "output_type": "stream",
     "text": [
      "K = 4.521114048307345, L = 0.3667964420747002\n"
     ]
    },
    {
     "name": "stdout",
     "output_type": "stream",
     "text": [
      "K = 4.521044325231266, L = 0.3667937610555515\n"
     ]
    },
    {
     "name": "stdout",
     "output_type": "stream",
     "text": [
      "K = 4.520976036862467, L = 0.36679112671977904\n"
     ]
    },
    {
     "name": "stdout",
     "output_type": "stream",
     "text": [
      "K = 4.520909595062145, L = 0.36678854339216393\n"
     ]
    },
    {
     "name": "stdout",
     "output_type": "stream",
     "text": [
      "K = 4.52084464079432, L = 0.36678600769754777\n"
     ]
    },
    {
     "name": "stdout",
     "output_type": "stream",
     "text": [
      "K = 4.520779794876392, L = 0.3667835145796801\n"
     ]
    },
    {
     "name": "stdout",
     "output_type": "stream",
     "text": [
      "K = 4.520716390552878, L = 0.36678106817233513\n"
     ]
    },
    {
     "name": "stdout",
     "output_type": "stream",
     "text": [
      "K = 4.520654241216784, L = 0.3667786668989408\n"
     ]
    },
    {
     "name": "stdout",
     "output_type": "stream",
     "text": [
      "K = 4.520593388839875, L = 0.3667763103818437\n"
     ]
    },
    {
     "name": "stdout",
     "output_type": "stream",
     "text": [
      "K = 4.520534181104065, L = 0.36677399823583207\n"
     ]
    },
    {
     "name": "stdout",
     "output_type": "stream",
     "text": [
      "K = 4.520473679553636, L = 0.3667716927100496\n"
     ]
    },
    {
     "name": "stdout",
     "output_type": "stream",
     "text": [
      "K = 4.520414628109169, L = 0.3667694305095604\n"
     ]
    },
    {
     "name": "stdout",
     "output_type": "stream",
     "text": [
      "K = 4.520356757693591, L = 0.3667672104301658\n"
     ]
    },
    {
     "name": "stdout",
     "output_type": "stream",
     "text": [
      "K = 4.5203000454282805, L = 0.36676503169539026\n"
     ]
    },
    {
     "name": "stdout",
     "output_type": "stream",
     "text": [
      "K = 4.5202444674082765, L = 0.36676289354348585\n"
     ]
    },
    {
     "name": "stdout",
     "output_type": "stream",
     "text": [
      "K = 4.520190000948673, L = 0.36676079522622895\n"
     ]
    },
    {
     "name": "stdout",
     "output_type": "stream",
     "text": [
      "K = 4.520136607853572, L = 0.3667587356614032\n"
     ]
    },
    {
     "name": "stdout",
     "output_type": "stream",
     "text": [
      "K = 4.520084271922167, L = 0.3667567144160386\n",
      "Converged in 197 iterations\n"
     ]
    }
   ],
   "source": [
    "prim_no_ss = Primitives(θ = 0.0, a_max=50.0)\n",
    "res_no_ss = Initialize(prim_no_ss)\n",
    "V_induction(prim_no_ss, res_no_ss)\n",
    "steady_dist(prim_no_ss, res_no_ss)\n",
    "market_clearing(prim_no_ss, res_no_ss; tol = .0001, max_iter = 200, K₀=4.70, L₀=.37)"
   ]
  },
  {
   "cell_type": "code",
   "execution_count": 61,
   "metadata": {},
   "outputs": [
    {
     "data": {
      "text/plain": [
       "0.012145459033258393"
      ]
     },
     "metadata": {},
     "output_type": "display_data"
    }
   ],
   "source": [
    "res_no_ss.r"
   ]
  },
  {
   "cell_type": "code",
   "execution_count": 62,
   "metadata": {},
   "outputs": [
    {
     "data": {
      "text/plain": [
       "1.5807295338951146"
      ]
     },
     "metadata": {},
     "output_type": "display_data"
    }
   ],
   "source": [
    "res_no_ss.w"
   ]
  },
  {
   "cell_type": "code",
   "execution_count": 63,
   "metadata": {},
   "outputs": [
    {
     "data": {
      "text/plain": [
       "0.0"
      ]
     },
     "metadata": {},
     "output_type": "display_data"
    }
   ],
   "source": [
    "res_no_ss.b"
   ]
  },
  {
   "cell_type": "code",
   "execution_count": 64,
   "metadata": {},
   "outputs": [
    {
     "data": {
      "text/plain": [
       "-1.8999850783238692"
      ]
     },
     "metadata": {},
     "output_type": "display_data"
    }
   ],
   "source": [
    "# calculate average utility\n",
    "welfare_no_ss = res_no_ss.Fʳ ⋅ res_no_ss.uʳ + res_no_ss.Fʷ ⋅ res_no_ss.uʷ"
   ]
  },
  {
   "cell_type": "code",
   "execution_count": 95,
   "metadata": {},
   "outputs": [
    {
     "data": {
      "text/plain": [
       "1.5019031090204262"
      ]
     },
     "metadata": {},
     "output_type": "display_data"
    }
   ],
   "source": [
    "# collapse distribution of assets across age and efficiency\n",
    "a_dist = sum(res_no_ss.Fʳ, dims=1) + sum(res_no_ss.Fʷ, dims=(1,3))\n",
    "\n",
    "# find mean of a_dist\n",
    "μ_a = prim_no_ss.a_grid ⋅ a_dist\n",
    "\n",
    "# find standard deviation of a_dist\n",
    "σ_a = sqrt.((prim_no_ss.a_grid .- μ_a).^2 ⋅ a_dist)\n",
    "\n",
    "# find coefficient of variation\n",
    "σ_a / μ_a"
   ]
  },
  {
   "cell_type": "markdown",
   "metadata": {},
   "source": [
    "#### No risk, with SS"
   ]
  },
  {
   "cell_type": "code",
   "execution_count": 65,
   "metadata": {},
   "outputs": [
    {
     "name": "stdout",
     "output_type": "stream",
     "text": [
      "K = 1.063292112589924, L = 0.16000273949212696\n"
     ]
    },
    {
     "name": "stdout",
     "output_type": "stream",
     "text": [
      "K = 1.065410386625381, L = 0.16001373941685287\n"
     ]
    },
    {
     "name": "stdout",
     "output_type": "stream",
     "text": [
      "K = 1.0674862951801287, L = 0.16002555411696823\n"
     ]
    },
    {
     "name": "stdout",
     "output_type": "stream",
     "text": [
      "K = 1.0695206855637815, L = 0.1600381383962227\n"
     ]
    },
    {
     "name": "stdout",
     "output_type": "stream",
     "text": [
      "K = 1.0711763083367871, L = 0.16005144888006786\n"
     ]
    },
    {
     "name": "stdout",
     "output_type": "stream",
     "text": [
      "K = 1.0727988186543327, L = 0.16006527548160318\n"
     ]
    },
    {
     "name": "stdout",
     "output_type": "stream",
     "text": [
      "K = 1.0743888787655274, L = 0.16007958684853563\n"
     ]
    },
    {
     "name": "stdout",
     "output_type": "stream",
     "text": [
      "K = 1.0751228240505977, L = 0.16010934541567545\n"
     ]
    },
    {
     "name": "stdout",
     "output_type": "stream",
     "text": [
      "K = 1.0758420904299666, L = 0.16013875606678124\n"
     ]
    },
    {
     "name": "stdout",
     "output_type": "stream",
     "text": [
      "K = 1.0765469714817482, L = 0.16016781967179194\n"
     ]
    },
    {
     "name": "stdout",
     "output_type": "stream",
     "text": [
      "K = 1.077237754912494, L = 0.16019653724150298\n"
     ]
    },
    {
     "name": "stdout",
     "output_type": "stream",
     "text": [
      "K = 1.077914722674625, L = 0.16022490992026617\n"
     ]
    },
    {
     "name": "stdout",
     "output_type": "stream",
     "text": [
      "K = 1.0785781510815136, L = 0.16025293897897908\n"
     ]
    },
    {
     "name": "stdout",
     "output_type": "stream",
     "text": [
      "K = 1.0792283109202643, L = 0.16028062580835237\n"
     ]
    },
    {
     "name": "stdout",
     "output_type": "stream",
     "text": [
      "K = 1.07986546756224, L = 0.16030797191244478\n"
     ]
    },
    {
     "name": "stdout",
     "output_type": "stream",
     "text": [
      "K = 1.0804898810713761, L = 0.1603349789024553\n"
     ]
    },
    {
     "name": "stdout",
     "output_type": "stream",
     "text": [
      "K = 1.0811018063103295, L = 0.160361648490763\n"
     ]
    },
    {
     "name": "stdout",
     "output_type": "stream",
     "text": [
      "K = 1.081701493044504, L = 0.16038798248520525\n"
     ]
    },
    {
     "name": "stdout",
     "output_type": "stream",
     "text": [
      "K = 1.0822891860439947, L = 0.1604139827835846\n"
     ]
    },
    {
     "name": "stdout",
     "output_type": "stream",
     "text": [
      "K = 1.0826193361969325, L = 0.16043007212303154\n"
     ]
    },
    {
     "name": "stdout",
     "output_type": "stream",
     "text": [
      "K = 1.0829428833468115, L = 0.16044593992834955\n"
     ]
    },
    {
     "name": "stdout",
     "output_type": "stream",
     "text": [
      "K = 1.083259959553693, L = 0.16046158825194362\n"
     ]
    },
    {
     "name": "stdout",
     "output_type": "stream",
     "text": [
      "K = 1.0835706942364367, L = 0.16047701916305804\n"
     ]
    },
    {
     "name": "stdout",
     "output_type": "stream",
     "text": [
      "K = 1.0830883819984651, L = 0.16050634936146918\n"
     ]
    },
    {
     "name": "stdout",
     "output_type": "stream",
     "text": [
      "K = 1.0834025482323135, L = 0.16052067096503184\n"
     ]
    },
    {
     "name": "stdout",
     "output_type": "stream",
     "text": [
      "K = 1.083710431141485, L = 0.16053480445302973\n"
     ]
    },
    {
     "name": "stdout",
     "output_type": "stream",
     "text": [
      "K = 1.084012156392473, L = 0.16054875125866275\n"
     ]
    },
    {
     "name": "stdout",
     "output_type": "stream",
     "text": [
      "K = 1.0835210149113805, L = 0.1605766287411427\n"
     ]
    },
    {
     "name": "stdout",
     "output_type": "stream",
     "text": [
      "K = 1.0838265284869706, L = 0.16058952595205594\n"
     ]
    },
    {
     "name": "stdout",
     "output_type": "stream",
     "text": [
      "K = 1.0841259317910488, L = 0.16060226393692284\n"
     ]
    },
    {
     "name": "stdout",
     "output_type": "stream",
     "text": [
      "K = 1.0844193470290455, L = 0.1606148435432673\n"
     ]
    },
    {
     "name": "stdout",
     "output_type": "stream",
     "text": [
      "K = 1.0839200617352218, L = 0.16064138272423745\n"
     ]
    },
    {
     "name": "stdout",
     "output_type": "stream",
     "text": [
      "K = 1.084217594374335, L = 0.16065296773517374\n"
     ]
    },
    {
     "name": "stdout",
     "output_type": "stream",
     "text": [
      "K = 1.084509176360666, L = 0.16066442012901358\n"
     ]
    },
    {
     "name": "stdout",
     "output_type": "stream",
     "text": [
      "K = 1.0847949267072703, L = 0.16067574021397038\n"
     ]
    },
    {
     "name": "stdout",
     "output_type": "stream",
     "text": [
      "K = 1.084288129819882, L = 0.16070104647806108\n"
     ]
    },
    {
     "name": "stdout",
     "output_type": "stream",
     "text": [
      "K = 1.084578301097302, L = 0.16071142262643712\n"
     ]
    },
    {
     "name": "stdout",
     "output_type": "stream",
     "text": [
      "K = 1.0848626689491736, L = 0.1607216906665931\n"
     ]
    },
    {
     "name": "stdout",
     "output_type": "stream",
     "text": [
      "K = 1.0851413494440079, L = 0.1607318504101144\n"
     ]
    },
    {
     "name": "stdout",
     "output_type": "stream",
     "text": [
      "K = 1.0854144563289454, L = 0.1607419017292304\n"
     ]
    },
    {
     "name": "stdout",
     "output_type": "stream",
     "text": [
      "K = 1.0848952688491236, L = 0.16076595752015602\n"
     ]
    },
    {
     "name": "stdout",
     "output_type": "stream",
     "text": [
      "K = 1.0851732973459587, L = 0.16077511181510118\n"
     ]
    },
    {
     "name": "stdout",
     "output_type": "stream",
     "text": [
      "K = 1.085445765272857, L = 0.16078418059925403\n"
     ]
    },
    {
     "name": "stdout",
     "output_type": "stream",
     "text": [
      "K = 1.0857127838412175, L = 0.16079316327821158\n"
     ]
    },
    {
     "name": "stdout",
     "output_type": "stream",
     "text": [
      "K = 1.0851876298111502, L = 0.16081617371888252\n"
     ]
    },
    {
     "name": "stdout",
     "output_type": "stream",
     "text": [
      "K = 1.085459811088745, L = 0.16082430270225354\n"
     ]
    },
    {
     "name": "stdout",
     "output_type": "stream",
     "text": [
      "K = 1.0857265487407877, L = 0.16083236714576535\n"
     ]
    },
    {
     "name": "stdout",
     "output_type": "stream",
     "text": [
      "K = 1.0859879516397897, L = 0.1608403660256941\n"
     ]
    },
    {
     "name": "stdout",
     "output_type": "stream",
     "text": [
      "K = 1.085457294253751, L = 0.16086241408868168\n"
     ]
    },
    {
     "name": "stdout",
     "output_type": "stream",
     "text": [
      "K = 1.0857240822424936, L = 0.16086959915185553\n"
     ]
    },
    {
     "name": "stdout",
     "output_type": "stream",
     "text": [
      "K = 1.0859855344714615, L = 0.16087673897625526\n"
     ]
    },
    {
     "name": "stdout",
     "output_type": "stream",
     "text": [
      "K = 1.0862417576558498, L = 0.16088383214315113\n"
     ]
    },
    {
     "name": "stdout",
     "output_type": "stream",
     "text": [
      "K = 1.08570602414949, L = 0.16090499419646154\n"
     ]
    },
    {
     "name": "stdout",
     "output_type": "stream",
     "text": [
      "K = 1.085967837540318, L = 0.16091131025128155\n"
     ]
    },
    {
     "name": "stdout",
     "output_type": "stream",
     "text": [
      "K = 1.0862244146633293, L = 0.16091759883198126\n"
     ]
    },
    {
     "name": "stdout",
     "output_type": "stream",
     "text": [
      "K = 1.0864758602438804, L = 0.1609238581563856\n"
     ]
    },
    {
     "name": "stdout",
     "output_type": "stream",
     "text": [
      "K = 1.0859354446857599, L = 0.16094420449093924\n"
     ]
    },
    {
     "name": "stdout",
     "output_type": "stream",
     "text": [
      "K = 1.0861926696658624, L = 0.16094972048728387\n"
     ]
    },
    {
     "name": "stdout",
     "output_type": "stream",
     "text": [
      "K = 1.0864447501463628, L = 0.16095522536044318\n"
     ]
    },
    {
     "name": "stdout",
     "output_type": "stream",
     "text": [
      "K = 1.0866917890172532, L = 0.16096071699382547\n"
     ]
    },
    {
     "name": "stdout",
     "output_type": "stream",
     "text": [
      "K = 1.0869338871107257, L = 0.16096619336949317\n"
     ]
    },
    {
     "name": "stdout",
     "output_type": "stream",
     "text": [
      "K = 1.0863843110152682, L = 0.16098576538478085\n"
     ]
    },
    {
     "name": "stdout",
     "output_type": "stream",
     "text": [
      "K = 1.0866325586687806, L = 0.16099052609831788\n"
     ]
    },
    {
     "name": "stdout",
     "output_type": "stream",
     "text": [
      "K = 1.0868758413692228, L = 0.16099528898153054\n"
     ]
    },
    {
     "name": "stdout",
     "output_type": "stream",
     "text": [
      "K = 1.087114258415656, L = 0.16100005169656756\n"
     ]
    },
    {
     "name": "stdout",
     "output_type": "stream",
     "text": [
      "K = 1.0865610748941, L = 0.1610189262665968\n"
     ]
    },
    {
     "name": "stdout",
     "output_type": "stream",
     "text": [
      "K = 1.0868057872700356, L = 0.16102300257443386\n"
     ]
    },
    {
     "name": "stdout",
     "output_type": "stream",
     "text": [
      "K = 1.0870456053984525, L = 0.16102709521906539\n"
     ]
    },
    {
     "name": "stdout",
     "output_type": "stream",
     "text": [
      "K = 1.0872806271643012, L = 0.16103120156864098\n"
     ]
    },
    {
     "name": "stdout",
     "output_type": "stream",
     "text": [
      "K = 1.0867241162677723, L = 0.1610494346693019\n"
     ]
    },
    {
     "name": "stdout",
     "output_type": "stream",
     "text": [
      "K = 1.0869655678162344, L = 0.16105288150927352\n"
     ]
    },
    {
     "name": "stdout",
     "output_type": "stream",
     "text": [
      "K = 1.0872021903337274, L = 0.1610563577114089\n"
     ]
    },
    {
     "name": "stdout",
     "output_type": "stream",
     "text": [
      "K = 1.0874340804008706, L = 0.16105986037366324\n"
     ]
    },
    {
     "name": "stdout",
     "output_type": "stream",
     "text": [
      "K = 1.0868745004396103, L = 0.16107750347168345\n"
     ]
    },
    {
     "name": "stdout",
     "output_type": "stream",
     "text": [
      "K = 1.0871129443046357, L = 0.161080371355342\n"
     ]
    },
    {
     "name": "stdout",
     "output_type": "stream",
     "text": [
      "K = 1.0873466192923606, L = 0.16108328057718432\n"
     ]
    },
    {
     "name": "stdout",
     "output_type": "stream",
     "text": [
      "K = 1.087575620780331, L = 0.16108622798683925\n"
     ]
    },
    {
     "name": "stdout",
     "output_type": "stream",
     "text": [
      "K = 1.0870132100114815, L = 0.16110332840452404\n"
     ]
    },
    {
     "name": "stdout",
     "output_type": "stream",
     "text": [
      "K = 1.0872488796850697, L = 0.16110566377524121\n"
     ]
    },
    {
     "name": "stdout",
     "output_type": "stream",
     "text": [
      "K = 1.087479835965186, L = 0.16110805149569934\n"
     ]
    },
    {
     "name": "stdout",
     "output_type": "stream",
     "text": [
      "K = 1.0877061731197, L = 0.1611104881872905\n"
     ]
    },
    {
     "name": "stdout",
     "output_type": "stream",
     "text": [
      "K = 1.0879279835311237, L = 0.16111297059494326\n"
     ]
    },
    {
     "name": "stdout",
     "output_type": "stream",
     "text": [
      "K = 1.0873585255072584, L = 0.1611296083146294\n"
     ]
    },
    {
     "name": "stdout",
     "output_type": "stream",
     "text": [
      "K = 1.0875872888709308, L = 0.16113149375270752\n",
      "Converged in 84 iterations\n"
     ]
    }
   ],
   "source": [
    "π_no_risk = Array{Float64,2}(I, 1, 1)\n",
    "\n",
    "prim_no_risk = Primitives(z_grid=[.5], π=π_no_risk, initial_dist=[1.0], a_max=50.0, na=500)\n",
    "res_no_risk = Initialize(prim_no_risk)\n",
    "V_induction(prim_no_risk, res_no_risk)\n",
    "steady_dist(prim_no_risk, res_no_risk)\n",
    "market_clearing(prim_no_risk, res_no_risk; K₀=1.06, L₀=.16)"
   ]
  },
  {
   "cell_type": "code",
   "execution_count": 66,
   "metadata": {},
   "outputs": [
    {
     "data": {
      "text/plain": [
       "0.046075761147343866"
      ]
     },
     "metadata": {},
     "output_type": "display_data"
    }
   ],
   "source": [
    "res_no_risk.r"
   ]
  },
  {
   "cell_type": "code",
   "execution_count": 67,
   "metadata": {},
   "outputs": [
    {
     "data": {
      "text/plain": [
       "1.2725974319231166"
      ]
     },
     "metadata": {},
     "output_type": "display_data"
    }
   ],
   "source": [
    "res_no_risk.w"
   ]
  },
  {
   "cell_type": "code",
   "execution_count": 68,
   "metadata": {},
   "outputs": [
    {
     "data": {
      "text/plain": [
       "0.0955629233869586"
      ]
     },
     "metadata": {},
     "output_type": "display_data"
    }
   ],
   "source": [
    "res_no_risk.b"
   ]
  },
  {
   "cell_type": "code",
   "execution_count": 69,
   "metadata": {},
   "outputs": [
    {
     "data": {
      "text/plain": [
       "-2.381299351416785"
      ]
     },
     "metadata": {},
     "output_type": "display_data"
    }
   ],
   "source": [
    "# calculate average utility\n",
    "welfare_no_risk = res_no_risk.Fʳ ⋅ res_no_risk.uʳ + res_no_risk.Fʷ ⋅ res_no_risk.uʷ"
   ]
  },
  {
   "cell_type": "code",
   "execution_count": 96,
   "metadata": {},
   "outputs": [
    {
     "data": {
      "text/plain": [
       "0.8323845192423013"
      ]
     },
     "metadata": {},
     "output_type": "display_data"
    }
   ],
   "source": [
    "# collapse distribution of assets across age and efficiency\n",
    "a_dist = sum(res_no_risk.Fʳ, dims=1) + sum(res_no_risk.Fʷ, dims=(1,3))\n",
    "\n",
    "# find mean of a_dist\n",
    "μ_a = prim_no_risk.a_grid ⋅ a_dist\n",
    "\n",
    "# find standard deviation of a_dist\n",
    "σ_a = sqrt.((prim_no_risk.a_grid .- μ_a).^2 ⋅ a_dist)\n",
    "\n",
    "# find coefficient of variation\n",
    "σ_a / μ_a"
   ]
  },
  {
   "cell_type": "markdown",
   "metadata": {},
   "source": [
    "### No risk, no SS"
   ]
  },
  {
   "cell_type": "code",
   "execution_count": 70,
   "metadata": {},
   "outputs": [
    {
     "name": "stdout",
     "output_type": "stream",
     "text": [
      "K = 1.2798416455393078, L = 0.1699722136601749\n"
     ]
    },
    {
     "name": "stdout",
     "output_type": "stream",
     "text": [
      "K = 1.2796864581678296, L = 0.1699449972664403\n"
     ]
    },
    {
     "name": "stdout",
     "output_type": "stream",
     "text": [
      "K = 1.2795343745437808, L = 0.16991833910865572\n"
     ]
    },
    {
     "name": "stdout",
     "output_type": "stream",
     "text": [
      "K = 1.279385332592213, L = 0.16989222771763257\n"
     ]
    },
    {
     "name": "stdout",
     "output_type": "stream",
     "text": [
      "K = 1.2792392714796768, L = 0.16986665186017133\n"
     ]
    },
    {
     "name": "stdout",
     "output_type": "stream",
     "text": [
      "K = 1.279096131589391, L = 0.16984160053420097\n"
     ]
    },
    {
     "name": "stdout",
     "output_type": "stream",
     "text": [
      "K = 1.2789558544969108, L = 0.16981706296401838\n"
     ]
    },
    {
     "name": "stdout",
     "output_type": "stream",
     "text": [
      "K = 1.2788183829462805, L = 0.169793028595626\n"
     ]
    },
    {
     "name": "stdout",
     "output_type": "stream",
     "text": [
      "K = 1.2786836608266627, L = 0.1697694870921654\n"
     ]
    },
    {
     "name": "stdout",
     "output_type": "stream",
     "text": [
      "K = 1.2785516331494373, L = 0.16974642832944498\n"
     ]
    },
    {
     "name": "stdout",
     "output_type": "stream",
     "text": [
      "K = 1.2784222460257564, L = 0.16972384239155966\n"
     ]
    },
    {
     "name": "stdout",
     "output_type": "stream",
     "text": [
      "K = 1.278295446644549, L = 0.16970171956660104\n"
     ]
    },
    {
     "name": "stdout",
     "output_type": "stream",
     "text": [
      "K = 1.278171183250966, L = 0.16968005034245576\n"
     ]
    },
    {
     "name": "stdout",
     "output_type": "stream",
     "text": [
      "K = 1.2780494051252544, L = 0.1696588254026904\n"
     ]
    },
    {
     "name": "stdout",
     "output_type": "stream",
     "text": [
      "K = 1.277930062562057, L = 0.1696380356225214\n"
     ]
    },
    {
     "name": "stdout",
     "output_type": "stream",
     "text": [
      "K = 1.2778131068501237, L = 0.16961767206486766\n"
     ]
    },
    {
     "name": "stdout",
     "output_type": "stream",
     "text": [
      "K = 1.277698490252429, L = 0.16959772597648484\n"
     ]
    },
    {
     "name": "stdout",
     "output_type": "stream",
     "text": [
      "K = 1.2775861659866883, L = 0.16957818878417896\n"
     ]
    },
    {
     "name": "stdout",
     "output_type": "stream",
     "text": [
      "K = 1.2774760882062624, L = 0.16955905209109834\n"
     ]
    },
    {
     "name": "stdout",
     "output_type": "stream",
     "text": [
      "K = 1.277368211981445, L = 0.1695403076731017\n"
     ]
    },
    {
     "name": "stdout",
     "output_type": "stream",
     "text": [
      "K = 1.2772624932811238, L = 0.1695219474752012\n"
     ]
    },
    {
     "name": "stdout",
     "output_type": "stream",
     "text": [
      "K = 1.2771588889548091, L = 0.16950396360807887\n"
     ]
    },
    {
     "name": "stdout",
     "output_type": "stream",
     "text": [
      "K = 1.2770573567150207, L = 0.16948634834467466\n"
     ]
    },
    {
     "name": "stdout",
     "output_type": "stream",
     "text": [
      "K = 1.2769578551200282, L = 0.16946909411684483\n"
     ]
    },
    {
     "name": "stdout",
     "output_type": "stream",
     "text": [
      "K = 1.2768603435569355, L = 0.1694521935120893\n"
     ]
    },
    {
     "name": "stdout",
     "output_type": "stream",
     "text": [
      "K = 1.2767647822251045, L = 0.16943563927034636\n"
     ]
    },
    {
     "name": "stdout",
     "output_type": "stream",
     "text": [
      "K = 1.2766711321199102, L = 0.1694194242808535\n"
     ]
    },
    {
     "name": "stdout",
     "output_type": "stream",
     "text": [
      "K = 1.2765793550168199, L = 0.16940354157907284\n"
     ]
    },
    {
     "name": "stdout",
     "output_type": "stream",
     "text": [
      "K = 1.2764894134557914, L = 0.16938798434368005\n"
     ]
    },
    {
     "name": "stdout",
     "output_type": "stream",
     "text": [
      "K = 1.2764012707259833, L = 0.1693727458936152\n"
     ]
    },
    {
     "name": "stdout",
     "output_type": "stream",
     "text": [
      "K = 1.2763148908507715, L = 0.16935781968519442\n"
     ]
    },
    {
     "name": "stdout",
     "output_type": "stream",
     "text": [
      "K = 1.276230238573064, L = 0.16934319930928118\n"
     ]
    },
    {
     "name": "stdout",
     "output_type": "stream",
     "text": [
      "K = 1.2761472793409105, L = 0.1693288784885158\n"
     ]
    },
    {
     "name": "stdout",
     "output_type": "stream",
     "text": [
      "K = 1.2760659792934002, L = 0.16931485107460198\n"
     ]
    },
    {
     "name": "stdout",
     "output_type": "stream",
     "text": [
      "K = 1.2759863052468399, L = 0.16930111104564938\n"
     ]
    },
    {
     "name": "stdout",
     "output_type": "stream",
     "text": [
      "K = 1.2759082246812108, L = 0.1692876525035709\n"
     ]
    },
    {
     "name": "stdout",
     "output_type": "stream",
     "text": [
      "K = 1.2758317057268944, L = 0.1692744696715337\n"
     ]
    },
    {
     "name": "stdout",
     "output_type": "stream",
     "text": [
      "K = 1.2757567171516644, L = 0.1692615568914626\n"
     ]
    },
    {
     "name": "stdout",
     "output_type": "stream",
     "text": [
      "K = 1.275683228347939, L = 0.16924890862159503\n"
     ]
    },
    {
     "name": "stdout",
     "output_type": "stream",
     "text": [
      "K = 1.275611209320288, L = 0.16923651943408638\n"
     ]
    },
    {
     "name": "stdout",
     "output_type": "stream",
     "text": [
      "K = 1.27554063067319, L = 0.1692243840126647\n"
     ]
    },
    {
     "name": "stdout",
     "output_type": "stream",
     "text": [
      "K = 1.275471463599034, L = 0.16921249715033365\n"
     ]
    },
    {
     "name": "stdout",
     "output_type": "stream",
     "text": [
      "K = 1.2754036798663613, L = 0.16920085374712285\n"
     ]
    },
    {
     "name": "stdout",
     "output_type": "stream",
     "text": [
      "K = 1.275337251808342, L = 0.16918944880788475\n"
     ]
    },
    {
     "name": "stdout",
     "output_type": "stream",
     "text": [
      "K = 1.275272152311483, L = 0.16917827744013658\n"
     ]
    },
    {
     "name": "stdout",
     "output_type": "stream",
     "text": [
      "K = 1.2752083548045612, L = 0.16916733485194713\n"
     ]
    },
    {
     "name": "stdout",
     "output_type": "stream",
     "text": [
      "K = 1.2751458332477779, L = 0.16915661634986673\n"
     ]
    },
    {
     "name": "stdout",
     "output_type": "stream",
     "text": [
      "K = 1.27508456212213, L = 0.16914611733690024\n"
     ]
    },
    {
     "name": "stdout",
     "output_type": "stream",
     "text": [
      "K = 1.2750245164189953, L = 0.1691358333105215\n"
     ]
    },
    {
     "name": "stdout",
     "output_type": "stream",
     "text": [
      "K = 1.2749656716299231, L = 0.16912575986072906\n"
     ]
    },
    {
     "name": "stdout",
     "output_type": "stream",
     "text": [
      "K = 1.2749080037366325, L = 0.16911589266814148\n"
     ]
    },
    {
     "name": "stdout",
     "output_type": "stream",
     "text": [
      "K = 1.2748514892012077, L = 0.16910622750213244\n"
     ]
    },
    {
     "name": "stdout",
     "output_type": "stream",
     "text": [
      "K = 1.2747961049564913, L = 0.16909676021900383\n"
     ]
    },
    {
     "name": "stdout",
     "output_type": "stream",
     "text": [
      "K = 1.2747418283966694, L = 0.16908748676019683\n"
     ]
    },
    {
     "name": "stdout",
     "output_type": "stream",
     "text": [
      "K = 1.2746886373680437, L = 0.16907840315053957\n"
     ]
    },
    {
     "name": "stdout",
     "output_type": "stream",
     "text": [
      "K = 1.2746365101599906, L = 0.16906950549653108\n"
     ]
    },
    {
     "name": "stdout",
     "output_type": "stream",
     "text": [
      "K = 1.2745854254960987, L = 0.1690607899846606\n"
     ]
    },
    {
     "name": "stdout",
     "output_type": "stream",
     "text": [
      "K = 1.2745353625254845, L = 0.16905225287976142\n"
     ]
    },
    {
     "name": "stdout",
     "output_type": "stream",
     "text": [
      "K = 1.2744863008142826, L = 0.16904389052339874\n"
     ]
    },
    {
     "name": "stdout",
     "output_type": "stream",
     "text": [
      "K = 1.2744382203373048, L = 0.1690356993322907\n"
     ]
    },
    {
     "name": "stdout",
     "output_type": "stream",
     "text": [
      "K = 1.2743911014698666, L = 0.16902767579676198\n"
     ]
    },
    {
     "name": "stdout",
     "output_type": "stream",
     "text": [
      "K = 1.2743449249797771, L = 0.16901981647922923\n"
     ]
    },
    {
     "name": "stdout",
     "output_type": "stream",
     "text": [
      "K = 1.2742996720194895, L = 0.16901211801271776\n"
     ]
    },
    {
     "name": "stdout",
     "output_type": "stream",
     "text": [
      "K = 1.2742553241184076, L = 0.1690045770994087\n"
     ]
    },
    {
     "name": "stdout",
     "output_type": "stream",
     "text": [
      "K = 1.2742118631753472, L = 0.1689971905092162\n"
     ]
    },
    {
     "name": "stdout",
     "output_type": "stream",
     "text": [
      "K = 1.2741692714511481, L = 0.1689899550783939\n"
     ]
    },
    {
     "name": "stdout",
     "output_type": "stream",
     "text": [
      "K = 1.2741275315614329, L = 0.16898286770817011\n"
     ]
    },
    {
     "name": "stdout",
     "output_type": "stream",
     "text": [
      "K = 1.274086626469512, L = 0.16897592536341113\n"
     ]
    },
    {
     "name": "stdout",
     "output_type": "stream",
     "text": [
      "K = 1.2740465394794296, L = 0.16896912507131207\n"
     ]
    },
    {
     "name": "stdout",
     "output_type": "stream",
     "text": [
      "K = 1.2740072542291487, L = 0.16896246392011466\n"
     ]
    },
    {
     "name": "stdout",
     "output_type": "stream",
     "text": [
      "K = 1.2739687546838736, L = 0.16895593905785156\n"
     ]
    },
    {
     "name": "stdout",
     "output_type": "stream",
     "text": [
      "K = 1.273931025129504, L = 0.16894954769111636\n"
     ]
    },
    {
     "name": "stdout",
     "output_type": "stream",
     "text": [
      "K = 1.2738940501662217, L = 0.16894328708385914\n"
     ]
    },
    {
     "name": "stdout",
     "output_type": "stream",
     "text": [
      "K = 1.273857814702205, L = 0.16893715455620661\n"
     ]
    },
    {
     "name": "stdout",
     "output_type": "stream",
     "text": [
      "K = 1.2738223039474688, L = 0.16893114748330676\n"
     ]
    },
    {
     "name": "stdout",
     "output_type": "stream",
     "text": [
      "K = 1.2737875034078272, L = 0.1689252632941972\n"
     ]
    },
    {
     "name": "stdout",
     "output_type": "stream",
     "text": [
      "K = 1.2737533988789784, L = 0.1689194994706968\n"
     ]
    },
    {
     "name": "stdout",
     "output_type": "stream",
     "text": [
      "K = 1.2737199764407066, L = 0.16891385354632027\n"
     ]
    },
    {
     "name": "stdout",
     "output_type": "stream",
     "text": [
      "K = 1.2736872224512001, L = 0.16890832310521503\n"
     ]
    },
    {
     "name": "stdout",
     "output_type": "stream",
     "text": [
      "K = 1.273655123541484, L = 0.16890290578111986\n"
     ]
    },
    {
     "name": "stdout",
     "output_type": "stream",
     "text": [
      "K = 1.273623666609962, L = 0.16889759925634523\n"
     ]
    },
    {
     "name": "stdout",
     "output_type": "stream",
     "text": [
      "K = 1.2735928388170705, L = 0.16889240126077443\n"
     ]
    },
    {
     "name": "stdout",
     "output_type": "stream",
     "text": [
      "K = 1.273562627580037, L = 0.1688873095708855\n"
     ]
    },
    {
     "name": "stdout",
     "output_type": "stream",
     "text": [
      "K = 1.273533020567744, L = 0.16888232200879297\n"
     ]
    },
    {
     "name": "stdout",
     "output_type": "stream",
     "text": [
      "K = 1.273504005695697, L = 0.1688774364413097\n"
     ]
    },
    {
     "name": "stdout",
     "output_type": "stream",
     "text": [
      "K = 1.2734755711210908, L = 0.16887265077902777\n"
     ]
    },
    {
     "name": "stdout",
     "output_type": "stream",
     "text": [
      "K = 1.2734477052379767, L = 0.16886796297541845\n"
     ]
    },
    {
     "name": "stdout",
     "output_type": "stream",
     "text": [
      "K = 1.273420396672525, L = 0.16886337102595064\n"
     ]
    },
    {
     "name": "stdout",
     "output_type": "stream",
     "text": [
      "K = 1.2733936342783823, L = 0.16885887296722749\n"
     ]
    },
    {
     "name": "stdout",
     "output_type": "stream",
     "text": [
      "K = 1.2733674071321224, L = 0.16885446687614078\n"
     ]
    },
    {
     "name": "stdout",
     "output_type": "stream",
     "text": [
      "K = 1.2733417045287878, L = 0.1688501508690427\n"
     ]
    },
    {
     "name": "stdout",
     "output_type": "stream",
     "text": [
      "K = 1.27331651597752, L = 0.16884592310093471\n"
     ]
    },
    {
     "name": "stdout",
     "output_type": "stream",
     "text": [
      "K = 1.2732918311972774, L = 0.16884178176467318\n"
     ]
    },
    {
     "name": "stdout",
     "output_type": "stream",
     "text": [
      "K = 1.2732676401126397, L = 0.1688377250901912\n"
     ]
    },
    {
     "name": "stdout",
     "output_type": "stream",
     "text": [
      "K = 1.2732439328496947, L = 0.1688337513437366\n"
     ]
    },
    {
     "name": "stdout",
     "output_type": "stream",
     "text": [
      "K = 1.2732206997320086, L = 0.16882985882712545\n"
     ]
    },
    {
     "name": "stdout",
     "output_type": "stream",
     "text": [
      "K = 1.2731979312766761, L = 0.16882604587701122\n"
     ]
    },
    {
     "name": "stdout",
     "output_type": "stream",
     "text": [
      "K = 1.2731756181904503, L = 0.16882231086416868\n"
     ]
    },
    {
     "name": "stdout",
     "output_type": "stream",
     "text": [
      "K = 1.2731537513659492, L = 0.16881865219279282\n"
     ]
    },
    {
     "name": "stdout",
     "output_type": "stream",
     "text": [
      "K = 1.273132321877938, L = 0.16881506829981188\n"
     ]
    },
    {
     "name": "stdout",
     "output_type": "stream",
     "text": [
      "K = 1.2731113209796872, L = 0.1688115576542149\n"
     ]
    },
    {
     "name": "stdout",
     "output_type": "stream",
     "text": [
      "K = 1.2730907400994012, L = 0.1688081187563928\n"
     ]
    },
    {
     "name": "stdout",
     "output_type": "stream",
     "text": [
      "K = 1.273070570836721, L = 0.16880475013749316\n"
     ]
    },
    {
     "name": "stdout",
     "output_type": "stream",
     "text": [
      "K = 1.2730508049592943, L = 0.16880145035878832\n"
     ]
    },
    {
     "name": "stdout",
     "output_type": "stream",
     "text": [
      "K = 1.2730314343994162, L = 0.16879821801105646\n"
     ]
    },
    {
     "name": "stdout",
     "output_type": "stream",
     "text": [
      "K = 1.2730124512507357, L = 0.16879505171397519\n"
     ]
    },
    {
     "name": "stdout",
     "output_type": "stream",
     "text": [
      "K = 1.2729938477650289, L = 0.16879195011552803\n"
     ]
    },
    {
     "name": "stdout",
     "output_type": "stream",
     "text": [
      "K = 1.2729756163490362, L = 0.16878891189142284\n"
     ]
    },
    {
     "name": "stdout",
     "output_type": "stream",
     "text": [
      "K = 1.2729577495613633, L = 0.16878593574452225\n"
     ]
    },
    {
     "name": "stdout",
     "output_type": "stream",
     "text": [
      "K = 1.2729402401094438, L = 0.16878302040428578\n"
     ]
    },
    {
     "name": "stdout",
     "output_type": "stream",
     "text": [
      "K = 1.2729230808465628, L = 0.16878016462622367\n"
     ]
    },
    {
     "name": "stdout",
     "output_type": "stream",
     "text": [
      "K = 1.2729062647689393, L = 0.16877736719136158\n"
     ]
    },
    {
     "name": "stdout",
     "output_type": "stream",
     "text": [
      "K = 1.2728897850128684, L = 0.16877462690571668\n"
     ]
    },
    {
     "name": "stdout",
     "output_type": "stream",
     "text": [
      "K = 1.272873634851919, L = 0.16877194259978415\n"
     ]
    },
    {
     "name": "stdout",
     "output_type": "stream",
     "text": [
      "K = 1.2728578076941883, L = 0.16876931312803464\n"
     ]
    },
    {
     "name": "stdout",
     "output_type": "stream",
     "text": [
      "K = 1.2728422970796123, L = 0.16876673736842168\n"
     ]
    },
    {
     "name": "stdout",
     "output_type": "stream",
     "text": [
      "K = 1.2728270966773279, L = 0.1687642142218996\n"
     ]
    },
    {
     "name": "stdout",
     "output_type": "stream",
     "text": [
      "K = 1.272812200283089, L = 0.168761742611951\n"
     ]
    },
    {
     "name": "stdout",
     "output_type": "stream",
     "text": [
      "K = 1.272797601816735, L = 0.1687593214841243\n"
     ]
    },
    {
     "name": "stdout",
     "output_type": "stream",
     "text": [
      "K = 1.2727832953197082, L = 0.16875694980558045\n"
     ]
    },
    {
     "name": "stdout",
     "output_type": "stream",
     "text": [
      "K = 1.2727692749526218, L = 0.1687546265646493\n"
     ]
    },
    {
     "name": "stdout",
     "output_type": "stream",
     "text": [
      "K = 1.2727555349928772, L = 0.16875235077039477\n"
     ]
    },
    {
     "name": "stdout",
     "output_type": "stream",
     "text": [
      "K = 1.2727420698323275, L = 0.1687501214521893\n"
     ]
    },
    {
     "name": "stdout",
     "output_type": "stream",
     "text": [
      "K = 1.2727288739749887, L = 0.16874793765929677\n"
     ]
    },
    {
     "name": "stdout",
     "output_type": "stream",
     "text": [
      "K = 1.2727159420347967, L = 0.16874579846046422\n"
     ]
    },
    {
     "name": "stdout",
     "output_type": "stream",
     "text": [
      "K = 1.2727032687334086, L = 0.16874370294352176\n"
     ]
    },
    {
     "name": "stdout",
     "output_type": "stream",
     "text": [
      "K = 1.2726908488980482, L = 0.16874165021499082\n"
     ]
    },
    {
     "name": "stdout",
     "output_type": "stream",
     "text": [
      "K = 1.272678677459395, L = 0.16873963939970052\n",
      "Converged in 128 iterations\n"
     ]
    }
   ],
   "source": [
    "π_no_risk = Array{Float64,2}(I, 1, 1)\n",
    "\n",
    "prim_no_risk_ss = Primitives(θ=0.0, z_grid=[.5], π=π_no_risk, initial_dist=[1.0], a_max=50.0)\n",
    "res_no_risk_ss = Initialize(prim_no_risk_ss)\n",
    "V_induction(prim_no_risk_ss, res_no_risk_ss)\n",
    "steady_dist(prim_no_risk_ss, res_no_risk_ss)\n",
    "market_clearing(prim_no_risk_ss, res_no_risk_ss; K₀=1.28, L₀=.17)"
   ]
  },
  {
   "cell_type": "code",
   "execution_count": 71,
   "metadata": {},
   "outputs": [
    {
     "data": {
      "text/plain": [
       "0.03878752343021569"
      ]
     },
     "metadata": {},
     "output_type": "display_data"
    }
   ],
   "source": [
    "res_no_risk_ss.r"
   ]
  },
  {
   "cell_type": "code",
   "execution_count": 72,
   "metadata": {},
   "outputs": [
    {
     "data": {
      "text/plain": [
       "1.3245861221156243"
      ]
     },
     "metadata": {},
     "output_type": "display_data"
    }
   ],
   "source": [
    "res_no_risk_ss.w"
   ]
  },
  {
   "cell_type": "code",
   "execution_count": 73,
   "metadata": {},
   "outputs": [
    {
     "data": {
      "text/plain": [
       "-2.3229533851252047"
      ]
     },
     "metadata": {},
     "output_type": "display_data"
    }
   ],
   "source": [
    "# calculate average utility\n",
    "\n",
    "welfare_no_risk_ss = res_no_risk_ss.Fʳ ⋅ res_no_risk_ss.uʳ + res_no_risk_ss.Fʷ ⋅ res_no_risk_ss.uʷ"
   ]
  },
  {
   "cell_type": "code",
   "execution_count": 97,
   "metadata": {},
   "outputs": [
    {
     "data": {
      "text/plain": [
       "0.9001579476288044"
      ]
     },
     "metadata": {},
     "output_type": "display_data"
    }
   ],
   "source": [
    "# collapse distribution of assets across age and efficiency\n",
    "a_dist = sum(res_no_risk_ss.Fʳ, dims=1) + sum(res_no_risk_ss.Fʷ, dims=(1,3))\n",
    "\n",
    "# find mean of a_dist\n",
    "μ_a = prim_no_risk_ss.a_grid ⋅ a_dist\n",
    "\n",
    "# find standard deviation of a_dist\n",
    "σ_a = sqrt.((prim_no_risk_ss.a_grid .- μ_a).^2 ⋅ a_dist)\n",
    "\n",
    "# find coefficient of variation\n",
    "σ_a / μ_a"
   ]
  },
  {
   "cell_type": "markdown",
   "metadata": {},
   "source": [
    "### Exogenous labor, with SS"
   ]
  },
  {
   "cell_type": "code",
   "execution_count": 74,
   "metadata": {},
   "outputs": [
    {
     "name": "stdout",
     "output_type": "stream",
     "text": [
      "K = 7.161828105995061, L = 0.7600058306138343\n"
     ]
    },
    {
     "name": "stdout",
     "output_type": "stream",
     "text": [
      "K = 7.1636068790444725, L = 0.7600115446153917\n"
     ]
    },
    {
     "name": "stdout",
     "output_type": "stream",
     "text": [
      "K = 7.1653382245533885, L = 0.7600171443369179\n"
     ]
    },
    {
     "name": "stdout",
     "output_type": "stream",
     "text": [
      "K = 7.1670188226546605, L = 0.7600226320640138\n"
     ]
    },
    {
     "name": "stdout",
     "output_type": "stream",
     "text": [
      "K = 7.168658892151676, L = 0.7600280100365676\n"
     ]
    },
    {
     "name": "stdout",
     "output_type": "stream",
     "text": [
      "K = 7.170252614406942, L = 0.7600332804496704\n"
     ]
    },
    {
     "name": "stdout",
     "output_type": "stream",
     "text": [
      "K = 7.171808326999813, L = 0.7600384454545109\n"
     ]
    },
    {
     "name": "stdout",
     "output_type": "stream",
     "text": [
      "K = 7.17332335400137, L = 0.7600435071592548\n"
     ]
    },
    {
     "name": "stdout",
     "output_type": "stream",
     "text": [
      "K = 7.174800648049644, L = 0.7600484676299037\n"
     ]
    },
    {
     "name": "stdout",
     "output_type": "stream",
     "text": [
      "K = 7.17623876458761, L = 0.7600533288911396\n"
     ]
    },
    {
     "name": "stdout",
     "output_type": "stream",
     "text": [
      "K = 7.177645458796305, L = 0.7600580929271509\n"
     ]
    },
    {
     "name": "stdout",
     "output_type": "stream",
     "text": [
      "K = 7.179017072472214, L = 0.7600627616824419\n"
     ]
    },
    {
     "name": "stdout",
     "output_type": "stream",
     "text": [
      "K = 7.180352113921272, L = 0.760067337062627\n"
     ]
    },
    {
     "name": "stdout",
     "output_type": "stream",
     "text": [
      "K = 7.181643367067428, L = 0.7600718209352085\n"
     ]
    },
    {
     "name": "stdout",
     "output_type": "stream",
     "text": [
      "K = 7.182897143295129, L = 0.7600762151303384\n"
     ]
    },
    {
     "name": "stdout",
     "output_type": "stream",
     "text": [
      "K = 7.184120992443263, L = 0.7600805214415658\n"
     ]
    },
    {
     "name": "stdout",
     "output_type": "stream",
     "text": [
      "K = 7.185295359537658, L = 0.7600847416265686\n"
     ]
    },
    {
     "name": "stdout",
     "output_type": "stream",
     "text": [
      "K = 7.186442131584224, L = 0.7600888774078712\n"
     ]
    },
    {
     "name": "stdout",
     "output_type": "stream",
     "text": [
      "K = 7.1875364126478924, L = 0.7600929304735478\n"
     ]
    },
    {
     "name": "stdout",
     "output_type": "stream",
     "text": [
      "K = 7.188605738242107, L = 0.7600969024779107\n"
     ]
    },
    {
     "name": "stdout",
     "output_type": "stream",
     "text": [
      "K = 7.189641644756887, L = 0.7601007950421864\n"
     ]
    },
    {
     "name": "stdout",
     "output_type": "stream",
     "text": [
      "K = 7.190652298788369, L = 0.7601046097551769\n"
     ]
    },
    {
     "name": "stdout",
     "output_type": "stream",
     "text": [
      "K = 7.191633801328707, L = 0.7601083481739073\n"
     ]
    },
    {
     "name": "stdout",
     "output_type": "stream",
     "text": [
      "K = 7.192591020642992, L = 0.7601120118242632\n"
     ]
    },
    {
     "name": "stdout",
     "output_type": "stream",
     "text": [
      "K = 7.193521046517894, L = 0.760115602201612\n"
     ]
    },
    {
     "name": "stdout",
     "output_type": "stream",
     "text": [
      "K = 7.194422195123584, L = 0.7601191207714137\n"
     ]
    },
    {
     "name": "stdout",
     "output_type": "stream",
     "text": [
      "K = 7.195294694725839, L = 0.7601225689698192\n"
     ]
    },
    {
     "name": "stdout",
     "output_type": "stream",
     "text": [
      "K = 7.1961465551542485, L = 0.7601259482042568\n"
     ]
    },
    {
     "name": "stdout",
     "output_type": "stream",
     "text": [
      "K = 7.196969605789811, L = 0.7601292598540056\n"
     ]
    },
    {
     "name": "stdout",
     "output_type": "stream",
     "text": [
      "K = 7.197773779571115, L = 0.7601325052707595\n"
     ]
    },
    {
     "name": "stdout",
     "output_type": "stream",
     "text": [
      "K = 7.198557895959026, L = 0.7601356857791784\n"
     ]
    },
    {
     "name": "stdout",
     "output_type": "stream",
     "text": [
      "K = 7.1993212814859975, L = 0.7601388026774288\n"
     ]
    },
    {
     "name": "stdout",
     "output_type": "stream",
     "text": [
      "K = 7.20006378749697, L = 0.7601418572377145\n"
     ]
    },
    {
     "name": "stdout",
     "output_type": "stream",
     "text": [
      "K = 7.200788983764799, L = 0.7601448507067942\n"
     ]
    },
    {
     "name": "stdout",
     "output_type": "stream",
     "text": [
      "K = 7.201509502885853, L = 0.7601477843064922\n"
     ]
    },
    {
     "name": "stdout",
     "output_type": "stream",
     "text": [
      "K = 7.202211516791839, L = 0.7601506592341964\n"
     ]
    },
    {
     "name": "stdout",
     "output_type": "stream",
     "text": [
      "K = 7.202896879969189, L = 0.7601534766633465\n"
     ]
    },
    {
     "name": "stdout",
     "output_type": "stream",
     "text": [
      "K = 7.203561546974401, L = 0.7601562377439136\n"
     ]
    },
    {
     "name": "stdout",
     "output_type": "stream",
     "text": [
      "K = 7.204211332753316, L = 0.7601589436028694\n"
     ]
    },
    {
     "name": "stdout",
     "output_type": "stream",
     "text": [
      "K = 7.204845092395621, L = 0.760161595344646\n"
     ]
    },
    {
     "name": "stdout",
     "output_type": "stream",
     "text": [
      "K = 7.20545491441063, L = 0.760164194051587\n"
     ]
    },
    {
     "name": "stdout",
     "output_type": "stream",
     "text": [
      "K = 7.20605625857627, L = 0.7601667407843893\n"
     ]
    },
    {
     "name": "stdout",
     "output_type": "stream",
     "text": [
      "K = 7.2066425997222225, L = 0.7601692365825354\n"
     ]
    },
    {
     "name": "stdout",
     "output_type": "stream",
     "text": [
      "K = 7.207213291957649, L = 0.7601716824647187\n"
     ]
    },
    {
     "name": "stdout",
     "output_type": "stream",
     "text": [
      "K = 7.207768892305152, L = 0.7601740794292584\n"
     ]
    },
    {
     "name": "stdout",
     "output_type": "stream",
     "text": [
      "K = 7.208307349871107, L = 0.7601764284545072\n"
     ]
    },
    {
     "name": "stdout",
     "output_type": "stream",
     "text": [
      "K = 7.208833808481592, L = 0.7601787304992511\n"
     ]
    },
    {
     "name": "stdout",
     "output_type": "stream",
     "text": [
      "K = 7.209355886666106, L = 0.7601809865031003\n"
     ]
    },
    {
     "name": "stdout",
     "output_type": "stream",
     "text": [
      "K = 7.209861331925686, L = 0.7601831973868725\n"
     ]
    },
    {
     "name": "stdout",
     "output_type": "stream",
     "text": [
      "K = 7.210352256399352, L = 0.7601853640529692\n"
     ]
    },
    {
     "name": "stdout",
     "output_type": "stream",
     "text": [
      "K = 7.210830584716081, L = 0.7601874873857442\n"
     ]
    },
    {
     "name": "stdout",
     "output_type": "stream",
     "text": [
      "K = 7.211296397658893, L = 0.7601895682518633\n"
     ]
    },
    {
     "name": "stdout",
     "output_type": "stream",
     "text": [
      "K = 7.2117625696872585, L = 0.7601916075006601\n",
      "Converged in 53 iterations\n"
     ]
    }
   ],
   "source": [
    "prim_ex_labor = Primitives(γ=1.0, a_max=100.0)\n",
    "res_ex_labor = Initialize(prim_ex_labor)\n",
    "V_induction(prim_ex_labor, res_ex_labor)\n",
    "steady_dist(prim_ex_labor, res_ex_labor)\n",
    "market_clearing(prim_ex_labor, res_ex_labor; K₀=7.16, L₀=.76)"
   ]
  },
  {
   "cell_type": "code",
   "execution_count": 75,
   "metadata": {},
   "outputs": [
    {
     "data": {
      "text/plain": [
       "0.02530293592419132"
      ]
     },
     "metadata": {},
     "output_type": "display_data"
    }
   ],
   "source": [
    "res_ex_labor.r"
   ]
  },
  {
   "cell_type": "code",
   "execution_count": 76,
   "metadata": {},
   "outputs": [
    {
     "data": {
      "text/plain": [
       "1.4385762715112445"
      ]
     },
     "metadata": {},
     "output_type": "display_data"
    }
   ],
   "source": [
    "res_ex_labor.w"
   ]
  },
  {
   "cell_type": "code",
   "execution_count": 77,
   "metadata": {},
   "outputs": [
    {
     "data": {
      "text/plain": [
       "0.5096568095971343"
      ]
     },
     "metadata": {},
     "output_type": "display_data"
    }
   ],
   "source": [
    "res_ex_labor.b"
   ]
  },
  {
   "cell_type": "code",
   "execution_count": 78,
   "metadata": {},
   "outputs": [
    {
     "data": {
      "text/plain": [
       "-1.2254882018523752"
      ]
     },
     "metadata": {},
     "output_type": "display_data"
    }
   ],
   "source": [
    "# calculate average utility\n",
    "welfare_ex_labor = res_ex_labor.Fʳ ⋅ res_ex_labor.uʳ + res_ex_labor.Fʷ ⋅ res_ex_labor.uʷ"
   ]
  },
  {
   "cell_type": "code",
   "execution_count": 98,
   "metadata": {},
   "outputs": [
    {
     "data": {
      "text/plain": [
       "1.6633704079990925"
      ]
     },
     "metadata": {},
     "output_type": "display_data"
    }
   ],
   "source": [
    "# collapse distribution of assets across age and efficiency\n",
    "a_dist = sum(res_ex_labor.Fʳ, dims=1) + sum(res_ex_labor.Fʷ, dims=(1,3))\n",
    "\n",
    "# find mean of a_dist\n",
    "μ_a = prim_ex_labor.a_grid ⋅ a_dist\n",
    "\n",
    "# find standard deviation of a_dist\n",
    "σ_a = sqrt.((prim_ex_labor.a_grid .- μ_a).^2 ⋅ a_dist)\n",
    "\n",
    "# find coefficient of variation\n",
    "σ_a / μ_a"
   ]
  },
  {
   "cell_type": "markdown",
   "metadata": {},
   "source": [
    "### finally, exogenous labor, no SS"
   ]
  },
  {
   "cell_type": "code",
   "execution_count": 80,
   "metadata": {},
   "outputs": [
    {
     "name": "stdout",
     "output_type": "stream",
     "text": [
      "K = 10.072374423656058, L = 0.7600058306138342\n"
     ]
    },
    {
     "name": "stdout",
     "output_type": "stream",
     "text": [
      "K = 10.074700192289944, L = 0.7600115446153917\n"
     ]
    },
    {
     "name": "stdout",
     "output_type": "stream",
     "text": [
      "K = 10.076974826798846, L = 0.7600171443369179\n"
     ]
    },
    {
     "name": "stdout",
     "output_type": "stream",
     "text": [
      "K = 10.079201195148219, L = 0.7600226320640135\n"
     ]
    },
    {
     "name": "stdout",
     "output_type": "stream",
     "text": [
      "K = 10.081378916364743, L = 0.7600280100365673\n"
     ]
    },
    {
     "name": "stdout",
     "output_type": "stream",
     "text": [
      "K = 10.083515144666217, L = 0.7600332804496701\n"
     ]
    },
    {
     "name": "stdout",
     "output_type": "stream",
     "text": [
      "K = 10.085602036778125, L = 0.7600384454545107\n"
     ]
    },
    {
     "name": "stdout",
     "output_type": "stream",
     "text": [
      "K = 10.087648815516147, L = 0.7600435071592545\n"
     ]
    },
    {
     "name": "stdout",
     "output_type": "stream",
     "text": [
      "K = 10.089653179952883, L = 0.7600484676299034\n"
     ]
    },
    {
     "name": "stdout",
     "output_type": "stream",
     "text": [
      "K = 10.091619029734632, L = 0.7600533288911393\n"
     ]
    },
    {
     "name": "stdout",
     "output_type": "stream",
     "text": [
      "K = 10.093542066309164, L = 0.7600580929271504\n"
     ]
    },
    {
     "name": "stdout",
     "output_type": "stream",
     "text": [
      "K = 10.095426482122363, L = 0.7600627616824415\n"
     ]
    },
    {
     "name": "stdout",
     "output_type": "stream",
     "text": [
      "K = 10.097259025361277, L = 0.7600673370626266\n"
     ]
    },
    {
     "name": "stdout",
     "output_type": "stream",
     "text": [
      "K = 10.099051316302575, L = 0.7600718209352081\n"
     ]
    },
    {
     "name": "stdout",
     "output_type": "stream",
     "text": [
      "K = 10.100796344158324, L = 0.760076215130338\n"
     ]
    },
    {
     "name": "stdout",
     "output_type": "stream",
     "text": [
      "K = 10.102519016316931, L = 0.7600805214415651\n"
     ]
    },
    {
     "name": "stdout",
     "output_type": "stream",
     "text": [
      "K = 10.104214167138378, L = 0.7600847416265678\n"
     ]
    },
    {
     "name": "stdout",
     "output_type": "stream",
     "text": [
      "K = 10.105876047225983, L = 0.7600888774078705\n"
     ]
    },
    {
     "name": "stdout",
     "output_type": "stream",
     "text": [
      "K = 10.107505336387872, L = 0.7600929304735471\n"
     ]
    },
    {
     "name": "stdout",
     "output_type": "stream",
     "text": [
      "K = 10.109096318223674, L = 0.76009690247791\n"
     ]
    },
    {
     "name": "stdout",
     "output_type": "stream",
     "text": [
      "K = 10.11065112863883, L = 0.7601007950421858\n"
     ]
    },
    {
     "name": "stdout",
     "output_type": "stream",
     "text": [
      "K = 10.112166658925524, L = 0.760104609755176\n"
     ]
    },
    {
     "name": "stdout",
     "output_type": "stream",
     "text": [
      "K = 10.1136465794271, L = 0.7601083481739065\n"
     ]
    },
    {
     "name": "stdout",
     "output_type": "stream",
     "text": [
      "K = 10.11510391962654, L = 0.7601120118242622\n"
     ]
    },
    {
     "name": "stdout",
     "output_type": "stream",
     "text": [
      "K = 10.116531229338346, L = 0.7601156022016109\n"
     ]
    },
    {
     "name": "stdout",
     "output_type": "stream",
     "text": [
      "K = 10.117927935084298, L = 0.7601191207714129\n"
     ]
    },
    {
     "name": "stdout",
     "output_type": "stream",
     "text": [
      "K = 10.119293956059334, L = 0.7601225689698184\n"
     ]
    },
    {
     "name": "stdout",
     "output_type": "stream",
     "text": [
      "K = 10.120631551112577, L = 0.760125948204256\n"
     ]
    },
    {
     "name": "stdout",
     "output_type": "stream",
     "text": [
      "K = 10.121933843107955, L = 0.7601292598540049\n"
     ]
    },
    {
     "name": "stdout",
     "output_type": "stream",
     "text": [
      "K = 10.123202071398483, L = 0.760132505270759\n"
     ]
    },
    {
     "name": "stdout",
     "output_type": "stream",
     "text": [
      "K = 10.124443193452116, L = 0.7601356857791777\n"
     ]
    },
    {
     "name": "stdout",
     "output_type": "stream",
     "text": [
      "K = 10.125658003856085, L = 0.7601388026774281\n"
     ]
    },
    {
     "name": "stdout",
     "output_type": "stream",
     "text": [
      "K = 10.126855030336877, L = 0.7601418572377135\n"
     ]
    },
    {
     "name": "stdout",
     "output_type": "stream",
     "text": [
      "K = 10.128026964874543, L = 0.7601448507067935\n"
     ]
    },
    {
     "name": "stdout",
     "output_type": "stream",
     "text": [
      "K = 10.129173914247074, L = 0.7601477843064918\n"
     ]
    },
    {
     "name": "stdout",
     "output_type": "stream",
     "text": [
      "K = 10.130294809020779, L = 0.7601506592341959\n"
     ]
    },
    {
     "name": "stdout",
     "output_type": "stream",
     "text": [
      "K = 10.131390771701207, L = 0.7601534766633461\n"
     ]
    },
    {
     "name": "stdout",
     "output_type": "stream",
     "text": [
      "K = 10.13246780830913, L = 0.7601562377439132\n"
     ]
    },
    {
     "name": "stdout",
     "output_type": "stream",
     "text": [
      "K = 10.133537159560774, L = 0.7601589436028688\n"
     ]
    },
    {
     "name": "stdout",
     "output_type": "stream",
     "text": [
      "K = 10.134582260704747, L = 0.7601615953446454\n"
     ]
    },
    {
     "name": "stdout",
     "output_type": "stream",
     "text": [
      "K = 10.13560634201983, L = 0.7601641940515865\n"
     ]
    },
    {
     "name": "stdout",
     "output_type": "stream",
     "text": [
      "K = 10.136608328398655, L = 0.7601667407843888\n"
     ]
    },
    {
     "name": "stdout",
     "output_type": "stream",
     "text": [
      "K = 10.137589966664867, L = 0.7601692365825351\n"
     ]
    },
    {
     "name": "stdout",
     "output_type": "stream",
     "text": [
      "K = 10.13866838475975, L = 0.7601716824647186\n"
     ]
    },
    {
     "name": "stdout",
     "output_type": "stream",
     "text": [
      "K = 10.139722553977823, L = 0.7601740794292581\n"
     ]
    },
    {
     "name": "stdout",
     "output_type": "stream",
     "text": [
      "K = 10.140753101126665, L = 0.7601764284545071\n"
     ]
    },
    {
     "name": "stdout",
     "output_type": "stream",
     "text": [
      "K = 10.141769694547905, L = 0.760178730499251\n"
     ]
    },
    {
     "name": "stdout",
     "output_type": "stream",
     "text": [
      "K = 10.142778460256162, L = 0.7601809865031\n"
     ]
    },
    {
     "name": "stdout",
     "output_type": "stream",
     "text": [
      "K = 10.143763279238808, L = 0.7601831973868721\n"
     ]
    },
    {
     "name": "stdout",
     "output_type": "stream",
     "text": [
      "K = 10.14472614084117, L = 0.7601853640529688\n"
     ]
    },
    {
     "name": "stdout",
     "output_type": "stream",
     "text": [
      "K = 10.145668626446897, L = 0.7601874873857434\n"
     ]
    },
    {
     "name": "stdout",
     "output_type": "stream",
     "text": [
      "K = 10.146589867573054, L = 0.7601895682518625\n"
     ]
    },
    {
     "name": "stdout",
     "output_type": "stream",
     "text": [
      "K = 10.147489858957476, L = 0.7601916075006594\n",
      "Converged in 53 iterations\n"
     ]
    }
   ],
   "source": [
    "prim_ex_ss = Primitives(θ=0.0, γ=1.0, a_max=100.0)\n",
    "res_ex_ss = Initialize(prim_ex_ss)\n",
    "V_induction(prim_ex_ss, res_ex_ss)\n",
    "steady_dist(prim_ex_ss, res_ex_ss)\n",
    "market_clearing(prim_ex_ss, res_ex_ss; K₀=10.07, L₀=.76)"
   ]
  },
  {
   "cell_type": "code",
   "execution_count": 81,
   "metadata": {},
   "outputs": [
    {
     "data": {
      "text/plain": [
       "0.008556344490157061"
      ]
     },
     "metadata": {},
     "output_type": "display_data"
    }
   ],
   "source": [
    "res_ex_ss.r"
   ]
  },
  {
   "cell_type": "code",
   "execution_count": 82,
   "metadata": {},
   "outputs": [
    {
     "data": {
      "text/plain": [
       "1.6267594047306737"
      ]
     },
     "metadata": {},
     "output_type": "display_data"
    }
   ],
   "source": [
    "res_ex_ss.w"
   ]
  },
  {
   "cell_type": "code",
   "execution_count": 83,
   "metadata": {},
   "outputs": [
    {
     "data": {
      "text/plain": [
       "-1.227724051474365"
      ]
     },
     "metadata": {},
     "output_type": "display_data"
    }
   ],
   "source": [
    "# calculate average utility\n",
    "welfare_ex_ss = res_ex_ss.Fʳ ⋅ res_ex_ss.uʳ + res_ex_ss.Fʷ ⋅ res_ex_ss.uʷ"
   ]
  },
  {
   "cell_type": "code",
   "execution_count": 99,
   "metadata": {},
   "outputs": [
    {
     "data": {
      "text/plain": [
       "1.4327855142873167"
      ]
     },
     "metadata": {},
     "output_type": "display_data"
    }
   ],
   "source": [
    "# collapse distribution of assets across age and efficiency\n",
    "a_dist = sum(res_ex_ss.Fʳ, dims=1) + sum(res_ex_ss.Fʷ, dims=(1,3))\n",
    "\n",
    "# find mean of a_dist\n",
    "μ_a = prim_ex_ss.a_grid ⋅ a_dist\n",
    "\n",
    "# find standard deviation of a_dist\n",
    "σ_a = sqrt.((prim_ex_ss.a_grid .- μ_a).^2 ⋅ a_dist)\n",
    "\n",
    "# find coefficient of variation\n",
    "σ_a / μ_a"
   ]
  },
  {
   "cell_type": "markdown",
   "metadata": {},
   "source": [
    "1.  The interest rate with social security is approximately 2.4%, while the population growth rate is 1.1%, implying that social security leads workers to underinvest in capital. Eliminating social security leads to an increase in aggregate capital from 3.3 to 4.5, and an increase in aggregate labor from .34 to about .37. Agents are incentivized to work and save more in order to prepare for retirement, as social security provides retirement insurance. With higher capital, the marginal product of labor is higher, also inducing higher labor demand, as seen by the in- crease in aggregate capital and the wage. Aggregate welfare, as measured by average utility, very slightly decreases with the removal of social security since some people insufficiently smooth consumption. The poor (those with more low productivity shocks) are adversely affected by the removal of social security as they are less able to save in preparation for retirement. The coefficient of variation decreases from 1.67 to 1.50, signifying a reduction in wealth inequality with the removal of social security, perhaps because those who would not hold assets in the presence of social security are required to hold some assets.\n",
    "\n",
    "2.  Capital stock decreases significantly from the benchmark model to the case with no risk. Agents don’t have to precautionarily save to insure against productivity shocks. In this economy, there is actually an increase in total welfare from the elimination of social security. With risk averse agents, social security provides welfare gain by smoothing consumption across agents facing idiosyncratic risk. However, once we eliminate this risk, the only difference in welfare comes from the labor distortions from the tax required to fund social security. Welfare calculations may be misleading if they fail to account for transition costs.\n",
    "\n",
    "3.  In the previous economies, removing social security actually increased aggregate labor supply because the distortions from the labor tax were outweighed by the increased labor demand from the larger capital supply. However, there is obviously no labor response when labor supply is inelastic. Therefore, the tax on labor causes no distortions, and social security is strictly preferred ex ante, and is preferred by more in the interim as a means of smoothing consumption in retirement."
   ]
  }
 ],
 "metadata": {
  "kernelspec": {
   "display_name": "Julia 1.10.1",
   "language": "julia",
   "name": "julia-1.10"
  },
  "language_info": {
   "file_extension": ".jl",
   "mimetype": "application/julia",
   "name": "julia",
   "version": "1.10.1"
  }
 },
 "nbformat": 4,
 "nbformat_minor": 2
}
